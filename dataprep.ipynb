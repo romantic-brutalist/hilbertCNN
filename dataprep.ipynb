{
 "cells": [
  {
   "cell_type": "code",
   "execution_count": 4,
   "id": "7a312faa",
   "metadata": {},
   "outputs": [
    {
     "data": {
      "text/html": [
       "<style>.container { width:100% !important; }</style>"
      ],
      "text/plain": [
       "<IPython.core.display.HTML object>"
      ]
     },
     "metadata": {},
     "output_type": "display_data"
    }
   ],
   "source": [
    "import pandas as pd\n",
    "pd.set_option('display.max_rows', 500)\n",
    "pd.set_option('display.max_columns', 500)\n",
    "import numpy as np\n",
    "from hilbert import decode, encode\n",
    "from tqdm import tqdm\n",
    "from IPython.display import display, HTML\n",
    "display(HTML(\"<style>.container { width:100% !important; }</style>\"))\n",
    "import os"
   ]
  },
  {
   "cell_type": "code",
   "execution_count": 8,
   "id": "d3495397",
   "metadata": {},
   "outputs": [],
   "source": [
    "import gc\n"
   ]
  },
  {
   "cell_type": "code",
   "execution_count": 9,
   "id": "05b0253c",
   "metadata": {},
   "outputs": [],
   "source": [
    "df = pd.read_parquet(\"data/F_BTCUSDT_1m.parquet\")\n",
    "tc = [\"Open\",\n",
    "\"High\",\n",
    "\"Low\",\n",
    "\"Close\",\n",
    "\"Volume\"]\n",
    "for i in tc:\n",
    "    df[i]=df[i].astype(\"float\")"
   ]
  },
  {
   "cell_type": "code",
   "execution_count": 10,
   "id": "0fa7718f",
   "metadata": {},
   "outputs": [],
   "source": [
    "df1 = df.copy(deep=True)"
   ]
  },
  {
   "cell_type": "code",
   "execution_count": 11,
   "id": "b1a25e0a",
   "metadata": {},
   "outputs": [],
   "source": [
    "ohlc_m,ohlc_std = pd.concat([df.Open,df.Close,df.High,df.Low]).mean(),pd.concat([df.Open,df.Close,df.High,df.Low]).std()"
   ]
  },
  {
   "cell_type": "code",
   "execution_count": 12,
   "id": "f845dd86",
   "metadata": {},
   "outputs": [],
   "source": [
    "vol_m,vol_std = df.Volume.mean(),df.Volume.std()"
   ]
  },
  {
   "cell_type": "code",
   "execution_count": 13,
   "id": "bf3ba982",
   "metadata": {},
   "outputs": [
    {
     "data": {
      "text/plain": [
       "(27993.054512542625, 17832.786089817815, 248.04630290656564, 426.867918968892)"
      ]
     },
     "execution_count": 13,
     "metadata": {},
     "output_type": "execute_result"
    }
   ],
   "source": [
    "ohlc_m,ohlc_std,vol_m,vol_std"
   ]
  },
  {
   "cell_type": "code",
   "execution_count": 14,
   "id": "eee37ce4",
   "metadata": {},
   "outputs": [],
   "source": [
    "df[\"Open\"] = (df[\"Open\"]-ohlc_m)/ohlc_std\n",
    "df[\"High\"] = (df[\"High\"]-ohlc_m)/ohlc_std\n",
    "df[\"Close\"] = (df[\"Close\"]-ohlc_m)/ohlc_std\n",
    "df[\"Low\"] = (df[\"Low\"]-ohlc_m)/ohlc_std\n",
    "df[\"Volume\"] = (df[\"Volume\"]-vol_m)/vol_std"
   ]
  },
  {
   "cell_type": "code",
   "execution_count": 15,
   "id": "6e8d5669",
   "metadata": {},
   "outputs": [],
   "source": [
    "rng = list(range(32*32,len(df),20))"
   ]
  },
  {
   "cell_type": "code",
   "execution_count": 16,
   "id": "ba68c6f7",
   "metadata": {},
   "outputs": [],
   "source": [
    "div = int(len(rng)*0.9)"
   ]
  },
  {
   "cell_type": "code",
   "execution_count": 19,
   "id": "1dbd3122",
   "metadata": {},
   "outputs": [
    {
     "data": {
      "text/plain": [
       "71234"
      ]
     },
     "execution_count": 19,
     "metadata": {},
     "output_type": "execute_result"
    }
   ],
   "source": [
    "div"
   ]
  },
  {
   "cell_type": "code",
   "execution_count": 17,
   "id": "fefc52d2",
   "metadata": {},
   "outputs": [
    {
     "data": {
      "text/plain": [
       "70543"
      ]
     },
     "execution_count": 17,
     "metadata": {},
     "output_type": "execute_result"
    }
   ],
   "source": [
    "70543 78381"
   ]
  },
  {
   "cell_type": "code",
   "execution_count": 21,
   "id": "c13dc016",
   "metadata": {},
   "outputs": [
    {
     "name": "stderr",
     "output_type": "stream",
     "text": [
      "100%|███████████████████████████████████| 79149/79149 [00:51<00:00, 1525.80it/s]\n"
     ]
    }
   ],
   "source": [
    "data = np.array(range(8*8))\n",
    "locs = decode(data, 2, 3)\n",
    "hilbert_list = []\n",
    "target_list = []\n",
    "target_list_real = []\n",
    "cnt = 0\n",
    "div = int(len(rng)*0.9)\n",
    "\n",
    "for i in tqdm(range(32*32,len(df),20)):\n",
    "    cnt+=1\n",
    "    temp_f = df1.iloc[i-5:i]\n",
    "    temp_t_5 = df1.iloc[i:i+5]\n",
    "    temp_t_10 = df1.iloc[i+5:i+10]\n",
    "    temp_t_15 = df1.iloc[i+10:i+15]\n",
    "    temp_t_20 = df1.iloc[i+15:i+20]\n",
    "    \n",
    "    #if len(temp_t_15)<5:\n",
    "    #    target_list.append(\n",
    "    #    np.array([0,0,0,0,0,0,0,0])\n",
    "    #)\n",
    "    #    continue\n",
    "    #if i>64*64+1000:\n",
    "    #    break\n",
    "    lv = temp_f.Close.iloc[-1]\n",
    "    o1 = np.zeros((5,8,8))\n",
    "    vals_f = df.iloc[i-8*8:i][[\"Open\",\"High\",\"Low\",\"Close\",\"Volume\"]].values\n",
    "    \n",
    "    #vals = temp_t_15[[\"Open\",\"High\",\"Low\",\"Close\",\"Volume\"]].values\n",
    "    #target_list_real.append(temp_t_15[[\"Open\",\"High\",\"Low\",\"Close\"]].values)\n",
    "    #vals[:,:4]=(vals[:,:4]-vals[:,2].min())/(vals[:,1].max()-vals[:,2].min())\n",
    "    #vals[:,4]=(vals[:,4]-vals[:,4].min())/(vals[:,4].max()-vals[:,4].min())\n",
    "    for j in range(len(data)):\n",
    "        o1[:,locs[j][0],locs[j][1]] = vals_f[j]\n",
    "    if cnt<div:\n",
    "        np.save('imgs/train_4layer_w_volume/s8_%07d.npy'%cnt,o1)\n",
    "    else:\n",
    "        np.save('imgs/test_4layer_w_volume/s8_%07d.npy'%cnt,o1)\n",
    "\n",
    "    #hilbert_list.append(o1)\n",
    "    del o1\n",
    "    del vals_f\n",
    "    del temp_f\n",
    "    if not cnt%1000: \n",
    "        gc.get_threshold()\n",
    "        gc.collect()\n",
    "    #target_list.append(vals)\n",
    "    \n",
    "    \"\"\" target_list.append(\n",
    "        np.array(\n",
    "            [\n",
    "                (temp_t_5.Low.min()/lv)-1,(temp_t_5.High.max()/lv)-1,\n",
    "                (temp_t_10.Low.min()/lv)-1,(temp_t_10.High.max()/lv)-1,\n",
    "                (temp_t_15.Low.min()/lv)-1,(temp_t_15.High.max()/lv)-1,\n",
    "                (temp_t_20.Low.min()/lv)-1,(temp_t_20.High.max()/lv)-1\n",
    "            ]\n",
    "        )\n",
    "    )\n",
    "    \"\"\""
   ]
  },
  {
   "cell_type": "code",
   "execution_count": 9,
   "id": "5909e38e",
   "metadata": {},
   "outputs": [],
   "source": [
    "hlt = np.array(hilbert_list)"
   ]
  },
  {
   "cell_type": "code",
   "execution_count": 25,
   "id": "f0710232",
   "metadata": {},
   "outputs": [
    {
     "name": "stdout",
     "output_type": "stream",
     "text": [
      "8254.983861797069 78.04553313546148 23.977786002281874 40.07729618887132\n"
     ]
    }
   ],
   "source": [
    "ohlc = hlt[:,:4,:,:]\n",
    "vol = hlt[:,-1:,:,:]\n",
    "print(ohlc.mean(),ohlc.std(),vol.mean(),vol.std())"
   ]
  },
  {
   "cell_type": "code",
   "execution_count": 32,
   "id": "533894c2",
   "metadata": {},
   "outputs": [],
   "source": [
    "g1 = ohlc[:50]\n",
    "g2 = ohlc[50:-1]\n",
    "n=len(g1)\n",
    "m=len(g2)\n",
    "xm=g1.mean()\n",
    "ym=g2.mean()\n",
    "xs=g1.std()\n",
    "ys=g2.std()"
   ]
  },
  {
   "cell_type": "code",
   "execution_count": 33,
   "id": "058a042f",
   "metadata": {},
   "outputs": [
    {
     "data": {
      "text/plain": [
       "8255.268965075682"
      ]
     },
     "execution_count": 33,
     "metadata": {},
     "output_type": "execute_result"
    }
   ],
   "source": [
    "(xm*n+ym*m)/(m+n)"
   ]
  },
  {
   "cell_type": "code",
   "execution_count": 27,
   "id": "94c249b2",
   "metadata": {},
   "outputs": [
    {
     "data": {
      "text/plain": [
       "77.67980850162729"
      ]
     },
     "execution_count": 27,
     "metadata": {},
     "output_type": "execute_result"
    }
   ],
   "source": [
    "\n",
    "q1 = (len(g1)-1)*g1.var() + len(g1)*g1.mean()**2; q1\n",
    "q2 = (len(g2)-1)*g2.var() + len(g2)*g2.mean()**2; q2\n",
    "qc = q1 + q2\n",
    "sc = np.sqrt( (qc - (len(g1)+len(g2))*ohlc.mean()**2)/(len(g1)+len(g2)-1) ); sc"
   ]
  },
  {
   "cell_type": "code",
   "execution_count": 30,
   "id": "b23af7a1",
   "metadata": {},
   "outputs": [
    {
     "data": {
      "text/plain": [
       "77.67980850187215"
      ]
     },
     "execution_count": 30,
     "metadata": {},
     "output_type": "execute_result"
    }
   ],
   "source": [
    "np.sqrt((((n-1)*xs**2+(m-1)*ys**2)/(n+m-1)) + ((n*m*(xm-ym)**2)/((n+m)*(n+m-1))))"
   ]
  },
  {
   "cell_type": "code",
   "execution_count": null,
   "id": "75e3023c",
   "metadata": {},
   "outputs": [],
   "source": [
    "q1 = (n1-1)*var(x1) + n1*mean(x1)^2; q1\n",
    "[1] 408219.2 \n",
    "q2 = (n2-1)*var(x2) + n2*mean(x2)^2; q1\n",
    "[1] 123819.4\n",
    "qc = q1 + q2\n",
    "sc = sqrt( (qc - (n1+n2)*mean(x)^2)/(n1+n2-1) ); sc"
   ]
  },
  {
   "cell_type": "code",
   "execution_count": 4,
   "id": "4f0d96ad",
   "metadata": {},
   "outputs": [],
   "source": [
    "target_list_real[-1]=target_list_real[-2]"
   ]
  },
  {
   "cell_type": "code",
   "execution_count": 5,
   "id": "0901e2e2",
   "metadata": {},
   "outputs": [],
   "source": [
    "target_list = [i.flatten() for i in target_list]"
   ]
  },
  {
   "cell_type": "code",
   "execution_count": 6,
   "id": "d0687158",
   "metadata": {},
   "outputs": [],
   "source": [
    "target_list[-1]=target_list[-4]\n",
    "target_list[-2]=target_list[-4]\n",
    "target_list[-3]=target_list[-4]"
   ]
  },
  {
   "cell_type": "code",
   "execution_count": 7,
   "id": "3b9a514e",
   "metadata": {},
   "outputs": [],
   "source": [
    "target_list = [i.reshape(1,*i.shape) for i in target_list]"
   ]
  },
  {
   "cell_type": "code",
   "execution_count": 8,
   "id": "5be74392",
   "metadata": {},
   "outputs": [],
   "source": [
    "tla = np.concatenate(target_list,axis=0)"
   ]
  },
  {
   "cell_type": "code",
   "execution_count": 9,
   "id": "5614eb44",
   "metadata": {
    "scrolled": true
   },
   "outputs": [
    {
     "data": {
      "text/plain": [
       "(158298, 150)"
      ]
     },
     "execution_count": 9,
     "metadata": {},
     "output_type": "execute_result"
    }
   ],
   "source": [
    "tla.shape"
   ]
  },
  {
   "cell_type": "code",
   "execution_count": 28,
   "id": "b0157e62",
   "metadata": {},
   "outputs": [],
   "source": [
    "target_df = pd.DataFrame(target_list,columns=[\"Low_5\",\"High_5\",\"Low_10\",\"High_10\",\"Low_15\",\"High_15\",\"Low_20\",\"High_20\"])"
   ]
  },
  {
   "cell_type": "code",
   "execution_count": 87,
   "id": "a465f5ba",
   "metadata": {},
   "outputs": [],
   "source": [
    "target_df = pd.DataFrame(kmeans,columns=[\"cluster_label\"])"
   ]
  },
  {
   "cell_type": "code",
   "execution_count": 89,
   "id": "34c1f0b4",
   "metadata": {},
   "outputs": [],
   "source": [
    "target_df  =pd.get_dummies(target_df.cluster_label)"
   ]
  },
  {
   "cell_type": "code",
   "execution_count": 6,
   "id": "18c49d8c",
   "metadata": {},
   "outputs": [
    {
     "data": {
      "text/plain": [
       "(28001.938870730588, 17834.47169281324, 248.00923831004107, 426.5438396373735)"
      ]
     },
     "execution_count": 6,
     "metadata": {},
     "output_type": "execute_result"
    }
   ],
   "source": [
    "ohlc.mean(),ohlc.std(),vol.mean(),vol.std()"
   ]
  },
  {
   "cell_type": "code",
   "execution_count": 91,
   "id": "3e9e3f4e",
   "metadata": {},
   "outputs": [],
   "source": [
    "target_df.columns = [\"cluster_\"+str(i) for i in target_df.columns]"
   ]
  },
  {
   "cell_type": "code",
   "execution_count": null,
   "id": "e6ab1532",
   "metadata": {},
   "outputs": [],
   "source": [
    "hlt = np.array(hilbert_list)\n",
    "#hlt = (hlt-hlt.mean())/hlt.std()\n",
    "ohlc = hlt[:,:4,:,:]\n",
    "vol = hlt[:,-1:,:,:]\n",
    "print(ohlc.mean(),ohlc.std(),vol.mean(),vol.std())\n",
    "ohlc = (ohlc-ohlc.mean())/ohlc.std()\n",
    "vol = (vol-vol.mean())/vol.std()\n",
    "hltn = np.concatenate((ohlc,vol),axis=1)\n",
    "\n",
    "div = int(len(target_list)*0.9)\n",
    "for i,j in tqdm(enumerate(hltn)):\n",
    "    if i<div:\n",
    "        np.save('imgs/train_4layer_w_volume/%07d.npy'%i,j)\n",
    "    else:\n",
    "        np.save('imgs/test_4layer_w_volume/%07d.npy'%i,j) \n",
    "#target_df[\"label\"] = target_df.index.to_list()\n",
    "#target_df[\"label\"] = target_df.label.apply(lambda x:\"%07d.npy\"%x)\n",
    "#target_df.iloc[:div].to_parquet(\"imgs/train_4layer_w_volume/target_cluster_1D.parquet\")\n",
    "#target_df.iloc[div:].to_parquet(\"imgs/test_4layer_w_volume/target_cluster_1D.parquet\")"
   ]
  },
  {
   "cell_type": "code",
   "execution_count": 47,
   "id": "2bfea9cb",
   "metadata": {},
   "outputs": [
    {
     "data": {
      "text/html": [
       "<div>\n",
       "<style scoped>\n",
       "    .dataframe tbody tr th:only-of-type {\n",
       "        vertical-align: middle;\n",
       "    }\n",
       "\n",
       "    .dataframe tbody tr th {\n",
       "        vertical-align: top;\n",
       "    }\n",
       "\n",
       "    .dataframe thead th {\n",
       "        text-align: right;\n",
       "    }\n",
       "</style>\n",
       "<table border=\"1\" class=\"dataframe\">\n",
       "  <thead>\n",
       "    <tr style=\"text-align: right;\">\n",
       "      <th></th>\n",
       "      <th>Low_5</th>\n",
       "      <th>High_5</th>\n",
       "      <th>Low_10</th>\n",
       "      <th>High_10</th>\n",
       "      <th>Low_15</th>\n",
       "      <th>High_15</th>\n",
       "      <th>Low_20</th>\n",
       "      <th>High_20</th>\n",
       "    </tr>\n",
       "  </thead>\n",
       "  <tbody>\n",
       "    <tr>\n",
       "      <th>0</th>\n",
       "      <td>-0.001045</td>\n",
       "      <td>0.000628</td>\n",
       "      <td>-0.001065</td>\n",
       "      <td>-0.000290</td>\n",
       "      <td>-0.000995</td>\n",
       "      <td>0.000169</td>\n",
       "      <td>-0.000500</td>\n",
       "      <td>0.000348</td>\n",
       "    </tr>\n",
       "    <tr>\n",
       "      <th>1</th>\n",
       "      <td>-0.000710</td>\n",
       "      <td>0.000480</td>\n",
       "      <td>-0.000813</td>\n",
       "      <td>0.000588</td>\n",
       "      <td>-0.000168</td>\n",
       "      <td>0.001066</td>\n",
       "      <td>-0.000080</td>\n",
       "      <td>0.001144</td>\n",
       "    </tr>\n",
       "    <tr>\n",
       "      <th>2</th>\n",
       "      <td>-0.000391</td>\n",
       "      <td>0.001111</td>\n",
       "      <td>-0.001286</td>\n",
       "      <td>0.000123</td>\n",
       "      <td>-0.001916</td>\n",
       "      <td>-0.000412</td>\n",
       "      <td>-0.001526</td>\n",
       "      <td>-0.000255</td>\n",
       "    </tr>\n",
       "    <tr>\n",
       "      <th>3</th>\n",
       "      <td>-0.000938</td>\n",
       "      <td>0.000065</td>\n",
       "      <td>-0.001433</td>\n",
       "      <td>-0.000519</td>\n",
       "      <td>-0.001558</td>\n",
       "      <td>-0.000644</td>\n",
       "      <td>-0.002621</td>\n",
       "      <td>-0.001061</td>\n",
       "    </tr>\n",
       "    <tr>\n",
       "      <th>4</th>\n",
       "      <td>-0.000211</td>\n",
       "      <td>0.000055</td>\n",
       "      <td>-0.000857</td>\n",
       "      <td>-0.000134</td>\n",
       "      <td>-0.000984</td>\n",
       "      <td>0.000109</td>\n",
       "      <td>-0.000310</td>\n",
       "      <td>0.000408</td>\n",
       "    </tr>\n",
       "    <tr>\n",
       "      <th>...</th>\n",
       "      <td>...</td>\n",
       "      <td>...</td>\n",
       "      <td>...</td>\n",
       "      <td>...</td>\n",
       "      <td>...</td>\n",
       "      <td>...</td>\n",
       "      <td>...</td>\n",
       "      <td>...</td>\n",
       "    </tr>\n",
       "    <tr>\n",
       "      <th>78376</th>\n",
       "      <td>-0.000120</td>\n",
       "      <td>0.002944</td>\n",
       "      <td>0.000951</td>\n",
       "      <td>0.002197</td>\n",
       "      <td>0.000339</td>\n",
       "      <td>0.002008</td>\n",
       "      <td>0.000523</td>\n",
       "      <td>0.001664</td>\n",
       "    </tr>\n",
       "    <tr>\n",
       "      <th>78377</th>\n",
       "      <td>-0.000627</td>\n",
       "      <td>0.000249</td>\n",
       "      <td>-0.000030</td>\n",
       "      <td>0.006984</td>\n",
       "      <td>0.004845</td>\n",
       "      <td>0.008427</td>\n",
       "      <td>0.003855</td>\n",
       "      <td>0.006188</td>\n",
       "    </tr>\n",
       "    <tr>\n",
       "      <th>78378</th>\n",
       "      <td>-0.002091</td>\n",
       "      <td>0.000248</td>\n",
       "      <td>-0.001878</td>\n",
       "      <td>0.000213</td>\n",
       "      <td>-0.001154</td>\n",
       "      <td>0.001506</td>\n",
       "      <td>0.000337</td>\n",
       "      <td>0.003518</td>\n",
       "    </tr>\n",
       "    <tr>\n",
       "      <th>78379</th>\n",
       "      <td>-0.001145</td>\n",
       "      <td>0.000721</td>\n",
       "      <td>-0.000336</td>\n",
       "      <td>0.007139</td>\n",
       "      <td>0.002088</td>\n",
       "      <td>0.005362</td>\n",
       "      <td>0.002503</td>\n",
       "      <td>0.005223</td>\n",
       "    </tr>\n",
       "    <tr>\n",
       "      <th>78380</th>\n",
       "      <td>-0.001141</td>\n",
       "      <td>0.000994</td>\n",
       "      <td>0.000536</td>\n",
       "      <td>0.008595</td>\n",
       "      <td>-0.000089</td>\n",
       "      <td>0.002445</td>\n",
       "      <td>-0.000128</td>\n",
       "      <td>0.000925</td>\n",
       "    </tr>\n",
       "  </tbody>\n",
       "</table>\n",
       "<p>78381 rows × 8 columns</p>\n",
       "</div>"
      ],
      "text/plain": [
       "          Low_5    High_5    Low_10   High_10    Low_15   High_15    Low_20  \\\n",
       "0     -0.001045  0.000628 -0.001065 -0.000290 -0.000995  0.000169 -0.000500   \n",
       "1     -0.000710  0.000480 -0.000813  0.000588 -0.000168  0.001066 -0.000080   \n",
       "2     -0.000391  0.001111 -0.001286  0.000123 -0.001916 -0.000412 -0.001526   \n",
       "3     -0.000938  0.000065 -0.001433 -0.000519 -0.001558 -0.000644 -0.002621   \n",
       "4     -0.000211  0.000055 -0.000857 -0.000134 -0.000984  0.000109 -0.000310   \n",
       "...         ...       ...       ...       ...       ...       ...       ...   \n",
       "78376 -0.000120  0.002944  0.000951  0.002197  0.000339  0.002008  0.000523   \n",
       "78377 -0.000627  0.000249 -0.000030  0.006984  0.004845  0.008427  0.003855   \n",
       "78378 -0.002091  0.000248 -0.001878  0.000213 -0.001154  0.001506  0.000337   \n",
       "78379 -0.001145  0.000721 -0.000336  0.007139  0.002088  0.005362  0.002503   \n",
       "78380 -0.001141  0.000994  0.000536  0.008595 -0.000089  0.002445 -0.000128   \n",
       "\n",
       "        High_20  \n",
       "0      0.000348  \n",
       "1      0.001144  \n",
       "2     -0.000255  \n",
       "3     -0.001061  \n",
       "4      0.000408  \n",
       "...         ...  \n",
       "78376  0.001664  \n",
       "78377  0.006188  \n",
       "78378  0.003518  \n",
       "78379  0.005223  \n",
       "78380  0.000925  \n",
       "\n",
       "[78381 rows x 8 columns]"
      ]
     },
     "execution_count": 47,
     "metadata": {},
     "output_type": "execute_result"
    }
   ],
   "source": [
    "target_df"
   ]
  },
  {
   "cell_type": "code",
   "execution_count": 31,
   "id": "65e793ea",
   "metadata": {},
   "outputs": [
    {
     "data": {
      "text/plain": [
       "71233"
      ]
     },
     "execution_count": 31,
     "metadata": {},
     "output_type": "execute_result"
    }
   ],
   "source": [
    "div"
   ]
  },
  {
   "cell_type": "code",
   "execution_count": 30,
   "id": "1bba726f",
   "metadata": {},
   "outputs": [],
   "source": [
    "div=div-1\n",
    "target_df[\"label\"] = target_df.index.to_list()\n",
    "target_df[\"label\"] = target_df.label.apply(lambda x:\"%07d.npy\"%(x+1))\n",
    "target_df.iloc[:div].to_parquet(\"imgs/train_4layer_w_volume/target_next_20.parquet\")\n",
    "target_df.iloc[div:].to_parquet(\"imgs/test_4layer_w_volume/target_next_20.parquet\")"
   ]
  },
  {
   "cell_type": "code",
   "execution_count": 49,
   "id": "78792430",
   "metadata": {},
   "outputs": [
    {
     "data": {
      "text/html": [
       "<div>\n",
       "<style scoped>\n",
       "    .dataframe tbody tr th:only-of-type {\n",
       "        vertical-align: middle;\n",
       "    }\n",
       "\n",
       "    .dataframe tbody tr th {\n",
       "        vertical-align: top;\n",
       "    }\n",
       "\n",
       "    .dataframe thead th {\n",
       "        text-align: right;\n",
       "    }\n",
       "</style>\n",
       "<table border=\"1\" class=\"dataframe\">\n",
       "  <thead>\n",
       "    <tr style=\"text-align: right;\">\n",
       "      <th></th>\n",
       "      <th>Low_5</th>\n",
       "      <th>High_5</th>\n",
       "      <th>Low_10</th>\n",
       "      <th>High_10</th>\n",
       "      <th>Low_15</th>\n",
       "      <th>High_15</th>\n",
       "      <th>Low_20</th>\n",
       "      <th>High_20</th>\n",
       "      <th>label</th>\n",
       "    </tr>\n",
       "  </thead>\n",
       "  <tbody>\n",
       "    <tr>\n",
       "      <th>0</th>\n",
       "      <td>-0.001045</td>\n",
       "      <td>0.000628</td>\n",
       "      <td>-0.001065</td>\n",
       "      <td>-0.000290</td>\n",
       "      <td>-0.000995</td>\n",
       "      <td>0.000169</td>\n",
       "      <td>-0.000500</td>\n",
       "      <td>0.000348</td>\n",
       "      <td>0000001.npy</td>\n",
       "    </tr>\n",
       "    <tr>\n",
       "      <th>1</th>\n",
       "      <td>-0.000710</td>\n",
       "      <td>0.000480</td>\n",
       "      <td>-0.000813</td>\n",
       "      <td>0.000588</td>\n",
       "      <td>-0.000168</td>\n",
       "      <td>0.001066</td>\n",
       "      <td>-0.000080</td>\n",
       "      <td>0.001144</td>\n",
       "      <td>0000002.npy</td>\n",
       "    </tr>\n",
       "    <tr>\n",
       "      <th>2</th>\n",
       "      <td>-0.000391</td>\n",
       "      <td>0.001111</td>\n",
       "      <td>-0.001286</td>\n",
       "      <td>0.000123</td>\n",
       "      <td>-0.001916</td>\n",
       "      <td>-0.000412</td>\n",
       "      <td>-0.001526</td>\n",
       "      <td>-0.000255</td>\n",
       "      <td>0000003.npy</td>\n",
       "    </tr>\n",
       "    <tr>\n",
       "      <th>3</th>\n",
       "      <td>-0.000938</td>\n",
       "      <td>0.000065</td>\n",
       "      <td>-0.001433</td>\n",
       "      <td>-0.000519</td>\n",
       "      <td>-0.001558</td>\n",
       "      <td>-0.000644</td>\n",
       "      <td>-0.002621</td>\n",
       "      <td>-0.001061</td>\n",
       "      <td>0000004.npy</td>\n",
       "    </tr>\n",
       "    <tr>\n",
       "      <th>4</th>\n",
       "      <td>-0.000211</td>\n",
       "      <td>0.000055</td>\n",
       "      <td>-0.000857</td>\n",
       "      <td>-0.000134</td>\n",
       "      <td>-0.000984</td>\n",
       "      <td>0.000109</td>\n",
       "      <td>-0.000310</td>\n",
       "      <td>0.000408</td>\n",
       "      <td>0000005.npy</td>\n",
       "    </tr>\n",
       "    <tr>\n",
       "      <th>...</th>\n",
       "      <td>...</td>\n",
       "      <td>...</td>\n",
       "      <td>...</td>\n",
       "      <td>...</td>\n",
       "      <td>...</td>\n",
       "      <td>...</td>\n",
       "      <td>...</td>\n",
       "      <td>...</td>\n",
       "      <td>...</td>\n",
       "    </tr>\n",
       "    <tr>\n",
       "      <th>70537</th>\n",
       "      <td>-0.002785</td>\n",
       "      <td>0.000024</td>\n",
       "      <td>-0.003862</td>\n",
       "      <td>0.000348</td>\n",
       "      <td>-0.003128</td>\n",
       "      <td>0.000269</td>\n",
       "      <td>-0.001136</td>\n",
       "      <td>0.000250</td>\n",
       "      <td>0070538.npy</td>\n",
       "    </tr>\n",
       "    <tr>\n",
       "      <th>70538</th>\n",
       "      <td>-0.002545</td>\n",
       "      <td>0.001493</td>\n",
       "      <td>0.000450</td>\n",
       "      <td>0.002291</td>\n",
       "      <td>0.000553</td>\n",
       "      <td>0.002076</td>\n",
       "      <td>-0.000651</td>\n",
       "      <td>0.001875</td>\n",
       "      <td>0070539.npy</td>\n",
       "    </tr>\n",
       "    <tr>\n",
       "      <th>70539</th>\n",
       "      <td>-0.000806</td>\n",
       "      <td>0.000279</td>\n",
       "      <td>-0.000806</td>\n",
       "      <td>0.000420</td>\n",
       "      <td>-0.000733</td>\n",
       "      <td>0.001774</td>\n",
       "      <td>0.001256</td>\n",
       "      <td>0.002620</td>\n",
       "      <td>0070540.npy</td>\n",
       "    </tr>\n",
       "    <tr>\n",
       "      <th>70540</th>\n",
       "      <td>-0.000083</td>\n",
       "      <td>0.001868</td>\n",
       "      <td>-0.000678</td>\n",
       "      <td>0.001810</td>\n",
       "      <td>-0.001307</td>\n",
       "      <td>0.000771</td>\n",
       "      <td>-0.000541</td>\n",
       "      <td>0.000605</td>\n",
       "      <td>0070541.npy</td>\n",
       "    </tr>\n",
       "    <tr>\n",
       "      <th>70541</th>\n",
       "      <td>-0.003474</td>\n",
       "      <td>0.000893</td>\n",
       "      <td>-0.003542</td>\n",
       "      <td>-0.001878</td>\n",
       "      <td>-0.003474</td>\n",
       "      <td>-0.001737</td>\n",
       "      <td>-0.003303</td>\n",
       "      <td>0.000761</td>\n",
       "      <td>0070542.npy</td>\n",
       "    </tr>\n",
       "  </tbody>\n",
       "</table>\n",
       "<p>70542 rows × 9 columns</p>\n",
       "</div>"
      ],
      "text/plain": [
       "          Low_5    High_5    Low_10   High_10    Low_15   High_15    Low_20  \\\n",
       "0     -0.001045  0.000628 -0.001065 -0.000290 -0.000995  0.000169 -0.000500   \n",
       "1     -0.000710  0.000480 -0.000813  0.000588 -0.000168  0.001066 -0.000080   \n",
       "2     -0.000391  0.001111 -0.001286  0.000123 -0.001916 -0.000412 -0.001526   \n",
       "3     -0.000938  0.000065 -0.001433 -0.000519 -0.001558 -0.000644 -0.002621   \n",
       "4     -0.000211  0.000055 -0.000857 -0.000134 -0.000984  0.000109 -0.000310   \n",
       "...         ...       ...       ...       ...       ...       ...       ...   \n",
       "70537 -0.002785  0.000024 -0.003862  0.000348 -0.003128  0.000269 -0.001136   \n",
       "70538 -0.002545  0.001493  0.000450  0.002291  0.000553  0.002076 -0.000651   \n",
       "70539 -0.000806  0.000279 -0.000806  0.000420 -0.000733  0.001774  0.001256   \n",
       "70540 -0.000083  0.001868 -0.000678  0.001810 -0.001307  0.000771 -0.000541   \n",
       "70541 -0.003474  0.000893 -0.003542 -0.001878 -0.003474 -0.001737 -0.003303   \n",
       "\n",
       "        High_20        label  \n",
       "0      0.000348  0000001.npy  \n",
       "1      0.001144  0000002.npy  \n",
       "2     -0.000255  0000003.npy  \n",
       "3     -0.001061  0000004.npy  \n",
       "4      0.000408  0000005.npy  \n",
       "...         ...          ...  \n",
       "70537  0.000250  0070538.npy  \n",
       "70538  0.001875  0070539.npy  \n",
       "70539  0.002620  0070540.npy  \n",
       "70540  0.000605  0070541.npy  \n",
       "70541  0.000761  0070542.npy  \n",
       "\n",
       "[70542 rows x 9 columns]"
      ]
     },
     "execution_count": 49,
     "metadata": {},
     "output_type": "execute_result"
    }
   ],
   "source": [
    "pd.read_parquet(\"imgs/train_4_layer_w_volume_128/target_next_20_128.parquet\")"
   ]
  },
  {
   "cell_type": "code",
   "execution_count": 50,
   "id": "94c06668",
   "metadata": {},
   "outputs": [
    {
     "data": {
      "text/html": [
       "<div>\n",
       "<style scoped>\n",
       "    .dataframe tbody tr th:only-of-type {\n",
       "        vertical-align: middle;\n",
       "    }\n",
       "\n",
       "    .dataframe tbody tr th {\n",
       "        vertical-align: top;\n",
       "    }\n",
       "\n",
       "    .dataframe thead th {\n",
       "        text-align: right;\n",
       "    }\n",
       "</style>\n",
       "<table border=\"1\" class=\"dataframe\">\n",
       "  <thead>\n",
       "    <tr style=\"text-align: right;\">\n",
       "      <th></th>\n",
       "      <th>Low_5</th>\n",
       "      <th>High_5</th>\n",
       "      <th>Low_10</th>\n",
       "      <th>High_10</th>\n",
       "      <th>Low_15</th>\n",
       "      <th>High_15</th>\n",
       "      <th>Low_20</th>\n",
       "      <th>High_20</th>\n",
       "      <th>label</th>\n",
       "    </tr>\n",
       "  </thead>\n",
       "  <tbody>\n",
       "    <tr>\n",
       "      <th>70542</th>\n",
       "      <td>-0.000713</td>\n",
       "      <td>0.001835</td>\n",
       "      <td>0.000849</td>\n",
       "      <td>0.008640</td>\n",
       "      <td>0.003803</td>\n",
       "      <td>0.007507</td>\n",
       "      <td>0.006019</td>\n",
       "      <td>0.008616</td>\n",
       "      <td>0070543.npy</td>\n",
       "    </tr>\n",
       "    <tr>\n",
       "      <th>70543</th>\n",
       "      <td>-0.001004</td>\n",
       "      <td>0.005147</td>\n",
       "      <td>0.002207</td>\n",
       "      <td>0.007466</td>\n",
       "      <td>0.001751</td>\n",
       "      <td>0.006942</td>\n",
       "      <td>-0.000485</td>\n",
       "      <td>0.003245</td>\n",
       "      <td>0070544.npy</td>\n",
       "    </tr>\n",
       "    <tr>\n",
       "      <th>70544</th>\n",
       "      <td>-0.002585</td>\n",
       "      <td>0.001392</td>\n",
       "      <td>-0.002338</td>\n",
       "      <td>-0.000388</td>\n",
       "      <td>-0.003793</td>\n",
       "      <td>-0.001111</td>\n",
       "      <td>-0.003759</td>\n",
       "      <td>-0.001154</td>\n",
       "      <td>0070545.npy</td>\n",
       "    </tr>\n",
       "    <tr>\n",
       "      <th>70545</th>\n",
       "      <td>-0.000170</td>\n",
       "      <td>0.001357</td>\n",
       "      <td>-0.001600</td>\n",
       "      <td>0.001269</td>\n",
       "      <td>-0.002791</td>\n",
       "      <td>-0.000836</td>\n",
       "      <td>-0.005698</td>\n",
       "      <td>-0.002543</td>\n",
       "      <td>0070546.npy</td>\n",
       "    </tr>\n",
       "    <tr>\n",
       "      <th>70546</th>\n",
       "      <td>-0.001468</td>\n",
       "      <td>0.000005</td>\n",
       "      <td>-0.005545</td>\n",
       "      <td>-0.000473</td>\n",
       "      <td>-0.006164</td>\n",
       "      <td>-0.003784</td>\n",
       "      <td>-0.006895</td>\n",
       "      <td>-0.004452</td>\n",
       "      <td>0070547.npy</td>\n",
       "    </tr>\n",
       "    <tr>\n",
       "      <th>...</th>\n",
       "      <td>...</td>\n",
       "      <td>...</td>\n",
       "      <td>...</td>\n",
       "      <td>...</td>\n",
       "      <td>...</td>\n",
       "      <td>...</td>\n",
       "      <td>...</td>\n",
       "      <td>...</td>\n",
       "      <td>...</td>\n",
       "    </tr>\n",
       "    <tr>\n",
       "      <th>78376</th>\n",
       "      <td>-0.000120</td>\n",
       "      <td>0.002944</td>\n",
       "      <td>0.000951</td>\n",
       "      <td>0.002197</td>\n",
       "      <td>0.000339</td>\n",
       "      <td>0.002008</td>\n",
       "      <td>0.000523</td>\n",
       "      <td>0.001664</td>\n",
       "      <td>0078377.npy</td>\n",
       "    </tr>\n",
       "    <tr>\n",
       "      <th>78377</th>\n",
       "      <td>-0.000627</td>\n",
       "      <td>0.000249</td>\n",
       "      <td>-0.000030</td>\n",
       "      <td>0.006984</td>\n",
       "      <td>0.004845</td>\n",
       "      <td>0.008427</td>\n",
       "      <td>0.003855</td>\n",
       "      <td>0.006188</td>\n",
       "      <td>0078378.npy</td>\n",
       "    </tr>\n",
       "    <tr>\n",
       "      <th>78378</th>\n",
       "      <td>-0.002091</td>\n",
       "      <td>0.000248</td>\n",
       "      <td>-0.001878</td>\n",
       "      <td>0.000213</td>\n",
       "      <td>-0.001154</td>\n",
       "      <td>0.001506</td>\n",
       "      <td>0.000337</td>\n",
       "      <td>0.003518</td>\n",
       "      <td>0078379.npy</td>\n",
       "    </tr>\n",
       "    <tr>\n",
       "      <th>78379</th>\n",
       "      <td>-0.001145</td>\n",
       "      <td>0.000721</td>\n",
       "      <td>-0.000336</td>\n",
       "      <td>0.007139</td>\n",
       "      <td>0.002088</td>\n",
       "      <td>0.005362</td>\n",
       "      <td>0.002503</td>\n",
       "      <td>0.005223</td>\n",
       "      <td>0078380.npy</td>\n",
       "    </tr>\n",
       "    <tr>\n",
       "      <th>78380</th>\n",
       "      <td>-0.001141</td>\n",
       "      <td>0.000994</td>\n",
       "      <td>0.000536</td>\n",
       "      <td>0.008595</td>\n",
       "      <td>-0.000089</td>\n",
       "      <td>0.002445</td>\n",
       "      <td>-0.000128</td>\n",
       "      <td>0.000925</td>\n",
       "      <td>0078381.npy</td>\n",
       "    </tr>\n",
       "  </tbody>\n",
       "</table>\n",
       "<p>7839 rows × 9 columns</p>\n",
       "</div>"
      ],
      "text/plain": [
       "          Low_5    High_5    Low_10   High_10    Low_15   High_15    Low_20  \\\n",
       "70542 -0.000713  0.001835  0.000849  0.008640  0.003803  0.007507  0.006019   \n",
       "70543 -0.001004  0.005147  0.002207  0.007466  0.001751  0.006942 -0.000485   \n",
       "70544 -0.002585  0.001392 -0.002338 -0.000388 -0.003793 -0.001111 -0.003759   \n",
       "70545 -0.000170  0.001357 -0.001600  0.001269 -0.002791 -0.000836 -0.005698   \n",
       "70546 -0.001468  0.000005 -0.005545 -0.000473 -0.006164 -0.003784 -0.006895   \n",
       "...         ...       ...       ...       ...       ...       ...       ...   \n",
       "78376 -0.000120  0.002944  0.000951  0.002197  0.000339  0.002008  0.000523   \n",
       "78377 -0.000627  0.000249 -0.000030  0.006984  0.004845  0.008427  0.003855   \n",
       "78378 -0.002091  0.000248 -0.001878  0.000213 -0.001154  0.001506  0.000337   \n",
       "78379 -0.001145  0.000721 -0.000336  0.007139  0.002088  0.005362  0.002503   \n",
       "78380 -0.001141  0.000994  0.000536  0.008595 -0.000089  0.002445 -0.000128   \n",
       "\n",
       "        High_20        label  \n",
       "70542  0.008616  0070543.npy  \n",
       "70543  0.003245  0070544.npy  \n",
       "70544 -0.001154  0070545.npy  \n",
       "70545 -0.002543  0070546.npy  \n",
       "70546 -0.004452  0070547.npy  \n",
       "...         ...          ...  \n",
       "78376  0.001664  0078377.npy  \n",
       "78377  0.006188  0078378.npy  \n",
       "78378  0.003518  0078379.npy  \n",
       "78379  0.005223  0078380.npy  \n",
       "78380  0.000925  0078381.npy  \n",
       "\n",
       "[7839 rows x 9 columns]"
      ]
     },
     "execution_count": 50,
     "metadata": {},
     "output_type": "execute_result"
    }
   ],
   "source": [
    "pd.read_parquet(\"imgs/test_4_layer_w_volume_128/target_next_20_128.parquet\")"
   ]
  },
  {
   "cell_type": "code",
   "execution_count": 42,
   "id": "4410d2b1",
   "metadata": {},
   "outputs": [],
   "source": [
    "tla = np.nan_to_num(tla)"
   ]
  },
  {
   "cell_type": "code",
   "execution_count": 85,
   "id": "20b7af73",
   "metadata": {},
   "outputs": [],
   "source": [
    "from sklearn.cluster import KMeans\n",
    "kmeans = KMeans(n_clusters=16, random_state=0).fit_predict(tla)\n"
   ]
  },
  {
   "cell_type": "code",
   "execution_count": 38,
   "id": "7455593f",
   "metadata": {},
   "outputs": [],
   "source": [
    "from sklearn.cluster import KMeans\n",
    "kmeans = KMeans(n_clusters=10, random_state=0).fit_predict(target_df.iloc[:,:-2].values)\n"
   ]
  },
  {
   "cell_type": "code",
   "execution_count": 95,
   "id": "b07c937b",
   "metadata": {},
   "outputs": [
    {
     "data": {
      "text/plain": [
       "array([0.06228798, 0.06561085, 0.05672881, 0.05523794, 0.07700714,\n",
       "       0.05455568, 0.05410715, 0.04962191, 0.05382919, 0.0595463 ,\n",
       "       0.07561103, 0.05974845, 0.05586335, 0.08029843, 0.05971686,\n",
       "       0.08023525])"
      ]
     },
     "execution_count": 95,
     "metadata": {},
     "output_type": "execute_result"
    }
   ],
   "source": [
    "np.unique(kmeans,return_counts=True)[1]/158297"
   ]
  },
  {
   "cell_type": "code",
   "execution_count": 86,
   "id": "525e50db",
   "metadata": {},
   "outputs": [],
   "source": [
    "dfc = pd.DataFrame(tla)\n",
    "dfc[\"label\"] = kmeans"
   ]
  },
  {
   "cell_type": "code",
   "execution_count": 73,
   "id": "01ec5989",
   "metadata": {},
   "outputs": [],
   "source": [
    "dsc = dfc.groupby(\"label\").describe()"
   ]
  },
  {
   "cell_type": "code",
   "execution_count": 85,
   "id": "b4000069",
   "metadata": {},
   "outputs": [
    {
     "data": {
      "text/html": [
       "<div>\n",
       "<style scoped>\n",
       "    .dataframe tbody tr th:only-of-type {\n",
       "        vertical-align: middle;\n",
       "    }\n",
       "\n",
       "    .dataframe tbody tr th {\n",
       "        vertical-align: top;\n",
       "    }\n",
       "\n",
       "    .dataframe thead th {\n",
       "        text-align: right;\n",
       "    }\n",
       "</style>\n",
       "<table border=\"1\" class=\"dataframe\">\n",
       "  <thead>\n",
       "    <tr style=\"text-align: right;\">\n",
       "      <th></th>\n",
       "      <th>0</th>\n",
       "      <th>1</th>\n",
       "      <th>2</th>\n",
       "      <th>3</th>\n",
       "      <th>4</th>\n",
       "      <th>5</th>\n",
       "      <th>6</th>\n",
       "      <th>7</th>\n",
       "      <th>8</th>\n",
       "      <th>9</th>\n",
       "      <th>10</th>\n",
       "      <th>11</th>\n",
       "      <th>12</th>\n",
       "      <th>13</th>\n",
       "      <th>14</th>\n",
       "      <th>15</th>\n",
       "      <th>16</th>\n",
       "      <th>17</th>\n",
       "      <th>18</th>\n",
       "      <th>19</th>\n",
       "      <th>20</th>\n",
       "      <th>21</th>\n",
       "      <th>22</th>\n",
       "      <th>23</th>\n",
       "      <th>24</th>\n",
       "      <th>25</th>\n",
       "      <th>26</th>\n",
       "      <th>27</th>\n",
       "      <th>28</th>\n",
       "      <th>29</th>\n",
       "      <th>30</th>\n",
       "      <th>31</th>\n",
       "      <th>32</th>\n",
       "      <th>33</th>\n",
       "      <th>34</th>\n",
       "      <th>35</th>\n",
       "      <th>36</th>\n",
       "      <th>37</th>\n",
       "      <th>38</th>\n",
       "      <th>39</th>\n",
       "      <th>40</th>\n",
       "      <th>41</th>\n",
       "      <th>42</th>\n",
       "      <th>43</th>\n",
       "      <th>44</th>\n",
       "      <th>45</th>\n",
       "      <th>46</th>\n",
       "      <th>47</th>\n",
       "      <th>48</th>\n",
       "      <th>49</th>\n",
       "      <th>50</th>\n",
       "      <th>51</th>\n",
       "      <th>52</th>\n",
       "      <th>53</th>\n",
       "      <th>54</th>\n",
       "      <th>55</th>\n",
       "      <th>56</th>\n",
       "      <th>57</th>\n",
       "      <th>58</th>\n",
       "      <th>59</th>\n",
       "      <th>60</th>\n",
       "      <th>61</th>\n",
       "      <th>62</th>\n",
       "      <th>63</th>\n",
       "      <th>64</th>\n",
       "      <th>65</th>\n",
       "      <th>66</th>\n",
       "      <th>67</th>\n",
       "      <th>68</th>\n",
       "      <th>69</th>\n",
       "      <th>70</th>\n",
       "      <th>71</th>\n",
       "      <th>72</th>\n",
       "      <th>73</th>\n",
       "      <th>74</th>\n",
       "      <th>75</th>\n",
       "      <th>76</th>\n",
       "      <th>77</th>\n",
       "      <th>78</th>\n",
       "      <th>79</th>\n",
       "      <th>80</th>\n",
       "      <th>81</th>\n",
       "      <th>82</th>\n",
       "      <th>83</th>\n",
       "      <th>84</th>\n",
       "      <th>85</th>\n",
       "      <th>86</th>\n",
       "      <th>87</th>\n",
       "      <th>88</th>\n",
       "      <th>89</th>\n",
       "      <th>90</th>\n",
       "      <th>91</th>\n",
       "      <th>92</th>\n",
       "      <th>93</th>\n",
       "      <th>94</th>\n",
       "      <th>95</th>\n",
       "      <th>96</th>\n",
       "      <th>97</th>\n",
       "      <th>98</th>\n",
       "      <th>99</th>\n",
       "      <th>100</th>\n",
       "      <th>101</th>\n",
       "      <th>102</th>\n",
       "      <th>103</th>\n",
       "      <th>104</th>\n",
       "      <th>105</th>\n",
       "      <th>106</th>\n",
       "      <th>107</th>\n",
       "      <th>108</th>\n",
       "      <th>109</th>\n",
       "      <th>110</th>\n",
       "      <th>111</th>\n",
       "      <th>112</th>\n",
       "      <th>113</th>\n",
       "      <th>114</th>\n",
       "      <th>115</th>\n",
       "      <th>116</th>\n",
       "      <th>117</th>\n",
       "      <th>118</th>\n",
       "      <th>119</th>\n",
       "      <th>120</th>\n",
       "      <th>121</th>\n",
       "      <th>122</th>\n",
       "      <th>123</th>\n",
       "      <th>124</th>\n",
       "      <th>125</th>\n",
       "      <th>126</th>\n",
       "      <th>127</th>\n",
       "      <th>128</th>\n",
       "      <th>129</th>\n",
       "      <th>130</th>\n",
       "      <th>131</th>\n",
       "      <th>132</th>\n",
       "      <th>133</th>\n",
       "      <th>134</th>\n",
       "      <th>135</th>\n",
       "      <th>136</th>\n",
       "      <th>137</th>\n",
       "      <th>138</th>\n",
       "      <th>139</th>\n",
       "      <th>140</th>\n",
       "      <th>141</th>\n",
       "      <th>142</th>\n",
       "      <th>143</th>\n",
       "      <th>144</th>\n",
       "      <th>145</th>\n",
       "      <th>146</th>\n",
       "      <th>147</th>\n",
       "      <th>148</th>\n",
       "      <th>149</th>\n",
       "      <th>label</th>\n",
       "    </tr>\n",
       "  </thead>\n",
       "  <tbody>\n",
       "    <tr>\n",
       "      <th>0</th>\n",
       "      <td>0.884841</td>\n",
       "      <td>0.909735</td>\n",
       "      <td>0.865209</td>\n",
       "      <td>0.888079</td>\n",
       "      <td>0.208722</td>\n",
       "      <td>0.885246</td>\n",
       "      <td>1.000000</td>\n",
       "      <td>0.883020</td>\n",
       "      <td>0.910949</td>\n",
       "      <td>0.290546</td>\n",
       "      <td>0.909937</td>\n",
       "      <td>0.911354</td>\n",
       "      <td>0.751265</td>\n",
       "      <td>0.751265</td>\n",
       "      <td>0.226090</td>\n",
       "      <td>0.770694</td>\n",
       "      <td>0.770694</td>\n",
       "      <td>0.596843</td>\n",
       "      <td>0.645618</td>\n",
       "      <td>0.270613</td>\n",
       "      <td>0.658166</td>\n",
       "      <td>0.658166</td>\n",
       "      <td>0.459016</td>\n",
       "      <td>0.459016</td>\n",
       "      <td>0.231354</td>\n",
       "      <td>0.454564</td>\n",
       "      <td>0.471362</td>\n",
       "      <td>0.269379</td>\n",
       "      <td>0.294880</td>\n",
       "      <td>0.734727</td>\n",
       "      <td>0.309856</td>\n",
       "      <td>0.380692</td>\n",
       "      <td>0.304392</td>\n",
       "      <td>0.318559</td>\n",
       "      <td>0.834280</td>\n",
       "      <td>0.326452</td>\n",
       "      <td>0.384538</td>\n",
       "      <td>0.326250</td>\n",
       "      <td>0.364096</td>\n",
       "      <td>0.180846</td>\n",
       "      <td>0.362477</td>\n",
       "      <td>0.416920</td>\n",
       "      <td>0.221615</td>\n",
       "      <td>0.280105</td>\n",
       "      <td>0.309454</td>\n",
       "      <td>0.271807</td>\n",
       "      <td>0.271807</td>\n",
       "      <td>0.158672</td>\n",
       "      <td>0.186400</td>\n",
       "      <td>0.399544</td>\n",
       "      <td>0.190447</td>\n",
       "      <td>0.282736</td>\n",
       "      <td>0.162720</td>\n",
       "      <td>0.163732</td>\n",
       "      <td>0.054233</td>\n",
       "      <td>0.176280</td>\n",
       "      <td>0.177899</td>\n",
       "      <td>0.016798</td>\n",
       "      <td>0.052621</td>\n",
       "      <td>0.619705</td>\n",
       "      <td>0.050395</td>\n",
       "      <td>0.193078</td>\n",
       "      <td>0.000000</td>\n",
       "      <td>0.131350</td>\n",
       "      <td>0.718100</td>\n",
       "      <td>0.167780</td>\n",
       "      <td>0.206436</td>\n",
       "      <td>0.136410</td>\n",
       "      <td>0.206436</td>\n",
       "      <td>0.059382</td>\n",
       "      <td>0.183161</td>\n",
       "      <td>0.280308</td>\n",
       "      <td>0.183161</td>\n",
       "      <td>0.280308</td>\n",
       "      <td>0.252599</td>\n",
       "      <td>0.282129</td>\n",
       "      <td>0.380085</td>\n",
       "      <td>0.242866</td>\n",
       "      <td>0.376847</td>\n",
       "      <td>0.148713</td>\n",
       "      <td>0.377454</td>\n",
       "      <td>0.526209</td>\n",
       "      <td>0.370775</td>\n",
       "      <td>0.526209</td>\n",
       "      <td>0.219591</td>\n",
       "      <td>0.542400</td>\n",
       "      <td>0.542400</td>\n",
       "      <td>0.399919</td>\n",
       "      <td>0.425218</td>\n",
       "      <td>0.216988</td>\n",
       "      <td>0.425015</td>\n",
       "      <td>0.586926</td>\n",
       "      <td>0.333536</td>\n",
       "      <td>0.586723</td>\n",
       "      <td>0.916181</td>\n",
       "      <td>0.586926</td>\n",
       "      <td>0.688120</td>\n",
       "      <td>0.586926</td>\n",
       "      <td>0.622546</td>\n",
       "      <td>0.830594</td>\n",
       "      <td>0.668691</td>\n",
       "      <td>0.759765</td>\n",
       "      <td>0.620725</td>\n",
       "      <td>0.647237</td>\n",
       "      <td>0.528532</td>\n",
       "      <td>0.621129</td>\n",
       "      <td>0.647845</td>\n",
       "      <td>0.383323</td>\n",
       "      <td>0.383323</td>\n",
       "      <td>0.646005</td>\n",
       "      <td>0.445456</td>\n",
       "      <td>0.445456</td>\n",
       "      <td>0.172232</td>\n",
       "      <td>0.263307</td>\n",
       "      <td>0.229910</td>\n",
       "      <td>0.258854</td>\n",
       "      <td>0.379680</td>\n",
       "      <td>0.059705</td>\n",
       "      <td>0.201983</td>\n",
       "      <td>1.000000</td>\n",
       "      <td>0.201781</td>\n",
       "      <td>0.263914</td>\n",
       "      <td>0.065371</td>\n",
       "      <td>0.222627</td>\n",
       "      <td>0.359753</td>\n",
       "      <td>0.222627</td>\n",
       "      <td>0.390002</td>\n",
       "      <td>0.220401</td>\n",
       "      <td>0.252176</td>\n",
       "      <td>0.478043</td>\n",
       "      <td>0.252985</td>\n",
       "      <td>0.317749</td>\n",
       "      <td>0.203400</td>\n",
       "      <td>0.222627</td>\n",
       "      <td>0.117872</td>\n",
       "      <td>0.317749</td>\n",
       "      <td>0.440397</td>\n",
       "      <td>0.236592</td>\n",
       "      <td>0.422789</td>\n",
       "      <td>0.000000</td>\n",
       "      <td>0.363489</td>\n",
       "      <td>0.586926</td>\n",
       "      <td>0.363489</td>\n",
       "      <td>0.586926</td>\n",
       "      <td>0.127829</td>\n",
       "      <td>0.584092</td>\n",
       "      <td>0.696013</td>\n",
       "      <td>0.522364</td>\n",
       "      <td>0.629630</td>\n",
       "      <td>0.239829</td>\n",
       "      <td>2</td>\n",
       "    </tr>\n",
       "    <tr>\n",
       "      <th>1</th>\n",
       "      <td>0.198649</td>\n",
       "      <td>0.294912</td>\n",
       "      <td>0.169728</td>\n",
       "      <td>0.170783</td>\n",
       "      <td>0.098319</td>\n",
       "      <td>0.183872</td>\n",
       "      <td>0.185560</td>\n",
       "      <td>0.017522</td>\n",
       "      <td>0.054887</td>\n",
       "      <td>0.637433</td>\n",
       "      <td>0.052565</td>\n",
       "      <td>0.201393</td>\n",
       "      <td>0.000000</td>\n",
       "      <td>0.137007</td>\n",
       "      <td>0.731240</td>\n",
       "      <td>0.175005</td>\n",
       "      <td>0.215326</td>\n",
       "      <td>0.142284</td>\n",
       "      <td>0.215326</td>\n",
       "      <td>0.103228</td>\n",
       "      <td>0.191049</td>\n",
       "      <td>0.292379</td>\n",
       "      <td>0.191049</td>\n",
       "      <td>0.292379</td>\n",
       "      <td>0.287438</td>\n",
       "      <td>0.294279</td>\n",
       "      <td>0.396453</td>\n",
       "      <td>0.253325</td>\n",
       "      <td>0.393076</td>\n",
       "      <td>0.188395</td>\n",
       "      <td>0.393709</td>\n",
       "      <td>0.548871</td>\n",
       "      <td>0.386743</td>\n",
       "      <td>0.548871</td>\n",
       "      <td>0.255969</td>\n",
       "      <td>0.565759</td>\n",
       "      <td>0.565759</td>\n",
       "      <td>0.417142</td>\n",
       "      <td>0.443530</td>\n",
       "      <td>0.253487</td>\n",
       "      <td>0.443319</td>\n",
       "      <td>0.612202</td>\n",
       "      <td>0.347900</td>\n",
       "      <td>0.611991</td>\n",
       "      <td>0.920088</td>\n",
       "      <td>0.612202</td>\n",
       "      <td>0.717754</td>\n",
       "      <td>0.612202</td>\n",
       "      <td>0.649356</td>\n",
       "      <td>0.838491</td>\n",
       "      <td>0.697488</td>\n",
       "      <td>0.792485</td>\n",
       "      <td>0.647456</td>\n",
       "      <td>0.675111</td>\n",
       "      <td>0.550509</td>\n",
       "      <td>0.647878</td>\n",
       "      <td>0.675744</td>\n",
       "      <td>0.399831</td>\n",
       "      <td>0.399831</td>\n",
       "      <td>0.662506</td>\n",
       "      <td>0.464640</td>\n",
       "      <td>0.464640</td>\n",
       "      <td>0.179650</td>\n",
       "      <td>0.274646</td>\n",
       "      <td>0.265807</td>\n",
       "      <td>0.270002</td>\n",
       "      <td>0.396031</td>\n",
       "      <td>0.062276</td>\n",
       "      <td>0.210682</td>\n",
       "      <td>1.000000</td>\n",
       "      <td>0.210471</td>\n",
       "      <td>0.275280</td>\n",
       "      <td>0.068187</td>\n",
       "      <td>0.232214</td>\n",
       "      <td>0.389597</td>\n",
       "      <td>0.232214</td>\n",
       "      <td>0.406798</td>\n",
       "      <td>0.229892</td>\n",
       "      <td>0.263036</td>\n",
       "      <td>0.502373</td>\n",
       "      <td>0.263880</td>\n",
       "      <td>0.331433</td>\n",
       "      <td>0.212160</td>\n",
       "      <td>0.232214</td>\n",
       "      <td>0.158991</td>\n",
       "      <td>0.331433</td>\n",
       "      <td>0.459362</td>\n",
       "      <td>0.246781</td>\n",
       "      <td>0.440996</td>\n",
       "      <td>0.046614</td>\n",
       "      <td>0.379143</td>\n",
       "      <td>0.612202</td>\n",
       "      <td>0.379143</td>\n",
       "      <td>0.612202</td>\n",
       "      <td>0.168484</td>\n",
       "      <td>0.609246</td>\n",
       "      <td>0.725987</td>\n",
       "      <td>0.544860</td>\n",
       "      <td>0.656745</td>\n",
       "      <td>0.275264</td>\n",
       "      <td>0.703399</td>\n",
       "      <td>0.776441</td>\n",
       "      <td>0.565337</td>\n",
       "      <td>0.734220</td>\n",
       "      <td>0.618428</td>\n",
       "      <td>0.734642</td>\n",
       "      <td>1.000000</td>\n",
       "      <td>0.726198</td>\n",
       "      <td>0.859194</td>\n",
       "      <td>0.443621</td>\n",
       "      <td>0.823306</td>\n",
       "      <td>0.823728</td>\n",
       "      <td>0.501794</td>\n",
       "      <td>0.612202</td>\n",
       "      <td>0.797728</td>\n",
       "      <td>0.611146</td>\n",
       "      <td>0.755541</td>\n",
       "      <td>0.530082</td>\n",
       "      <td>0.713743</td>\n",
       "      <td>0.116363</td>\n",
       "      <td>0.708254</td>\n",
       "      <td>0.708254</td>\n",
       "      <td>0.530082</td>\n",
       "      <td>0.651467</td>\n",
       "      <td>0.063263</td>\n",
       "      <td>0.530293</td>\n",
       "      <td>0.740764</td>\n",
       "      <td>0.529449</td>\n",
       "      <td>0.733798</td>\n",
       "      <td>0.041306</td>\n",
       "      <td>0.687566</td>\n",
       "      <td>0.687777</td>\n",
       "      <td>0.612413</td>\n",
       "      <td>0.612413</td>\n",
       "      <td>0.000000</td>\n",
       "      <td>0.615157</td>\n",
       "      <td>0.670044</td>\n",
       "      <td>0.454085</td>\n",
       "      <td>0.568503</td>\n",
       "      <td>0.247437</td>\n",
       "      <td>0.567237</td>\n",
       "      <td>0.567237</td>\n",
       "      <td>0.385898</td>\n",
       "      <td>0.385898</td>\n",
       "      <td>0.159064</td>\n",
       "      <td>0.389909</td>\n",
       "      <td>0.401098</td>\n",
       "      <td>0.241081</td>\n",
       "      <td>0.269791</td>\n",
       "      <td>0.201312</td>\n",
       "      <td>10</td>\n",
       "    </tr>\n",
       "    <tr>\n",
       "      <th>2</th>\n",
       "      <td>0.684153</td>\n",
       "      <td>0.783337</td>\n",
       "      <td>0.631915</td>\n",
       "      <td>0.660789</td>\n",
       "      <td>0.550509</td>\n",
       "      <td>0.632356</td>\n",
       "      <td>0.661450</td>\n",
       "      <td>0.373374</td>\n",
       "      <td>0.373374</td>\n",
       "      <td>0.662506</td>\n",
       "      <td>0.441040</td>\n",
       "      <td>0.441040</td>\n",
       "      <td>0.143487</td>\n",
       "      <td>0.242671</td>\n",
       "      <td>0.265807</td>\n",
       "      <td>0.237822</td>\n",
       "      <td>0.369407</td>\n",
       "      <td>0.020939</td>\n",
       "      <td>0.175887</td>\n",
       "      <td>1.000000</td>\n",
       "      <td>0.175667</td>\n",
       "      <td>0.243333</td>\n",
       "      <td>0.027110</td>\n",
       "      <td>0.198369</td>\n",
       "      <td>0.389597</td>\n",
       "      <td>0.198369</td>\n",
       "      <td>0.380648</td>\n",
       "      <td>0.195944</td>\n",
       "      <td>0.230549</td>\n",
       "      <td>0.502373</td>\n",
       "      <td>0.231430</td>\n",
       "      <td>0.301962</td>\n",
       "      <td>0.177430</td>\n",
       "      <td>0.198369</td>\n",
       "      <td>0.158991</td>\n",
       "      <td>0.301962</td>\n",
       "      <td>0.435530</td>\n",
       "      <td>0.213577</td>\n",
       "      <td>0.416354</td>\n",
       "      <td>0.046614</td>\n",
       "      <td>0.351774</td>\n",
       "      <td>0.595107</td>\n",
       "      <td>0.351774</td>\n",
       "      <td>0.595107</td>\n",
       "      <td>0.168484</td>\n",
       "      <td>0.592021</td>\n",
       "      <td>0.713908</td>\n",
       "      <td>0.524796</td>\n",
       "      <td>0.641613</td>\n",
       "      <td>0.275264</td>\n",
       "      <td>0.690324</td>\n",
       "      <td>0.766586</td>\n",
       "      <td>0.546176</td>\n",
       "      <td>0.722504</td>\n",
       "      <td>0.618428</td>\n",
       "      <td>0.722945</td>\n",
       "      <td>1.000000</td>\n",
       "      <td>0.714128</td>\n",
       "      <td>0.852987</td>\n",
       "      <td>0.443621</td>\n",
       "      <td>0.815517</td>\n",
       "      <td>0.815958</td>\n",
       "      <td>0.479832</td>\n",
       "      <td>0.595107</td>\n",
       "      <td>0.797728</td>\n",
       "      <td>0.594005</td>\n",
       "      <td>0.744765</td>\n",
       "      <td>0.509367</td>\n",
       "      <td>0.701124</td>\n",
       "      <td>0.116363</td>\n",
       "      <td>0.695393</td>\n",
       "      <td>0.695393</td>\n",
       "      <td>0.509367</td>\n",
       "      <td>0.636103</td>\n",
       "      <td>0.063263</td>\n",
       "      <td>0.509588</td>\n",
       "      <td>0.729337</td>\n",
       "      <td>0.508706</td>\n",
       "      <td>0.722063</td>\n",
       "      <td>0.041306</td>\n",
       "      <td>0.673793</td>\n",
       "      <td>0.674014</td>\n",
       "      <td>0.595327</td>\n",
       "      <td>0.595327</td>\n",
       "      <td>0.000000</td>\n",
       "      <td>0.598193</td>\n",
       "      <td>0.655499</td>\n",
       "      <td>0.430020</td>\n",
       "      <td>0.549482</td>\n",
       "      <td>0.247437</td>\n",
       "      <td>0.548160</td>\n",
       "      <td>0.548160</td>\n",
       "      <td>0.358827</td>\n",
       "      <td>0.358827</td>\n",
       "      <td>0.159064</td>\n",
       "      <td>0.363015</td>\n",
       "      <td>0.374697</td>\n",
       "      <td>0.207626</td>\n",
       "      <td>0.237602</td>\n",
       "      <td>0.201312</td>\n",
       "      <td>0.238704</td>\n",
       "      <td>0.362134</td>\n",
       "      <td>0.237602</td>\n",
       "      <td>0.265594</td>\n",
       "      <td>0.044875</td>\n",
       "      <td>0.361032</td>\n",
       "      <td>0.482698</td>\n",
       "      <td>0.264492</td>\n",
       "      <td>0.380648</td>\n",
       "      <td>0.316533</td>\n",
       "      <td>0.410403</td>\n",
       "      <td>0.535155</td>\n",
       "      <td>0.410403</td>\n",
       "      <td>0.418779</td>\n",
       "      <td>0.314414</td>\n",
       "      <td>0.418779</td>\n",
       "      <td>0.506061</td>\n",
       "      <td>0.300860</td>\n",
       "      <td>0.506061</td>\n",
       "      <td>0.191800</td>\n",
       "      <td>0.439938</td>\n",
       "      <td>0.590919</td>\n",
       "      <td>0.395415</td>\n",
       "      <td>0.579237</td>\n",
       "      <td>0.093844</td>\n",
       "      <td>0.595107</td>\n",
       "      <td>0.685475</td>\n",
       "      <td>0.544413</td>\n",
       "      <td>0.638307</td>\n",
       "      <td>0.015961</td>\n",
       "      <td>0.638087</td>\n",
       "      <td>0.661230</td>\n",
       "      <td>0.567996</td>\n",
       "      <td>0.661009</td>\n",
       "      <td>0.045545</td>\n",
       "      <td>0.557196</td>\n",
       "      <td>0.651311</td>\n",
       "      <td>0.472779</td>\n",
       "      <td>0.474543</td>\n",
       "      <td>0.137505</td>\n",
       "      <td>0.480714</td>\n",
       "      <td>0.505400</td>\n",
       "      <td>0.149218</td>\n",
       "      <td>0.149218</td>\n",
       "      <td>0.407696</td>\n",
       "      <td>0.217985</td>\n",
       "      <td>0.250165</td>\n",
       "      <td>0.000000</td>\n",
       "      <td>0.154287</td>\n",
       "      <td>0.597793</td>\n",
       "      <td>12</td>\n",
       "    </tr>\n",
       "    <tr>\n",
       "      <th>3</th>\n",
       "      <td>0.704832</td>\n",
       "      <td>0.777521</td>\n",
       "      <td>0.567437</td>\n",
       "      <td>0.735504</td>\n",
       "      <td>0.775237</td>\n",
       "      <td>0.735924</td>\n",
       "      <td>1.000000</td>\n",
       "      <td>0.727521</td>\n",
       "      <td>0.859874</td>\n",
       "      <td>0.556106</td>\n",
       "      <td>0.824160</td>\n",
       "      <td>0.824580</td>\n",
       "      <td>0.504202</td>\n",
       "      <td>0.614076</td>\n",
       "      <td>1.000000</td>\n",
       "      <td>0.613025</td>\n",
       "      <td>0.756723</td>\n",
       "      <td>0.532353</td>\n",
       "      <td>0.715126</td>\n",
       "      <td>0.145868</td>\n",
       "      <td>0.709664</td>\n",
       "      <td>0.709664</td>\n",
       "      <td>0.532353</td>\n",
       "      <td>0.653151</td>\n",
       "      <td>0.079304</td>\n",
       "      <td>0.532563</td>\n",
       "      <td>0.742017</td>\n",
       "      <td>0.531723</td>\n",
       "      <td>0.735084</td>\n",
       "      <td>0.051779</td>\n",
       "      <td>0.689076</td>\n",
       "      <td>0.689286</td>\n",
       "      <td>0.614286</td>\n",
       "      <td>0.614286</td>\n",
       "      <td>0.000000</td>\n",
       "      <td>0.617017</td>\n",
       "      <td>0.671639</td>\n",
       "      <td>0.456723</td>\n",
       "      <td>0.570588</td>\n",
       "      <td>0.310176</td>\n",
       "      <td>0.569328</td>\n",
       "      <td>0.569328</td>\n",
       "      <td>0.388866</td>\n",
       "      <td>0.388866</td>\n",
       "      <td>0.199396</td>\n",
       "      <td>0.392857</td>\n",
       "      <td>0.403992</td>\n",
       "      <td>0.244748</td>\n",
       "      <td>0.273319</td>\n",
       "      <td>0.252356</td>\n",
       "      <td>0.274370</td>\n",
       "      <td>0.392017</td>\n",
       "      <td>0.273319</td>\n",
       "      <td>0.300000</td>\n",
       "      <td>0.056253</td>\n",
       "      <td>0.390966</td>\n",
       "      <td>0.506933</td>\n",
       "      <td>0.298950</td>\n",
       "      <td>0.409664</td>\n",
       "      <td>0.396793</td>\n",
       "      <td>0.438025</td>\n",
       "      <td>0.556933</td>\n",
       "      <td>0.438025</td>\n",
       "      <td>0.446008</td>\n",
       "      <td>0.394136</td>\n",
       "      <td>0.446008</td>\n",
       "      <td>0.529202</td>\n",
       "      <td>0.333613</td>\n",
       "      <td>0.529202</td>\n",
       "      <td>0.240433</td>\n",
       "      <td>0.466176</td>\n",
       "      <td>0.610084</td>\n",
       "      <td>0.423739</td>\n",
       "      <td>0.598950</td>\n",
       "      <td>0.117639</td>\n",
       "      <td>0.614076</td>\n",
       "      <td>0.700210</td>\n",
       "      <td>0.565756</td>\n",
       "      <td>0.655252</td>\n",
       "      <td>0.020008</td>\n",
       "      <td>0.655042</td>\n",
       "      <td>0.677101</td>\n",
       "      <td>0.588235</td>\n",
       "      <td>0.676891</td>\n",
       "      <td>0.057094</td>\n",
       "      <td>0.577941</td>\n",
       "      <td>0.667647</td>\n",
       "      <td>0.497479</td>\n",
       "      <td>0.499160</td>\n",
       "      <td>0.172371</td>\n",
       "      <td>0.505042</td>\n",
       "      <td>0.528571</td>\n",
       "      <td>0.189076</td>\n",
       "      <td>0.189076</td>\n",
       "      <td>0.511071</td>\n",
       "      <td>0.254622</td>\n",
       "      <td>0.285294</td>\n",
       "      <td>0.046849</td>\n",
       "      <td>0.193908</td>\n",
       "      <td>0.749370</td>\n",
       "      <td>0.191176</td>\n",
       "      <td>0.209454</td>\n",
       "      <td>0.110504</td>\n",
       "      <td>0.150210</td>\n",
       "      <td>0.308269</td>\n",
       "      <td>0.151891</td>\n",
       "      <td>0.280042</td>\n",
       "      <td>0.000000</td>\n",
       "      <td>0.137815</td>\n",
       "      <td>0.905957</td>\n",
       "      <td>0.137605</td>\n",
       "      <td>0.272059</td>\n",
       "      <td>0.080462</td>\n",
       "      <td>0.263866</td>\n",
       "      <td>0.586151</td>\n",
       "      <td>0.212185</td>\n",
       "      <td>0.382773</td>\n",
       "      <td>0.212185</td>\n",
       "      <td>0.377731</td>\n",
       "      <td>0.180637</td>\n",
       "      <td>0.330462</td>\n",
       "      <td>0.399790</td>\n",
       "      <td>0.330462</td>\n",
       "      <td>0.399790</td>\n",
       "      <td>0.028751</td>\n",
       "      <td>0.394538</td>\n",
       "      <td>0.468067</td>\n",
       "      <td>0.298950</td>\n",
       "      <td>0.460504</td>\n",
       "      <td>0.292917</td>\n",
       "      <td>0.457353</td>\n",
       "      <td>0.485084</td>\n",
       "      <td>0.271218</td>\n",
       "      <td>0.428782</td>\n",
       "      <td>0.111030</td>\n",
       "      <td>0.426471</td>\n",
       "      <td>0.509034</td>\n",
       "      <td>0.384664</td>\n",
       "      <td>0.463235</td>\n",
       "      <td>0.016828</td>\n",
       "      <td>0.454622</td>\n",
       "      <td>0.472479</td>\n",
       "      <td>0.333403</td>\n",
       "      <td>0.360504</td>\n",
       "      <td>0.351645</td>\n",
       "      <td>0.377521</td>\n",
       "      <td>0.386345</td>\n",
       "      <td>0.172899</td>\n",
       "      <td>0.172899</td>\n",
       "      <td>0.095860</td>\n",
       "      <td>2</td>\n",
       "    </tr>\n",
       "    <tr>\n",
       "      <th>4</th>\n",
       "      <td>0.521821</td>\n",
       "      <td>0.653928</td>\n",
       "      <td>0.520642</td>\n",
       "      <td>0.550602</td>\n",
       "      <td>0.030036</td>\n",
       "      <td>0.652748</td>\n",
       "      <td>0.782968</td>\n",
       "      <td>0.549422</td>\n",
       "      <td>0.673744</td>\n",
       "      <td>0.289479</td>\n",
       "      <td>0.705591</td>\n",
       "      <td>0.839113</td>\n",
       "      <td>0.705591</td>\n",
       "      <td>0.714555</td>\n",
       "      <td>0.287454</td>\n",
       "      <td>0.714555</td>\n",
       "      <td>0.807974</td>\n",
       "      <td>0.588346</td>\n",
       "      <td>0.807974</td>\n",
       "      <td>0.170355</td>\n",
       "      <td>0.737202</td>\n",
       "      <td>0.898797</td>\n",
       "      <td>0.689549</td>\n",
       "      <td>0.886294</td>\n",
       "      <td>0.076803</td>\n",
       "      <td>0.903279</td>\n",
       "      <td>1.000000</td>\n",
       "      <td>0.849021</td>\n",
       "      <td>0.949516</td>\n",
       "      <td>0.002422</td>\n",
       "      <td>0.949280</td>\n",
       "      <td>0.974050</td>\n",
       "      <td>0.874263</td>\n",
       "      <td>0.973815</td>\n",
       "      <td>0.030676</td>\n",
       "      <td>0.862703</td>\n",
       "      <td>0.963435</td>\n",
       "      <td>0.772352</td>\n",
       "      <td>0.774239</td>\n",
       "      <td>0.118501</td>\n",
       "      <td>0.780845</td>\n",
       "      <td>0.807266</td>\n",
       "      <td>0.426044</td>\n",
       "      <td>0.426044</td>\n",
       "      <td>0.376542</td>\n",
       "      <td>0.499646</td>\n",
       "      <td>0.534088</td>\n",
       "      <td>0.266336</td>\n",
       "      <td>0.431470</td>\n",
       "      <td>0.558091</td>\n",
       "      <td>0.428403</td>\n",
       "      <td>0.448927</td>\n",
       "      <td>0.337816</td>\n",
       "      <td>0.382402</td>\n",
       "      <td>0.222036</td>\n",
       "      <td>0.384289</td>\n",
       "      <td>0.528191</td>\n",
       "      <td>0.213730</td>\n",
       "      <td>0.368483</td>\n",
       "      <td>0.677388</td>\n",
       "      <td>0.368247</td>\n",
       "      <td>0.519226</td>\n",
       "      <td>0.304081</td>\n",
       "      <td>0.510026</td>\n",
       "      <td>0.433742</td>\n",
       "      <td>0.451993</td>\n",
       "      <td>0.643548</td>\n",
       "      <td>0.451993</td>\n",
       "      <td>0.637886</td>\n",
       "      <td>0.124799</td>\n",
       "      <td>0.584808</td>\n",
       "      <td>0.662656</td>\n",
       "      <td>0.584808</td>\n",
       "      <td>0.662656</td>\n",
       "      <td>0.009084</td>\n",
       "      <td>0.656759</td>\n",
       "      <td>0.739325</td>\n",
       "      <td>0.549422</td>\n",
       "      <td>0.730833</td>\n",
       "      <td>0.210340</td>\n",
       "      <td>0.727294</td>\n",
       "      <td>0.758434</td>\n",
       "      <td>0.518283</td>\n",
       "      <td>0.695211</td>\n",
       "      <td>0.071768</td>\n",
       "      <td>0.692616</td>\n",
       "      <td>0.785327</td>\n",
       "      <td>0.645671</td>\n",
       "      <td>0.733900</td>\n",
       "      <td>0.000000</td>\n",
       "      <td>0.724227</td>\n",
       "      <td>0.744279</td>\n",
       "      <td>0.588110</td>\n",
       "      <td>0.618542</td>\n",
       "      <td>0.255082</td>\n",
       "      <td>0.637650</td>\n",
       "      <td>0.647558</td>\n",
       "      <td>0.407879</td>\n",
       "      <td>0.407879</td>\n",
       "      <td>0.060211</td>\n",
       "      <td>0.408115</td>\n",
       "      <td>0.517103</td>\n",
       "      <td>0.350083</td>\n",
       "      <td>0.392310</td>\n",
       "      <td>0.167915</td>\n",
       "      <td>0.431470</td>\n",
       "      <td>0.507431</td>\n",
       "      <td>0.363057</td>\n",
       "      <td>0.471102</td>\n",
       "      <td>0.103137</td>\n",
       "      <td>0.471102</td>\n",
       "      <td>0.491625</td>\n",
       "      <td>0.364945</td>\n",
       "      <td>0.413777</td>\n",
       "      <td>0.124574</td>\n",
       "      <td>0.471338</td>\n",
       "      <td>0.557207</td>\n",
       "      <td>0.439726</td>\n",
       "      <td>0.473225</td>\n",
       "      <td>0.464419</td>\n",
       "      <td>0.478179</td>\n",
       "      <td>0.562161</td>\n",
       "      <td>0.478179</td>\n",
       "      <td>0.562161</td>\n",
       "      <td>0.155700</td>\n",
       "      <td>0.535032</td>\n",
       "      <td>0.690729</td>\n",
       "      <td>0.507195</td>\n",
       "      <td>0.622317</td>\n",
       "      <td>0.000744</td>\n",
       "      <td>0.667374</td>\n",
       "      <td>0.667374</td>\n",
       "      <td>0.525832</td>\n",
       "      <td>0.537863</td>\n",
       "      <td>0.014326</td>\n",
       "      <td>0.538570</td>\n",
       "      <td>0.538570</td>\n",
       "      <td>0.484312</td>\n",
       "      <td>0.484312</td>\n",
       "      <td>0.248179</td>\n",
       "      <td>0.393017</td>\n",
       "      <td>0.402689</td>\n",
       "      <td>0.213494</td>\n",
       "      <td>0.236377</td>\n",
       "      <td>0.838279</td>\n",
       "      <td>0.232838</td>\n",
       "      <td>0.236377</td>\n",
       "      <td>0.000000</td>\n",
       "      <td>0.138240</td>\n",
       "      <td>1.000000</td>\n",
       "      <td>16</td>\n",
       "    </tr>\n",
       "    <tr>\n",
       "      <th>...</th>\n",
       "      <td>...</td>\n",
       "      <td>...</td>\n",
       "      <td>...</td>\n",
       "      <td>...</td>\n",
       "      <td>...</td>\n",
       "      <td>...</td>\n",
       "      <td>...</td>\n",
       "      <td>...</td>\n",
       "      <td>...</td>\n",
       "      <td>...</td>\n",
       "      <td>...</td>\n",
       "      <td>...</td>\n",
       "      <td>...</td>\n",
       "      <td>...</td>\n",
       "      <td>...</td>\n",
       "      <td>...</td>\n",
       "      <td>...</td>\n",
       "      <td>...</td>\n",
       "      <td>...</td>\n",
       "      <td>...</td>\n",
       "      <td>...</td>\n",
       "      <td>...</td>\n",
       "      <td>...</td>\n",
       "      <td>...</td>\n",
       "      <td>...</td>\n",
       "      <td>...</td>\n",
       "      <td>...</td>\n",
       "      <td>...</td>\n",
       "      <td>...</td>\n",
       "      <td>...</td>\n",
       "      <td>...</td>\n",
       "      <td>...</td>\n",
       "      <td>...</td>\n",
       "      <td>...</td>\n",
       "      <td>...</td>\n",
       "      <td>...</td>\n",
       "      <td>...</td>\n",
       "      <td>...</td>\n",
       "      <td>...</td>\n",
       "      <td>...</td>\n",
       "      <td>...</td>\n",
       "      <td>...</td>\n",
       "      <td>...</td>\n",
       "      <td>...</td>\n",
       "      <td>...</td>\n",
       "      <td>...</td>\n",
       "      <td>...</td>\n",
       "      <td>...</td>\n",
       "      <td>...</td>\n",
       "      <td>...</td>\n",
       "      <td>...</td>\n",
       "      <td>...</td>\n",
       "      <td>...</td>\n",
       "      <td>...</td>\n",
       "      <td>...</td>\n",
       "      <td>...</td>\n",
       "      <td>...</td>\n",
       "      <td>...</td>\n",
       "      <td>...</td>\n",
       "      <td>...</td>\n",
       "      <td>...</td>\n",
       "      <td>...</td>\n",
       "      <td>...</td>\n",
       "      <td>...</td>\n",
       "      <td>...</td>\n",
       "      <td>...</td>\n",
       "      <td>...</td>\n",
       "      <td>...</td>\n",
       "      <td>...</td>\n",
       "      <td>...</td>\n",
       "      <td>...</td>\n",
       "      <td>...</td>\n",
       "      <td>...</td>\n",
       "      <td>...</td>\n",
       "      <td>...</td>\n",
       "      <td>...</td>\n",
       "      <td>...</td>\n",
       "      <td>...</td>\n",
       "      <td>...</td>\n",
       "      <td>...</td>\n",
       "      <td>...</td>\n",
       "      <td>...</td>\n",
       "      <td>...</td>\n",
       "      <td>...</td>\n",
       "      <td>...</td>\n",
       "      <td>...</td>\n",
       "      <td>...</td>\n",
       "      <td>...</td>\n",
       "      <td>...</td>\n",
       "      <td>...</td>\n",
       "      <td>...</td>\n",
       "      <td>...</td>\n",
       "      <td>...</td>\n",
       "      <td>...</td>\n",
       "      <td>...</td>\n",
       "      <td>...</td>\n",
       "      <td>...</td>\n",
       "      <td>...</td>\n",
       "      <td>...</td>\n",
       "      <td>...</td>\n",
       "      <td>...</td>\n",
       "      <td>...</td>\n",
       "      <td>...</td>\n",
       "      <td>...</td>\n",
       "      <td>...</td>\n",
       "      <td>...</td>\n",
       "      <td>...</td>\n",
       "      <td>...</td>\n",
       "      <td>...</td>\n",
       "      <td>...</td>\n",
       "      <td>...</td>\n",
       "      <td>...</td>\n",
       "      <td>...</td>\n",
       "      <td>...</td>\n",
       "      <td>...</td>\n",
       "      <td>...</td>\n",
       "      <td>...</td>\n",
       "      <td>...</td>\n",
       "      <td>...</td>\n",
       "      <td>...</td>\n",
       "      <td>...</td>\n",
       "      <td>...</td>\n",
       "      <td>...</td>\n",
       "      <td>...</td>\n",
       "      <td>...</td>\n",
       "      <td>...</td>\n",
       "      <td>...</td>\n",
       "      <td>...</td>\n",
       "      <td>...</td>\n",
       "      <td>...</td>\n",
       "      <td>...</td>\n",
       "      <td>...</td>\n",
       "      <td>...</td>\n",
       "      <td>...</td>\n",
       "      <td>...</td>\n",
       "      <td>...</td>\n",
       "      <td>...</td>\n",
       "      <td>...</td>\n",
       "      <td>...</td>\n",
       "      <td>...</td>\n",
       "      <td>...</td>\n",
       "      <td>...</td>\n",
       "      <td>...</td>\n",
       "      <td>...</td>\n",
       "      <td>...</td>\n",
       "      <td>...</td>\n",
       "      <td>...</td>\n",
       "      <td>...</td>\n",
       "      <td>...</td>\n",
       "      <td>...</td>\n",
       "      <td>...</td>\n",
       "    </tr>\n",
       "    <tr>\n",
       "      <th>158293</th>\n",
       "      <td>0.049414</td>\n",
       "      <td>0.051926</td>\n",
       "      <td>0.000000</td>\n",
       "      <td>0.036851</td>\n",
       "      <td>0.045873</td>\n",
       "      <td>0.036851</td>\n",
       "      <td>0.135678</td>\n",
       "      <td>0.036851</td>\n",
       "      <td>0.128978</td>\n",
       "      <td>0.042194</td>\n",
       "      <td>0.128978</td>\n",
       "      <td>0.180067</td>\n",
       "      <td>0.109296</td>\n",
       "      <td>0.174623</td>\n",
       "      <td>0.021568</td>\n",
       "      <td>0.174623</td>\n",
       "      <td>0.224874</td>\n",
       "      <td>0.152010</td>\n",
       "      <td>0.167085</td>\n",
       "      <td>0.044598</td>\n",
       "      <td>0.167085</td>\n",
       "      <td>0.196399</td>\n",
       "      <td>0.167085</td>\n",
       "      <td>0.176717</td>\n",
       "      <td>0.000000</td>\n",
       "      <td>0.176298</td>\n",
       "      <td>0.224874</td>\n",
       "      <td>0.175879</td>\n",
       "      <td>0.220268</td>\n",
       "      <td>0.040373</td>\n",
       "      <td>0.220268</td>\n",
       "      <td>0.220268</td>\n",
       "      <td>0.166667</td>\n",
       "      <td>0.167504</td>\n",
       "      <td>0.010967</td>\n",
       "      <td>0.167504</td>\n",
       "      <td>0.224874</td>\n",
       "      <td>0.126047</td>\n",
       "      <td>0.221106</td>\n",
       "      <td>0.013842</td>\n",
       "      <td>0.220687</td>\n",
       "      <td>0.303183</td>\n",
       "      <td>0.208543</td>\n",
       "      <td>0.276801</td>\n",
       "      <td>0.047904</td>\n",
       "      <td>0.276382</td>\n",
       "      <td>0.394891</td>\n",
       "      <td>0.276382</td>\n",
       "      <td>0.394472</td>\n",
       "      <td>0.092897</td>\n",
       "      <td>0.394472</td>\n",
       "      <td>0.394891</td>\n",
       "      <td>0.297320</td>\n",
       "      <td>0.324121</td>\n",
       "      <td>0.059944</td>\n",
       "      <td>0.324121</td>\n",
       "      <td>0.402429</td>\n",
       "      <td>0.317420</td>\n",
       "      <td>0.402429</td>\n",
       "      <td>0.044237</td>\n",
       "      <td>0.402010</td>\n",
       "      <td>0.455611</td>\n",
       "      <td>0.371859</td>\n",
       "      <td>0.407873</td>\n",
       "      <td>0.072828</td>\n",
       "      <td>0.407454</td>\n",
       "      <td>0.425879</td>\n",
       "      <td>0.306114</td>\n",
       "      <td>0.414992</td>\n",
       "      <td>0.070595</td>\n",
       "      <td>0.415410</td>\n",
       "      <td>0.445980</td>\n",
       "      <td>0.347990</td>\n",
       "      <td>0.380235</td>\n",
       "      <td>0.072346</td>\n",
       "      <td>0.380235</td>\n",
       "      <td>0.998325</td>\n",
       "      <td>0.365997</td>\n",
       "      <td>0.886516</td>\n",
       "      <td>1.000000</td>\n",
       "      <td>0.886516</td>\n",
       "      <td>1.000000</td>\n",
       "      <td>0.438861</td>\n",
       "      <td>0.549414</td>\n",
       "      <td>0.820704</td>\n",
       "      <td>0.549414</td>\n",
       "      <td>0.557370</td>\n",
       "      <td>0.445561</td>\n",
       "      <td>0.460637</td>\n",
       "      <td>0.105618</td>\n",
       "      <td>0.460637</td>\n",
       "      <td>0.637772</td>\n",
       "      <td>0.460637</td>\n",
       "      <td>0.580821</td>\n",
       "      <td>0.073860</td>\n",
       "      <td>0.580821</td>\n",
       "      <td>0.702261</td>\n",
       "      <td>0.580402</td>\n",
       "      <td>0.595896</td>\n",
       "      <td>0.108896</td>\n",
       "      <td>0.595896</td>\n",
       "      <td>0.644054</td>\n",
       "      <td>0.585427</td>\n",
       "      <td>0.585427</td>\n",
       "      <td>0.040612</td>\n",
       "      <td>0.585427</td>\n",
       "      <td>0.662898</td>\n",
       "      <td>0.576633</td>\n",
       "      <td>0.581240</td>\n",
       "      <td>0.070451</td>\n",
       "      <td>0.581658</td>\n",
       "      <td>0.739950</td>\n",
       "      <td>0.581240</td>\n",
       "      <td>0.714824</td>\n",
       "      <td>0.075644</td>\n",
       "      <td>0.714405</td>\n",
       "      <td>0.849246</td>\n",
       "      <td>0.698492</td>\n",
       "      <td>0.698492</td>\n",
       "      <td>0.155366</td>\n",
       "      <td>0.698492</td>\n",
       "      <td>0.706449</td>\n",
       "      <td>0.571608</td>\n",
       "      <td>0.606784</td>\n",
       "      <td>0.098660</td>\n",
       "      <td>0.607203</td>\n",
       "      <td>0.755863</td>\n",
       "      <td>0.606784</td>\n",
       "      <td>0.724456</td>\n",
       "      <td>0.053981</td>\n",
       "      <td>0.724456</td>\n",
       "      <td>0.747906</td>\n",
       "      <td>0.675461</td>\n",
       "      <td>0.736181</td>\n",
       "      <td>0.020776</td>\n",
       "      <td>0.736600</td>\n",
       "      <td>0.790620</td>\n",
       "      <td>0.719430</td>\n",
       "      <td>0.783920</td>\n",
       "      <td>0.091019</td>\n",
       "      <td>0.783501</td>\n",
       "      <td>0.837521</td>\n",
       "      <td>0.727806</td>\n",
       "      <td>0.728224</td>\n",
       "      <td>0.040171</td>\n",
       "      <td>0.727806</td>\n",
       "      <td>0.728224</td>\n",
       "      <td>0.646147</td>\n",
       "      <td>0.687186</td>\n",
       "      <td>0.034634</td>\n",
       "      <td>4</td>\n",
       "    </tr>\n",
       "    <tr>\n",
       "      <th>158294</th>\n",
       "      <td>0.086632</td>\n",
       "      <td>0.087005</td>\n",
       "      <td>0.000000</td>\n",
       "      <td>0.023898</td>\n",
       "      <td>0.057925</td>\n",
       "      <td>0.023898</td>\n",
       "      <td>0.093727</td>\n",
       "      <td>0.017924</td>\n",
       "      <td>0.093727</td>\n",
       "      <td>0.042969</td>\n",
       "      <td>0.093353</td>\n",
       "      <td>0.141150</td>\n",
       "      <td>0.066468</td>\n",
       "      <td>0.098581</td>\n",
       "      <td>0.070192</td>\n",
       "      <td>0.098208</td>\n",
       "      <td>0.114638</td>\n",
       "      <td>0.007842</td>\n",
       "      <td>0.104929</td>\n",
       "      <td>0.068066</td>\n",
       "      <td>0.105302</td>\n",
       "      <td>0.132562</td>\n",
       "      <td>0.045183</td>\n",
       "      <td>0.073936</td>\n",
       "      <td>0.069734</td>\n",
       "      <td>0.073936</td>\n",
       "      <td>0.625093</td>\n",
       "      <td>0.061240</td>\n",
       "      <td>0.525392</td>\n",
       "      <td>0.952994</td>\n",
       "      <td>0.525392</td>\n",
       "      <td>0.626587</td>\n",
       "      <td>0.126214</td>\n",
       "      <td>0.224795</td>\n",
       "      <td>0.782278</td>\n",
       "      <td>0.224795</td>\n",
       "      <td>0.231889</td>\n",
       "      <td>0.132188</td>\n",
       "      <td>0.145631</td>\n",
       "      <td>0.101413</td>\n",
       "      <td>0.145631</td>\n",
       "      <td>0.303585</td>\n",
       "      <td>0.145631</td>\n",
       "      <td>0.252801</td>\n",
       "      <td>0.071175</td>\n",
       "      <td>0.252801</td>\n",
       "      <td>0.361090</td>\n",
       "      <td>0.252427</td>\n",
       "      <td>0.266243</td>\n",
       "      <td>0.104534</td>\n",
       "      <td>0.266243</td>\n",
       "      <td>0.309186</td>\n",
       "      <td>0.256908</td>\n",
       "      <td>0.256908</td>\n",
       "      <td>0.039518</td>\n",
       "      <td>0.256908</td>\n",
       "      <td>0.325990</td>\n",
       "      <td>0.249066</td>\n",
       "      <td>0.253174</td>\n",
       "      <td>0.067929</td>\n",
       "      <td>0.253547</td>\n",
       "      <td>0.394698</td>\n",
       "      <td>0.253174</td>\n",
       "      <td>0.372293</td>\n",
       "      <td>0.072874</td>\n",
       "      <td>0.371919</td>\n",
       "      <td>0.492158</td>\n",
       "      <td>0.357730</td>\n",
       "      <td>0.357730</td>\n",
       "      <td>0.148781</td>\n",
       "      <td>0.357730</td>\n",
       "      <td>0.364824</td>\n",
       "      <td>0.244586</td>\n",
       "      <td>0.275952</td>\n",
       "      <td>0.094788</td>\n",
       "      <td>0.276326</td>\n",
       "      <td>0.408887</td>\n",
       "      <td>0.275952</td>\n",
       "      <td>0.380881</td>\n",
       "      <td>0.052247</td>\n",
       "      <td>0.380881</td>\n",
       "      <td>0.401792</td>\n",
       "      <td>0.337192</td>\n",
       "      <td>0.391337</td>\n",
       "      <td>0.020631</td>\n",
       "      <td>0.391710</td>\n",
       "      <td>0.439881</td>\n",
       "      <td>0.376400</td>\n",
       "      <td>0.433906</td>\n",
       "      <td>0.087513</td>\n",
       "      <td>0.433532</td>\n",
       "      <td>0.481703</td>\n",
       "      <td>0.383869</td>\n",
       "      <td>0.384242</td>\n",
       "      <td>0.039098</td>\n",
       "      <td>0.383869</td>\n",
       "      <td>0.384242</td>\n",
       "      <td>0.311053</td>\n",
       "      <td>0.347647</td>\n",
       "      <td>0.033826</td>\n",
       "      <td>0.347647</td>\n",
       "      <td>0.347647</td>\n",
       "      <td>0.261016</td>\n",
       "      <td>0.313294</td>\n",
       "      <td>0.060832</td>\n",
       "      <td>0.313667</td>\n",
       "      <td>0.410007</td>\n",
       "      <td>0.313294</td>\n",
       "      <td>0.359970</td>\n",
       "      <td>0.042950</td>\n",
       "      <td>0.359597</td>\n",
       "      <td>0.408514</td>\n",
       "      <td>0.308813</td>\n",
       "      <td>0.344287</td>\n",
       "      <td>0.040042</td>\n",
       "      <td>0.344660</td>\n",
       "      <td>0.423077</td>\n",
       "      <td>0.344660</td>\n",
       "      <td>0.377147</td>\n",
       "      <td>0.043890</td>\n",
       "      <td>0.377521</td>\n",
       "      <td>0.398805</td>\n",
       "      <td>0.377147</td>\n",
       "      <td>0.388350</td>\n",
       "      <td>0.000000</td>\n",
       "      <td>0.388350</td>\n",
       "      <td>1.000000</td>\n",
       "      <td>0.388350</td>\n",
       "      <td>0.752054</td>\n",
       "      <td>1.000000</td>\n",
       "      <td>0.752054</td>\n",
       "      <td>0.752427</td>\n",
       "      <td>0.569455</td>\n",
       "      <td>0.622106</td>\n",
       "      <td>0.278463</td>\n",
       "      <td>0.622479</td>\n",
       "      <td>0.687080</td>\n",
       "      <td>0.441374</td>\n",
       "      <td>0.494772</td>\n",
       "      <td>0.269136</td>\n",
       "      <td>0.494772</td>\n",
       "      <td>0.533607</td>\n",
       "      <td>0.426064</td>\n",
       "      <td>0.443241</td>\n",
       "      <td>0.066526</td>\n",
       "      <td>0.443241</td>\n",
       "      <td>0.552651</td>\n",
       "      <td>0.428678</td>\n",
       "      <td>0.483196</td>\n",
       "      <td>0.061610</td>\n",
       "      <td>9</td>\n",
       "    </tr>\n",
       "    <tr>\n",
       "      <th>158295</th>\n",
       "      <td>0.086632</td>\n",
       "      <td>0.087005</td>\n",
       "      <td>0.000000</td>\n",
       "      <td>0.023898</td>\n",
       "      <td>0.057925</td>\n",
       "      <td>0.023898</td>\n",
       "      <td>0.093727</td>\n",
       "      <td>0.017924</td>\n",
       "      <td>0.093727</td>\n",
       "      <td>0.042969</td>\n",
       "      <td>0.093353</td>\n",
       "      <td>0.141150</td>\n",
       "      <td>0.066468</td>\n",
       "      <td>0.098581</td>\n",
       "      <td>0.070192</td>\n",
       "      <td>0.098208</td>\n",
       "      <td>0.114638</td>\n",
       "      <td>0.007842</td>\n",
       "      <td>0.104929</td>\n",
       "      <td>0.068066</td>\n",
       "      <td>0.105302</td>\n",
       "      <td>0.132562</td>\n",
       "      <td>0.045183</td>\n",
       "      <td>0.073936</td>\n",
       "      <td>0.069734</td>\n",
       "      <td>0.073936</td>\n",
       "      <td>0.625093</td>\n",
       "      <td>0.061240</td>\n",
       "      <td>0.525392</td>\n",
       "      <td>0.952994</td>\n",
       "      <td>0.525392</td>\n",
       "      <td>0.626587</td>\n",
       "      <td>0.126214</td>\n",
       "      <td>0.224795</td>\n",
       "      <td>0.782278</td>\n",
       "      <td>0.224795</td>\n",
       "      <td>0.231889</td>\n",
       "      <td>0.132188</td>\n",
       "      <td>0.145631</td>\n",
       "      <td>0.101413</td>\n",
       "      <td>0.145631</td>\n",
       "      <td>0.303585</td>\n",
       "      <td>0.145631</td>\n",
       "      <td>0.252801</td>\n",
       "      <td>0.071175</td>\n",
       "      <td>0.252801</td>\n",
       "      <td>0.361090</td>\n",
       "      <td>0.252427</td>\n",
       "      <td>0.266243</td>\n",
       "      <td>0.104534</td>\n",
       "      <td>0.266243</td>\n",
       "      <td>0.309186</td>\n",
       "      <td>0.256908</td>\n",
       "      <td>0.256908</td>\n",
       "      <td>0.039518</td>\n",
       "      <td>0.256908</td>\n",
       "      <td>0.325990</td>\n",
       "      <td>0.249066</td>\n",
       "      <td>0.253174</td>\n",
       "      <td>0.067929</td>\n",
       "      <td>0.253547</td>\n",
       "      <td>0.394698</td>\n",
       "      <td>0.253174</td>\n",
       "      <td>0.372293</td>\n",
       "      <td>0.072874</td>\n",
       "      <td>0.371919</td>\n",
       "      <td>0.492158</td>\n",
       "      <td>0.357730</td>\n",
       "      <td>0.357730</td>\n",
       "      <td>0.148781</td>\n",
       "      <td>0.357730</td>\n",
       "      <td>0.364824</td>\n",
       "      <td>0.244586</td>\n",
       "      <td>0.275952</td>\n",
       "      <td>0.094788</td>\n",
       "      <td>0.276326</td>\n",
       "      <td>0.408887</td>\n",
       "      <td>0.275952</td>\n",
       "      <td>0.380881</td>\n",
       "      <td>0.052247</td>\n",
       "      <td>0.380881</td>\n",
       "      <td>0.401792</td>\n",
       "      <td>0.337192</td>\n",
       "      <td>0.391337</td>\n",
       "      <td>0.020631</td>\n",
       "      <td>0.391710</td>\n",
       "      <td>0.439881</td>\n",
       "      <td>0.376400</td>\n",
       "      <td>0.433906</td>\n",
       "      <td>0.087513</td>\n",
       "      <td>0.433532</td>\n",
       "      <td>0.481703</td>\n",
       "      <td>0.383869</td>\n",
       "      <td>0.384242</td>\n",
       "      <td>0.039098</td>\n",
       "      <td>0.383869</td>\n",
       "      <td>0.384242</td>\n",
       "      <td>0.311053</td>\n",
       "      <td>0.347647</td>\n",
       "      <td>0.033826</td>\n",
       "      <td>0.347647</td>\n",
       "      <td>0.347647</td>\n",
       "      <td>0.261016</td>\n",
       "      <td>0.313294</td>\n",
       "      <td>0.060832</td>\n",
       "      <td>0.313667</td>\n",
       "      <td>0.410007</td>\n",
       "      <td>0.313294</td>\n",
       "      <td>0.359970</td>\n",
       "      <td>0.042950</td>\n",
       "      <td>0.359597</td>\n",
       "      <td>0.408514</td>\n",
       "      <td>0.308813</td>\n",
       "      <td>0.344287</td>\n",
       "      <td>0.040042</td>\n",
       "      <td>0.344660</td>\n",
       "      <td>0.423077</td>\n",
       "      <td>0.344660</td>\n",
       "      <td>0.377147</td>\n",
       "      <td>0.043890</td>\n",
       "      <td>0.377521</td>\n",
       "      <td>0.398805</td>\n",
       "      <td>0.377147</td>\n",
       "      <td>0.388350</td>\n",
       "      <td>0.000000</td>\n",
       "      <td>0.388350</td>\n",
       "      <td>1.000000</td>\n",
       "      <td>0.388350</td>\n",
       "      <td>0.752054</td>\n",
       "      <td>1.000000</td>\n",
       "      <td>0.752054</td>\n",
       "      <td>0.752427</td>\n",
       "      <td>0.569455</td>\n",
       "      <td>0.622106</td>\n",
       "      <td>0.278463</td>\n",
       "      <td>0.622479</td>\n",
       "      <td>0.687080</td>\n",
       "      <td>0.441374</td>\n",
       "      <td>0.494772</td>\n",
       "      <td>0.269136</td>\n",
       "      <td>0.494772</td>\n",
       "      <td>0.533607</td>\n",
       "      <td>0.426064</td>\n",
       "      <td>0.443241</td>\n",
       "      <td>0.066526</td>\n",
       "      <td>0.443241</td>\n",
       "      <td>0.552651</td>\n",
       "      <td>0.428678</td>\n",
       "      <td>0.483196</td>\n",
       "      <td>0.061610</td>\n",
       "      <td>9</td>\n",
       "    </tr>\n",
       "    <tr>\n",
       "      <th>158296</th>\n",
       "      <td>0.086632</td>\n",
       "      <td>0.087005</td>\n",
       "      <td>0.000000</td>\n",
       "      <td>0.023898</td>\n",
       "      <td>0.057925</td>\n",
       "      <td>0.023898</td>\n",
       "      <td>0.093727</td>\n",
       "      <td>0.017924</td>\n",
       "      <td>0.093727</td>\n",
       "      <td>0.042969</td>\n",
       "      <td>0.093353</td>\n",
       "      <td>0.141150</td>\n",
       "      <td>0.066468</td>\n",
       "      <td>0.098581</td>\n",
       "      <td>0.070192</td>\n",
       "      <td>0.098208</td>\n",
       "      <td>0.114638</td>\n",
       "      <td>0.007842</td>\n",
       "      <td>0.104929</td>\n",
       "      <td>0.068066</td>\n",
       "      <td>0.105302</td>\n",
       "      <td>0.132562</td>\n",
       "      <td>0.045183</td>\n",
       "      <td>0.073936</td>\n",
       "      <td>0.069734</td>\n",
       "      <td>0.073936</td>\n",
       "      <td>0.625093</td>\n",
       "      <td>0.061240</td>\n",
       "      <td>0.525392</td>\n",
       "      <td>0.952994</td>\n",
       "      <td>0.525392</td>\n",
       "      <td>0.626587</td>\n",
       "      <td>0.126214</td>\n",
       "      <td>0.224795</td>\n",
       "      <td>0.782278</td>\n",
       "      <td>0.224795</td>\n",
       "      <td>0.231889</td>\n",
       "      <td>0.132188</td>\n",
       "      <td>0.145631</td>\n",
       "      <td>0.101413</td>\n",
       "      <td>0.145631</td>\n",
       "      <td>0.303585</td>\n",
       "      <td>0.145631</td>\n",
       "      <td>0.252801</td>\n",
       "      <td>0.071175</td>\n",
       "      <td>0.252801</td>\n",
       "      <td>0.361090</td>\n",
       "      <td>0.252427</td>\n",
       "      <td>0.266243</td>\n",
       "      <td>0.104534</td>\n",
       "      <td>0.266243</td>\n",
       "      <td>0.309186</td>\n",
       "      <td>0.256908</td>\n",
       "      <td>0.256908</td>\n",
       "      <td>0.039518</td>\n",
       "      <td>0.256908</td>\n",
       "      <td>0.325990</td>\n",
       "      <td>0.249066</td>\n",
       "      <td>0.253174</td>\n",
       "      <td>0.067929</td>\n",
       "      <td>0.253547</td>\n",
       "      <td>0.394698</td>\n",
       "      <td>0.253174</td>\n",
       "      <td>0.372293</td>\n",
       "      <td>0.072874</td>\n",
       "      <td>0.371919</td>\n",
       "      <td>0.492158</td>\n",
       "      <td>0.357730</td>\n",
       "      <td>0.357730</td>\n",
       "      <td>0.148781</td>\n",
       "      <td>0.357730</td>\n",
       "      <td>0.364824</td>\n",
       "      <td>0.244586</td>\n",
       "      <td>0.275952</td>\n",
       "      <td>0.094788</td>\n",
       "      <td>0.276326</td>\n",
       "      <td>0.408887</td>\n",
       "      <td>0.275952</td>\n",
       "      <td>0.380881</td>\n",
       "      <td>0.052247</td>\n",
       "      <td>0.380881</td>\n",
       "      <td>0.401792</td>\n",
       "      <td>0.337192</td>\n",
       "      <td>0.391337</td>\n",
       "      <td>0.020631</td>\n",
       "      <td>0.391710</td>\n",
       "      <td>0.439881</td>\n",
       "      <td>0.376400</td>\n",
       "      <td>0.433906</td>\n",
       "      <td>0.087513</td>\n",
       "      <td>0.433532</td>\n",
       "      <td>0.481703</td>\n",
       "      <td>0.383869</td>\n",
       "      <td>0.384242</td>\n",
       "      <td>0.039098</td>\n",
       "      <td>0.383869</td>\n",
       "      <td>0.384242</td>\n",
       "      <td>0.311053</td>\n",
       "      <td>0.347647</td>\n",
       "      <td>0.033826</td>\n",
       "      <td>0.347647</td>\n",
       "      <td>0.347647</td>\n",
       "      <td>0.261016</td>\n",
       "      <td>0.313294</td>\n",
       "      <td>0.060832</td>\n",
       "      <td>0.313667</td>\n",
       "      <td>0.410007</td>\n",
       "      <td>0.313294</td>\n",
       "      <td>0.359970</td>\n",
       "      <td>0.042950</td>\n",
       "      <td>0.359597</td>\n",
       "      <td>0.408514</td>\n",
       "      <td>0.308813</td>\n",
       "      <td>0.344287</td>\n",
       "      <td>0.040042</td>\n",
       "      <td>0.344660</td>\n",
       "      <td>0.423077</td>\n",
       "      <td>0.344660</td>\n",
       "      <td>0.377147</td>\n",
       "      <td>0.043890</td>\n",
       "      <td>0.377521</td>\n",
       "      <td>0.398805</td>\n",
       "      <td>0.377147</td>\n",
       "      <td>0.388350</td>\n",
       "      <td>0.000000</td>\n",
       "      <td>0.388350</td>\n",
       "      <td>1.000000</td>\n",
       "      <td>0.388350</td>\n",
       "      <td>0.752054</td>\n",
       "      <td>1.000000</td>\n",
       "      <td>0.752054</td>\n",
       "      <td>0.752427</td>\n",
       "      <td>0.569455</td>\n",
       "      <td>0.622106</td>\n",
       "      <td>0.278463</td>\n",
       "      <td>0.622479</td>\n",
       "      <td>0.687080</td>\n",
       "      <td>0.441374</td>\n",
       "      <td>0.494772</td>\n",
       "      <td>0.269136</td>\n",
       "      <td>0.494772</td>\n",
       "      <td>0.533607</td>\n",
       "      <td>0.426064</td>\n",
       "      <td>0.443241</td>\n",
       "      <td>0.066526</td>\n",
       "      <td>0.443241</td>\n",
       "      <td>0.552651</td>\n",
       "      <td>0.428678</td>\n",
       "      <td>0.483196</td>\n",
       "      <td>0.061610</td>\n",
       "      <td>9</td>\n",
       "    </tr>\n",
       "    <tr>\n",
       "      <th>158297</th>\n",
       "      <td>0.086632</td>\n",
       "      <td>0.087005</td>\n",
       "      <td>0.000000</td>\n",
       "      <td>0.023898</td>\n",
       "      <td>0.057925</td>\n",
       "      <td>0.023898</td>\n",
       "      <td>0.093727</td>\n",
       "      <td>0.017924</td>\n",
       "      <td>0.093727</td>\n",
       "      <td>0.042969</td>\n",
       "      <td>0.093353</td>\n",
       "      <td>0.141150</td>\n",
       "      <td>0.066468</td>\n",
       "      <td>0.098581</td>\n",
       "      <td>0.070192</td>\n",
       "      <td>0.098208</td>\n",
       "      <td>0.114638</td>\n",
       "      <td>0.007842</td>\n",
       "      <td>0.104929</td>\n",
       "      <td>0.068066</td>\n",
       "      <td>0.105302</td>\n",
       "      <td>0.132562</td>\n",
       "      <td>0.045183</td>\n",
       "      <td>0.073936</td>\n",
       "      <td>0.069734</td>\n",
       "      <td>0.073936</td>\n",
       "      <td>0.625093</td>\n",
       "      <td>0.061240</td>\n",
       "      <td>0.525392</td>\n",
       "      <td>0.952994</td>\n",
       "      <td>0.525392</td>\n",
       "      <td>0.626587</td>\n",
       "      <td>0.126214</td>\n",
       "      <td>0.224795</td>\n",
       "      <td>0.782278</td>\n",
       "      <td>0.224795</td>\n",
       "      <td>0.231889</td>\n",
       "      <td>0.132188</td>\n",
       "      <td>0.145631</td>\n",
       "      <td>0.101413</td>\n",
       "      <td>0.145631</td>\n",
       "      <td>0.303585</td>\n",
       "      <td>0.145631</td>\n",
       "      <td>0.252801</td>\n",
       "      <td>0.071175</td>\n",
       "      <td>0.252801</td>\n",
       "      <td>0.361090</td>\n",
       "      <td>0.252427</td>\n",
       "      <td>0.266243</td>\n",
       "      <td>0.104534</td>\n",
       "      <td>0.266243</td>\n",
       "      <td>0.309186</td>\n",
       "      <td>0.256908</td>\n",
       "      <td>0.256908</td>\n",
       "      <td>0.039518</td>\n",
       "      <td>0.256908</td>\n",
       "      <td>0.325990</td>\n",
       "      <td>0.249066</td>\n",
       "      <td>0.253174</td>\n",
       "      <td>0.067929</td>\n",
       "      <td>0.253547</td>\n",
       "      <td>0.394698</td>\n",
       "      <td>0.253174</td>\n",
       "      <td>0.372293</td>\n",
       "      <td>0.072874</td>\n",
       "      <td>0.371919</td>\n",
       "      <td>0.492158</td>\n",
       "      <td>0.357730</td>\n",
       "      <td>0.357730</td>\n",
       "      <td>0.148781</td>\n",
       "      <td>0.357730</td>\n",
       "      <td>0.364824</td>\n",
       "      <td>0.244586</td>\n",
       "      <td>0.275952</td>\n",
       "      <td>0.094788</td>\n",
       "      <td>0.276326</td>\n",
       "      <td>0.408887</td>\n",
       "      <td>0.275952</td>\n",
       "      <td>0.380881</td>\n",
       "      <td>0.052247</td>\n",
       "      <td>0.380881</td>\n",
       "      <td>0.401792</td>\n",
       "      <td>0.337192</td>\n",
       "      <td>0.391337</td>\n",
       "      <td>0.020631</td>\n",
       "      <td>0.391710</td>\n",
       "      <td>0.439881</td>\n",
       "      <td>0.376400</td>\n",
       "      <td>0.433906</td>\n",
       "      <td>0.087513</td>\n",
       "      <td>0.433532</td>\n",
       "      <td>0.481703</td>\n",
       "      <td>0.383869</td>\n",
       "      <td>0.384242</td>\n",
       "      <td>0.039098</td>\n",
       "      <td>0.383869</td>\n",
       "      <td>0.384242</td>\n",
       "      <td>0.311053</td>\n",
       "      <td>0.347647</td>\n",
       "      <td>0.033826</td>\n",
       "      <td>0.347647</td>\n",
       "      <td>0.347647</td>\n",
       "      <td>0.261016</td>\n",
       "      <td>0.313294</td>\n",
       "      <td>0.060832</td>\n",
       "      <td>0.313667</td>\n",
       "      <td>0.410007</td>\n",
       "      <td>0.313294</td>\n",
       "      <td>0.359970</td>\n",
       "      <td>0.042950</td>\n",
       "      <td>0.359597</td>\n",
       "      <td>0.408514</td>\n",
       "      <td>0.308813</td>\n",
       "      <td>0.344287</td>\n",
       "      <td>0.040042</td>\n",
       "      <td>0.344660</td>\n",
       "      <td>0.423077</td>\n",
       "      <td>0.344660</td>\n",
       "      <td>0.377147</td>\n",
       "      <td>0.043890</td>\n",
       "      <td>0.377521</td>\n",
       "      <td>0.398805</td>\n",
       "      <td>0.377147</td>\n",
       "      <td>0.388350</td>\n",
       "      <td>0.000000</td>\n",
       "      <td>0.388350</td>\n",
       "      <td>1.000000</td>\n",
       "      <td>0.388350</td>\n",
       "      <td>0.752054</td>\n",
       "      <td>1.000000</td>\n",
       "      <td>0.752054</td>\n",
       "      <td>0.752427</td>\n",
       "      <td>0.569455</td>\n",
       "      <td>0.622106</td>\n",
       "      <td>0.278463</td>\n",
       "      <td>0.622479</td>\n",
       "      <td>0.687080</td>\n",
       "      <td>0.441374</td>\n",
       "      <td>0.494772</td>\n",
       "      <td>0.269136</td>\n",
       "      <td>0.494772</td>\n",
       "      <td>0.533607</td>\n",
       "      <td>0.426064</td>\n",
       "      <td>0.443241</td>\n",
       "      <td>0.066526</td>\n",
       "      <td>0.443241</td>\n",
       "      <td>0.552651</td>\n",
       "      <td>0.428678</td>\n",
       "      <td>0.483196</td>\n",
       "      <td>0.061610</td>\n",
       "      <td>9</td>\n",
       "    </tr>\n",
       "  </tbody>\n",
       "</table>\n",
       "<p>158298 rows × 151 columns</p>\n",
       "</div>"
      ],
      "text/plain": [
       "               0         1         2         3         4         5         6  \\\n",
       "0       0.884841  0.909735  0.865209  0.888079  0.208722  0.885246  1.000000   \n",
       "1       0.198649  0.294912  0.169728  0.170783  0.098319  0.183872  0.185560   \n",
       "2       0.684153  0.783337  0.631915  0.660789  0.550509  0.632356  0.661450   \n",
       "3       0.704832  0.777521  0.567437  0.735504  0.775237  0.735924  1.000000   \n",
       "4       0.521821  0.653928  0.520642  0.550602  0.030036  0.652748  0.782968   \n",
       "...          ...       ...       ...       ...       ...       ...       ...   \n",
       "158293  0.049414  0.051926  0.000000  0.036851  0.045873  0.036851  0.135678   \n",
       "158294  0.086632  0.087005  0.000000  0.023898  0.057925  0.023898  0.093727   \n",
       "158295  0.086632  0.087005  0.000000  0.023898  0.057925  0.023898  0.093727   \n",
       "158296  0.086632  0.087005  0.000000  0.023898  0.057925  0.023898  0.093727   \n",
       "158297  0.086632  0.087005  0.000000  0.023898  0.057925  0.023898  0.093727   \n",
       "\n",
       "               7         8         9        10        11        12        13  \\\n",
       "0       0.883020  0.910949  0.290546  0.909937  0.911354  0.751265  0.751265   \n",
       "1       0.017522  0.054887  0.637433  0.052565  0.201393  0.000000  0.137007   \n",
       "2       0.373374  0.373374  0.662506  0.441040  0.441040  0.143487  0.242671   \n",
       "3       0.727521  0.859874  0.556106  0.824160  0.824580  0.504202  0.614076   \n",
       "4       0.549422  0.673744  0.289479  0.705591  0.839113  0.705591  0.714555   \n",
       "...          ...       ...       ...       ...       ...       ...       ...   \n",
       "158293  0.036851  0.128978  0.042194  0.128978  0.180067  0.109296  0.174623   \n",
       "158294  0.017924  0.093727  0.042969  0.093353  0.141150  0.066468  0.098581   \n",
       "158295  0.017924  0.093727  0.042969  0.093353  0.141150  0.066468  0.098581   \n",
       "158296  0.017924  0.093727  0.042969  0.093353  0.141150  0.066468  0.098581   \n",
       "158297  0.017924  0.093727  0.042969  0.093353  0.141150  0.066468  0.098581   \n",
       "\n",
       "              14        15        16        17        18        19        20  \\\n",
       "0       0.226090  0.770694  0.770694  0.596843  0.645618  0.270613  0.658166   \n",
       "1       0.731240  0.175005  0.215326  0.142284  0.215326  0.103228  0.191049   \n",
       "2       0.265807  0.237822  0.369407  0.020939  0.175887  1.000000  0.175667   \n",
       "3       1.000000  0.613025  0.756723  0.532353  0.715126  0.145868  0.709664   \n",
       "4       0.287454  0.714555  0.807974  0.588346  0.807974  0.170355  0.737202   \n",
       "...          ...       ...       ...       ...       ...       ...       ...   \n",
       "158293  0.021568  0.174623  0.224874  0.152010  0.167085  0.044598  0.167085   \n",
       "158294  0.070192  0.098208  0.114638  0.007842  0.104929  0.068066  0.105302   \n",
       "158295  0.070192  0.098208  0.114638  0.007842  0.104929  0.068066  0.105302   \n",
       "158296  0.070192  0.098208  0.114638  0.007842  0.104929  0.068066  0.105302   \n",
       "158297  0.070192  0.098208  0.114638  0.007842  0.104929  0.068066  0.105302   \n",
       "\n",
       "              21        22        23        24        25        26        27  \\\n",
       "0       0.658166  0.459016  0.459016  0.231354  0.454564  0.471362  0.269379   \n",
       "1       0.292379  0.191049  0.292379  0.287438  0.294279  0.396453  0.253325   \n",
       "2       0.243333  0.027110  0.198369  0.389597  0.198369  0.380648  0.195944   \n",
       "3       0.709664  0.532353  0.653151  0.079304  0.532563  0.742017  0.531723   \n",
       "4       0.898797  0.689549  0.886294  0.076803  0.903279  1.000000  0.849021   \n",
       "...          ...       ...       ...       ...       ...       ...       ...   \n",
       "158293  0.196399  0.167085  0.176717  0.000000  0.176298  0.224874  0.175879   \n",
       "158294  0.132562  0.045183  0.073936  0.069734  0.073936  0.625093  0.061240   \n",
       "158295  0.132562  0.045183  0.073936  0.069734  0.073936  0.625093  0.061240   \n",
       "158296  0.132562  0.045183  0.073936  0.069734  0.073936  0.625093  0.061240   \n",
       "158297  0.132562  0.045183  0.073936  0.069734  0.073936  0.625093  0.061240   \n",
       "\n",
       "              28        29        30        31        32        33        34  \\\n",
       "0       0.294880  0.734727  0.309856  0.380692  0.304392  0.318559  0.834280   \n",
       "1       0.393076  0.188395  0.393709  0.548871  0.386743  0.548871  0.255969   \n",
       "2       0.230549  0.502373  0.231430  0.301962  0.177430  0.198369  0.158991   \n",
       "3       0.735084  0.051779  0.689076  0.689286  0.614286  0.614286  0.000000   \n",
       "4       0.949516  0.002422  0.949280  0.974050  0.874263  0.973815  0.030676   \n",
       "...          ...       ...       ...       ...       ...       ...       ...   \n",
       "158293  0.220268  0.040373  0.220268  0.220268  0.166667  0.167504  0.010967   \n",
       "158294  0.525392  0.952994  0.525392  0.626587  0.126214  0.224795  0.782278   \n",
       "158295  0.525392  0.952994  0.525392  0.626587  0.126214  0.224795  0.782278   \n",
       "158296  0.525392  0.952994  0.525392  0.626587  0.126214  0.224795  0.782278   \n",
       "158297  0.525392  0.952994  0.525392  0.626587  0.126214  0.224795  0.782278   \n",
       "\n",
       "              35        36        37        38        39        40        41  \\\n",
       "0       0.326452  0.384538  0.326250  0.364096  0.180846  0.362477  0.416920   \n",
       "1       0.565759  0.565759  0.417142  0.443530  0.253487  0.443319  0.612202   \n",
       "2       0.301962  0.435530  0.213577  0.416354  0.046614  0.351774  0.595107   \n",
       "3       0.617017  0.671639  0.456723  0.570588  0.310176  0.569328  0.569328   \n",
       "4       0.862703  0.963435  0.772352  0.774239  0.118501  0.780845  0.807266   \n",
       "...          ...       ...       ...       ...       ...       ...       ...   \n",
       "158293  0.167504  0.224874  0.126047  0.221106  0.013842  0.220687  0.303183   \n",
       "158294  0.224795  0.231889  0.132188  0.145631  0.101413  0.145631  0.303585   \n",
       "158295  0.224795  0.231889  0.132188  0.145631  0.101413  0.145631  0.303585   \n",
       "158296  0.224795  0.231889  0.132188  0.145631  0.101413  0.145631  0.303585   \n",
       "158297  0.224795  0.231889  0.132188  0.145631  0.101413  0.145631  0.303585   \n",
       "\n",
       "              42        43        44        45        46        47        48  \\\n",
       "0       0.221615  0.280105  0.309454  0.271807  0.271807  0.158672  0.186400   \n",
       "1       0.347900  0.611991  0.920088  0.612202  0.717754  0.612202  0.649356   \n",
       "2       0.351774  0.595107  0.168484  0.592021  0.713908  0.524796  0.641613   \n",
       "3       0.388866  0.388866  0.199396  0.392857  0.403992  0.244748  0.273319   \n",
       "4       0.426044  0.426044  0.376542  0.499646  0.534088  0.266336  0.431470   \n",
       "...          ...       ...       ...       ...       ...       ...       ...   \n",
       "158293  0.208543  0.276801  0.047904  0.276382  0.394891  0.276382  0.394472   \n",
       "158294  0.145631  0.252801  0.071175  0.252801  0.361090  0.252427  0.266243   \n",
       "158295  0.145631  0.252801  0.071175  0.252801  0.361090  0.252427  0.266243   \n",
       "158296  0.145631  0.252801  0.071175  0.252801  0.361090  0.252427  0.266243   \n",
       "158297  0.145631  0.252801  0.071175  0.252801  0.361090  0.252427  0.266243   \n",
       "\n",
       "              49        50        51        52        53        54        55  \\\n",
       "0       0.399544  0.190447  0.282736  0.162720  0.163732  0.054233  0.176280   \n",
       "1       0.838491  0.697488  0.792485  0.647456  0.675111  0.550509  0.647878   \n",
       "2       0.275264  0.690324  0.766586  0.546176  0.722504  0.618428  0.722945   \n",
       "3       0.252356  0.274370  0.392017  0.273319  0.300000  0.056253  0.390966   \n",
       "4       0.558091  0.428403  0.448927  0.337816  0.382402  0.222036  0.384289   \n",
       "...          ...       ...       ...       ...       ...       ...       ...   \n",
       "158293  0.092897  0.394472  0.394891  0.297320  0.324121  0.059944  0.324121   \n",
       "158294  0.104534  0.266243  0.309186  0.256908  0.256908  0.039518  0.256908   \n",
       "158295  0.104534  0.266243  0.309186  0.256908  0.256908  0.039518  0.256908   \n",
       "158296  0.104534  0.266243  0.309186  0.256908  0.256908  0.039518  0.256908   \n",
       "158297  0.104534  0.266243  0.309186  0.256908  0.256908  0.039518  0.256908   \n",
       "\n",
       "              56        57        58        59        60        61        62  \\\n",
       "0       0.177899  0.016798  0.052621  0.619705  0.050395  0.193078  0.000000   \n",
       "1       0.675744  0.399831  0.399831  0.662506  0.464640  0.464640  0.179650   \n",
       "2       1.000000  0.714128  0.852987  0.443621  0.815517  0.815958  0.479832   \n",
       "3       0.506933  0.298950  0.409664  0.396793  0.438025  0.556933  0.438025   \n",
       "4       0.528191  0.213730  0.368483  0.677388  0.368247  0.519226  0.304081   \n",
       "...          ...       ...       ...       ...       ...       ...       ...   \n",
       "158293  0.402429  0.317420  0.402429  0.044237  0.402010  0.455611  0.371859   \n",
       "158294  0.325990  0.249066  0.253174  0.067929  0.253547  0.394698  0.253174   \n",
       "158295  0.325990  0.249066  0.253174  0.067929  0.253547  0.394698  0.253174   \n",
       "158296  0.325990  0.249066  0.253174  0.067929  0.253547  0.394698  0.253174   \n",
       "158297  0.325990  0.249066  0.253174  0.067929  0.253547  0.394698  0.253174   \n",
       "\n",
       "              63        64        65        66        67        68        69  \\\n",
       "0       0.131350  0.718100  0.167780  0.206436  0.136410  0.206436  0.059382   \n",
       "1       0.274646  0.265807  0.270002  0.396031  0.062276  0.210682  1.000000   \n",
       "2       0.595107  0.797728  0.594005  0.744765  0.509367  0.701124  0.116363   \n",
       "3       0.446008  0.394136  0.446008  0.529202  0.333613  0.529202  0.240433   \n",
       "4       0.510026  0.433742  0.451993  0.643548  0.451993  0.637886  0.124799   \n",
       "...          ...       ...       ...       ...       ...       ...       ...   \n",
       "158293  0.407873  0.072828  0.407454  0.425879  0.306114  0.414992  0.070595   \n",
       "158294  0.372293  0.072874  0.371919  0.492158  0.357730  0.357730  0.148781   \n",
       "158295  0.372293  0.072874  0.371919  0.492158  0.357730  0.357730  0.148781   \n",
       "158296  0.372293  0.072874  0.371919  0.492158  0.357730  0.357730  0.148781   \n",
       "158297  0.372293  0.072874  0.371919  0.492158  0.357730  0.357730  0.148781   \n",
       "\n",
       "              70        71        72        73        74        75        76  \\\n",
       "0       0.183161  0.280308  0.183161  0.280308  0.252599  0.282129  0.380085   \n",
       "1       0.210471  0.275280  0.068187  0.232214  0.389597  0.232214  0.406798   \n",
       "2       0.695393  0.695393  0.509367  0.636103  0.063263  0.509588  0.729337   \n",
       "3       0.466176  0.610084  0.423739  0.598950  0.117639  0.614076  0.700210   \n",
       "4       0.584808  0.662656  0.584808  0.662656  0.009084  0.656759  0.739325   \n",
       "...          ...       ...       ...       ...       ...       ...       ...   \n",
       "158293  0.415410  0.445980  0.347990  0.380235  0.072346  0.380235  0.998325   \n",
       "158294  0.357730  0.364824  0.244586  0.275952  0.094788  0.276326  0.408887   \n",
       "158295  0.357730  0.364824  0.244586  0.275952  0.094788  0.276326  0.408887   \n",
       "158296  0.357730  0.364824  0.244586  0.275952  0.094788  0.276326  0.408887   \n",
       "158297  0.357730  0.364824  0.244586  0.275952  0.094788  0.276326  0.408887   \n",
       "\n",
       "              77        78        79        80        81        82        83  \\\n",
       "0       0.242866  0.376847  0.148713  0.377454  0.526209  0.370775  0.526209   \n",
       "1       0.229892  0.263036  0.502373  0.263880  0.331433  0.212160  0.232214   \n",
       "2       0.508706  0.722063  0.041306  0.673793  0.674014  0.595327  0.595327   \n",
       "3       0.565756  0.655252  0.020008  0.655042  0.677101  0.588235  0.676891   \n",
       "4       0.549422  0.730833  0.210340  0.727294  0.758434  0.518283  0.695211   \n",
       "...          ...       ...       ...       ...       ...       ...       ...   \n",
       "158293  0.365997  0.886516  1.000000  0.886516  1.000000  0.438861  0.549414   \n",
       "158294  0.275952  0.380881  0.052247  0.380881  0.401792  0.337192  0.391337   \n",
       "158295  0.275952  0.380881  0.052247  0.380881  0.401792  0.337192  0.391337   \n",
       "158296  0.275952  0.380881  0.052247  0.380881  0.401792  0.337192  0.391337   \n",
       "158297  0.275952  0.380881  0.052247  0.380881  0.401792  0.337192  0.391337   \n",
       "\n",
       "              84        85        86        87        88        89        90  \\\n",
       "0       0.219591  0.542400  0.542400  0.399919  0.425218  0.216988  0.425015   \n",
       "1       0.158991  0.331433  0.459362  0.246781  0.440996  0.046614  0.379143   \n",
       "2       0.000000  0.598193  0.655499  0.430020  0.549482  0.247437  0.548160   \n",
       "3       0.057094  0.577941  0.667647  0.497479  0.499160  0.172371  0.505042   \n",
       "4       0.071768  0.692616  0.785327  0.645671  0.733900  0.000000  0.724227   \n",
       "...          ...       ...       ...       ...       ...       ...       ...   \n",
       "158293  0.820704  0.549414  0.557370  0.445561  0.460637  0.105618  0.460637   \n",
       "158294  0.020631  0.391710  0.439881  0.376400  0.433906  0.087513  0.433532   \n",
       "158295  0.020631  0.391710  0.439881  0.376400  0.433906  0.087513  0.433532   \n",
       "158296  0.020631  0.391710  0.439881  0.376400  0.433906  0.087513  0.433532   \n",
       "158297  0.020631  0.391710  0.439881  0.376400  0.433906  0.087513  0.433532   \n",
       "\n",
       "              91        92        93        94        95        96        97  \\\n",
       "0       0.586926  0.333536  0.586723  0.916181  0.586926  0.688120  0.586926   \n",
       "1       0.612202  0.379143  0.612202  0.168484  0.609246  0.725987  0.544860   \n",
       "2       0.548160  0.358827  0.358827  0.159064  0.363015  0.374697  0.207626   \n",
       "3       0.528571  0.189076  0.189076  0.511071  0.254622  0.285294  0.046849   \n",
       "4       0.744279  0.588110  0.618542  0.255082  0.637650  0.647558  0.407879   \n",
       "...          ...       ...       ...       ...       ...       ...       ...   \n",
       "158293  0.637772  0.460637  0.580821  0.073860  0.580821  0.702261  0.580402   \n",
       "158294  0.481703  0.383869  0.384242  0.039098  0.383869  0.384242  0.311053   \n",
       "158295  0.481703  0.383869  0.384242  0.039098  0.383869  0.384242  0.311053   \n",
       "158296  0.481703  0.383869  0.384242  0.039098  0.383869  0.384242  0.311053   \n",
       "158297  0.481703  0.383869  0.384242  0.039098  0.383869  0.384242  0.311053   \n",
       "\n",
       "              98        99       100       101       102       103       104  \\\n",
       "0       0.622546  0.830594  0.668691  0.759765  0.620725  0.647237  0.528532   \n",
       "1       0.656745  0.275264  0.703399  0.776441  0.565337  0.734220  0.618428   \n",
       "2       0.237602  0.201312  0.238704  0.362134  0.237602  0.265594  0.044875   \n",
       "3       0.193908  0.749370  0.191176  0.209454  0.110504  0.150210  0.308269   \n",
       "4       0.407879  0.060211  0.408115  0.517103  0.350083  0.392310  0.167915   \n",
       "...          ...       ...       ...       ...       ...       ...       ...   \n",
       "158293  0.595896  0.108896  0.595896  0.644054  0.585427  0.585427  0.040612   \n",
       "158294  0.347647  0.033826  0.347647  0.347647  0.261016  0.313294  0.060832   \n",
       "158295  0.347647  0.033826  0.347647  0.347647  0.261016  0.313294  0.060832   \n",
       "158296  0.347647  0.033826  0.347647  0.347647  0.261016  0.313294  0.060832   \n",
       "158297  0.347647  0.033826  0.347647  0.347647  0.261016  0.313294  0.060832   \n",
       "\n",
       "             105       106       107       108       109       110       111  \\\n",
       "0       0.621129  0.647845  0.383323  0.383323  0.646005  0.445456  0.445456   \n",
       "1       0.734642  1.000000  0.726198  0.859194  0.443621  0.823306  0.823728   \n",
       "2       0.361032  0.482698  0.264492  0.380648  0.316533  0.410403  0.535155   \n",
       "3       0.151891  0.280042  0.000000  0.137815  0.905957  0.137605  0.272059   \n",
       "4       0.431470  0.507431  0.363057  0.471102  0.103137  0.471102  0.491625   \n",
       "...          ...       ...       ...       ...       ...       ...       ...   \n",
       "158293  0.585427  0.662898  0.576633  0.581240  0.070451  0.581658  0.739950   \n",
       "158294  0.313667  0.410007  0.313294  0.359970  0.042950  0.359597  0.408514   \n",
       "158295  0.313667  0.410007  0.313294  0.359970  0.042950  0.359597  0.408514   \n",
       "158296  0.313667  0.410007  0.313294  0.359970  0.042950  0.359597  0.408514   \n",
       "158297  0.313667  0.410007  0.313294  0.359970  0.042950  0.359597  0.408514   \n",
       "\n",
       "             112       113       114       115       116       117       118  \\\n",
       "0       0.172232  0.263307  0.229910  0.258854  0.379680  0.059705  0.201983   \n",
       "1       0.501794  0.612202  0.797728  0.611146  0.755541  0.530082  0.713743   \n",
       "2       0.410403  0.418779  0.314414  0.418779  0.506061  0.300860  0.506061   \n",
       "3       0.080462  0.263866  0.586151  0.212185  0.382773  0.212185  0.377731   \n",
       "4       0.364945  0.413777  0.124574  0.471338  0.557207  0.439726  0.473225   \n",
       "...          ...       ...       ...       ...       ...       ...       ...   \n",
       "158293  0.581240  0.714824  0.075644  0.714405  0.849246  0.698492  0.698492   \n",
       "158294  0.308813  0.344287  0.040042  0.344660  0.423077  0.344660  0.377147   \n",
       "158295  0.308813  0.344287  0.040042  0.344660  0.423077  0.344660  0.377147   \n",
       "158296  0.308813  0.344287  0.040042  0.344660  0.423077  0.344660  0.377147   \n",
       "158297  0.308813  0.344287  0.040042  0.344660  0.423077  0.344660  0.377147   \n",
       "\n",
       "             119       120       121       122       123       124       125  \\\n",
       "0       1.000000  0.201781  0.263914  0.065371  0.222627  0.359753  0.222627   \n",
       "1       0.116363  0.708254  0.708254  0.530082  0.651467  0.063263  0.530293   \n",
       "2       0.191800  0.439938  0.590919  0.395415  0.579237  0.093844  0.595107   \n",
       "3       0.180637  0.330462  0.399790  0.330462  0.399790  0.028751  0.394538   \n",
       "4       0.464419  0.478179  0.562161  0.478179  0.562161  0.155700  0.535032   \n",
       "...          ...       ...       ...       ...       ...       ...       ...   \n",
       "158293  0.155366  0.698492  0.706449  0.571608  0.606784  0.098660  0.607203   \n",
       "158294  0.043890  0.377521  0.398805  0.377147  0.388350  0.000000  0.388350   \n",
       "158295  0.043890  0.377521  0.398805  0.377147  0.388350  0.000000  0.388350   \n",
       "158296  0.043890  0.377521  0.398805  0.377147  0.388350  0.000000  0.388350   \n",
       "158297  0.043890  0.377521  0.398805  0.377147  0.388350  0.000000  0.388350   \n",
       "\n",
       "             126       127       128       129       130       131       132  \\\n",
       "0       0.390002  0.220401  0.252176  0.478043  0.252985  0.317749  0.203400   \n",
       "1       0.740764  0.529449  0.733798  0.041306  0.687566  0.687777  0.612413   \n",
       "2       0.685475  0.544413  0.638307  0.015961  0.638087  0.661230  0.567996   \n",
       "3       0.468067  0.298950  0.460504  0.292917  0.457353  0.485084  0.271218   \n",
       "4       0.690729  0.507195  0.622317  0.000744  0.667374  0.667374  0.525832   \n",
       "...          ...       ...       ...       ...       ...       ...       ...   \n",
       "158293  0.755863  0.606784  0.724456  0.053981  0.724456  0.747906  0.675461   \n",
       "158294  1.000000  0.388350  0.752054  1.000000  0.752054  0.752427  0.569455   \n",
       "158295  1.000000  0.388350  0.752054  1.000000  0.752054  0.752427  0.569455   \n",
       "158296  1.000000  0.388350  0.752054  1.000000  0.752054  0.752427  0.569455   \n",
       "158297  1.000000  0.388350  0.752054  1.000000  0.752054  0.752427  0.569455   \n",
       "\n",
       "             133       134       135       136       137       138       139  \\\n",
       "0       0.222627  0.117872  0.317749  0.440397  0.236592  0.422789  0.000000   \n",
       "1       0.612413  0.000000  0.615157  0.670044  0.454085  0.568503  0.247437   \n",
       "2       0.661009  0.045545  0.557196  0.651311  0.472779  0.474543  0.137505   \n",
       "3       0.428782  0.111030  0.426471  0.509034  0.384664  0.463235  0.016828   \n",
       "4       0.537863  0.014326  0.538570  0.538570  0.484312  0.484312  0.248179   \n",
       "...          ...       ...       ...       ...       ...       ...       ...   \n",
       "158293  0.736181  0.020776  0.736600  0.790620  0.719430  0.783920  0.091019   \n",
       "158294  0.622106  0.278463  0.622479  0.687080  0.441374  0.494772  0.269136   \n",
       "158295  0.622106  0.278463  0.622479  0.687080  0.441374  0.494772  0.269136   \n",
       "158296  0.622106  0.278463  0.622479  0.687080  0.441374  0.494772  0.269136   \n",
       "158297  0.622106  0.278463  0.622479  0.687080  0.441374  0.494772  0.269136   \n",
       "\n",
       "             140       141       142       143       144       145       146  \\\n",
       "0       0.363489  0.586926  0.363489  0.586926  0.127829  0.584092  0.696013   \n",
       "1       0.567237  0.567237  0.385898  0.385898  0.159064  0.389909  0.401098   \n",
       "2       0.480714  0.505400  0.149218  0.149218  0.407696  0.217985  0.250165   \n",
       "3       0.454622  0.472479  0.333403  0.360504  0.351645  0.377521  0.386345   \n",
       "4       0.393017  0.402689  0.213494  0.236377  0.838279  0.232838  0.236377   \n",
       "...          ...       ...       ...       ...       ...       ...       ...   \n",
       "158293  0.783501  0.837521  0.727806  0.728224  0.040171  0.727806  0.728224   \n",
       "158294  0.494772  0.533607  0.426064  0.443241  0.066526  0.443241  0.552651   \n",
       "158295  0.494772  0.533607  0.426064  0.443241  0.066526  0.443241  0.552651   \n",
       "158296  0.494772  0.533607  0.426064  0.443241  0.066526  0.443241  0.552651   \n",
       "158297  0.494772  0.533607  0.426064  0.443241  0.066526  0.443241  0.552651   \n",
       "\n",
       "             147       148       149  label  \n",
       "0       0.522364  0.629630  0.239829      2  \n",
       "1       0.241081  0.269791  0.201312     10  \n",
       "2       0.000000  0.154287  0.597793     12  \n",
       "3       0.172899  0.172899  0.095860      2  \n",
       "4       0.000000  0.138240  1.000000     16  \n",
       "...          ...       ...       ...    ...  \n",
       "158293  0.646147  0.687186  0.034634      4  \n",
       "158294  0.428678  0.483196  0.061610      9  \n",
       "158295  0.428678  0.483196  0.061610      9  \n",
       "158296  0.428678  0.483196  0.061610      9  \n",
       "158297  0.428678  0.483196  0.061610      9  \n",
       "\n",
       "[158298 rows x 151 columns]"
      ]
     },
     "execution_count": 85,
     "metadata": {},
     "output_type": "execute_result"
    }
   ],
   "source": [
    "dfc"
   ]
  },
  {
   "cell_type": "code",
   "execution_count": 74,
   "id": "a58cbcc6",
   "metadata": {},
   "outputs": [],
   "source": [
    "col_list = []\n",
    "for i,j in enumerate(dsc.columns):\n",
    "    if j[0]%5==0:\n",
    "        val=\"Open\"\n",
    "    if j[0]%5==1:\n",
    "        val=\"High\"\n",
    "    if j[0]%5==2:\n",
    "        val=\"Low\"\n",
    "    if j[0]%5==3:\n",
    "        val=\"Close\"\n",
    "    if j[0]%5==4:\n",
    "        val=\"Volume\"\n",
    "    col_list.append(val+\"_\"+str((j[0]//5)+1)+\"_\"+j[1]) "
   ]
  },
  {
   "cell_type": "code",
   "execution_count": 75,
   "id": "2c30d22a",
   "metadata": {},
   "outputs": [],
   "source": [
    "dsc.columns=col_list"
   ]
  },
  {
   "cell_type": "code",
   "execution_count": 101,
   "id": "1b45dd4c",
   "metadata": {},
   "outputs": [],
   "source": [
    "dsc.to_parquet(\"20_cluster_desc.parquet\")"
   ]
  },
  {
   "cell_type": "code",
   "execution_count": 80,
   "id": "8cc6e1e3",
   "metadata": {},
   "outputs": [],
   "source": [
    "target_df[\"labels\"]=kmeans"
   ]
  },
  {
   "cell_type": "code",
   "execution_count": 84,
   "id": "ca9133ca",
   "metadata": {},
   "outputs": [
    {
     "data": {
      "text/html": [
       "<div>\n",
       "<style scoped>\n",
       "    .dataframe tbody tr th:only-of-type {\n",
       "        vertical-align: middle;\n",
       "    }\n",
       "\n",
       "    .dataframe tbody tr th {\n",
       "        vertical-align: top;\n",
       "    }\n",
       "\n",
       "    .dataframe thead th {\n",
       "        text-align: right;\n",
       "    }\n",
       "</style>\n",
       "<table border=\"1\" class=\"dataframe\">\n",
       "  <thead>\n",
       "    <tr style=\"text-align: right;\">\n",
       "      <th></th>\n",
       "      <th>cluster_label</th>\n",
       "      <th>label</th>\n",
       "    </tr>\n",
       "  </thead>\n",
       "  <tbody>\n",
       "    <tr>\n",
       "      <th>0</th>\n",
       "      <td>0</td>\n",
       "      <td>0000000.npy</td>\n",
       "    </tr>\n",
       "    <tr>\n",
       "      <th>1</th>\n",
       "      <td>1</td>\n",
       "      <td>0000001.npy</td>\n",
       "    </tr>\n",
       "    <tr>\n",
       "      <th>2</th>\n",
       "      <td>1</td>\n",
       "      <td>0000002.npy</td>\n",
       "    </tr>\n",
       "    <tr>\n",
       "      <th>3</th>\n",
       "      <td>0</td>\n",
       "      <td>0000003.npy</td>\n",
       "    </tr>\n",
       "    <tr>\n",
       "      <th>4</th>\n",
       "      <td>0</td>\n",
       "      <td>0000004.npy</td>\n",
       "    </tr>\n",
       "    <tr>\n",
       "      <th>...</th>\n",
       "      <td>...</td>\n",
       "      <td>...</td>\n",
       "    </tr>\n",
       "    <tr>\n",
       "      <th>158293</th>\n",
       "      <td>1</td>\n",
       "      <td>0158293.npy</td>\n",
       "    </tr>\n",
       "    <tr>\n",
       "      <th>158294</th>\n",
       "      <td>1</td>\n",
       "      <td>0158294.npy</td>\n",
       "    </tr>\n",
       "    <tr>\n",
       "      <th>158295</th>\n",
       "      <td>1</td>\n",
       "      <td>0158295.npy</td>\n",
       "    </tr>\n",
       "    <tr>\n",
       "      <th>158296</th>\n",
       "      <td>1</td>\n",
       "      <td>0158296.npy</td>\n",
       "    </tr>\n",
       "    <tr>\n",
       "      <th>158297</th>\n",
       "      <td>1</td>\n",
       "      <td>0158297.npy</td>\n",
       "    </tr>\n",
       "  </tbody>\n",
       "</table>\n",
       "<p>158298 rows × 2 columns</p>\n",
       "</div>"
      ],
      "text/plain": [
       "        cluster_label        label\n",
       "0                   0  0000000.npy\n",
       "1                   1  0000001.npy\n",
       "2                   1  0000002.npy\n",
       "3                   0  0000003.npy\n",
       "4                   0  0000004.npy\n",
       "...               ...          ...\n",
       "158293              1  0158293.npy\n",
       "158294              1  0158294.npy\n",
       "158295              1  0158295.npy\n",
       "158296              1  0158296.npy\n",
       "158297              1  0158297.npy\n",
       "\n",
       "[158298 rows x 2 columns]"
      ]
     },
     "execution_count": 84,
     "metadata": {},
     "output_type": "execute_result"
    }
   ],
   "source": [
    "target_df"
   ]
  },
  {
   "cell_type": "code",
   "execution_count": 84,
   "id": "dc8e9fd2",
   "metadata": {},
   "outputs": [],
   "source": [
    "dsc = pd.read_parquet(\"20_cluster_desc.parquet\")"
   ]
  },
  {
   "cell_type": "code",
   "execution_count": 153,
   "id": "c6ae87fa",
   "metadata": {},
   "outputs": [
    {
     "data": {
      "text/plain": [
       "array([[1.00000014, 1.00050549, 0.99949736, 0.99999538],\n",
       "       [0.99999523, 1.0005439 , 0.99945056, 0.99998758],\n",
       "       [0.99998758, 1.00049886, 0.99948234, 0.99999244],\n",
       "       [0.99999257, 1.00049624, 0.99949488, 0.999985  ],\n",
       "       [0.99998534, 1.00047494, 0.99949247, 0.99997734],\n",
       "       [0.99997688, 1.00046857, 0.99949614, 0.99997232],\n",
       "       [0.99997212, 1.00053876, 0.9994444 , 0.99999348],\n",
       "       [0.99999371, 1.00049089, 0.99946937, 0.99996677],\n",
       "       [0.99996704, 1.00046886, 0.99943501, 0.99993834],\n",
       "       [0.99993799, 1.00054706, 0.9992615 , 0.99987931],\n",
       "       [0.99988027, 1.00103297, 0.99867024, 0.99990395],\n",
       "       [0.99990301, 1.00071938, 0.99915947, 0.99995427],\n",
       "       [0.99995398, 1.00057096, 0.99931628, 0.99993812],\n",
       "       [0.99993745, 1.00050631, 0.99934598, 0.9999205 ],\n",
       "       [0.99992095, 1.00047462, 0.99936369, 0.99990515]])"
      ]
     },
     "execution_count": 153,
     "metadata": {},
     "output_type": "execute_result"
    }
   ],
   "source": [
    "np.array([ta[[j+\"_\"+str(i)+\"_mean\" for i in range(1,16)]].to_list() for j in [\"Open\",\"High\",\"Low\",\"Close\"]]).transpose()"
   ]
  },
  {
   "cell_type": "code",
   "execution_count": 209,
   "id": "a99d7b7f",
   "metadata": {},
   "outputs": [
    {
     "data": {
      "text/plain": [
       "array([[8312.87, 8314.38, 8308.51, 8310.  ],\n",
       "       [8306.86, 8310.91, 8306.86, 8308.02],\n",
       "       [8310.24, 8315.68, 8306.86, 8312.32],\n",
       "       [8312.22, 8312.48, 8309.09, 8309.09],\n",
       "       [8311.62, 8311.62, 8308.28, 8309.47],\n",
       "       [8309.39, 8309.76, 8306.86, 8306.86],\n",
       "       [8308.92, 8308.92, 8303.1 , 8304.64],\n",
       "       [8304.64, 8308.  , 8276.37, 8279.02],\n",
       "       [8276.35, 8290.53, 8275.81, 8283.14],\n",
       "       [8281.51, 8285.56, 8279.73, 8282.78],\n",
       "       [8282.53, 8284.75, 8280.38, 8281.05],\n",
       "       [8281.21, 8287.36, 8279.32, 8286.7 ],\n",
       "       [8287.57, 8292.07, 8286.79, 8292.07],\n",
       "       [8290.96, 8294.93, 8289.08, 8292.68],\n",
       "       [8289.08, 8291.02, 8285.23, 8287.82]])"
      ]
     },
     "execution_count": 209,
     "metadata": {},
     "output_type": "execute_result"
    }
   ],
   "source": [
    "target_list_real[46]"
   ]
  },
  {
   "cell_type": "code",
   "execution_count": 19,
   "id": "254d8ebb",
   "metadata": {},
   "outputs": [
    {
     "ename": "NameError",
     "evalue": "name 'target_df' is not defined",
     "output_type": "error",
     "traceback": [
      "\u001b[0;31m---------------------------------------------------------------------------\u001b[0m",
      "\u001b[0;31mNameError\u001b[0m                                 Traceback (most recent call last)",
      "Input \u001b[0;32mIn [19]\u001b[0m, in \u001b[0;36m<cell line: 1>\u001b[0;34m()\u001b[0m\n\u001b[0;32m----> 1\u001b[0m \u001b[43mtarget_df\u001b[49m\n",
      "\u001b[0;31mNameError\u001b[0m: name 'target_df' is not defined"
     ]
    }
   ],
   "source": [
    "target_df"
   ]
  },
  {
   "cell_type": "code",
   "execution_count": 76,
   "id": "6141ec6b",
   "metadata": {},
   "outputs": [
    {
     "data": {
      "text/html": [
       "<div>\n",
       "<style scoped>\n",
       "    .dataframe tbody tr th:only-of-type {\n",
       "        vertical-align: middle;\n",
       "    }\n",
       "\n",
       "    .dataframe tbody tr th {\n",
       "        vertical-align: top;\n",
       "    }\n",
       "\n",
       "    .dataframe thead th {\n",
       "        text-align: right;\n",
       "    }\n",
       "</style>\n",
       "<table border=\"1\" class=\"dataframe\">\n",
       "  <thead>\n",
       "    <tr style=\"text-align: right;\">\n",
       "      <th></th>\n",
       "      <th>Open_1_count</th>\n",
       "      <th>Open_1_mean</th>\n",
       "      <th>Open_1_std</th>\n",
       "      <th>Open_1_min</th>\n",
       "      <th>Open_1_25%</th>\n",
       "      <th>Open_1_50%</th>\n",
       "      <th>Open_1_75%</th>\n",
       "      <th>Open_1_max</th>\n",
       "      <th>High_1_count</th>\n",
       "      <th>High_1_mean</th>\n",
       "      <th>High_1_std</th>\n",
       "      <th>High_1_min</th>\n",
       "      <th>High_1_25%</th>\n",
       "      <th>High_1_50%</th>\n",
       "      <th>High_1_75%</th>\n",
       "      <th>High_1_max</th>\n",
       "      <th>Low_1_count</th>\n",
       "      <th>Low_1_mean</th>\n",
       "      <th>Low_1_std</th>\n",
       "      <th>Low_1_min</th>\n",
       "      <th>Low_1_25%</th>\n",
       "      <th>Low_1_50%</th>\n",
       "      <th>Low_1_75%</th>\n",
       "      <th>Low_1_max</th>\n",
       "      <th>Close_1_count</th>\n",
       "      <th>Close_1_mean</th>\n",
       "      <th>Close_1_std</th>\n",
       "      <th>Close_1_min</th>\n",
       "      <th>Close_1_25%</th>\n",
       "      <th>Close_1_50%</th>\n",
       "      <th>Close_1_75%</th>\n",
       "      <th>Close_1_max</th>\n",
       "      <th>Volume_1_count</th>\n",
       "      <th>Volume_1_mean</th>\n",
       "      <th>Volume_1_std</th>\n",
       "      <th>Volume_1_min</th>\n",
       "      <th>Volume_1_25%</th>\n",
       "      <th>Volume_1_50%</th>\n",
       "      <th>Volume_1_75%</th>\n",
       "      <th>Volume_1_max</th>\n",
       "      <th>Open_2_count</th>\n",
       "      <th>Open_2_mean</th>\n",
       "      <th>Open_2_std</th>\n",
       "      <th>Open_2_min</th>\n",
       "      <th>Open_2_25%</th>\n",
       "      <th>Open_2_50%</th>\n",
       "      <th>Open_2_75%</th>\n",
       "      <th>Open_2_max</th>\n",
       "      <th>High_2_count</th>\n",
       "      <th>High_2_mean</th>\n",
       "      <th>High_2_std</th>\n",
       "      <th>High_2_min</th>\n",
       "      <th>High_2_25%</th>\n",
       "      <th>High_2_50%</th>\n",
       "      <th>High_2_75%</th>\n",
       "      <th>High_2_max</th>\n",
       "      <th>Low_2_count</th>\n",
       "      <th>Low_2_mean</th>\n",
       "      <th>Low_2_std</th>\n",
       "      <th>Low_2_min</th>\n",
       "      <th>Low_2_25%</th>\n",
       "      <th>Low_2_50%</th>\n",
       "      <th>Low_2_75%</th>\n",
       "      <th>Low_2_max</th>\n",
       "      <th>Close_2_count</th>\n",
       "      <th>Close_2_mean</th>\n",
       "      <th>Close_2_std</th>\n",
       "      <th>Close_2_min</th>\n",
       "      <th>Close_2_25%</th>\n",
       "      <th>Close_2_50%</th>\n",
       "      <th>Close_2_75%</th>\n",
       "      <th>Close_2_max</th>\n",
       "      <th>Volume_2_count</th>\n",
       "      <th>Volume_2_mean</th>\n",
       "      <th>Volume_2_std</th>\n",
       "      <th>Volume_2_min</th>\n",
       "      <th>Volume_2_25%</th>\n",
       "      <th>Volume_2_50%</th>\n",
       "      <th>Volume_2_75%</th>\n",
       "      <th>Volume_2_max</th>\n",
       "      <th>Open_3_count</th>\n",
       "      <th>Open_3_mean</th>\n",
       "      <th>Open_3_std</th>\n",
       "      <th>Open_3_min</th>\n",
       "      <th>Open_3_25%</th>\n",
       "      <th>Open_3_50%</th>\n",
       "      <th>Open_3_75%</th>\n",
       "      <th>Open_3_max</th>\n",
       "      <th>High_3_count</th>\n",
       "      <th>High_3_mean</th>\n",
       "      <th>High_3_std</th>\n",
       "      <th>High_3_min</th>\n",
       "      <th>High_3_25%</th>\n",
       "      <th>High_3_50%</th>\n",
       "      <th>High_3_75%</th>\n",
       "      <th>High_3_max</th>\n",
       "      <th>Low_3_count</th>\n",
       "      <th>Low_3_mean</th>\n",
       "      <th>Low_3_std</th>\n",
       "      <th>Low_3_min</th>\n",
       "      <th>Low_3_25%</th>\n",
       "      <th>Low_3_50%</th>\n",
       "      <th>Low_3_75%</th>\n",
       "      <th>Low_3_max</th>\n",
       "      <th>Close_3_count</th>\n",
       "      <th>Close_3_mean</th>\n",
       "      <th>Close_3_std</th>\n",
       "      <th>Close_3_min</th>\n",
       "      <th>Close_3_25%</th>\n",
       "      <th>Close_3_50%</th>\n",
       "      <th>Close_3_75%</th>\n",
       "      <th>Close_3_max</th>\n",
       "      <th>Volume_3_count</th>\n",
       "      <th>Volume_3_mean</th>\n",
       "      <th>Volume_3_std</th>\n",
       "      <th>Volume_3_min</th>\n",
       "      <th>Volume_3_25%</th>\n",
       "      <th>Volume_3_50%</th>\n",
       "      <th>Volume_3_75%</th>\n",
       "      <th>Volume_3_max</th>\n",
       "      <th>Open_4_count</th>\n",
       "      <th>Open_4_mean</th>\n",
       "      <th>Open_4_std</th>\n",
       "      <th>Open_4_min</th>\n",
       "      <th>Open_4_25%</th>\n",
       "      <th>Open_4_50%</th>\n",
       "      <th>Open_4_75%</th>\n",
       "      <th>Open_4_max</th>\n",
       "      <th>High_4_count</th>\n",
       "      <th>High_4_mean</th>\n",
       "      <th>High_4_std</th>\n",
       "      <th>High_4_min</th>\n",
       "      <th>High_4_25%</th>\n",
       "      <th>High_4_50%</th>\n",
       "      <th>High_4_75%</th>\n",
       "      <th>High_4_max</th>\n",
       "      <th>Low_4_count</th>\n",
       "      <th>Low_4_mean</th>\n",
       "      <th>Low_4_std</th>\n",
       "      <th>Low_4_min</th>\n",
       "      <th>Low_4_25%</th>\n",
       "      <th>Low_4_50%</th>\n",
       "      <th>Low_4_75%</th>\n",
       "      <th>Low_4_max</th>\n",
       "      <th>Close_4_count</th>\n",
       "      <th>Close_4_mean</th>\n",
       "      <th>Close_4_std</th>\n",
       "      <th>Close_4_min</th>\n",
       "      <th>Close_4_25%</th>\n",
       "      <th>Close_4_50%</th>\n",
       "      <th>Close_4_75%</th>\n",
       "      <th>Close_4_max</th>\n",
       "      <th>Volume_4_count</th>\n",
       "      <th>Volume_4_mean</th>\n",
       "      <th>Volume_4_std</th>\n",
       "      <th>Volume_4_min</th>\n",
       "      <th>Volume_4_25%</th>\n",
       "      <th>Volume_4_50%</th>\n",
       "      <th>Volume_4_75%</th>\n",
       "      <th>Volume_4_max</th>\n",
       "      <th>Open_5_count</th>\n",
       "      <th>Open_5_mean</th>\n",
       "      <th>Open_5_std</th>\n",
       "      <th>Open_5_min</th>\n",
       "      <th>Open_5_25%</th>\n",
       "      <th>Open_5_50%</th>\n",
       "      <th>Open_5_75%</th>\n",
       "      <th>Open_5_max</th>\n",
       "      <th>High_5_count</th>\n",
       "      <th>High_5_mean</th>\n",
       "      <th>High_5_std</th>\n",
       "      <th>High_5_min</th>\n",
       "      <th>High_5_25%</th>\n",
       "      <th>High_5_50%</th>\n",
       "      <th>High_5_75%</th>\n",
       "      <th>High_5_max</th>\n",
       "      <th>Low_5_count</th>\n",
       "      <th>Low_5_mean</th>\n",
       "      <th>Low_5_std</th>\n",
       "      <th>Low_5_min</th>\n",
       "      <th>Low_5_25%</th>\n",
       "      <th>Low_5_50%</th>\n",
       "      <th>Low_5_75%</th>\n",
       "      <th>Low_5_max</th>\n",
       "      <th>Close_5_count</th>\n",
       "      <th>Close_5_mean</th>\n",
       "      <th>Close_5_std</th>\n",
       "      <th>Close_5_min</th>\n",
       "      <th>Close_5_25%</th>\n",
       "      <th>Close_5_50%</th>\n",
       "      <th>Close_5_75%</th>\n",
       "      <th>Close_5_max</th>\n",
       "      <th>Volume_5_count</th>\n",
       "      <th>Volume_5_mean</th>\n",
       "      <th>Volume_5_std</th>\n",
       "      <th>Volume_5_min</th>\n",
       "      <th>Volume_5_25%</th>\n",
       "      <th>Volume_5_50%</th>\n",
       "      <th>Volume_5_75%</th>\n",
       "      <th>Volume_5_max</th>\n",
       "      <th>Open_6_count</th>\n",
       "      <th>Open_6_mean</th>\n",
       "      <th>Open_6_std</th>\n",
       "      <th>Open_6_min</th>\n",
       "      <th>Open_6_25%</th>\n",
       "      <th>Open_6_50%</th>\n",
       "      <th>Open_6_75%</th>\n",
       "      <th>Open_6_max</th>\n",
       "      <th>High_6_count</th>\n",
       "      <th>High_6_mean</th>\n",
       "      <th>High_6_std</th>\n",
       "      <th>High_6_min</th>\n",
       "      <th>High_6_25%</th>\n",
       "      <th>High_6_50%</th>\n",
       "      <th>High_6_75%</th>\n",
       "      <th>High_6_max</th>\n",
       "      <th>Low_6_count</th>\n",
       "      <th>Low_6_mean</th>\n",
       "      <th>Low_6_std</th>\n",
       "      <th>Low_6_min</th>\n",
       "      <th>Low_6_25%</th>\n",
       "      <th>Low_6_50%</th>\n",
       "      <th>Low_6_75%</th>\n",
       "      <th>Low_6_max</th>\n",
       "      <th>Close_6_count</th>\n",
       "      <th>Close_6_mean</th>\n",
       "      <th>Close_6_std</th>\n",
       "      <th>Close_6_min</th>\n",
       "      <th>Close_6_25%</th>\n",
       "      <th>Close_6_50%</th>\n",
       "      <th>Close_6_75%</th>\n",
       "      <th>Close_6_max</th>\n",
       "      <th>Volume_6_count</th>\n",
       "      <th>Volume_6_mean</th>\n",
       "      <th>Volume_6_std</th>\n",
       "      <th>Volume_6_min</th>\n",
       "      <th>Volume_6_25%</th>\n",
       "      <th>Volume_6_50%</th>\n",
       "      <th>Volume_6_75%</th>\n",
       "      <th>Volume_6_max</th>\n",
       "      <th>Open_7_count</th>\n",
       "      <th>Open_7_mean</th>\n",
       "      <th>Open_7_std</th>\n",
       "      <th>Open_7_min</th>\n",
       "      <th>Open_7_25%</th>\n",
       "      <th>Open_7_50%</th>\n",
       "      <th>Open_7_75%</th>\n",
       "      <th>Open_7_max</th>\n",
       "      <th>High_7_count</th>\n",
       "      <th>High_7_mean</th>\n",
       "      <th>...</th>\n",
       "      <th>Close_24_75%</th>\n",
       "      <th>Close_24_max</th>\n",
       "      <th>Volume_24_count</th>\n",
       "      <th>Volume_24_mean</th>\n",
       "      <th>Volume_24_std</th>\n",
       "      <th>Volume_24_min</th>\n",
       "      <th>Volume_24_25%</th>\n",
       "      <th>Volume_24_50%</th>\n",
       "      <th>Volume_24_75%</th>\n",
       "      <th>Volume_24_max</th>\n",
       "      <th>Open_25_count</th>\n",
       "      <th>Open_25_mean</th>\n",
       "      <th>Open_25_std</th>\n",
       "      <th>Open_25_min</th>\n",
       "      <th>Open_25_25%</th>\n",
       "      <th>Open_25_50%</th>\n",
       "      <th>Open_25_75%</th>\n",
       "      <th>Open_25_max</th>\n",
       "      <th>High_25_count</th>\n",
       "      <th>High_25_mean</th>\n",
       "      <th>High_25_std</th>\n",
       "      <th>High_25_min</th>\n",
       "      <th>High_25_25%</th>\n",
       "      <th>High_25_50%</th>\n",
       "      <th>High_25_75%</th>\n",
       "      <th>High_25_max</th>\n",
       "      <th>Low_25_count</th>\n",
       "      <th>Low_25_mean</th>\n",
       "      <th>Low_25_std</th>\n",
       "      <th>Low_25_min</th>\n",
       "      <th>Low_25_25%</th>\n",
       "      <th>Low_25_50%</th>\n",
       "      <th>Low_25_75%</th>\n",
       "      <th>Low_25_max</th>\n",
       "      <th>Close_25_count</th>\n",
       "      <th>Close_25_mean</th>\n",
       "      <th>Close_25_std</th>\n",
       "      <th>Close_25_min</th>\n",
       "      <th>Close_25_25%</th>\n",
       "      <th>Close_25_50%</th>\n",
       "      <th>Close_25_75%</th>\n",
       "      <th>Close_25_max</th>\n",
       "      <th>Volume_25_count</th>\n",
       "      <th>Volume_25_mean</th>\n",
       "      <th>Volume_25_std</th>\n",
       "      <th>Volume_25_min</th>\n",
       "      <th>Volume_25_25%</th>\n",
       "      <th>Volume_25_50%</th>\n",
       "      <th>Volume_25_75%</th>\n",
       "      <th>Volume_25_max</th>\n",
       "      <th>Open_26_count</th>\n",
       "      <th>Open_26_mean</th>\n",
       "      <th>Open_26_std</th>\n",
       "      <th>Open_26_min</th>\n",
       "      <th>Open_26_25%</th>\n",
       "      <th>Open_26_50%</th>\n",
       "      <th>Open_26_75%</th>\n",
       "      <th>Open_26_max</th>\n",
       "      <th>High_26_count</th>\n",
       "      <th>High_26_mean</th>\n",
       "      <th>High_26_std</th>\n",
       "      <th>High_26_min</th>\n",
       "      <th>High_26_25%</th>\n",
       "      <th>High_26_50%</th>\n",
       "      <th>High_26_75%</th>\n",
       "      <th>High_26_max</th>\n",
       "      <th>Low_26_count</th>\n",
       "      <th>Low_26_mean</th>\n",
       "      <th>Low_26_std</th>\n",
       "      <th>Low_26_min</th>\n",
       "      <th>Low_26_25%</th>\n",
       "      <th>Low_26_50%</th>\n",
       "      <th>Low_26_75%</th>\n",
       "      <th>Low_26_max</th>\n",
       "      <th>Close_26_count</th>\n",
       "      <th>Close_26_mean</th>\n",
       "      <th>Close_26_std</th>\n",
       "      <th>Close_26_min</th>\n",
       "      <th>Close_26_25%</th>\n",
       "      <th>Close_26_50%</th>\n",
       "      <th>Close_26_75%</th>\n",
       "      <th>Close_26_max</th>\n",
       "      <th>Volume_26_count</th>\n",
       "      <th>Volume_26_mean</th>\n",
       "      <th>Volume_26_std</th>\n",
       "      <th>Volume_26_min</th>\n",
       "      <th>Volume_26_25%</th>\n",
       "      <th>Volume_26_50%</th>\n",
       "      <th>Volume_26_75%</th>\n",
       "      <th>Volume_26_max</th>\n",
       "      <th>Open_27_count</th>\n",
       "      <th>Open_27_mean</th>\n",
       "      <th>Open_27_std</th>\n",
       "      <th>Open_27_min</th>\n",
       "      <th>Open_27_25%</th>\n",
       "      <th>Open_27_50%</th>\n",
       "      <th>Open_27_75%</th>\n",
       "      <th>Open_27_max</th>\n",
       "      <th>High_27_count</th>\n",
       "      <th>High_27_mean</th>\n",
       "      <th>High_27_std</th>\n",
       "      <th>High_27_min</th>\n",
       "      <th>High_27_25%</th>\n",
       "      <th>High_27_50%</th>\n",
       "      <th>High_27_75%</th>\n",
       "      <th>High_27_max</th>\n",
       "      <th>Low_27_count</th>\n",
       "      <th>Low_27_mean</th>\n",
       "      <th>Low_27_std</th>\n",
       "      <th>Low_27_min</th>\n",
       "      <th>Low_27_25%</th>\n",
       "      <th>Low_27_50%</th>\n",
       "      <th>Low_27_75%</th>\n",
       "      <th>Low_27_max</th>\n",
       "      <th>Close_27_count</th>\n",
       "      <th>Close_27_mean</th>\n",
       "      <th>Close_27_std</th>\n",
       "      <th>Close_27_min</th>\n",
       "      <th>Close_27_25%</th>\n",
       "      <th>Close_27_50%</th>\n",
       "      <th>Close_27_75%</th>\n",
       "      <th>Close_27_max</th>\n",
       "      <th>Volume_27_count</th>\n",
       "      <th>Volume_27_mean</th>\n",
       "      <th>Volume_27_std</th>\n",
       "      <th>Volume_27_min</th>\n",
       "      <th>Volume_27_25%</th>\n",
       "      <th>Volume_27_50%</th>\n",
       "      <th>Volume_27_75%</th>\n",
       "      <th>Volume_27_max</th>\n",
       "      <th>Open_28_count</th>\n",
       "      <th>Open_28_mean</th>\n",
       "      <th>Open_28_std</th>\n",
       "      <th>Open_28_min</th>\n",
       "      <th>Open_28_25%</th>\n",
       "      <th>Open_28_50%</th>\n",
       "      <th>Open_28_75%</th>\n",
       "      <th>Open_28_max</th>\n",
       "      <th>High_28_count</th>\n",
       "      <th>High_28_mean</th>\n",
       "      <th>High_28_std</th>\n",
       "      <th>High_28_min</th>\n",
       "      <th>High_28_25%</th>\n",
       "      <th>High_28_50%</th>\n",
       "      <th>High_28_75%</th>\n",
       "      <th>High_28_max</th>\n",
       "      <th>Low_28_count</th>\n",
       "      <th>Low_28_mean</th>\n",
       "      <th>Low_28_std</th>\n",
       "      <th>Low_28_min</th>\n",
       "      <th>Low_28_25%</th>\n",
       "      <th>Low_28_50%</th>\n",
       "      <th>Low_28_75%</th>\n",
       "      <th>Low_28_max</th>\n",
       "      <th>Close_28_count</th>\n",
       "      <th>Close_28_mean</th>\n",
       "      <th>Close_28_std</th>\n",
       "      <th>Close_28_min</th>\n",
       "      <th>Close_28_25%</th>\n",
       "      <th>Close_28_50%</th>\n",
       "      <th>Close_28_75%</th>\n",
       "      <th>Close_28_max</th>\n",
       "      <th>Volume_28_count</th>\n",
       "      <th>Volume_28_mean</th>\n",
       "      <th>Volume_28_std</th>\n",
       "      <th>Volume_28_min</th>\n",
       "      <th>Volume_28_25%</th>\n",
       "      <th>Volume_28_50%</th>\n",
       "      <th>Volume_28_75%</th>\n",
       "      <th>Volume_28_max</th>\n",
       "      <th>Open_29_count</th>\n",
       "      <th>Open_29_mean</th>\n",
       "      <th>Open_29_std</th>\n",
       "      <th>Open_29_min</th>\n",
       "      <th>Open_29_25%</th>\n",
       "      <th>Open_29_50%</th>\n",
       "      <th>Open_29_75%</th>\n",
       "      <th>Open_29_max</th>\n",
       "      <th>High_29_count</th>\n",
       "      <th>High_29_mean</th>\n",
       "      <th>High_29_std</th>\n",
       "      <th>High_29_min</th>\n",
       "      <th>High_29_25%</th>\n",
       "      <th>High_29_50%</th>\n",
       "      <th>High_29_75%</th>\n",
       "      <th>High_29_max</th>\n",
       "      <th>Low_29_count</th>\n",
       "      <th>Low_29_mean</th>\n",
       "      <th>Low_29_std</th>\n",
       "      <th>Low_29_min</th>\n",
       "      <th>Low_29_25%</th>\n",
       "      <th>Low_29_50%</th>\n",
       "      <th>Low_29_75%</th>\n",
       "      <th>Low_29_max</th>\n",
       "      <th>Close_29_count</th>\n",
       "      <th>Close_29_mean</th>\n",
       "      <th>Close_29_std</th>\n",
       "      <th>Close_29_min</th>\n",
       "      <th>Close_29_25%</th>\n",
       "      <th>Close_29_50%</th>\n",
       "      <th>Close_29_75%</th>\n",
       "      <th>Close_29_max</th>\n",
       "      <th>Volume_29_count</th>\n",
       "      <th>Volume_29_mean</th>\n",
       "      <th>Volume_29_std</th>\n",
       "      <th>Volume_29_min</th>\n",
       "      <th>Volume_29_25%</th>\n",
       "      <th>Volume_29_50%</th>\n",
       "      <th>Volume_29_75%</th>\n",
       "      <th>Volume_29_max</th>\n",
       "      <th>Open_30_count</th>\n",
       "      <th>Open_30_mean</th>\n",
       "      <th>Open_30_std</th>\n",
       "      <th>Open_30_min</th>\n",
       "      <th>Open_30_25%</th>\n",
       "      <th>Open_30_50%</th>\n",
       "      <th>Open_30_75%</th>\n",
       "      <th>Open_30_max</th>\n",
       "      <th>High_30_count</th>\n",
       "      <th>High_30_mean</th>\n",
       "      <th>High_30_std</th>\n",
       "      <th>High_30_min</th>\n",
       "      <th>High_30_25%</th>\n",
       "      <th>High_30_50%</th>\n",
       "      <th>High_30_75%</th>\n",
       "      <th>High_30_max</th>\n",
       "      <th>Low_30_count</th>\n",
       "      <th>Low_30_mean</th>\n",
       "      <th>Low_30_std</th>\n",
       "      <th>Low_30_min</th>\n",
       "      <th>Low_30_25%</th>\n",
       "      <th>Low_30_50%</th>\n",
       "      <th>Low_30_75%</th>\n",
       "      <th>Low_30_max</th>\n",
       "      <th>Close_30_count</th>\n",
       "      <th>Close_30_mean</th>\n",
       "      <th>Close_30_std</th>\n",
       "      <th>Close_30_min</th>\n",
       "      <th>Close_30_25%</th>\n",
       "      <th>Close_30_50%</th>\n",
       "      <th>Close_30_75%</th>\n",
       "      <th>Close_30_max</th>\n",
       "      <th>Volume_30_count</th>\n",
       "      <th>Volume_30_mean</th>\n",
       "      <th>Volume_30_std</th>\n",
       "      <th>Volume_30_min</th>\n",
       "      <th>Volume_30_25%</th>\n",
       "      <th>Volume_30_50%</th>\n",
       "      <th>Volume_30_75%</th>\n",
       "      <th>Volume_30_max</th>\n",
       "    </tr>\n",
       "    <tr>\n",
       "      <th>label</th>\n",
       "      <th></th>\n",
       "      <th></th>\n",
       "      <th></th>\n",
       "      <th></th>\n",
       "      <th></th>\n",
       "      <th></th>\n",
       "      <th></th>\n",
       "      <th></th>\n",
       "      <th></th>\n",
       "      <th></th>\n",
       "      <th></th>\n",
       "      <th></th>\n",
       "      <th></th>\n",
       "      <th></th>\n",
       "      <th></th>\n",
       "      <th></th>\n",
       "      <th></th>\n",
       "      <th></th>\n",
       "      <th></th>\n",
       "      <th></th>\n",
       "      <th></th>\n",
       "      <th></th>\n",
       "      <th></th>\n",
       "      <th></th>\n",
       "      <th></th>\n",
       "      <th></th>\n",
       "      <th></th>\n",
       "      <th></th>\n",
       "      <th></th>\n",
       "      <th></th>\n",
       "      <th></th>\n",
       "      <th></th>\n",
       "      <th></th>\n",
       "      <th></th>\n",
       "      <th></th>\n",
       "      <th></th>\n",
       "      <th></th>\n",
       "      <th></th>\n",
       "      <th></th>\n",
       "      <th></th>\n",
       "      <th></th>\n",
       "      <th></th>\n",
       "      <th></th>\n",
       "      <th></th>\n",
       "      <th></th>\n",
       "      <th></th>\n",
       "      <th></th>\n",
       "      <th></th>\n",
       "      <th></th>\n",
       "      <th></th>\n",
       "      <th></th>\n",
       "      <th></th>\n",
       "      <th></th>\n",
       "      <th></th>\n",
       "      <th></th>\n",
       "      <th></th>\n",
       "      <th></th>\n",
       "      <th></th>\n",
       "      <th></th>\n",
       "      <th></th>\n",
       "      <th></th>\n",
       "      <th></th>\n",
       "      <th></th>\n",
       "      <th></th>\n",
       "      <th></th>\n",
       "      <th></th>\n",
       "      <th></th>\n",
       "      <th></th>\n",
       "      <th></th>\n",
       "      <th></th>\n",
       "      <th></th>\n",
       "      <th></th>\n",
       "      <th></th>\n",
       "      <th></th>\n",
       "      <th></th>\n",
       "      <th></th>\n",
       "      <th></th>\n",
       "      <th></th>\n",
       "      <th></th>\n",
       "      <th></th>\n",
       "      <th></th>\n",
       "      <th></th>\n",
       "      <th></th>\n",
       "      <th></th>\n",
       "      <th></th>\n",
       "      <th></th>\n",
       "      <th></th>\n",
       "      <th></th>\n",
       "      <th></th>\n",
       "      <th></th>\n",
       "      <th></th>\n",
       "      <th></th>\n",
       "      <th></th>\n",
       "      <th></th>\n",
       "      <th></th>\n",
       "      <th></th>\n",
       "      <th></th>\n",
       "      <th></th>\n",
       "      <th></th>\n",
       "      <th></th>\n",
       "      <th></th>\n",
       "      <th></th>\n",
       "      <th></th>\n",
       "      <th></th>\n",
       "      <th></th>\n",
       "      <th></th>\n",
       "      <th></th>\n",
       "      <th></th>\n",
       "      <th></th>\n",
       "      <th></th>\n",
       "      <th></th>\n",
       "      <th></th>\n",
       "      <th></th>\n",
       "      <th></th>\n",
       "      <th></th>\n",
       "      <th></th>\n",
       "      <th></th>\n",
       "      <th></th>\n",
       "      <th></th>\n",
       "      <th></th>\n",
       "      <th></th>\n",
       "      <th></th>\n",
       "      <th></th>\n",
       "      <th></th>\n",
       "      <th></th>\n",
       "      <th></th>\n",
       "      <th></th>\n",
       "      <th></th>\n",
       "      <th></th>\n",
       "      <th></th>\n",
       "      <th></th>\n",
       "      <th></th>\n",
       "      <th></th>\n",
       "      <th></th>\n",
       "      <th></th>\n",
       "      <th></th>\n",
       "      <th></th>\n",
       "      <th></th>\n",
       "      <th></th>\n",
       "      <th></th>\n",
       "      <th></th>\n",
       "      <th></th>\n",
       "      <th></th>\n",
       "      <th></th>\n",
       "      <th></th>\n",
       "      <th></th>\n",
       "      <th></th>\n",
       "      <th></th>\n",
       "      <th></th>\n",
       "      <th></th>\n",
       "      <th></th>\n",
       "      <th></th>\n",
       "      <th></th>\n",
       "      <th></th>\n",
       "      <th></th>\n",
       "      <th></th>\n",
       "      <th></th>\n",
       "      <th></th>\n",
       "      <th></th>\n",
       "      <th></th>\n",
       "      <th></th>\n",
       "      <th></th>\n",
       "      <th></th>\n",
       "      <th></th>\n",
       "      <th></th>\n",
       "      <th></th>\n",
       "      <th></th>\n",
       "      <th></th>\n",
       "      <th></th>\n",
       "      <th></th>\n",
       "      <th></th>\n",
       "      <th></th>\n",
       "      <th></th>\n",
       "      <th></th>\n",
       "      <th></th>\n",
       "      <th></th>\n",
       "      <th></th>\n",
       "      <th></th>\n",
       "      <th></th>\n",
       "      <th></th>\n",
       "      <th></th>\n",
       "      <th></th>\n",
       "      <th></th>\n",
       "      <th></th>\n",
       "      <th></th>\n",
       "      <th></th>\n",
       "      <th></th>\n",
       "      <th></th>\n",
       "      <th></th>\n",
       "      <th></th>\n",
       "      <th></th>\n",
       "      <th></th>\n",
       "      <th></th>\n",
       "      <th></th>\n",
       "      <th></th>\n",
       "      <th></th>\n",
       "      <th></th>\n",
       "      <th></th>\n",
       "      <th></th>\n",
       "      <th></th>\n",
       "      <th></th>\n",
       "      <th></th>\n",
       "      <th></th>\n",
       "      <th></th>\n",
       "      <th></th>\n",
       "      <th></th>\n",
       "      <th></th>\n",
       "      <th></th>\n",
       "      <th></th>\n",
       "      <th></th>\n",
       "      <th></th>\n",
       "      <th></th>\n",
       "      <th></th>\n",
       "      <th></th>\n",
       "      <th></th>\n",
       "      <th></th>\n",
       "      <th></th>\n",
       "      <th></th>\n",
       "      <th></th>\n",
       "      <th></th>\n",
       "      <th></th>\n",
       "      <th></th>\n",
       "      <th></th>\n",
       "      <th></th>\n",
       "      <th></th>\n",
       "      <th></th>\n",
       "      <th></th>\n",
       "      <th></th>\n",
       "      <th></th>\n",
       "      <th></th>\n",
       "      <th></th>\n",
       "      <th></th>\n",
       "      <th></th>\n",
       "      <th></th>\n",
       "      <th></th>\n",
       "      <th></th>\n",
       "      <th></th>\n",
       "      <th></th>\n",
       "      <th></th>\n",
       "      <th></th>\n",
       "      <th></th>\n",
       "      <th></th>\n",
       "      <th></th>\n",
       "      <th></th>\n",
       "      <th></th>\n",
       "      <th></th>\n",
       "      <th></th>\n",
       "      <th></th>\n",
       "      <th></th>\n",
       "      <th></th>\n",
       "      <th></th>\n",
       "      <th></th>\n",
       "      <th></th>\n",
       "      <th></th>\n",
       "      <th></th>\n",
       "      <th></th>\n",
       "      <th></th>\n",
       "      <th></th>\n",
       "      <th></th>\n",
       "      <th></th>\n",
       "      <th></th>\n",
       "      <th></th>\n",
       "      <th></th>\n",
       "      <th></th>\n",
       "      <th></th>\n",
       "      <th></th>\n",
       "      <th></th>\n",
       "      <th></th>\n",
       "      <th></th>\n",
       "      <th></th>\n",
       "      <th></th>\n",
       "      <th></th>\n",
       "      <th></th>\n",
       "      <th></th>\n",
       "      <th></th>\n",
       "      <th></th>\n",
       "      <th></th>\n",
       "      <th></th>\n",
       "      <th></th>\n",
       "      <th></th>\n",
       "      <th></th>\n",
       "      <th></th>\n",
       "      <th></th>\n",
       "      <th></th>\n",
       "      <th></th>\n",
       "      <th></th>\n",
       "      <th></th>\n",
       "      <th></th>\n",
       "      <th></th>\n",
       "      <th></th>\n",
       "      <th></th>\n",
       "      <th></th>\n",
       "      <th></th>\n",
       "      <th></th>\n",
       "      <th></th>\n",
       "      <th></th>\n",
       "      <th></th>\n",
       "      <th></th>\n",
       "      <th></th>\n",
       "      <th></th>\n",
       "      <th></th>\n",
       "      <th></th>\n",
       "      <th></th>\n",
       "      <th></th>\n",
       "      <th></th>\n",
       "      <th></th>\n",
       "      <th></th>\n",
       "      <th></th>\n",
       "      <th></th>\n",
       "      <th></th>\n",
       "      <th></th>\n",
       "      <th></th>\n",
       "      <th></th>\n",
       "      <th></th>\n",
       "      <th></th>\n",
       "      <th></th>\n",
       "      <th></th>\n",
       "      <th></th>\n",
       "      <th></th>\n",
       "      <th></th>\n",
       "      <th></th>\n",
       "      <th></th>\n",
       "      <th></th>\n",
       "      <th></th>\n",
       "      <th></th>\n",
       "      <th></th>\n",
       "      <th></th>\n",
       "      <th></th>\n",
       "      <th></th>\n",
       "      <th></th>\n",
       "      <th></th>\n",
       "      <th></th>\n",
       "      <th></th>\n",
       "      <th></th>\n",
       "      <th></th>\n",
       "      <th></th>\n",
       "      <th></th>\n",
       "      <th></th>\n",
       "      <th></th>\n",
       "      <th></th>\n",
       "      <th></th>\n",
       "      <th></th>\n",
       "      <th></th>\n",
       "      <th></th>\n",
       "      <th></th>\n",
       "      <th></th>\n",
       "      <th></th>\n",
       "      <th></th>\n",
       "      <th></th>\n",
       "      <th></th>\n",
       "      <th></th>\n",
       "      <th></th>\n",
       "      <th></th>\n",
       "      <th></th>\n",
       "      <th></th>\n",
       "      <th></th>\n",
       "      <th></th>\n",
       "      <th></th>\n",
       "      <th></th>\n",
       "      <th></th>\n",
       "      <th></th>\n",
       "      <th></th>\n",
       "      <th></th>\n",
       "      <th></th>\n",
       "      <th></th>\n",
       "      <th></th>\n",
       "      <th></th>\n",
       "      <th></th>\n",
       "      <th></th>\n",
       "      <th></th>\n",
       "      <th></th>\n",
       "      <th></th>\n",
       "      <th></th>\n",
       "      <th></th>\n",
       "      <th></th>\n",
       "      <th></th>\n",
       "      <th></th>\n",
       "      <th></th>\n",
       "      <th></th>\n",
       "      <th></th>\n",
       "      <th></th>\n",
       "      <th></th>\n",
       "      <th></th>\n",
       "      <th></th>\n",
       "      <th></th>\n",
       "      <th></th>\n",
       "      <th></th>\n",
       "      <th></th>\n",
       "      <th></th>\n",
       "      <th></th>\n",
       "      <th></th>\n",
       "      <th></th>\n",
       "      <th></th>\n",
       "      <th></th>\n",
       "      <th></th>\n",
       "      <th></th>\n",
       "      <th></th>\n",
       "      <th></th>\n",
       "      <th></th>\n",
       "      <th></th>\n",
       "      <th></th>\n",
       "      <th></th>\n",
       "      <th></th>\n",
       "      <th></th>\n",
       "      <th></th>\n",
       "      <th></th>\n",
       "      <th></th>\n",
       "      <th></th>\n",
       "      <th></th>\n",
       "      <th></th>\n",
       "      <th></th>\n",
       "      <th></th>\n",
       "      <th></th>\n",
       "      <th></th>\n",
       "      <th></th>\n",
       "      <th></th>\n",
       "      <th></th>\n",
       "      <th></th>\n",
       "      <th></th>\n",
       "      <th></th>\n",
       "      <th></th>\n",
       "      <th></th>\n",
       "      <th></th>\n",
       "      <th></th>\n",
       "      <th></th>\n",
       "      <th></th>\n",
       "      <th></th>\n",
       "      <th></th>\n",
       "      <th></th>\n",
       "      <th></th>\n",
       "      <th></th>\n",
       "      <th></th>\n",
       "      <th></th>\n",
       "      <th></th>\n",
       "      <th></th>\n",
       "      <th></th>\n",
       "      <th></th>\n",
       "      <th></th>\n",
       "      <th></th>\n",
       "      <th></th>\n",
       "      <th></th>\n",
       "      <th></th>\n",
       "      <th></th>\n",
       "      <th></th>\n",
       "      <th></th>\n",
       "      <th></th>\n",
       "      <th></th>\n",
       "      <th></th>\n",
       "      <th></th>\n",
       "      <th></th>\n",
       "      <th></th>\n",
       "      <th></th>\n",
       "      <th></th>\n",
       "      <th></th>\n",
       "      <th></th>\n",
       "      <th></th>\n",
       "      <th></th>\n",
       "      <th></th>\n",
       "      <th></th>\n",
       "      <th></th>\n",
       "      <th></th>\n",
       "      <th></th>\n",
       "      <th></th>\n",
       "      <th></th>\n",
       "      <th></th>\n",
       "      <th></th>\n",
       "      <th></th>\n",
       "      <th></th>\n",
       "      <th></th>\n",
       "      <th></th>\n",
       "      <th></th>\n",
       "      <th></th>\n",
       "      <th></th>\n",
       "      <th></th>\n",
       "      <th></th>\n",
       "      <th></th>\n",
       "      <th></th>\n",
       "      <th></th>\n",
       "      <th></th>\n",
       "      <th></th>\n",
       "      <th></th>\n",
       "      <th></th>\n",
       "      <th></th>\n",
       "      <th></th>\n",
       "      <th></th>\n",
       "      <th></th>\n",
       "      <th></th>\n",
       "      <th></th>\n",
       "      <th></th>\n",
       "      <th></th>\n",
       "      <th></th>\n",
       "      <th></th>\n",
       "      <th></th>\n",
       "      <th></th>\n",
       "      <th></th>\n",
       "      <th></th>\n",
       "      <th></th>\n",
       "      <th></th>\n",
       "      <th></th>\n",
       "      <th></th>\n",
       "      <th></th>\n",
       "    </tr>\n",
       "  </thead>\n",
       "  <tbody>\n",
       "    <tr>\n",
       "      <th>0</th>\n",
       "      <td>78868.0</td>\n",
       "      <td>0.695096</td>\n",
       "      <td>0.247358</td>\n",
       "      <td>0.0</td>\n",
       "      <td>0.542948</td>\n",
       "      <td>0.751690</td>\n",
       "      <td>0.899043</td>\n",
       "      <td>1.0</td>\n",
       "      <td>78868.0</td>\n",
       "      <td>0.783603</td>\n",
       "      <td>0.219797</td>\n",
       "      <td>0.000625</td>\n",
       "      <td>0.650916</td>\n",
       "      <td>0.845896</td>\n",
       "      <td>0.982054</td>\n",
       "      <td>1.0</td>\n",
       "      <td>78868.0</td>\n",
       "      <td>0.608910</td>\n",
       "      <td>0.249180</td>\n",
       "      <td>0.0</td>\n",
       "      <td>0.450043</td>\n",
       "      <td>0.661347</td>\n",
       "      <td>0.810271</td>\n",
       "      <td>0.999860</td>\n",
       "      <td>78868.0</td>\n",
       "      <td>0.697315</td>\n",
       "      <td>0.225989</td>\n",
       "      <td>0.0</td>\n",
       "      <td>0.556782</td>\n",
       "      <td>0.750146</td>\n",
       "      <td>0.880672</td>\n",
       "      <td>1.0</td>\n",
       "      <td>78868.0</td>\n",
       "      <td>0.244710</td>\n",
       "      <td>0.261310</td>\n",
       "      <td>0.0</td>\n",
       "      <td>0.055677</td>\n",
       "      <td>0.150975</td>\n",
       "      <td>0.337253</td>\n",
       "      <td>1.0</td>\n",
       "      <td>78868.0</td>\n",
       "      <td>0.69725</td>\n",
       "      <td>0.225883</td>\n",
       "      <td>0.0</td>\n",
       "      <td>0.556974</td>\n",
       "      <td>0.750074</td>\n",
       "      <td>0.880824</td>\n",
       "      <td>1.0</td>\n",
       "      <td>78868.0</td>\n",
       "      <td>0.793520</td>\n",
       "      <td>0.196989</td>\n",
       "      <td>0.013077</td>\n",
       "      <td>0.679175</td>\n",
       "      <td>0.850000</td>\n",
       "      <td>0.956318</td>\n",
       "      <td>1.0</td>\n",
       "      <td>78868.0</td>\n",
       "      <td>0.604009</td>\n",
       "      <td>0.230889</td>\n",
       "      <td>0.0</td>\n",
       "      <td>0.456114</td>\n",
       "      <td>0.648043</td>\n",
       "      <td>0.786669</td>\n",
       "      <td>0.999757</td>\n",
       "      <td>78868.0</td>\n",
       "      <td>0.699199</td>\n",
       "      <td>0.206427</td>\n",
       "      <td>0.0</td>\n",
       "      <td>0.570709</td>\n",
       "      <td>0.742535</td>\n",
       "      <td>0.862432</td>\n",
       "      <td>1.0</td>\n",
       "      <td>78868.0</td>\n",
       "      <td>0.267775</td>\n",
       "      <td>0.263829</td>\n",
       "      <td>0.0</td>\n",
       "      <td>0.072061</td>\n",
       "      <td>0.178123</td>\n",
       "      <td>0.373096</td>\n",
       "      <td>1.0</td>\n",
       "      <td>78868.0</td>\n",
       "      <td>0.699089</td>\n",
       "      <td>0.206300</td>\n",
       "      <td>0.0</td>\n",
       "      <td>0.570822</td>\n",
       "      <td>0.742015</td>\n",
       "      <td>0.862232</td>\n",
       "      <td>1.0</td>\n",
       "      <td>78868.0</td>\n",
       "      <td>0.787229</td>\n",
       "      <td>0.181294</td>\n",
       "      <td>0.019615</td>\n",
       "      <td>0.680540</td>\n",
       "      <td>0.829391</td>\n",
       "      <td>0.932610</td>\n",
       "      <td>1.0</td>\n",
       "      <td>78868.0</td>\n",
       "      <td>0.608487</td>\n",
       "      <td>0.214613</td>\n",
       "      <td>0.0</td>\n",
       "      <td>0.469003</td>\n",
       "      <td>0.642396</td>\n",
       "      <td>0.777445</td>\n",
       "      <td>0.999757</td>\n",
       "      <td>78868.0</td>\n",
       "      <td>0.696804</td>\n",
       "      <td>0.192959</td>\n",
       "      <td>0.0</td>\n",
       "      <td>0.574875</td>\n",
       "      <td>0.730227</td>\n",
       "      <td>0.848911</td>\n",
       "      <td>1.0</td>\n",
       "      <td>78868.0</td>\n",
       "      <td>0.252746</td>\n",
       "      <td>0.253955</td>\n",
       "      <td>0.0</td>\n",
       "      <td>0.066613</td>\n",
       "      <td>0.167427</td>\n",
       "      <td>0.350656</td>\n",
       "      <td>1.0</td>\n",
       "      <td>78868.0</td>\n",
       "      <td>0.696753</td>\n",
       "      <td>0.192752</td>\n",
       "      <td>0.0</td>\n",
       "      <td>0.574802</td>\n",
       "      <td>0.730155</td>\n",
       "      <td>0.848839</td>\n",
       "      <td>1.0</td>\n",
       "      <td>78868.0</td>\n",
       "      <td>0.781386</td>\n",
       "      <td>0.171082</td>\n",
       "      <td>0.059005</td>\n",
       "      <td>0.676592</td>\n",
       "      <td>0.814583</td>\n",
       "      <td>0.917722</td>\n",
       "      <td>1.0</td>\n",
       "      <td>78868.0</td>\n",
       "      <td>0.607335</td>\n",
       "      <td>0.203769</td>\n",
       "      <td>0.0</td>\n",
       "      <td>0.474145</td>\n",
       "      <td>0.633427</td>\n",
       "      <td>0.765935</td>\n",
       "      <td>0.999487</td>\n",
       "      <td>78868.0</td>\n",
       "      <td>0.691904</td>\n",
       "      <td>0.185588</td>\n",
       "      <td>0.0</td>\n",
       "      <td>0.572496</td>\n",
       "      <td>0.718439</td>\n",
       "      <td>0.838197</td>\n",
       "      <td>1.0</td>\n",
       "      <td>78868.0</td>\n",
       "      <td>0.239556</td>\n",
       "      <td>0.245620</td>\n",
       "      <td>0.0</td>\n",
       "      <td>0.062385</td>\n",
       "      <td>0.157651</td>\n",
       "      <td>0.328495</td>\n",
       "      <td>1.0</td>\n",
       "      <td>78868.0</td>\n",
       "      <td>0.691841</td>\n",
       "      <td>0.185460</td>\n",
       "      <td>0.0</td>\n",
       "      <td>0.572534</td>\n",
       "      <td>0.718304</td>\n",
       "      <td>0.838115</td>\n",
       "      <td>1.0</td>\n",
       "      <td>78868.0</td>\n",
       "      <td>0.774552</td>\n",
       "      <td>0.166304</td>\n",
       "      <td>0.071293</td>\n",
       "      <td>0.668314</td>\n",
       "      <td>0.800753</td>\n",
       "      <td>0.907814</td>\n",
       "      <td>1.0</td>\n",
       "      <td>78868.0</td>\n",
       "      <td>0.603164</td>\n",
       "      <td>0.198850</td>\n",
       "      <td>0.0</td>\n",
       "      <td>0.472662</td>\n",
       "      <td>0.625392</td>\n",
       "      <td>0.756802</td>\n",
       "      <td>0.999802</td>\n",
       "      <td>78868.0</td>\n",
       "      <td>0.686214</td>\n",
       "      <td>0.182598</td>\n",
       "      <td>0.0</td>\n",
       "      <td>0.567023</td>\n",
       "      <td>0.709299</td>\n",
       "      <td>0.828682</td>\n",
       "      <td>1.0</td>\n",
       "      <td>78868.0</td>\n",
       "      <td>0.232197</td>\n",
       "      <td>0.241135</td>\n",
       "      <td>0.0</td>\n",
       "      <td>0.060080</td>\n",
       "      <td>0.151128</td>\n",
       "      <td>0.315365</td>\n",
       "      <td>1.0</td>\n",
       "      <td>78868.0</td>\n",
       "      <td>0.686216</td>\n",
       "      <td>0.182436</td>\n",
       "      <td>0.000667</td>\n",
       "      <td>0.567036</td>\n",
       "      <td>0.709105</td>\n",
       "      <td>0.828758</td>\n",
       "      <td>1.0</td>\n",
       "      <td>78868.0</td>\n",
       "      <td>0.767060</td>\n",
       "      <td>0.166175</td>\n",
       "      <td>0.071605</td>\n",
       "      <td>0.658267</td>\n",
       "      <td>0.789234</td>\n",
       "      <td>0.900000</td>\n",
       "      <td>1.0</td>\n",
       "      <td>78868.0</td>\n",
       "      <td>0.596868</td>\n",
       "      <td>0.198257</td>\n",
       "      <td>0.0</td>\n",
       "      <td>0.467551</td>\n",
       "      <td>0.617719</td>\n",
       "      <td>0.748552</td>\n",
       "      <td>0.999802</td>\n",
       "      <td>78868.0</td>\n",
       "      <td>0.678702</td>\n",
       "      <td>0.184501</td>\n",
       "      <td>0.0</td>\n",
       "      <td>0.557322</td>\n",
       "      <td>0.700178</td>\n",
       "      <td>0.822157</td>\n",
       "      <td>1.0</td>\n",
       "      <td>78868.0</td>\n",
       "      <td>0.227344</td>\n",
       "      <td>0.237788</td>\n",
       "      <td>0.0</td>\n",
       "      <td>0.059026</td>\n",
       "      <td>0.147428</td>\n",
       "      <td>0.307834</td>\n",
       "      <td>1.0</td>\n",
       "      <td>78868.0</td>\n",
       "      <td>0.678684</td>\n",
       "      <td>0.184278</td>\n",
       "      <td>0.0</td>\n",
       "      <td>0.557359</td>\n",
       "      <td>0.700216</td>\n",
       "      <td>0.821912</td>\n",
       "      <td>1.0</td>\n",
       "      <td>78868.0</td>\n",
       "      <td>0.770455</td>\n",
       "      <td>...</td>\n",
       "      <td>0.501305</td>\n",
       "      <td>1.0</td>\n",
       "      <td>78868.0</td>\n",
       "      <td>0.228135</td>\n",
       "      <td>0.235803</td>\n",
       "      <td>0.0</td>\n",
       "      <td>0.065206</td>\n",
       "      <td>0.14850</td>\n",
       "      <td>0.301768</td>\n",
       "      <td>1.0</td>\n",
       "      <td>78868.0</td>\n",
       "      <td>0.376289</td>\n",
       "      <td>0.188286</td>\n",
       "      <td>0.0</td>\n",
       "      <td>0.234299</td>\n",
       "      <td>0.357846</td>\n",
       "      <td>0.501122</td>\n",
       "      <td>0.999545</td>\n",
       "      <td>78868.0</td>\n",
       "      <td>0.454335</td>\n",
       "      <td>0.184132</td>\n",
       "      <td>0.001031</td>\n",
       "      <td>0.315427</td>\n",
       "      <td>0.435035</td>\n",
       "      <td>0.575120</td>\n",
       "      <td>1.0</td>\n",
       "      <td>78868.0</td>\n",
       "      <td>0.286471</td>\n",
       "      <td>0.187337</td>\n",
       "      <td>0.0</td>\n",
       "      <td>0.142669</td>\n",
       "      <td>0.266671</td>\n",
       "      <td>0.410712</td>\n",
       "      <td>0.973564</td>\n",
       "      <td>78868.0</td>\n",
       "      <td>0.366869</td>\n",
       "      <td>0.187300</td>\n",
       "      <td>0.0</td>\n",
       "      <td>0.225213</td>\n",
       "      <td>0.346798</td>\n",
       "      <td>0.489898</td>\n",
       "      <td>1.0</td>\n",
       "      <td>78868.0</td>\n",
       "      <td>0.221502</td>\n",
       "      <td>0.232723</td>\n",
       "      <td>0.0</td>\n",
       "      <td>0.061929</td>\n",
       "      <td>0.142647</td>\n",
       "      <td>0.292873</td>\n",
       "      <td>1.0</td>\n",
       "      <td>78868.0</td>\n",
       "      <td>0.366912</td>\n",
       "      <td>0.187096</td>\n",
       "      <td>0.0</td>\n",
       "      <td>0.225358</td>\n",
       "      <td>0.34686</td>\n",
       "      <td>0.489898</td>\n",
       "      <td>1.0</td>\n",
       "      <td>78868.0</td>\n",
       "      <td>0.445757</td>\n",
       "      <td>0.185370</td>\n",
       "      <td>0.000672</td>\n",
       "      <td>0.305243</td>\n",
       "      <td>0.424298</td>\n",
       "      <td>0.566659</td>\n",
       "      <td>1.0</td>\n",
       "      <td>78868.0</td>\n",
       "      <td>0.277603</td>\n",
       "      <td>0.186599</td>\n",
       "      <td>0.0</td>\n",
       "      <td>0.133290</td>\n",
       "      <td>0.256742</td>\n",
       "      <td>0.401116</td>\n",
       "      <td>0.982044</td>\n",
       "      <td>78868.0</td>\n",
       "      <td>0.359074</td>\n",
       "      <td>0.189536</td>\n",
       "      <td>0.0</td>\n",
       "      <td>0.215430</td>\n",
       "      <td>0.338458</td>\n",
       "      <td>0.483595</td>\n",
       "      <td>1.0</td>\n",
       "      <td>78868.0</td>\n",
       "      <td>0.220923</td>\n",
       "      <td>0.234526</td>\n",
       "      <td>0.0</td>\n",
       "      <td>0.060266</td>\n",
       "      <td>0.141143</td>\n",
       "      <td>0.291869</td>\n",
       "      <td>1.0</td>\n",
       "      <td>78868.0</td>\n",
       "      <td>0.359050</td>\n",
       "      <td>0.189410</td>\n",
       "      <td>0.0</td>\n",
       "      <td>0.215452</td>\n",
       "      <td>0.338348</td>\n",
       "      <td>0.483225</td>\n",
       "      <td>1.0</td>\n",
       "      <td>78868.0</td>\n",
       "      <td>0.451156</td>\n",
       "      <td>0.189567</td>\n",
       "      <td>0.000671</td>\n",
       "      <td>0.306847</td>\n",
       "      <td>0.427817</td>\n",
       "      <td>0.572739</td>\n",
       "      <td>1.0</td>\n",
       "      <td>78868.0</td>\n",
       "      <td>0.260819</td>\n",
       "      <td>0.185425</td>\n",
       "      <td>0.0</td>\n",
       "      <td>0.114796</td>\n",
       "      <td>0.237232</td>\n",
       "      <td>0.382511</td>\n",
       "      <td>0.990638</td>\n",
       "      <td>78868.0</td>\n",
       "      <td>0.355942</td>\n",
       "      <td>0.192388</td>\n",
       "      <td>0.0</td>\n",
       "      <td>0.209459</td>\n",
       "      <td>0.331724</td>\n",
       "      <td>0.478923</td>\n",
       "      <td>1.0</td>\n",
       "      <td>78868.0</td>\n",
       "      <td>0.264912</td>\n",
       "      <td>0.253077</td>\n",
       "      <td>0.0</td>\n",
       "      <td>0.083940</td>\n",
       "      <td>0.180655</td>\n",
       "      <td>0.357683</td>\n",
       "      <td>1.0</td>\n",
       "      <td>78868.0</td>\n",
       "      <td>0.355943</td>\n",
       "      <td>0.192309</td>\n",
       "      <td>0.0</td>\n",
       "      <td>0.209520</td>\n",
       "      <td>0.331737</td>\n",
       "      <td>0.478950</td>\n",
       "      <td>1.0</td>\n",
       "      <td>78868.0</td>\n",
       "      <td>0.441176</td>\n",
       "      <td>0.195472</td>\n",
       "      <td>0.00046</td>\n",
       "      <td>0.291151</td>\n",
       "      <td>0.412005</td>\n",
       "      <td>0.565137</td>\n",
       "      <td>1.0</td>\n",
       "      <td>78868.0</td>\n",
       "      <td>0.263831</td>\n",
       "      <td>0.191549</td>\n",
       "      <td>0.0</td>\n",
       "      <td>0.112350</td>\n",
       "      <td>0.236177</td>\n",
       "      <td>0.390041</td>\n",
       "      <td>0.986594</td>\n",
       "      <td>78868.0</td>\n",
       "      <td>0.351474</td>\n",
       "      <td>0.199326</td>\n",
       "      <td>0.0</td>\n",
       "      <td>0.197629</td>\n",
       "      <td>0.321432</td>\n",
       "      <td>0.478831</td>\n",
       "      <td>1.0</td>\n",
       "      <td>78868.0</td>\n",
       "      <td>0.246476</td>\n",
       "      <td>0.245262</td>\n",
       "      <td>0.0</td>\n",
       "      <td>0.073885</td>\n",
       "      <td>0.163880</td>\n",
       "      <td>0.330694</td>\n",
       "      <td>1.0</td>\n",
       "      <td>78868.0</td>\n",
       "      <td>0.351437</td>\n",
       "      <td>0.199160</td>\n",
       "      <td>0.0</td>\n",
       "      <td>0.197606</td>\n",
       "      <td>0.32107</td>\n",
       "      <td>0.478508</td>\n",
       "      <td>1.0</td>\n",
       "      <td>78868.0</td>\n",
       "      <td>0.435148</td>\n",
       "      <td>0.204662</td>\n",
       "      <td>0.000248</td>\n",
       "      <td>0.276591</td>\n",
       "      <td>0.400993</td>\n",
       "      <td>0.563969</td>\n",
       "      <td>1.0</td>\n",
       "      <td>78868.0</td>\n",
       "      <td>0.262000</td>\n",
       "      <td>0.200821</td>\n",
       "      <td>0.0</td>\n",
       "      <td>0.099872</td>\n",
       "      <td>0.227899</td>\n",
       "      <td>0.392405</td>\n",
       "      <td>0.999391</td>\n",
       "      <td>78868.0</td>\n",
       "      <td>0.348128</td>\n",
       "      <td>0.210601</td>\n",
       "      <td>0.0</td>\n",
       "      <td>0.182632</td>\n",
       "      <td>0.312152</td>\n",
       "      <td>0.483684</td>\n",
       "      <td>1.0</td>\n",
       "      <td>78868.0</td>\n",
       "      <td>0.237998</td>\n",
       "      <td>0.245222</td>\n",
       "      <td>0.0</td>\n",
       "      <td>0.066419</td>\n",
       "      <td>0.155302</td>\n",
       "      <td>0.317423</td>\n",
       "      <td>1.0</td>\n",
       "      <td>78868.0</td>\n",
       "      <td>0.348162</td>\n",
       "      <td>0.21057</td>\n",
       "      <td>0.0</td>\n",
       "      <td>0.182628</td>\n",
       "      <td>0.311853</td>\n",
       "      <td>0.483843</td>\n",
       "      <td>1.0</td>\n",
       "      <td>78868.0</td>\n",
       "      <td>0.432246</td>\n",
       "      <td>0.220458</td>\n",
       "      <td>0.00035</td>\n",
       "      <td>0.259535</td>\n",
       "      <td>0.391716</td>\n",
       "      <td>0.571513</td>\n",
       "      <td>1.0</td>\n",
       "      <td>78868.0</td>\n",
       "      <td>0.260284</td>\n",
       "      <td>0.217498</td>\n",
       "      <td>0.0</td>\n",
       "      <td>0.071997</td>\n",
       "      <td>0.223374</td>\n",
       "      <td>0.405534</td>\n",
       "      <td>0.999391</td>\n",
       "      <td>78868.0</td>\n",
       "      <td>0.346842</td>\n",
       "      <td>0.230391</td>\n",
       "      <td>0.0</td>\n",
       "      <td>0.163286</td>\n",
       "      <td>0.309033</td>\n",
       "      <td>0.496777</td>\n",
       "      <td>1.0</td>\n",
       "      <td>78868.0</td>\n",
       "      <td>0.234621</td>\n",
       "      <td>0.251125</td>\n",
       "      <td>0.0</td>\n",
       "      <td>0.060727</td>\n",
       "      <td>0.147026</td>\n",
       "      <td>0.310910</td>\n",
       "      <td>1.0</td>\n",
       "    </tr>\n",
       "    <tr>\n",
       "      <th>1</th>\n",
       "      <td>79430.0</td>\n",
       "      <td>0.308171</td>\n",
       "      <td>0.247950</td>\n",
       "      <td>0.0</td>\n",
       "      <td>0.102202</td>\n",
       "      <td>0.254177</td>\n",
       "      <td>0.465940</td>\n",
       "      <td>1.0</td>\n",
       "      <td>79430.0</td>\n",
       "      <td>0.396700</td>\n",
       "      <td>0.248524</td>\n",
       "      <td>0.000000</td>\n",
       "      <td>0.195524</td>\n",
       "      <td>0.348127</td>\n",
       "      <td>0.557650</td>\n",
       "      <td>1.0</td>\n",
       "      <td>79430.0</td>\n",
       "      <td>0.220028</td>\n",
       "      <td>0.222694</td>\n",
       "      <td>0.0</td>\n",
       "      <td>0.014713</td>\n",
       "      <td>0.159088</td>\n",
       "      <td>0.357055</td>\n",
       "      <td>0.998836</td>\n",
       "      <td>79430.0</td>\n",
       "      <td>0.308251</td>\n",
       "      <td>0.227877</td>\n",
       "      <td>0.0</td>\n",
       "      <td>0.121993</td>\n",
       "      <td>0.257146</td>\n",
       "      <td>0.452127</td>\n",
       "      <td>1.0</td>\n",
       "      <td>79430.0</td>\n",
       "      <td>0.253611</td>\n",
       "      <td>0.265292</td>\n",
       "      <td>0.0</td>\n",
       "      <td>0.060176</td>\n",
       "      <td>0.157900</td>\n",
       "      <td>0.350948</td>\n",
       "      <td>1.0</td>\n",
       "      <td>79430.0</td>\n",
       "      <td>0.30830</td>\n",
       "      <td>0.227743</td>\n",
       "      <td>0.0</td>\n",
       "      <td>0.122331</td>\n",
       "      <td>0.257031</td>\n",
       "      <td>0.451804</td>\n",
       "      <td>1.0</td>\n",
       "      <td>79430.0</td>\n",
       "      <td>0.405977</td>\n",
       "      <td>0.231918</td>\n",
       "      <td>0.000000</td>\n",
       "      <td>0.221207</td>\n",
       "      <td>0.367163</td>\n",
       "      <td>0.556393</td>\n",
       "      <td>1.0</td>\n",
       "      <td>79430.0</td>\n",
       "      <td>0.214922</td>\n",
       "      <td>0.201000</td>\n",
       "      <td>0.0</td>\n",
       "      <td>0.047685</td>\n",
       "      <td>0.159351</td>\n",
       "      <td>0.333818</td>\n",
       "      <td>0.981232</td>\n",
       "      <td>79430.0</td>\n",
       "      <td>0.311535</td>\n",
       "      <td>0.209516</td>\n",
       "      <td>0.0</td>\n",
       "      <td>0.144971</td>\n",
       "      <td>0.270625</td>\n",
       "      <td>0.443365</td>\n",
       "      <td>1.0</td>\n",
       "      <td>79430.0</td>\n",
       "      <td>0.274706</td>\n",
       "      <td>0.266850</td>\n",
       "      <td>0.0</td>\n",
       "      <td>0.075240</td>\n",
       "      <td>0.183731</td>\n",
       "      <td>0.387144</td>\n",
       "      <td>1.0</td>\n",
       "      <td>79430.0</td>\n",
       "      <td>0.311486</td>\n",
       "      <td>0.209358</td>\n",
       "      <td>0.0</td>\n",
       "      <td>0.145153</td>\n",
       "      <td>0.270778</td>\n",
       "      <td>0.442879</td>\n",
       "      <td>1.0</td>\n",
       "      <td>79430.0</td>\n",
       "      <td>0.401881</td>\n",
       "      <td>0.215953</td>\n",
       "      <td>0.000000</td>\n",
       "      <td>0.231788</td>\n",
       "      <td>0.370019</td>\n",
       "      <td>0.544904</td>\n",
       "      <td>1.0</td>\n",
       "      <td>79430.0</td>\n",
       "      <td>0.222108</td>\n",
       "      <td>0.185360</td>\n",
       "      <td>0.0</td>\n",
       "      <td>0.072183</td>\n",
       "      <td>0.180910</td>\n",
       "      <td>0.333900</td>\n",
       "      <td>0.985556</td>\n",
       "      <td>79430.0</td>\n",
       "      <td>0.312661</td>\n",
       "      <td>0.196181</td>\n",
       "      <td>0.0</td>\n",
       "      <td>0.157462</td>\n",
       "      <td>0.281734</td>\n",
       "      <td>0.437949</td>\n",
       "      <td>1.0</td>\n",
       "      <td>79430.0</td>\n",
       "      <td>0.259254</td>\n",
       "      <td>0.255981</td>\n",
       "      <td>0.0</td>\n",
       "      <td>0.070708</td>\n",
       "      <td>0.173417</td>\n",
       "      <td>0.361908</td>\n",
       "      <td>1.0</td>\n",
       "      <td>79430.0</td>\n",
       "      <td>0.312710</td>\n",
       "      <td>0.196066</td>\n",
       "      <td>0.0</td>\n",
       "      <td>0.157628</td>\n",
       "      <td>0.281631</td>\n",
       "      <td>0.438050</td>\n",
       "      <td>1.0</td>\n",
       "      <td>79430.0</td>\n",
       "      <td>0.402537</td>\n",
       "      <td>0.205188</td>\n",
       "      <td>0.000000</td>\n",
       "      <td>0.242812</td>\n",
       "      <td>0.376532</td>\n",
       "      <td>0.539417</td>\n",
       "      <td>1.0</td>\n",
       "      <td>79430.0</td>\n",
       "      <td>0.226416</td>\n",
       "      <td>0.175908</td>\n",
       "      <td>0.0</td>\n",
       "      <td>0.085037</td>\n",
       "      <td>0.194009</td>\n",
       "      <td>0.336003</td>\n",
       "      <td>0.974195</td>\n",
       "      <td>79430.0</td>\n",
       "      <td>0.315884</td>\n",
       "      <td>0.188647</td>\n",
       "      <td>0.0</td>\n",
       "      <td>0.167242</td>\n",
       "      <td>0.290079</td>\n",
       "      <td>0.440201</td>\n",
       "      <td>1.0</td>\n",
       "      <td>79430.0</td>\n",
       "      <td>0.246352</td>\n",
       "      <td>0.248222</td>\n",
       "      <td>0.0</td>\n",
       "      <td>0.066542</td>\n",
       "      <td>0.163774</td>\n",
       "      <td>0.338175</td>\n",
       "      <td>1.0</td>\n",
       "      <td>79430.0</td>\n",
       "      <td>0.315870</td>\n",
       "      <td>0.188503</td>\n",
       "      <td>0.0</td>\n",
       "      <td>0.167165</td>\n",
       "      <td>0.290187</td>\n",
       "      <td>0.439825</td>\n",
       "      <td>1.0</td>\n",
       "      <td>79430.0</td>\n",
       "      <td>0.405769</td>\n",
       "      <td>0.200007</td>\n",
       "      <td>0.000000</td>\n",
       "      <td>0.250656</td>\n",
       "      <td>0.385004</td>\n",
       "      <td>0.539826</td>\n",
       "      <td>1.0</td>\n",
       "      <td>79430.0</td>\n",
       "      <td>0.233521</td>\n",
       "      <td>0.170891</td>\n",
       "      <td>0.0</td>\n",
       "      <td>0.096165</td>\n",
       "      <td>0.207617</td>\n",
       "      <td>0.344480</td>\n",
       "      <td>0.966906</td>\n",
       "      <td>79430.0</td>\n",
       "      <td>0.322749</td>\n",
       "      <td>0.185720</td>\n",
       "      <td>0.0</td>\n",
       "      <td>0.176901</td>\n",
       "      <td>0.300469</td>\n",
       "      <td>0.445238</td>\n",
       "      <td>1.0</td>\n",
       "      <td>79430.0</td>\n",
       "      <td>0.236300</td>\n",
       "      <td>0.242873</td>\n",
       "      <td>0.0</td>\n",
       "      <td>0.063182</td>\n",
       "      <td>0.155743</td>\n",
       "      <td>0.320332</td>\n",
       "      <td>1.0</td>\n",
       "      <td>79430.0</td>\n",
       "      <td>0.322784</td>\n",
       "      <td>0.185568</td>\n",
       "      <td>0.000000</td>\n",
       "      <td>0.177023</td>\n",
       "      <td>0.300425</td>\n",
       "      <td>0.445396</td>\n",
       "      <td>1.0</td>\n",
       "      <td>79430.0</td>\n",
       "      <td>0.413128</td>\n",
       "      <td>0.199097</td>\n",
       "      <td>0.000000</td>\n",
       "      <td>0.259815</td>\n",
       "      <td>0.393521</td>\n",
       "      <td>0.545681</td>\n",
       "      <td>1.0</td>\n",
       "      <td>79430.0</td>\n",
       "      <td>0.241321</td>\n",
       "      <td>0.170432</td>\n",
       "      <td>0.0</td>\n",
       "      <td>0.104403</td>\n",
       "      <td>0.219641</td>\n",
       "      <td>0.354351</td>\n",
       "      <td>0.946363</td>\n",
       "      <td>79430.0</td>\n",
       "      <td>0.330446</td>\n",
       "      <td>0.187217</td>\n",
       "      <td>0.0</td>\n",
       "      <td>0.183701</td>\n",
       "      <td>0.310605</td>\n",
       "      <td>0.456416</td>\n",
       "      <td>1.0</td>\n",
       "      <td>79430.0</td>\n",
       "      <td>0.235066</td>\n",
       "      <td>0.241754</td>\n",
       "      <td>0.0</td>\n",
       "      <td>0.062958</td>\n",
       "      <td>0.154613</td>\n",
       "      <td>0.318511</td>\n",
       "      <td>1.0</td>\n",
       "      <td>79430.0</td>\n",
       "      <td>0.330426</td>\n",
       "      <td>0.187075</td>\n",
       "      <td>0.0</td>\n",
       "      <td>0.183834</td>\n",
       "      <td>0.310653</td>\n",
       "      <td>0.456438</td>\n",
       "      <td>1.0</td>\n",
       "      <td>79430.0</td>\n",
       "      <td>0.436338</td>\n",
       "      <td>...</td>\n",
       "      <td>0.780590</td>\n",
       "      <td>1.0</td>\n",
       "      <td>79430.0</td>\n",
       "      <td>0.224222</td>\n",
       "      <td>0.232053</td>\n",
       "      <td>0.0</td>\n",
       "      <td>0.065125</td>\n",
       "      <td>0.14641</td>\n",
       "      <td>0.296226</td>\n",
       "      <td>1.0</td>\n",
       "      <td>79430.0</td>\n",
       "      <td>0.638405</td>\n",
       "      <td>0.187200</td>\n",
       "      <td>0.0</td>\n",
       "      <td>0.516324</td>\n",
       "      <td>0.658689</td>\n",
       "      <td>0.780379</td>\n",
       "      <td>1.000000</td>\n",
       "      <td>79430.0</td>\n",
       "      <td>0.725550</td>\n",
       "      <td>0.183063</td>\n",
       "      <td>0.000000</td>\n",
       "      <td>0.605970</td>\n",
       "      <td>0.746219</td>\n",
       "      <td>0.866984</td>\n",
       "      <td>1.0</td>\n",
       "      <td>79430.0</td>\n",
       "      <td>0.563730</td>\n",
       "      <td>0.185432</td>\n",
       "      <td>0.0</td>\n",
       "      <td>0.444098</td>\n",
       "      <td>0.584336</td>\n",
       "      <td>0.704264</td>\n",
       "      <td>0.999594</td>\n",
       "      <td>79430.0</td>\n",
       "      <td>0.648333</td>\n",
       "      <td>0.185339</td>\n",
       "      <td>0.0</td>\n",
       "      <td>0.528192</td>\n",
       "      <td>0.669500</td>\n",
       "      <td>0.789609</td>\n",
       "      <td>1.0</td>\n",
       "      <td>79430.0</td>\n",
       "      <td>0.216973</td>\n",
       "      <td>0.229314</td>\n",
       "      <td>0.0</td>\n",
       "      <td>0.060445</td>\n",
       "      <td>0.139826</td>\n",
       "      <td>0.287192</td>\n",
       "      <td>1.0</td>\n",
       "      <td>79430.0</td>\n",
       "      <td>0.648332</td>\n",
       "      <td>0.185244</td>\n",
       "      <td>0.0</td>\n",
       "      <td>0.528209</td>\n",
       "      <td>0.66934</td>\n",
       "      <td>0.789576</td>\n",
       "      <td>1.0</td>\n",
       "      <td>79430.0</td>\n",
       "      <td>0.734390</td>\n",
       "      <td>0.181623</td>\n",
       "      <td>0.000000</td>\n",
       "      <td>0.615627</td>\n",
       "      <td>0.755859</td>\n",
       "      <td>0.875789</td>\n",
       "      <td>1.0</td>\n",
       "      <td>79430.0</td>\n",
       "      <td>0.573072</td>\n",
       "      <td>0.186470</td>\n",
       "      <td>0.0</td>\n",
       "      <td>0.453778</td>\n",
       "      <td>0.595616</td>\n",
       "      <td>0.715005</td>\n",
       "      <td>0.999444</td>\n",
       "      <td>79430.0</td>\n",
       "      <td>0.656130</td>\n",
       "      <td>0.187154</td>\n",
       "      <td>0.0</td>\n",
       "      <td>0.536193</td>\n",
       "      <td>0.678542</td>\n",
       "      <td>0.798849</td>\n",
       "      <td>1.0</td>\n",
       "      <td>79430.0</td>\n",
       "      <td>0.215833</td>\n",
       "      <td>0.229699</td>\n",
       "      <td>0.0</td>\n",
       "      <td>0.058675</td>\n",
       "      <td>0.137535</td>\n",
       "      <td>0.286300</td>\n",
       "      <td>1.0</td>\n",
       "      <td>79430.0</td>\n",
       "      <td>0.656123</td>\n",
       "      <td>0.186978</td>\n",
       "      <td>0.0</td>\n",
       "      <td>0.536388</td>\n",
       "      <td>0.678372</td>\n",
       "      <td>0.798767</td>\n",
       "      <td>1.0</td>\n",
       "      <td>79430.0</td>\n",
       "      <td>0.755578</td>\n",
       "      <td>0.179948</td>\n",
       "      <td>0.000000</td>\n",
       "      <td>0.640292</td>\n",
       "      <td>0.781324</td>\n",
       "      <td>0.898580</td>\n",
       "      <td>1.0</td>\n",
       "      <td>79430.0</td>\n",
       "      <td>0.571217</td>\n",
       "      <td>0.189557</td>\n",
       "      <td>0.0</td>\n",
       "      <td>0.450790</td>\n",
       "      <td>0.597466</td>\n",
       "      <td>0.715236</td>\n",
       "      <td>0.999705</td>\n",
       "      <td>79430.0</td>\n",
       "      <td>0.665387</td>\n",
       "      <td>0.188655</td>\n",
       "      <td>0.0</td>\n",
       "      <td>0.546260</td>\n",
       "      <td>0.692721</td>\n",
       "      <td>0.810288</td>\n",
       "      <td>1.0</td>\n",
       "      <td>79430.0</td>\n",
       "      <td>0.264860</td>\n",
       "      <td>0.254403</td>\n",
       "      <td>0.0</td>\n",
       "      <td>0.083002</td>\n",
       "      <td>0.179996</td>\n",
       "      <td>0.357201</td>\n",
       "      <td>1.0</td>\n",
       "      <td>79430.0</td>\n",
       "      <td>0.665371</td>\n",
       "      <td>0.188471</td>\n",
       "      <td>0.0</td>\n",
       "      <td>0.546277</td>\n",
       "      <td>0.692752</td>\n",
       "      <td>0.810053</td>\n",
       "      <td>1.0</td>\n",
       "      <td>79430.0</td>\n",
       "      <td>0.753214</td>\n",
       "      <td>0.184363</td>\n",
       "      <td>0.00000</td>\n",
       "      <td>0.636059</td>\n",
       "      <td>0.782837</td>\n",
       "      <td>0.899101</td>\n",
       "      <td>1.0</td>\n",
       "      <td>79430.0</td>\n",
       "      <td>0.581911</td>\n",
       "      <td>0.194865</td>\n",
       "      <td>0.0</td>\n",
       "      <td>0.459278</td>\n",
       "      <td>0.613697</td>\n",
       "      <td>0.730681</td>\n",
       "      <td>0.999276</td>\n",
       "      <td>79430.0</td>\n",
       "      <td>0.666755</td>\n",
       "      <td>0.195102</td>\n",
       "      <td>0.0</td>\n",
       "      <td>0.543705</td>\n",
       "      <td>0.699531</td>\n",
       "      <td>0.816705</td>\n",
       "      <td>1.0</td>\n",
       "      <td>79430.0</td>\n",
       "      <td>0.243237</td>\n",
       "      <td>0.242199</td>\n",
       "      <td>0.0</td>\n",
       "      <td>0.072731</td>\n",
       "      <td>0.163042</td>\n",
       "      <td>0.327102</td>\n",
       "      <td>1.0</td>\n",
       "      <td>79430.0</td>\n",
       "      <td>0.666692</td>\n",
       "      <td>0.194999</td>\n",
       "      <td>0.0</td>\n",
       "      <td>0.543648</td>\n",
       "      <td>0.69952</td>\n",
       "      <td>0.816815</td>\n",
       "      <td>1.0</td>\n",
       "      <td>79430.0</td>\n",
       "      <td>0.751920</td>\n",
       "      <td>0.193646</td>\n",
       "      <td>0.000000</td>\n",
       "      <td>0.629493</td>\n",
       "      <td>0.787168</td>\n",
       "      <td>0.907710</td>\n",
       "      <td>1.0</td>\n",
       "      <td>79430.0</td>\n",
       "      <td>0.584905</td>\n",
       "      <td>0.204965</td>\n",
       "      <td>0.0</td>\n",
       "      <td>0.457405</td>\n",
       "      <td>0.622365</td>\n",
       "      <td>0.743344</td>\n",
       "      <td>1.000000</td>\n",
       "      <td>79430.0</td>\n",
       "      <td>0.667898</td>\n",
       "      <td>0.207247</td>\n",
       "      <td>0.0</td>\n",
       "      <td>0.537107</td>\n",
       "      <td>0.707112</td>\n",
       "      <td>0.829357</td>\n",
       "      <td>1.0</td>\n",
       "      <td>79430.0</td>\n",
       "      <td>0.234330</td>\n",
       "      <td>0.243149</td>\n",
       "      <td>0.0</td>\n",
       "      <td>0.064783</td>\n",
       "      <td>0.152028</td>\n",
       "      <td>0.312588</td>\n",
       "      <td>1.0</td>\n",
       "      <td>79430.0</td>\n",
       "      <td>0.667924</td>\n",
       "      <td>0.20715</td>\n",
       "      <td>0.0</td>\n",
       "      <td>0.537119</td>\n",
       "      <td>0.707097</td>\n",
       "      <td>0.829507</td>\n",
       "      <td>1.0</td>\n",
       "      <td>79430.0</td>\n",
       "      <td>0.751779</td>\n",
       "      <td>0.209790</td>\n",
       "      <td>0.00000</td>\n",
       "      <td>0.614160</td>\n",
       "      <td>0.789617</td>\n",
       "      <td>0.931258</td>\n",
       "      <td>1.0</td>\n",
       "      <td>79430.0</td>\n",
       "      <td>0.585970</td>\n",
       "      <td>0.220885</td>\n",
       "      <td>0.0</td>\n",
       "      <td>0.448932</td>\n",
       "      <td>0.630813</td>\n",
       "      <td>0.758128</td>\n",
       "      <td>1.000000</td>\n",
       "      <td>79430.0</td>\n",
       "      <td>0.667641</td>\n",
       "      <td>0.227008</td>\n",
       "      <td>0.0</td>\n",
       "      <td>0.522226</td>\n",
       "      <td>0.708278</td>\n",
       "      <td>0.848383</td>\n",
       "      <td>1.0</td>\n",
       "      <td>79430.0</td>\n",
       "      <td>0.229773</td>\n",
       "      <td>0.245887</td>\n",
       "      <td>0.0</td>\n",
       "      <td>0.059682</td>\n",
       "      <td>0.144913</td>\n",
       "      <td>0.303313</td>\n",
       "      <td>1.0</td>\n",
       "    </tr>\n",
       "  </tbody>\n",
       "</table>\n",
       "<p>2 rows × 1200 columns</p>\n",
       "</div>"
      ],
      "text/plain": [
       "       Open_1_count  Open_1_mean  Open_1_std  Open_1_min  Open_1_25%  \\\n",
       "label                                                                  \n",
       "0           78868.0     0.695096    0.247358         0.0    0.542948   \n",
       "1           79430.0     0.308171    0.247950         0.0    0.102202   \n",
       "\n",
       "       Open_1_50%  Open_1_75%  Open_1_max  High_1_count  High_1_mean  \\\n",
       "label                                                                  \n",
       "0        0.751690    0.899043         1.0       78868.0     0.783603   \n",
       "1        0.254177    0.465940         1.0       79430.0     0.396700   \n",
       "\n",
       "       High_1_std  High_1_min  High_1_25%  High_1_50%  High_1_75%  High_1_max  \\\n",
       "label                                                                           \n",
       "0        0.219797    0.000625    0.650916    0.845896    0.982054         1.0   \n",
       "1        0.248524    0.000000    0.195524    0.348127    0.557650         1.0   \n",
       "\n",
       "       Low_1_count  Low_1_mean  Low_1_std  Low_1_min  Low_1_25%  Low_1_50%  \\\n",
       "label                                                                        \n",
       "0          78868.0    0.608910   0.249180        0.0   0.450043   0.661347   \n",
       "1          79430.0    0.220028   0.222694        0.0   0.014713   0.159088   \n",
       "\n",
       "       Low_1_75%  Low_1_max  Close_1_count  Close_1_mean  Close_1_std  \\\n",
       "label                                                                   \n",
       "0       0.810271   0.999860        78868.0      0.697315     0.225989   \n",
       "1       0.357055   0.998836        79430.0      0.308251     0.227877   \n",
       "\n",
       "       Close_1_min  Close_1_25%  Close_1_50%  Close_1_75%  Close_1_max  \\\n",
       "label                                                                    \n",
       "0              0.0     0.556782     0.750146     0.880672          1.0   \n",
       "1              0.0     0.121993     0.257146     0.452127          1.0   \n",
       "\n",
       "       Volume_1_count  Volume_1_mean  Volume_1_std  Volume_1_min  \\\n",
       "label                                                              \n",
       "0             78868.0       0.244710      0.261310           0.0   \n",
       "1             79430.0       0.253611      0.265292           0.0   \n",
       "\n",
       "       Volume_1_25%  Volume_1_50%  Volume_1_75%  Volume_1_max  Open_2_count  \\\n",
       "label                                                                         \n",
       "0          0.055677      0.150975      0.337253           1.0       78868.0   \n",
       "1          0.060176      0.157900      0.350948           1.0       79430.0   \n",
       "\n",
       "       Open_2_mean  Open_2_std  Open_2_min  Open_2_25%  Open_2_50%  \\\n",
       "label                                                                \n",
       "0          0.69725    0.225883         0.0    0.556974    0.750074   \n",
       "1          0.30830    0.227743         0.0    0.122331    0.257031   \n",
       "\n",
       "       Open_2_75%  Open_2_max  High_2_count  High_2_mean  High_2_std  \\\n",
       "label                                                                  \n",
       "0        0.880824         1.0       78868.0     0.793520    0.196989   \n",
       "1        0.451804         1.0       79430.0     0.405977    0.231918   \n",
       "\n",
       "       High_2_min  High_2_25%  High_2_50%  High_2_75%  High_2_max  \\\n",
       "label                                                               \n",
       "0        0.013077    0.679175    0.850000    0.956318         1.0   \n",
       "1        0.000000    0.221207    0.367163    0.556393         1.0   \n",
       "\n",
       "       Low_2_count  Low_2_mean  Low_2_std  Low_2_min  Low_2_25%  Low_2_50%  \\\n",
       "label                                                                        \n",
       "0          78868.0    0.604009   0.230889        0.0   0.456114   0.648043   \n",
       "1          79430.0    0.214922   0.201000        0.0   0.047685   0.159351   \n",
       "\n",
       "       Low_2_75%  Low_2_max  Close_2_count  Close_2_mean  Close_2_std  \\\n",
       "label                                                                   \n",
       "0       0.786669   0.999757        78868.0      0.699199     0.206427   \n",
       "1       0.333818   0.981232        79430.0      0.311535     0.209516   \n",
       "\n",
       "       Close_2_min  Close_2_25%  Close_2_50%  Close_2_75%  Close_2_max  \\\n",
       "label                                                                    \n",
       "0              0.0     0.570709     0.742535     0.862432          1.0   \n",
       "1              0.0     0.144971     0.270625     0.443365          1.0   \n",
       "\n",
       "       Volume_2_count  Volume_2_mean  Volume_2_std  Volume_2_min  \\\n",
       "label                                                              \n",
       "0             78868.0       0.267775      0.263829           0.0   \n",
       "1             79430.0       0.274706      0.266850           0.0   \n",
       "\n",
       "       Volume_2_25%  Volume_2_50%  Volume_2_75%  Volume_2_max  Open_3_count  \\\n",
       "label                                                                         \n",
       "0          0.072061      0.178123      0.373096           1.0       78868.0   \n",
       "1          0.075240      0.183731      0.387144           1.0       79430.0   \n",
       "\n",
       "       Open_3_mean  Open_3_std  Open_3_min  Open_3_25%  Open_3_50%  \\\n",
       "label                                                                \n",
       "0         0.699089    0.206300         0.0    0.570822    0.742015   \n",
       "1         0.311486    0.209358         0.0    0.145153    0.270778   \n",
       "\n",
       "       Open_3_75%  Open_3_max  High_3_count  High_3_mean  High_3_std  \\\n",
       "label                                                                  \n",
       "0        0.862232         1.0       78868.0     0.787229    0.181294   \n",
       "1        0.442879         1.0       79430.0     0.401881    0.215953   \n",
       "\n",
       "       High_3_min  High_3_25%  High_3_50%  High_3_75%  High_3_max  \\\n",
       "label                                                               \n",
       "0        0.019615    0.680540    0.829391    0.932610         1.0   \n",
       "1        0.000000    0.231788    0.370019    0.544904         1.0   \n",
       "\n",
       "       Low_3_count  Low_3_mean  Low_3_std  Low_3_min  Low_3_25%  Low_3_50%  \\\n",
       "label                                                                        \n",
       "0          78868.0    0.608487   0.214613        0.0   0.469003   0.642396   \n",
       "1          79430.0    0.222108   0.185360        0.0   0.072183   0.180910   \n",
       "\n",
       "       Low_3_75%  Low_3_max  Close_3_count  Close_3_mean  Close_3_std  \\\n",
       "label                                                                   \n",
       "0       0.777445   0.999757        78868.0      0.696804     0.192959   \n",
       "1       0.333900   0.985556        79430.0      0.312661     0.196181   \n",
       "\n",
       "       Close_3_min  Close_3_25%  Close_3_50%  Close_3_75%  Close_3_max  \\\n",
       "label                                                                    \n",
       "0              0.0     0.574875     0.730227     0.848911          1.0   \n",
       "1              0.0     0.157462     0.281734     0.437949          1.0   \n",
       "\n",
       "       Volume_3_count  Volume_3_mean  Volume_3_std  Volume_3_min  \\\n",
       "label                                                              \n",
       "0             78868.0       0.252746      0.253955           0.0   \n",
       "1             79430.0       0.259254      0.255981           0.0   \n",
       "\n",
       "       Volume_3_25%  Volume_3_50%  Volume_3_75%  Volume_3_max  Open_4_count  \\\n",
       "label                                                                         \n",
       "0          0.066613      0.167427      0.350656           1.0       78868.0   \n",
       "1          0.070708      0.173417      0.361908           1.0       79430.0   \n",
       "\n",
       "       Open_4_mean  Open_4_std  Open_4_min  Open_4_25%  Open_4_50%  \\\n",
       "label                                                                \n",
       "0         0.696753    0.192752         0.0    0.574802    0.730155   \n",
       "1         0.312710    0.196066         0.0    0.157628    0.281631   \n",
       "\n",
       "       Open_4_75%  Open_4_max  High_4_count  High_4_mean  High_4_std  \\\n",
       "label                                                                  \n",
       "0        0.848839         1.0       78868.0     0.781386    0.171082   \n",
       "1        0.438050         1.0       79430.0     0.402537    0.205188   \n",
       "\n",
       "       High_4_min  High_4_25%  High_4_50%  High_4_75%  High_4_max  \\\n",
       "label                                                               \n",
       "0        0.059005    0.676592    0.814583    0.917722         1.0   \n",
       "1        0.000000    0.242812    0.376532    0.539417         1.0   \n",
       "\n",
       "       Low_4_count  Low_4_mean  Low_4_std  Low_4_min  Low_4_25%  Low_4_50%  \\\n",
       "label                                                                        \n",
       "0          78868.0    0.607335   0.203769        0.0   0.474145   0.633427   \n",
       "1          79430.0    0.226416   0.175908        0.0   0.085037   0.194009   \n",
       "\n",
       "       Low_4_75%  Low_4_max  Close_4_count  Close_4_mean  Close_4_std  \\\n",
       "label                                                                   \n",
       "0       0.765935   0.999487        78868.0      0.691904     0.185588   \n",
       "1       0.336003   0.974195        79430.0      0.315884     0.188647   \n",
       "\n",
       "       Close_4_min  Close_4_25%  Close_4_50%  Close_4_75%  Close_4_max  \\\n",
       "label                                                                    \n",
       "0              0.0     0.572496     0.718439     0.838197          1.0   \n",
       "1              0.0     0.167242     0.290079     0.440201          1.0   \n",
       "\n",
       "       Volume_4_count  Volume_4_mean  Volume_4_std  Volume_4_min  \\\n",
       "label                                                              \n",
       "0             78868.0       0.239556      0.245620           0.0   \n",
       "1             79430.0       0.246352      0.248222           0.0   \n",
       "\n",
       "       Volume_4_25%  Volume_4_50%  Volume_4_75%  Volume_4_max  Open_5_count  \\\n",
       "label                                                                         \n",
       "0          0.062385      0.157651      0.328495           1.0       78868.0   \n",
       "1          0.066542      0.163774      0.338175           1.0       79430.0   \n",
       "\n",
       "       Open_5_mean  Open_5_std  Open_5_min  Open_5_25%  Open_5_50%  \\\n",
       "label                                                                \n",
       "0         0.691841    0.185460         0.0    0.572534    0.718304   \n",
       "1         0.315870    0.188503         0.0    0.167165    0.290187   \n",
       "\n",
       "       Open_5_75%  Open_5_max  High_5_count  High_5_mean  High_5_std  \\\n",
       "label                                                                  \n",
       "0        0.838115         1.0       78868.0     0.774552    0.166304   \n",
       "1        0.439825         1.0       79430.0     0.405769    0.200007   \n",
       "\n",
       "       High_5_min  High_5_25%  High_5_50%  High_5_75%  High_5_max  \\\n",
       "label                                                               \n",
       "0        0.071293    0.668314    0.800753    0.907814         1.0   \n",
       "1        0.000000    0.250656    0.385004    0.539826         1.0   \n",
       "\n",
       "       Low_5_count  Low_5_mean  Low_5_std  Low_5_min  Low_5_25%  Low_5_50%  \\\n",
       "label                                                                        \n",
       "0          78868.0    0.603164   0.198850        0.0   0.472662   0.625392   \n",
       "1          79430.0    0.233521   0.170891        0.0   0.096165   0.207617   \n",
       "\n",
       "       Low_5_75%  Low_5_max  Close_5_count  Close_5_mean  Close_5_std  \\\n",
       "label                                                                   \n",
       "0       0.756802   0.999802        78868.0      0.686214     0.182598   \n",
       "1       0.344480   0.966906        79430.0      0.322749     0.185720   \n",
       "\n",
       "       Close_5_min  Close_5_25%  Close_5_50%  Close_5_75%  Close_5_max  \\\n",
       "label                                                                    \n",
       "0              0.0     0.567023     0.709299     0.828682          1.0   \n",
       "1              0.0     0.176901     0.300469     0.445238          1.0   \n",
       "\n",
       "       Volume_5_count  Volume_5_mean  Volume_5_std  Volume_5_min  \\\n",
       "label                                                              \n",
       "0             78868.0       0.232197      0.241135           0.0   \n",
       "1             79430.0       0.236300      0.242873           0.0   \n",
       "\n",
       "       Volume_5_25%  Volume_5_50%  Volume_5_75%  Volume_5_max  Open_6_count  \\\n",
       "label                                                                         \n",
       "0          0.060080      0.151128      0.315365           1.0       78868.0   \n",
       "1          0.063182      0.155743      0.320332           1.0       79430.0   \n",
       "\n",
       "       Open_6_mean  Open_6_std  Open_6_min  Open_6_25%  Open_6_50%  \\\n",
       "label                                                                \n",
       "0         0.686216    0.182436    0.000667    0.567036    0.709105   \n",
       "1         0.322784    0.185568    0.000000    0.177023    0.300425   \n",
       "\n",
       "       Open_6_75%  Open_6_max  High_6_count  High_6_mean  High_6_std  \\\n",
       "label                                                                  \n",
       "0        0.828758         1.0       78868.0     0.767060    0.166175   \n",
       "1        0.445396         1.0       79430.0     0.413128    0.199097   \n",
       "\n",
       "       High_6_min  High_6_25%  High_6_50%  High_6_75%  High_6_max  \\\n",
       "label                                                               \n",
       "0        0.071605    0.658267    0.789234    0.900000         1.0   \n",
       "1        0.000000    0.259815    0.393521    0.545681         1.0   \n",
       "\n",
       "       Low_6_count  Low_6_mean  Low_6_std  Low_6_min  Low_6_25%  Low_6_50%  \\\n",
       "label                                                                        \n",
       "0          78868.0    0.596868   0.198257        0.0   0.467551   0.617719   \n",
       "1          79430.0    0.241321   0.170432        0.0   0.104403   0.219641   \n",
       "\n",
       "       Low_6_75%  Low_6_max  Close_6_count  Close_6_mean  Close_6_std  \\\n",
       "label                                                                   \n",
       "0       0.748552   0.999802        78868.0      0.678702     0.184501   \n",
       "1       0.354351   0.946363        79430.0      0.330446     0.187217   \n",
       "\n",
       "       Close_6_min  Close_6_25%  Close_6_50%  Close_6_75%  Close_6_max  \\\n",
       "label                                                                    \n",
       "0              0.0     0.557322     0.700178     0.822157          1.0   \n",
       "1              0.0     0.183701     0.310605     0.456416          1.0   \n",
       "\n",
       "       Volume_6_count  Volume_6_mean  Volume_6_std  Volume_6_min  \\\n",
       "label                                                              \n",
       "0             78868.0       0.227344      0.237788           0.0   \n",
       "1             79430.0       0.235066      0.241754           0.0   \n",
       "\n",
       "       Volume_6_25%  Volume_6_50%  Volume_6_75%  Volume_6_max  Open_7_count  \\\n",
       "label                                                                         \n",
       "0          0.059026      0.147428      0.307834           1.0       78868.0   \n",
       "1          0.062958      0.154613      0.318511           1.0       79430.0   \n",
       "\n",
       "       Open_7_mean  Open_7_std  Open_7_min  Open_7_25%  Open_7_50%  \\\n",
       "label                                                                \n",
       "0         0.678684    0.184278         0.0    0.557359    0.700216   \n",
       "1         0.330426    0.187075         0.0    0.183834    0.310653   \n",
       "\n",
       "       Open_7_75%  Open_7_max  High_7_count  High_7_mean  ...  Close_24_75%  \\\n",
       "label                                                     ...                 \n",
       "0        0.821912         1.0       78868.0     0.770455  ...      0.501305   \n",
       "1        0.456438         1.0       79430.0     0.436338  ...      0.780590   \n",
       "\n",
       "       Close_24_max  Volume_24_count  Volume_24_mean  Volume_24_std  \\\n",
       "label                                                                 \n",
       "0               1.0          78868.0        0.228135       0.235803   \n",
       "1               1.0          79430.0        0.224222       0.232053   \n",
       "\n",
       "       Volume_24_min  Volume_24_25%  Volume_24_50%  Volume_24_75%  \\\n",
       "label                                                               \n",
       "0                0.0       0.065206        0.14850       0.301768   \n",
       "1                0.0       0.065125        0.14641       0.296226   \n",
       "\n",
       "       Volume_24_max  Open_25_count  Open_25_mean  Open_25_std  Open_25_min  \\\n",
       "label                                                                         \n",
       "0                1.0        78868.0      0.376289     0.188286          0.0   \n",
       "1                1.0        79430.0      0.638405     0.187200          0.0   \n",
       "\n",
       "       Open_25_25%  Open_25_50%  Open_25_75%  Open_25_max  High_25_count  \\\n",
       "label                                                                      \n",
       "0         0.234299     0.357846     0.501122     0.999545        78868.0   \n",
       "1         0.516324     0.658689     0.780379     1.000000        79430.0   \n",
       "\n",
       "       High_25_mean  High_25_std  High_25_min  High_25_25%  High_25_50%  \\\n",
       "label                                                                     \n",
       "0          0.454335     0.184132     0.001031     0.315427     0.435035   \n",
       "1          0.725550     0.183063     0.000000     0.605970     0.746219   \n",
       "\n",
       "       High_25_75%  High_25_max  Low_25_count  Low_25_mean  Low_25_std  \\\n",
       "label                                                                    \n",
       "0         0.575120          1.0       78868.0     0.286471    0.187337   \n",
       "1         0.866984          1.0       79430.0     0.563730    0.185432   \n",
       "\n",
       "       Low_25_min  Low_25_25%  Low_25_50%  Low_25_75%  Low_25_max  \\\n",
       "label                                                               \n",
       "0             0.0    0.142669    0.266671    0.410712    0.973564   \n",
       "1             0.0    0.444098    0.584336    0.704264    0.999594   \n",
       "\n",
       "       Close_25_count  Close_25_mean  Close_25_std  Close_25_min  \\\n",
       "label                                                              \n",
       "0             78868.0       0.366869      0.187300           0.0   \n",
       "1             79430.0       0.648333      0.185339           0.0   \n",
       "\n",
       "       Close_25_25%  Close_25_50%  Close_25_75%  Close_25_max  \\\n",
       "label                                                           \n",
       "0          0.225213      0.346798      0.489898           1.0   \n",
       "1          0.528192      0.669500      0.789609           1.0   \n",
       "\n",
       "       Volume_25_count  Volume_25_mean  Volume_25_std  Volume_25_min  \\\n",
       "label                                                                  \n",
       "0              78868.0        0.221502       0.232723            0.0   \n",
       "1              79430.0        0.216973       0.229314            0.0   \n",
       "\n",
       "       Volume_25_25%  Volume_25_50%  Volume_25_75%  Volume_25_max  \\\n",
       "label                                                               \n",
       "0           0.061929       0.142647       0.292873            1.0   \n",
       "1           0.060445       0.139826       0.287192            1.0   \n",
       "\n",
       "       Open_26_count  Open_26_mean  Open_26_std  Open_26_min  Open_26_25%  \\\n",
       "label                                                                       \n",
       "0            78868.0      0.366912     0.187096          0.0     0.225358   \n",
       "1            79430.0      0.648332     0.185244          0.0     0.528209   \n",
       "\n",
       "       Open_26_50%  Open_26_75%  Open_26_max  High_26_count  High_26_mean  \\\n",
       "label                                                                       \n",
       "0          0.34686     0.489898          1.0        78868.0      0.445757   \n",
       "1          0.66934     0.789576          1.0        79430.0      0.734390   \n",
       "\n",
       "       High_26_std  High_26_min  High_26_25%  High_26_50%  High_26_75%  \\\n",
       "label                                                                    \n",
       "0         0.185370     0.000672     0.305243     0.424298     0.566659   \n",
       "1         0.181623     0.000000     0.615627     0.755859     0.875789   \n",
       "\n",
       "       High_26_max  Low_26_count  Low_26_mean  Low_26_std  Low_26_min  \\\n",
       "label                                                                   \n",
       "0              1.0       78868.0     0.277603    0.186599         0.0   \n",
       "1              1.0       79430.0     0.573072    0.186470         0.0   \n",
       "\n",
       "       Low_26_25%  Low_26_50%  Low_26_75%  Low_26_max  Close_26_count  \\\n",
       "label                                                                   \n",
       "0        0.133290    0.256742    0.401116    0.982044         78868.0   \n",
       "1        0.453778    0.595616    0.715005    0.999444         79430.0   \n",
       "\n",
       "       Close_26_mean  Close_26_std  Close_26_min  Close_26_25%  Close_26_50%  \\\n",
       "label                                                                          \n",
       "0           0.359074      0.189536           0.0      0.215430      0.338458   \n",
       "1           0.656130      0.187154           0.0      0.536193      0.678542   \n",
       "\n",
       "       Close_26_75%  Close_26_max  Volume_26_count  Volume_26_mean  \\\n",
       "label                                                                \n",
       "0          0.483595           1.0          78868.0        0.220923   \n",
       "1          0.798849           1.0          79430.0        0.215833   \n",
       "\n",
       "       Volume_26_std  Volume_26_min  Volume_26_25%  Volume_26_50%  \\\n",
       "label                                                               \n",
       "0           0.234526            0.0       0.060266       0.141143   \n",
       "1           0.229699            0.0       0.058675       0.137535   \n",
       "\n",
       "       Volume_26_75%  Volume_26_max  Open_27_count  Open_27_mean  Open_27_std  \\\n",
       "label                                                                           \n",
       "0           0.291869            1.0        78868.0      0.359050     0.189410   \n",
       "1           0.286300            1.0        79430.0      0.656123     0.186978   \n",
       "\n",
       "       Open_27_min  Open_27_25%  Open_27_50%  Open_27_75%  Open_27_max  \\\n",
       "label                                                                    \n",
       "0              0.0     0.215452     0.338348     0.483225          1.0   \n",
       "1              0.0     0.536388     0.678372     0.798767          1.0   \n",
       "\n",
       "       High_27_count  High_27_mean  High_27_std  High_27_min  High_27_25%  \\\n",
       "label                                                                       \n",
       "0            78868.0      0.451156     0.189567     0.000671     0.306847   \n",
       "1            79430.0      0.755578     0.179948     0.000000     0.640292   \n",
       "\n",
       "       High_27_50%  High_27_75%  High_27_max  Low_27_count  Low_27_mean  \\\n",
       "label                                                                     \n",
       "0         0.427817     0.572739          1.0       78868.0     0.260819   \n",
       "1         0.781324     0.898580          1.0       79430.0     0.571217   \n",
       "\n",
       "       Low_27_std  Low_27_min  Low_27_25%  Low_27_50%  Low_27_75%  Low_27_max  \\\n",
       "label                                                                           \n",
       "0        0.185425         0.0    0.114796    0.237232    0.382511    0.990638   \n",
       "1        0.189557         0.0    0.450790    0.597466    0.715236    0.999705   \n",
       "\n",
       "       Close_27_count  Close_27_mean  Close_27_std  Close_27_min  \\\n",
       "label                                                              \n",
       "0             78868.0       0.355942      0.192388           0.0   \n",
       "1             79430.0       0.665387      0.188655           0.0   \n",
       "\n",
       "       Close_27_25%  Close_27_50%  Close_27_75%  Close_27_max  \\\n",
       "label                                                           \n",
       "0          0.209459      0.331724      0.478923           1.0   \n",
       "1          0.546260      0.692721      0.810288           1.0   \n",
       "\n",
       "       Volume_27_count  Volume_27_mean  Volume_27_std  Volume_27_min  \\\n",
       "label                                                                  \n",
       "0              78868.0        0.264912       0.253077            0.0   \n",
       "1              79430.0        0.264860       0.254403            0.0   \n",
       "\n",
       "       Volume_27_25%  Volume_27_50%  Volume_27_75%  Volume_27_max  \\\n",
       "label                                                               \n",
       "0           0.083940       0.180655       0.357683            1.0   \n",
       "1           0.083002       0.179996       0.357201            1.0   \n",
       "\n",
       "       Open_28_count  Open_28_mean  Open_28_std  Open_28_min  Open_28_25%  \\\n",
       "label                                                                       \n",
       "0            78868.0      0.355943     0.192309          0.0     0.209520   \n",
       "1            79430.0      0.665371     0.188471          0.0     0.546277   \n",
       "\n",
       "       Open_28_50%  Open_28_75%  Open_28_max  High_28_count  High_28_mean  \\\n",
       "label                                                                       \n",
       "0         0.331737     0.478950          1.0        78868.0      0.441176   \n",
       "1         0.692752     0.810053          1.0        79430.0      0.753214   \n",
       "\n",
       "       High_28_std  High_28_min  High_28_25%  High_28_50%  High_28_75%  \\\n",
       "label                                                                    \n",
       "0         0.195472      0.00046     0.291151     0.412005     0.565137   \n",
       "1         0.184363      0.00000     0.636059     0.782837     0.899101   \n",
       "\n",
       "       High_28_max  Low_28_count  Low_28_mean  Low_28_std  Low_28_min  \\\n",
       "label                                                                   \n",
       "0              1.0       78868.0     0.263831    0.191549         0.0   \n",
       "1              1.0       79430.0     0.581911    0.194865         0.0   \n",
       "\n",
       "       Low_28_25%  Low_28_50%  Low_28_75%  Low_28_max  Close_28_count  \\\n",
       "label                                                                   \n",
       "0        0.112350    0.236177    0.390041    0.986594         78868.0   \n",
       "1        0.459278    0.613697    0.730681    0.999276         79430.0   \n",
       "\n",
       "       Close_28_mean  Close_28_std  Close_28_min  Close_28_25%  Close_28_50%  \\\n",
       "label                                                                          \n",
       "0           0.351474      0.199326           0.0      0.197629      0.321432   \n",
       "1           0.666755      0.195102           0.0      0.543705      0.699531   \n",
       "\n",
       "       Close_28_75%  Close_28_max  Volume_28_count  Volume_28_mean  \\\n",
       "label                                                                \n",
       "0          0.478831           1.0          78868.0        0.246476   \n",
       "1          0.816705           1.0          79430.0        0.243237   \n",
       "\n",
       "       Volume_28_std  Volume_28_min  Volume_28_25%  Volume_28_50%  \\\n",
       "label                                                               \n",
       "0           0.245262            0.0       0.073885       0.163880   \n",
       "1           0.242199            0.0       0.072731       0.163042   \n",
       "\n",
       "       Volume_28_75%  Volume_28_max  Open_29_count  Open_29_mean  Open_29_std  \\\n",
       "label                                                                           \n",
       "0           0.330694            1.0        78868.0      0.351437     0.199160   \n",
       "1           0.327102            1.0        79430.0      0.666692     0.194999   \n",
       "\n",
       "       Open_29_min  Open_29_25%  Open_29_50%  Open_29_75%  Open_29_max  \\\n",
       "label                                                                    \n",
       "0              0.0     0.197606      0.32107     0.478508          1.0   \n",
       "1              0.0     0.543648      0.69952     0.816815          1.0   \n",
       "\n",
       "       High_29_count  High_29_mean  High_29_std  High_29_min  High_29_25%  \\\n",
       "label                                                                       \n",
       "0            78868.0      0.435148     0.204662     0.000248     0.276591   \n",
       "1            79430.0      0.751920     0.193646     0.000000     0.629493   \n",
       "\n",
       "       High_29_50%  High_29_75%  High_29_max  Low_29_count  Low_29_mean  \\\n",
       "label                                                                     \n",
       "0         0.400993     0.563969          1.0       78868.0     0.262000   \n",
       "1         0.787168     0.907710          1.0       79430.0     0.584905   \n",
       "\n",
       "       Low_29_std  Low_29_min  Low_29_25%  Low_29_50%  Low_29_75%  Low_29_max  \\\n",
       "label                                                                           \n",
       "0        0.200821         0.0    0.099872    0.227899    0.392405    0.999391   \n",
       "1        0.204965         0.0    0.457405    0.622365    0.743344    1.000000   \n",
       "\n",
       "       Close_29_count  Close_29_mean  Close_29_std  Close_29_min  \\\n",
       "label                                                              \n",
       "0             78868.0       0.348128      0.210601           0.0   \n",
       "1             79430.0       0.667898      0.207247           0.0   \n",
       "\n",
       "       Close_29_25%  Close_29_50%  Close_29_75%  Close_29_max  \\\n",
       "label                                                           \n",
       "0          0.182632      0.312152      0.483684           1.0   \n",
       "1          0.537107      0.707112      0.829357           1.0   \n",
       "\n",
       "       Volume_29_count  Volume_29_mean  Volume_29_std  Volume_29_min  \\\n",
       "label                                                                  \n",
       "0              78868.0        0.237998       0.245222            0.0   \n",
       "1              79430.0        0.234330       0.243149            0.0   \n",
       "\n",
       "       Volume_29_25%  Volume_29_50%  Volume_29_75%  Volume_29_max  \\\n",
       "label                                                               \n",
       "0           0.066419       0.155302       0.317423            1.0   \n",
       "1           0.064783       0.152028       0.312588            1.0   \n",
       "\n",
       "       Open_30_count  Open_30_mean  Open_30_std  Open_30_min  Open_30_25%  \\\n",
       "label                                                                       \n",
       "0            78868.0      0.348162      0.21057          0.0     0.182628   \n",
       "1            79430.0      0.667924      0.20715          0.0     0.537119   \n",
       "\n",
       "       Open_30_50%  Open_30_75%  Open_30_max  High_30_count  High_30_mean  \\\n",
       "label                                                                       \n",
       "0         0.311853     0.483843          1.0        78868.0      0.432246   \n",
       "1         0.707097     0.829507          1.0        79430.0      0.751779   \n",
       "\n",
       "       High_30_std  High_30_min  High_30_25%  High_30_50%  High_30_75%  \\\n",
       "label                                                                    \n",
       "0         0.220458      0.00035     0.259535     0.391716     0.571513   \n",
       "1         0.209790      0.00000     0.614160     0.789617     0.931258   \n",
       "\n",
       "       High_30_max  Low_30_count  Low_30_mean  Low_30_std  Low_30_min  \\\n",
       "label                                                                   \n",
       "0              1.0       78868.0     0.260284    0.217498         0.0   \n",
       "1              1.0       79430.0     0.585970    0.220885         0.0   \n",
       "\n",
       "       Low_30_25%  Low_30_50%  Low_30_75%  Low_30_max  Close_30_count  \\\n",
       "label                                                                   \n",
       "0        0.071997    0.223374    0.405534    0.999391         78868.0   \n",
       "1        0.448932    0.630813    0.758128    1.000000         79430.0   \n",
       "\n",
       "       Close_30_mean  Close_30_std  Close_30_min  Close_30_25%  Close_30_50%  \\\n",
       "label                                                                          \n",
       "0           0.346842      0.230391           0.0      0.163286      0.309033   \n",
       "1           0.667641      0.227008           0.0      0.522226      0.708278   \n",
       "\n",
       "       Close_30_75%  Close_30_max  Volume_30_count  Volume_30_mean  \\\n",
       "label                                                                \n",
       "0          0.496777           1.0          78868.0        0.234621   \n",
       "1          0.848383           1.0          79430.0        0.229773   \n",
       "\n",
       "       Volume_30_std  Volume_30_min  Volume_30_25%  Volume_30_50%  \\\n",
       "label                                                               \n",
       "0           0.251125            0.0       0.060727       0.147026   \n",
       "1           0.245887            0.0       0.059682       0.144913   \n",
       "\n",
       "       Volume_30_75%  Volume_30_max  \n",
       "label                                \n",
       "0           0.310910            1.0  \n",
       "1           0.303313            1.0  \n",
       "\n",
       "[2 rows x 1200 columns]"
      ]
     },
     "execution_count": 76,
     "metadata": {},
     "output_type": "execute_result"
    }
   ],
   "source": [
    "dsc"
   ]
  },
  {
   "cell_type": "code",
   "execution_count": 253,
   "id": "d5315df5",
   "metadata": {},
   "outputs": [],
   "source": [
    "idcs = list(dfc[dfc.label==0].index )"
   ]
  },
  {
   "cell_type": "code",
   "execution_count": 280,
   "id": "1abdde14",
   "metadata": {},
   "outputs": [
    {
     "data": {
      "text/html": [
       "<div>\n",
       "<style scoped>\n",
       "    .dataframe tbody tr th:only-of-type {\n",
       "        vertical-align: middle;\n",
       "    }\n",
       "\n",
       "    .dataframe tbody tr th {\n",
       "        vertical-align: top;\n",
       "    }\n",
       "\n",
       "    .dataframe thead th {\n",
       "        text-align: right;\n",
       "    }\n",
       "</style>\n",
       "<table border=\"1\" class=\"dataframe\">\n",
       "  <thead>\n",
       "    <tr style=\"text-align: right;\">\n",
       "      <th></th>\n",
       "      <th>0</th>\n",
       "      <th>1</th>\n",
       "    </tr>\n",
       "  </thead>\n",
       "  <tbody>\n",
       "    <tr>\n",
       "      <th>count</th>\n",
       "      <td>9497.000000</td>\n",
       "      <td>9497.000000</td>\n",
       "    </tr>\n",
       "    <tr>\n",
       "      <th>mean</th>\n",
       "      <td>1.001192</td>\n",
       "      <td>1.005122</td>\n",
       "    </tr>\n",
       "    <tr>\n",
       "      <th>std</th>\n",
       "      <td>0.001389</td>\n",
       "      <td>0.005510</td>\n",
       "    </tr>\n",
       "    <tr>\n",
       "      <th>min</th>\n",
       "      <td>1.000000</td>\n",
       "      <td>1.000000</td>\n",
       "    </tr>\n",
       "    <tr>\n",
       "      <th>25%</th>\n",
       "      <td>1.000355</td>\n",
       "      <td>1.002174</td>\n",
       "    </tr>\n",
       "    <tr>\n",
       "      <th>50%</th>\n",
       "      <td>1.000836</td>\n",
       "      <td>1.003585</td>\n",
       "    </tr>\n",
       "    <tr>\n",
       "      <th>75%</th>\n",
       "      <td>1.001563</td>\n",
       "      <td>1.006035</td>\n",
       "    </tr>\n",
       "    <tr>\n",
       "      <th>max</th>\n",
       "      <td>1.024757</td>\n",
       "      <td>1.091107</td>\n",
       "    </tr>\n",
       "  </tbody>\n",
       "</table>\n",
       "</div>"
      ],
      "text/plain": [
       "                 0            1\n",
       "count  9497.000000  9497.000000\n",
       "mean      1.001192     1.005122\n",
       "std       0.001389     0.005510\n",
       "min       1.000000     1.000000\n",
       "25%       1.000355     1.002174\n",
       "50%       1.000836     1.003585\n",
       "75%       1.001563     1.006035\n",
       "max       1.024757     1.091107"
      ]
     },
     "execution_count": 280,
     "metadata": {},
     "output_type": "execute_result"
    }
   ],
   "source": [
    "pd.DataFrame([[target_list_real[i][0,0]/target_list_real[i].min(),target_list_real[i].max()/target_list_real[i][0,0]] for i in idcs]).describe()"
   ]
  },
  {
   "cell_type": "code",
   "execution_count": 91,
   "id": "3cceab5e",
   "metadata": {},
   "outputs": [
    {
     "data": {
      "text/plain": [
       "(30, 4)"
      ]
     },
     "execution_count": 91,
     "metadata": {},
     "output_type": "execute_result"
    }
   ],
   "source": [
    "target_list_real[0].shape"
   ]
  },
  {
   "cell_type": "code",
   "execution_count": 42,
   "id": "3a04d2c2",
   "metadata": {},
   "outputs": [],
   "source": [
    "target_1_label = np.concatenate([np.array([(target_list_real[i].max()/target_list_real[i][0,3]),(target_list_real[i].min()/target_list_real[i][0,3])]) for i in idcs]).reshape((len(idcs),2)).mean(axis=0)"
   ]
  },
  {
   "cell_type": "code",
   "execution_count": 43,
   "id": "f089af67",
   "metadata": {},
   "outputs": [
    {
     "data": {
      "text/plain": [
       "array([1.00139585, 0.9963694 ])"
      ]
     },
     "execution_count": 43,
     "metadata": {},
     "output_type": "execute_result"
    }
   ],
   "source": [
    "target_1_label"
   ]
  },
  {
   "cell_type": "code",
   "execution_count": 41,
   "id": "e8a7c829",
   "metadata": {},
   "outputs": [
    {
     "data": {
      "text/plain": [
       "array([1.00139585, 0.9963694 ])"
      ]
     },
     "execution_count": 41,
     "metadata": {},
     "output_type": "execute_result"
    }
   ],
   "source": [
    "np.concatenate(target_1_label).reshape((len(target_1_label),2)).mean(axis=0)"
   ]
  },
  {
   "cell_type": "code",
   "execution_count": 79,
   "id": "24e0e81b",
   "metadata": {
    "scrolled": false
   },
   "outputs": [
    {
     "data": {
      "application/vnd.plotly.v1+json": {
       "config": {
        "plotlyServerURL": "https://plot.ly"
       },
       "data": [
        {
         "close": [
          0.6973153707626375,
          0.6991985134124775,
          0.6968036239957481,
          0.6919035479369232,
          0.6862135142566012,
          0.6787018286402781,
          0.6685261931480762,
          0.6516578273733727,
          0.6352413675444408,
          0.6178092834385699,
          0.6023724365088488,
          0.5836580214972606,
          0.5622719323832397,
          0.5422830159161529,
          0.5244263213470608,
          0.5076819003816397,
          0.48827498635603783,
          0.4668595692292301,
          0.4475379570955687,
          0.4290498494428592,
          0.41474877798501875,
          0.4022025840579476,
          0.3886257867246065,
          0.376297264875181,
          0.3668693045623887,
          0.3590738064559432,
          0.3559420313690945,
          0.3514742298209585,
          0.34812833759336703,
          0.34684154746523105
         ],
         "high": [
          0.7836029001209648,
          0.7935202445268223,
          0.787229368999385,
          0.7813855318877528,
          0.7745524470870737,
          0.7670596581611289,
          0.7704551391244111,
          0.7486588997672293,
          0.7297329470068111,
          0.7115023903818326,
          0.6938075091866969,
          0.6845822268575419,
          0.6589053656226534,
          0.6365999892706518,
          0.6162064049808205,
          0.5989629895097198,
          0.5922122863515044,
          0.5647344236827276,
          0.5424891494497603,
          0.5223744105304778,
          0.5047031800772216,
          0.49922423404408234,
          0.48058246152169437,
          0.46648607292478816,
          0.454335268529645,
          0.44575660841990694,
          0.4511558542402079,
          0.4411764671032805,
          0.43514825768228566,
          0.43224602836589926
         ],
         "low": [
          0.6089103349141017,
          0.6040088669334925,
          0.6084870054150783,
          0.6073348921224181,
          0.6031641745949983,
          0.5968675651800259,
          0.5775204230483695,
          0.5695136512656779,
          0.5553556206110898,
          0.5389960408494646,
          0.5239515879273755,
          0.5001908873385442,
          0.48390055826133727,
          0.46500034910839466,
          0.4475127050448944,
          0.4302105840175751,
          0.4017721722133197,
          0.3869493061051005,
          0.36898704332016025,
          0.3504810095679858,
          0.3359496942175013,
          0.31554396346461816,
          0.3068969252719151,
          0.2956608790724408,
          0.2864712372872528,
          0.2776032170610131,
          0.2608192914284929,
          0.26383062129400897,
          0.2620001225018712,
          0.2602843608131094
         ],
         "open": [
          0.6950962952519955,
          0.697250073474294,
          0.6990887335924847,
          0.696753245369736,
          0.6918407103184373,
          0.6862164686347816,
          0.6786843132554177,
          0.6685316656067338,
          0.6515741167101581,
          0.6352035442136214,
          0.6177668586523071,
          0.6023137096846648,
          0.5835066642711825,
          0.5621831567211726,
          0.5422162789296366,
          0.5244389687667929,
          0.5076323049810039,
          0.4882530685481119,
          0.4667869210484706,
          0.4475290180450257,
          0.4290020529727239,
          0.4147514877584119,
          0.4020905117019988,
          0.38859099769292454,
          0.3762890166168082,
          0.36691185565357237,
          0.35905042393995557,
          0.35594284294440154,
          0.3514368037202658,
          0.3481615923151856
         ],
         "type": "ohlc",
         "x": [
          1,
          2,
          3,
          4,
          5,
          6,
          7,
          8,
          9,
          10,
          11,
          12,
          13,
          14,
          15,
          16,
          17,
          18,
          19,
          20,
          21,
          22,
          23,
          24,
          25,
          26,
          27,
          28,
          29,
          30
         ]
        }
       ],
       "layout": {
        "template": {
         "data": {
          "bar": [
           {
            "error_x": {
             "color": "#2a3f5f"
            },
            "error_y": {
             "color": "#2a3f5f"
            },
            "marker": {
             "line": {
              "color": "#E5ECF6",
              "width": 0.5
             },
             "pattern": {
              "fillmode": "overlay",
              "size": 10,
              "solidity": 0.2
             }
            },
            "type": "bar"
           }
          ],
          "barpolar": [
           {
            "marker": {
             "line": {
              "color": "#E5ECF6",
              "width": 0.5
             },
             "pattern": {
              "fillmode": "overlay",
              "size": 10,
              "solidity": 0.2
             }
            },
            "type": "barpolar"
           }
          ],
          "carpet": [
           {
            "aaxis": {
             "endlinecolor": "#2a3f5f",
             "gridcolor": "white",
             "linecolor": "white",
             "minorgridcolor": "white",
             "startlinecolor": "#2a3f5f"
            },
            "baxis": {
             "endlinecolor": "#2a3f5f",
             "gridcolor": "white",
             "linecolor": "white",
             "minorgridcolor": "white",
             "startlinecolor": "#2a3f5f"
            },
            "type": "carpet"
           }
          ],
          "choropleth": [
           {
            "colorbar": {
             "outlinewidth": 0,
             "ticks": ""
            },
            "type": "choropleth"
           }
          ],
          "contour": [
           {
            "colorbar": {
             "outlinewidth": 0,
             "ticks": ""
            },
            "colorscale": [
             [
              0,
              "#0d0887"
             ],
             [
              0.1111111111111111,
              "#46039f"
             ],
             [
              0.2222222222222222,
              "#7201a8"
             ],
             [
              0.3333333333333333,
              "#9c179e"
             ],
             [
              0.4444444444444444,
              "#bd3786"
             ],
             [
              0.5555555555555556,
              "#d8576b"
             ],
             [
              0.6666666666666666,
              "#ed7953"
             ],
             [
              0.7777777777777778,
              "#fb9f3a"
             ],
             [
              0.8888888888888888,
              "#fdca26"
             ],
             [
              1,
              "#f0f921"
             ]
            ],
            "type": "contour"
           }
          ],
          "contourcarpet": [
           {
            "colorbar": {
             "outlinewidth": 0,
             "ticks": ""
            },
            "type": "contourcarpet"
           }
          ],
          "heatmap": [
           {
            "colorbar": {
             "outlinewidth": 0,
             "ticks": ""
            },
            "colorscale": [
             [
              0,
              "#0d0887"
             ],
             [
              0.1111111111111111,
              "#46039f"
             ],
             [
              0.2222222222222222,
              "#7201a8"
             ],
             [
              0.3333333333333333,
              "#9c179e"
             ],
             [
              0.4444444444444444,
              "#bd3786"
             ],
             [
              0.5555555555555556,
              "#d8576b"
             ],
             [
              0.6666666666666666,
              "#ed7953"
             ],
             [
              0.7777777777777778,
              "#fb9f3a"
             ],
             [
              0.8888888888888888,
              "#fdca26"
             ],
             [
              1,
              "#f0f921"
             ]
            ],
            "type": "heatmap"
           }
          ],
          "heatmapgl": [
           {
            "colorbar": {
             "outlinewidth": 0,
             "ticks": ""
            },
            "colorscale": [
             [
              0,
              "#0d0887"
             ],
             [
              0.1111111111111111,
              "#46039f"
             ],
             [
              0.2222222222222222,
              "#7201a8"
             ],
             [
              0.3333333333333333,
              "#9c179e"
             ],
             [
              0.4444444444444444,
              "#bd3786"
             ],
             [
              0.5555555555555556,
              "#d8576b"
             ],
             [
              0.6666666666666666,
              "#ed7953"
             ],
             [
              0.7777777777777778,
              "#fb9f3a"
             ],
             [
              0.8888888888888888,
              "#fdca26"
             ],
             [
              1,
              "#f0f921"
             ]
            ],
            "type": "heatmapgl"
           }
          ],
          "histogram": [
           {
            "marker": {
             "pattern": {
              "fillmode": "overlay",
              "size": 10,
              "solidity": 0.2
             }
            },
            "type": "histogram"
           }
          ],
          "histogram2d": [
           {
            "colorbar": {
             "outlinewidth": 0,
             "ticks": ""
            },
            "colorscale": [
             [
              0,
              "#0d0887"
             ],
             [
              0.1111111111111111,
              "#46039f"
             ],
             [
              0.2222222222222222,
              "#7201a8"
             ],
             [
              0.3333333333333333,
              "#9c179e"
             ],
             [
              0.4444444444444444,
              "#bd3786"
             ],
             [
              0.5555555555555556,
              "#d8576b"
             ],
             [
              0.6666666666666666,
              "#ed7953"
             ],
             [
              0.7777777777777778,
              "#fb9f3a"
             ],
             [
              0.8888888888888888,
              "#fdca26"
             ],
             [
              1,
              "#f0f921"
             ]
            ],
            "type": "histogram2d"
           }
          ],
          "histogram2dcontour": [
           {
            "colorbar": {
             "outlinewidth": 0,
             "ticks": ""
            },
            "colorscale": [
             [
              0,
              "#0d0887"
             ],
             [
              0.1111111111111111,
              "#46039f"
             ],
             [
              0.2222222222222222,
              "#7201a8"
             ],
             [
              0.3333333333333333,
              "#9c179e"
             ],
             [
              0.4444444444444444,
              "#bd3786"
             ],
             [
              0.5555555555555556,
              "#d8576b"
             ],
             [
              0.6666666666666666,
              "#ed7953"
             ],
             [
              0.7777777777777778,
              "#fb9f3a"
             ],
             [
              0.8888888888888888,
              "#fdca26"
             ],
             [
              1,
              "#f0f921"
             ]
            ],
            "type": "histogram2dcontour"
           }
          ],
          "mesh3d": [
           {
            "colorbar": {
             "outlinewidth": 0,
             "ticks": ""
            },
            "type": "mesh3d"
           }
          ],
          "parcoords": [
           {
            "line": {
             "colorbar": {
              "outlinewidth": 0,
              "ticks": ""
             }
            },
            "type": "parcoords"
           }
          ],
          "pie": [
           {
            "automargin": true,
            "type": "pie"
           }
          ],
          "scatter": [
           {
            "fillpattern": {
             "fillmode": "overlay",
             "size": 10,
             "solidity": 0.2
            },
            "type": "scatter"
           }
          ],
          "scatter3d": [
           {
            "line": {
             "colorbar": {
              "outlinewidth": 0,
              "ticks": ""
             }
            },
            "marker": {
             "colorbar": {
              "outlinewidth": 0,
              "ticks": ""
             }
            },
            "type": "scatter3d"
           }
          ],
          "scattercarpet": [
           {
            "marker": {
             "colorbar": {
              "outlinewidth": 0,
              "ticks": ""
             }
            },
            "type": "scattercarpet"
           }
          ],
          "scattergeo": [
           {
            "marker": {
             "colorbar": {
              "outlinewidth": 0,
              "ticks": ""
             }
            },
            "type": "scattergeo"
           }
          ],
          "scattergl": [
           {
            "marker": {
             "colorbar": {
              "outlinewidth": 0,
              "ticks": ""
             }
            },
            "type": "scattergl"
           }
          ],
          "scattermapbox": [
           {
            "marker": {
             "colorbar": {
              "outlinewidth": 0,
              "ticks": ""
             }
            },
            "type": "scattermapbox"
           }
          ],
          "scatterpolar": [
           {
            "marker": {
             "colorbar": {
              "outlinewidth": 0,
              "ticks": ""
             }
            },
            "type": "scatterpolar"
           }
          ],
          "scatterpolargl": [
           {
            "marker": {
             "colorbar": {
              "outlinewidth": 0,
              "ticks": ""
             }
            },
            "type": "scatterpolargl"
           }
          ],
          "scatterternary": [
           {
            "marker": {
             "colorbar": {
              "outlinewidth": 0,
              "ticks": ""
             }
            },
            "type": "scatterternary"
           }
          ],
          "surface": [
           {
            "colorbar": {
             "outlinewidth": 0,
             "ticks": ""
            },
            "colorscale": [
             [
              0,
              "#0d0887"
             ],
             [
              0.1111111111111111,
              "#46039f"
             ],
             [
              0.2222222222222222,
              "#7201a8"
             ],
             [
              0.3333333333333333,
              "#9c179e"
             ],
             [
              0.4444444444444444,
              "#bd3786"
             ],
             [
              0.5555555555555556,
              "#d8576b"
             ],
             [
              0.6666666666666666,
              "#ed7953"
             ],
             [
              0.7777777777777778,
              "#fb9f3a"
             ],
             [
              0.8888888888888888,
              "#fdca26"
             ],
             [
              1,
              "#f0f921"
             ]
            ],
            "type": "surface"
           }
          ],
          "table": [
           {
            "cells": {
             "fill": {
              "color": "#EBF0F8"
             },
             "line": {
              "color": "white"
             }
            },
            "header": {
             "fill": {
              "color": "#C8D4E3"
             },
             "line": {
              "color": "white"
             }
            },
            "type": "table"
           }
          ]
         },
         "layout": {
          "annotationdefaults": {
           "arrowcolor": "#2a3f5f",
           "arrowhead": 0,
           "arrowwidth": 1
          },
          "autotypenumbers": "strict",
          "coloraxis": {
           "colorbar": {
            "outlinewidth": 0,
            "ticks": ""
           }
          },
          "colorscale": {
           "diverging": [
            [
             0,
             "#8e0152"
            ],
            [
             0.1,
             "#c51b7d"
            ],
            [
             0.2,
             "#de77ae"
            ],
            [
             0.3,
             "#f1b6da"
            ],
            [
             0.4,
             "#fde0ef"
            ],
            [
             0.5,
             "#f7f7f7"
            ],
            [
             0.6,
             "#e6f5d0"
            ],
            [
             0.7,
             "#b8e186"
            ],
            [
             0.8,
             "#7fbc41"
            ],
            [
             0.9,
             "#4d9221"
            ],
            [
             1,
             "#276419"
            ]
           ],
           "sequential": [
            [
             0,
             "#0d0887"
            ],
            [
             0.1111111111111111,
             "#46039f"
            ],
            [
             0.2222222222222222,
             "#7201a8"
            ],
            [
             0.3333333333333333,
             "#9c179e"
            ],
            [
             0.4444444444444444,
             "#bd3786"
            ],
            [
             0.5555555555555556,
             "#d8576b"
            ],
            [
             0.6666666666666666,
             "#ed7953"
            ],
            [
             0.7777777777777778,
             "#fb9f3a"
            ],
            [
             0.8888888888888888,
             "#fdca26"
            ],
            [
             1,
             "#f0f921"
            ]
           ],
           "sequentialminus": [
            [
             0,
             "#0d0887"
            ],
            [
             0.1111111111111111,
             "#46039f"
            ],
            [
             0.2222222222222222,
             "#7201a8"
            ],
            [
             0.3333333333333333,
             "#9c179e"
            ],
            [
             0.4444444444444444,
             "#bd3786"
            ],
            [
             0.5555555555555556,
             "#d8576b"
            ],
            [
             0.6666666666666666,
             "#ed7953"
            ],
            [
             0.7777777777777778,
             "#fb9f3a"
            ],
            [
             0.8888888888888888,
             "#fdca26"
            ],
            [
             1,
             "#f0f921"
            ]
           ]
          },
          "colorway": [
           "#636efa",
           "#EF553B",
           "#00cc96",
           "#ab63fa",
           "#FFA15A",
           "#19d3f3",
           "#FF6692",
           "#B6E880",
           "#FF97FF",
           "#FECB52"
          ],
          "font": {
           "color": "#2a3f5f"
          },
          "geo": {
           "bgcolor": "white",
           "lakecolor": "white",
           "landcolor": "#E5ECF6",
           "showlakes": true,
           "showland": true,
           "subunitcolor": "white"
          },
          "hoverlabel": {
           "align": "left"
          },
          "hovermode": "closest",
          "mapbox": {
           "style": "light"
          },
          "paper_bgcolor": "white",
          "plot_bgcolor": "#E5ECF6",
          "polar": {
           "angularaxis": {
            "gridcolor": "white",
            "linecolor": "white",
            "ticks": ""
           },
           "bgcolor": "#E5ECF6",
           "radialaxis": {
            "gridcolor": "white",
            "linecolor": "white",
            "ticks": ""
           }
          },
          "scene": {
           "xaxis": {
            "backgroundcolor": "#E5ECF6",
            "gridcolor": "white",
            "gridwidth": 2,
            "linecolor": "white",
            "showbackground": true,
            "ticks": "",
            "zerolinecolor": "white"
           },
           "yaxis": {
            "backgroundcolor": "#E5ECF6",
            "gridcolor": "white",
            "gridwidth": 2,
            "linecolor": "white",
            "showbackground": true,
            "ticks": "",
            "zerolinecolor": "white"
           },
           "zaxis": {
            "backgroundcolor": "#E5ECF6",
            "gridcolor": "white",
            "gridwidth": 2,
            "linecolor": "white",
            "showbackground": true,
            "ticks": "",
            "zerolinecolor": "white"
           }
          },
          "shapedefaults": {
           "line": {
            "color": "#2a3f5f"
           }
          },
          "ternary": {
           "aaxis": {
            "gridcolor": "white",
            "linecolor": "white",
            "ticks": ""
           },
           "baxis": {
            "gridcolor": "white",
            "linecolor": "white",
            "ticks": ""
           },
           "bgcolor": "#E5ECF6",
           "caxis": {
            "gridcolor": "white",
            "linecolor": "white",
            "ticks": ""
           }
          },
          "title": {
           "x": 0.05
          },
          "xaxis": {
           "automargin": true,
           "gridcolor": "white",
           "linecolor": "white",
           "ticks": "",
           "title": {
            "standoff": 15
           },
           "zerolinecolor": "white",
           "zerolinewidth": 2
          },
          "yaxis": {
           "automargin": true,
           "gridcolor": "white",
           "linecolor": "white",
           "ticks": "",
           "title": {
            "standoff": 15
           },
           "zerolinecolor": "white",
           "zerolinewidth": 2
          }
         }
        },
        "xaxis": {
         "rangeslider": {
          "visible": false
         }
        }
       }
      },
      "text/html": [
       "<div>                            <div id=\"406ff01a-479b-46bc-a1a3-1b3e8ee0965f\" class=\"plotly-graph-div\" style=\"height:525px; width:100%;\"></div>            <script type=\"text/javascript\">                require([\"plotly\"], function(Plotly) {                    window.PLOTLYENV=window.PLOTLYENV || {};                                    if (document.getElementById(\"406ff01a-479b-46bc-a1a3-1b3e8ee0965f\")) {                    Plotly.newPlot(                        \"406ff01a-479b-46bc-a1a3-1b3e8ee0965f\",                        [{\"close\":[0.6973153707626375,0.6991985134124775,0.6968036239957481,0.6919035479369232,0.6862135142566012,0.6787018286402781,0.6685261931480762,0.6516578273733727,0.6352413675444408,0.6178092834385699,0.6023724365088488,0.5836580214972606,0.5622719323832397,0.5422830159161529,0.5244263213470608,0.5076819003816397,0.48827498635603783,0.4668595692292301,0.4475379570955687,0.4290498494428592,0.41474877798501875,0.4022025840579476,0.3886257867246065,0.376297264875181,0.3668693045623887,0.3590738064559432,0.3559420313690945,0.3514742298209585,0.34812833759336703,0.34684154746523105],\"high\":[0.7836029001209648,0.7935202445268223,0.787229368999385,0.7813855318877528,0.7745524470870737,0.7670596581611289,0.7704551391244111,0.7486588997672293,0.7297329470068111,0.7115023903818326,0.6938075091866969,0.6845822268575419,0.6589053656226534,0.6365999892706518,0.6162064049808205,0.5989629895097198,0.5922122863515044,0.5647344236827276,0.5424891494497603,0.5223744105304778,0.5047031800772216,0.49922423404408234,0.48058246152169437,0.46648607292478816,0.454335268529645,0.44575660841990694,0.4511558542402079,0.4411764671032805,0.43514825768228566,0.43224602836589926],\"low\":[0.6089103349141017,0.6040088669334925,0.6084870054150783,0.6073348921224181,0.6031641745949983,0.5968675651800259,0.5775204230483695,0.5695136512656779,0.5553556206110898,0.5389960408494646,0.5239515879273755,0.5001908873385442,0.48390055826133727,0.46500034910839466,0.4475127050448944,0.4302105840175751,0.4017721722133197,0.3869493061051005,0.36898704332016025,0.3504810095679858,0.3359496942175013,0.31554396346461816,0.3068969252719151,0.2956608790724408,0.2864712372872528,0.2776032170610131,0.2608192914284929,0.26383062129400897,0.2620001225018712,0.2602843608131094],\"open\":[0.6950962952519955,0.697250073474294,0.6990887335924847,0.696753245369736,0.6918407103184373,0.6862164686347816,0.6786843132554177,0.6685316656067338,0.6515741167101581,0.6352035442136214,0.6177668586523071,0.6023137096846648,0.5835066642711825,0.5621831567211726,0.5422162789296366,0.5244389687667929,0.5076323049810039,0.4882530685481119,0.4667869210484706,0.4475290180450257,0.4290020529727239,0.4147514877584119,0.4020905117019988,0.38859099769292454,0.3762890166168082,0.36691185565357237,0.35905042393995557,0.35594284294440154,0.3514368037202658,0.3481615923151856],\"x\":[1,2,3,4,5,6,7,8,9,10,11,12,13,14,15,16,17,18,19,20,21,22,23,24,25,26,27,28,29,30],\"type\":\"ohlc\"}],                        {\"template\":{\"data\":{\"histogram2dcontour\":[{\"type\":\"histogram2dcontour\",\"colorbar\":{\"outlinewidth\":0,\"ticks\":\"\"},\"colorscale\":[[0.0,\"#0d0887\"],[0.1111111111111111,\"#46039f\"],[0.2222222222222222,\"#7201a8\"],[0.3333333333333333,\"#9c179e\"],[0.4444444444444444,\"#bd3786\"],[0.5555555555555556,\"#d8576b\"],[0.6666666666666666,\"#ed7953\"],[0.7777777777777778,\"#fb9f3a\"],[0.8888888888888888,\"#fdca26\"],[1.0,\"#f0f921\"]]}],\"choropleth\":[{\"type\":\"choropleth\",\"colorbar\":{\"outlinewidth\":0,\"ticks\":\"\"}}],\"histogram2d\":[{\"type\":\"histogram2d\",\"colorbar\":{\"outlinewidth\":0,\"ticks\":\"\"},\"colorscale\":[[0.0,\"#0d0887\"],[0.1111111111111111,\"#46039f\"],[0.2222222222222222,\"#7201a8\"],[0.3333333333333333,\"#9c179e\"],[0.4444444444444444,\"#bd3786\"],[0.5555555555555556,\"#d8576b\"],[0.6666666666666666,\"#ed7953\"],[0.7777777777777778,\"#fb9f3a\"],[0.8888888888888888,\"#fdca26\"],[1.0,\"#f0f921\"]]}],\"heatmap\":[{\"type\":\"heatmap\",\"colorbar\":{\"outlinewidth\":0,\"ticks\":\"\"},\"colorscale\":[[0.0,\"#0d0887\"],[0.1111111111111111,\"#46039f\"],[0.2222222222222222,\"#7201a8\"],[0.3333333333333333,\"#9c179e\"],[0.4444444444444444,\"#bd3786\"],[0.5555555555555556,\"#d8576b\"],[0.6666666666666666,\"#ed7953\"],[0.7777777777777778,\"#fb9f3a\"],[0.8888888888888888,\"#fdca26\"],[1.0,\"#f0f921\"]]}],\"heatmapgl\":[{\"type\":\"heatmapgl\",\"colorbar\":{\"outlinewidth\":0,\"ticks\":\"\"},\"colorscale\":[[0.0,\"#0d0887\"],[0.1111111111111111,\"#46039f\"],[0.2222222222222222,\"#7201a8\"],[0.3333333333333333,\"#9c179e\"],[0.4444444444444444,\"#bd3786\"],[0.5555555555555556,\"#d8576b\"],[0.6666666666666666,\"#ed7953\"],[0.7777777777777778,\"#fb9f3a\"],[0.8888888888888888,\"#fdca26\"],[1.0,\"#f0f921\"]]}],\"contourcarpet\":[{\"type\":\"contourcarpet\",\"colorbar\":{\"outlinewidth\":0,\"ticks\":\"\"}}],\"contour\":[{\"type\":\"contour\",\"colorbar\":{\"outlinewidth\":0,\"ticks\":\"\"},\"colorscale\":[[0.0,\"#0d0887\"],[0.1111111111111111,\"#46039f\"],[0.2222222222222222,\"#7201a8\"],[0.3333333333333333,\"#9c179e\"],[0.4444444444444444,\"#bd3786\"],[0.5555555555555556,\"#d8576b\"],[0.6666666666666666,\"#ed7953\"],[0.7777777777777778,\"#fb9f3a\"],[0.8888888888888888,\"#fdca26\"],[1.0,\"#f0f921\"]]}],\"surface\":[{\"type\":\"surface\",\"colorbar\":{\"outlinewidth\":0,\"ticks\":\"\"},\"colorscale\":[[0.0,\"#0d0887\"],[0.1111111111111111,\"#46039f\"],[0.2222222222222222,\"#7201a8\"],[0.3333333333333333,\"#9c179e\"],[0.4444444444444444,\"#bd3786\"],[0.5555555555555556,\"#d8576b\"],[0.6666666666666666,\"#ed7953\"],[0.7777777777777778,\"#fb9f3a\"],[0.8888888888888888,\"#fdca26\"],[1.0,\"#f0f921\"]]}],\"mesh3d\":[{\"type\":\"mesh3d\",\"colorbar\":{\"outlinewidth\":0,\"ticks\":\"\"}}],\"scatter\":[{\"fillpattern\":{\"fillmode\":\"overlay\",\"size\":10,\"solidity\":0.2},\"type\":\"scatter\"}],\"parcoords\":[{\"type\":\"parcoords\",\"line\":{\"colorbar\":{\"outlinewidth\":0,\"ticks\":\"\"}}}],\"scatterpolargl\":[{\"type\":\"scatterpolargl\",\"marker\":{\"colorbar\":{\"outlinewidth\":0,\"ticks\":\"\"}}}],\"bar\":[{\"error_x\":{\"color\":\"#2a3f5f\"},\"error_y\":{\"color\":\"#2a3f5f\"},\"marker\":{\"line\":{\"color\":\"#E5ECF6\",\"width\":0.5},\"pattern\":{\"fillmode\":\"overlay\",\"size\":10,\"solidity\":0.2}},\"type\":\"bar\"}],\"scattergeo\":[{\"type\":\"scattergeo\",\"marker\":{\"colorbar\":{\"outlinewidth\":0,\"ticks\":\"\"}}}],\"scatterpolar\":[{\"type\":\"scatterpolar\",\"marker\":{\"colorbar\":{\"outlinewidth\":0,\"ticks\":\"\"}}}],\"histogram\":[{\"marker\":{\"pattern\":{\"fillmode\":\"overlay\",\"size\":10,\"solidity\":0.2}},\"type\":\"histogram\"}],\"scattergl\":[{\"type\":\"scattergl\",\"marker\":{\"colorbar\":{\"outlinewidth\":0,\"ticks\":\"\"}}}],\"scatter3d\":[{\"type\":\"scatter3d\",\"line\":{\"colorbar\":{\"outlinewidth\":0,\"ticks\":\"\"}},\"marker\":{\"colorbar\":{\"outlinewidth\":0,\"ticks\":\"\"}}}],\"scattermapbox\":[{\"type\":\"scattermapbox\",\"marker\":{\"colorbar\":{\"outlinewidth\":0,\"ticks\":\"\"}}}],\"scatterternary\":[{\"type\":\"scatterternary\",\"marker\":{\"colorbar\":{\"outlinewidth\":0,\"ticks\":\"\"}}}],\"scattercarpet\":[{\"type\":\"scattercarpet\",\"marker\":{\"colorbar\":{\"outlinewidth\":0,\"ticks\":\"\"}}}],\"carpet\":[{\"aaxis\":{\"endlinecolor\":\"#2a3f5f\",\"gridcolor\":\"white\",\"linecolor\":\"white\",\"minorgridcolor\":\"white\",\"startlinecolor\":\"#2a3f5f\"},\"baxis\":{\"endlinecolor\":\"#2a3f5f\",\"gridcolor\":\"white\",\"linecolor\":\"white\",\"minorgridcolor\":\"white\",\"startlinecolor\":\"#2a3f5f\"},\"type\":\"carpet\"}],\"table\":[{\"cells\":{\"fill\":{\"color\":\"#EBF0F8\"},\"line\":{\"color\":\"white\"}},\"header\":{\"fill\":{\"color\":\"#C8D4E3\"},\"line\":{\"color\":\"white\"}},\"type\":\"table\"}],\"barpolar\":[{\"marker\":{\"line\":{\"color\":\"#E5ECF6\",\"width\":0.5},\"pattern\":{\"fillmode\":\"overlay\",\"size\":10,\"solidity\":0.2}},\"type\":\"barpolar\"}],\"pie\":[{\"automargin\":true,\"type\":\"pie\"}]},\"layout\":{\"autotypenumbers\":\"strict\",\"colorway\":[\"#636efa\",\"#EF553B\",\"#00cc96\",\"#ab63fa\",\"#FFA15A\",\"#19d3f3\",\"#FF6692\",\"#B6E880\",\"#FF97FF\",\"#FECB52\"],\"font\":{\"color\":\"#2a3f5f\"},\"hovermode\":\"closest\",\"hoverlabel\":{\"align\":\"left\"},\"paper_bgcolor\":\"white\",\"plot_bgcolor\":\"#E5ECF6\",\"polar\":{\"bgcolor\":\"#E5ECF6\",\"angularaxis\":{\"gridcolor\":\"white\",\"linecolor\":\"white\",\"ticks\":\"\"},\"radialaxis\":{\"gridcolor\":\"white\",\"linecolor\":\"white\",\"ticks\":\"\"}},\"ternary\":{\"bgcolor\":\"#E5ECF6\",\"aaxis\":{\"gridcolor\":\"white\",\"linecolor\":\"white\",\"ticks\":\"\"},\"baxis\":{\"gridcolor\":\"white\",\"linecolor\":\"white\",\"ticks\":\"\"},\"caxis\":{\"gridcolor\":\"white\",\"linecolor\":\"white\",\"ticks\":\"\"}},\"coloraxis\":{\"colorbar\":{\"outlinewidth\":0,\"ticks\":\"\"}},\"colorscale\":{\"sequential\":[[0.0,\"#0d0887\"],[0.1111111111111111,\"#46039f\"],[0.2222222222222222,\"#7201a8\"],[0.3333333333333333,\"#9c179e\"],[0.4444444444444444,\"#bd3786\"],[0.5555555555555556,\"#d8576b\"],[0.6666666666666666,\"#ed7953\"],[0.7777777777777778,\"#fb9f3a\"],[0.8888888888888888,\"#fdca26\"],[1.0,\"#f0f921\"]],\"sequentialminus\":[[0.0,\"#0d0887\"],[0.1111111111111111,\"#46039f\"],[0.2222222222222222,\"#7201a8\"],[0.3333333333333333,\"#9c179e\"],[0.4444444444444444,\"#bd3786\"],[0.5555555555555556,\"#d8576b\"],[0.6666666666666666,\"#ed7953\"],[0.7777777777777778,\"#fb9f3a\"],[0.8888888888888888,\"#fdca26\"],[1.0,\"#f0f921\"]],\"diverging\":[[0,\"#8e0152\"],[0.1,\"#c51b7d\"],[0.2,\"#de77ae\"],[0.3,\"#f1b6da\"],[0.4,\"#fde0ef\"],[0.5,\"#f7f7f7\"],[0.6,\"#e6f5d0\"],[0.7,\"#b8e186\"],[0.8,\"#7fbc41\"],[0.9,\"#4d9221\"],[1,\"#276419\"]]},\"xaxis\":{\"gridcolor\":\"white\",\"linecolor\":\"white\",\"ticks\":\"\",\"title\":{\"standoff\":15},\"zerolinecolor\":\"white\",\"automargin\":true,\"zerolinewidth\":2},\"yaxis\":{\"gridcolor\":\"white\",\"linecolor\":\"white\",\"ticks\":\"\",\"title\":{\"standoff\":15},\"zerolinecolor\":\"white\",\"automargin\":true,\"zerolinewidth\":2},\"scene\":{\"xaxis\":{\"backgroundcolor\":\"#E5ECF6\",\"gridcolor\":\"white\",\"linecolor\":\"white\",\"showbackground\":true,\"ticks\":\"\",\"zerolinecolor\":\"white\",\"gridwidth\":2},\"yaxis\":{\"backgroundcolor\":\"#E5ECF6\",\"gridcolor\":\"white\",\"linecolor\":\"white\",\"showbackground\":true,\"ticks\":\"\",\"zerolinecolor\":\"white\",\"gridwidth\":2},\"zaxis\":{\"backgroundcolor\":\"#E5ECF6\",\"gridcolor\":\"white\",\"linecolor\":\"white\",\"showbackground\":true,\"ticks\":\"\",\"zerolinecolor\":\"white\",\"gridwidth\":2}},\"shapedefaults\":{\"line\":{\"color\":\"#2a3f5f\"}},\"annotationdefaults\":{\"arrowcolor\":\"#2a3f5f\",\"arrowhead\":0,\"arrowwidth\":1},\"geo\":{\"bgcolor\":\"white\",\"landcolor\":\"#E5ECF6\",\"subunitcolor\":\"white\",\"showland\":true,\"showlakes\":true,\"lakecolor\":\"white\"},\"title\":{\"x\":0.05},\"mapbox\":{\"style\":\"light\"}}},\"xaxis\":{\"rangeslider\":{\"visible\":false}}},                        {\"responsive\": true}                    ).then(function(){\n",
       "                            \n",
       "var gd = document.getElementById('406ff01a-479b-46bc-a1a3-1b3e8ee0965f');\n",
       "var x = new MutationObserver(function (mutations, observer) {{\n",
       "        var display = window.getComputedStyle(gd).display;\n",
       "        if (!display || display === 'none') {{\n",
       "            console.log([gd, 'removed!']);\n",
       "            Plotly.purge(gd);\n",
       "            observer.disconnect();\n",
       "        }}\n",
       "}});\n",
       "\n",
       "// Listen for the removal of the full notebook cells\n",
       "var notebookContainer = gd.closest('#notebook-container');\n",
       "if (notebookContainer) {{\n",
       "    x.observe(notebookContainer, {childList: true});\n",
       "}}\n",
       "\n",
       "// Listen for the clearing of the current output cell\n",
       "var outputEl = gd.closest('.output');\n",
       "if (outputEl) {{\n",
       "    x.observe(outputEl, {childList: true});\n",
       "}}\n",
       "\n",
       "                        })                };                });            </script>        </div>"
      ]
     },
     "metadata": {},
     "output_type": "display_data"
    },
    {
     "name": "stdout",
     "output_type": "stream",
     "text": [
      "[1.00203938 0.99433859]\n",
      "0\n",
      "0.9947670298944788 1.000681052147768\n"
     ]
    },
    {
     "data": {
      "application/vnd.plotly.v1+json": {
       "config": {
        "plotlyServerURL": "https://plot.ly"
       },
       "data": [
        {
         "close": [
          8354.88,
          8356.01,
          8348.12,
          8342.9,
          8333.68,
          8325.57,
          8326.74,
          8328.99,
          8324.84,
          8320.21,
          8319.09,
          8313.6,
          8317.49,
          8321.2,
          8324.85,
          8329.62,
          8337,
          8332.01,
          8339.99,
          8341.76,
          8342.98,
          8329.94,
          8324.01,
          8320.98,
          8322,
          8323.46,
          8322,
          8331.89,
          8340,
          8342.11
         ],
         "high": [
          8355.95,
          8360.41,
          8356.03,
          8349.08,
          8343.52,
          8334.29,
          8329.81,
          8330,
          8331.6,
          8324.43,
          8324.97,
          8319.79,
          8320.54,
          8321.2,
          8324.85,
          8329.78,
          8337,
          8337.8,
          8340,
          8345,
          8348.54,
          8343.01,
          8333.01,
          8329.76,
          8324.04,
          8330.27,
          8326.7,
          8332.76,
          8340,
          8345.39
         ],
         "low": [
          8353.75,
          8354.63,
          8348.12,
          8340.49,
          8333.68,
          8324.31,
          8326.04,
          8327.12,
          8321.95,
          8318.84,
          8319.04,
          8311.83,
          8311,
          8317.74,
          8320.05,
          8323,
          8329.32,
          8330.76,
          8327.48,
          8340,
          8341.67,
          8329.94,
          8319.51,
          8313.95,
          8314.23,
          8321.89,
          8321.05,
          8322.69,
          8328.96,
          8336.81
         ],
         "open": [
          8354.72,
          8354.74,
          8355.96,
          8349.08,
          8343.52,
          8333.46,
          8326.31,
          8327.13,
          8328.91,
          8324.43,
          8320.41,
          8319.71,
          8313.49,
          8319.29,
          8320.05,
          8324.94,
          8329.65,
          8337.8,
          8332,
          8340,
          8344.04,
          8341.69,
          8333.01,
          8323.79,
          8320.97,
          8322,
          8323.5,
          8326.7,
          8328.96,
          8339.86
         ],
         "type": "ohlc",
         "x": [
          1,
          2,
          3,
          4,
          5,
          6,
          7,
          8,
          9,
          10,
          11,
          12,
          13,
          14,
          15,
          16,
          17,
          18,
          19,
          20,
          21,
          22,
          23,
          24,
          25,
          26,
          27,
          28,
          29,
          30
         ]
        }
       ],
       "layout": {
        "template": {
         "data": {
          "bar": [
           {
            "error_x": {
             "color": "#2a3f5f"
            },
            "error_y": {
             "color": "#2a3f5f"
            },
            "marker": {
             "line": {
              "color": "#E5ECF6",
              "width": 0.5
             },
             "pattern": {
              "fillmode": "overlay",
              "size": 10,
              "solidity": 0.2
             }
            },
            "type": "bar"
           }
          ],
          "barpolar": [
           {
            "marker": {
             "line": {
              "color": "#E5ECF6",
              "width": 0.5
             },
             "pattern": {
              "fillmode": "overlay",
              "size": 10,
              "solidity": 0.2
             }
            },
            "type": "barpolar"
           }
          ],
          "carpet": [
           {
            "aaxis": {
             "endlinecolor": "#2a3f5f",
             "gridcolor": "white",
             "linecolor": "white",
             "minorgridcolor": "white",
             "startlinecolor": "#2a3f5f"
            },
            "baxis": {
             "endlinecolor": "#2a3f5f",
             "gridcolor": "white",
             "linecolor": "white",
             "minorgridcolor": "white",
             "startlinecolor": "#2a3f5f"
            },
            "type": "carpet"
           }
          ],
          "choropleth": [
           {
            "colorbar": {
             "outlinewidth": 0,
             "ticks": ""
            },
            "type": "choropleth"
           }
          ],
          "contour": [
           {
            "colorbar": {
             "outlinewidth": 0,
             "ticks": ""
            },
            "colorscale": [
             [
              0,
              "#0d0887"
             ],
             [
              0.1111111111111111,
              "#46039f"
             ],
             [
              0.2222222222222222,
              "#7201a8"
             ],
             [
              0.3333333333333333,
              "#9c179e"
             ],
             [
              0.4444444444444444,
              "#bd3786"
             ],
             [
              0.5555555555555556,
              "#d8576b"
             ],
             [
              0.6666666666666666,
              "#ed7953"
             ],
             [
              0.7777777777777778,
              "#fb9f3a"
             ],
             [
              0.8888888888888888,
              "#fdca26"
             ],
             [
              1,
              "#f0f921"
             ]
            ],
            "type": "contour"
           }
          ],
          "contourcarpet": [
           {
            "colorbar": {
             "outlinewidth": 0,
             "ticks": ""
            },
            "type": "contourcarpet"
           }
          ],
          "heatmap": [
           {
            "colorbar": {
             "outlinewidth": 0,
             "ticks": ""
            },
            "colorscale": [
             [
              0,
              "#0d0887"
             ],
             [
              0.1111111111111111,
              "#46039f"
             ],
             [
              0.2222222222222222,
              "#7201a8"
             ],
             [
              0.3333333333333333,
              "#9c179e"
             ],
             [
              0.4444444444444444,
              "#bd3786"
             ],
             [
              0.5555555555555556,
              "#d8576b"
             ],
             [
              0.6666666666666666,
              "#ed7953"
             ],
             [
              0.7777777777777778,
              "#fb9f3a"
             ],
             [
              0.8888888888888888,
              "#fdca26"
             ],
             [
              1,
              "#f0f921"
             ]
            ],
            "type": "heatmap"
           }
          ],
          "heatmapgl": [
           {
            "colorbar": {
             "outlinewidth": 0,
             "ticks": ""
            },
            "colorscale": [
             [
              0,
              "#0d0887"
             ],
             [
              0.1111111111111111,
              "#46039f"
             ],
             [
              0.2222222222222222,
              "#7201a8"
             ],
             [
              0.3333333333333333,
              "#9c179e"
             ],
             [
              0.4444444444444444,
              "#bd3786"
             ],
             [
              0.5555555555555556,
              "#d8576b"
             ],
             [
              0.6666666666666666,
              "#ed7953"
             ],
             [
              0.7777777777777778,
              "#fb9f3a"
             ],
             [
              0.8888888888888888,
              "#fdca26"
             ],
             [
              1,
              "#f0f921"
             ]
            ],
            "type": "heatmapgl"
           }
          ],
          "histogram": [
           {
            "marker": {
             "pattern": {
              "fillmode": "overlay",
              "size": 10,
              "solidity": 0.2
             }
            },
            "type": "histogram"
           }
          ],
          "histogram2d": [
           {
            "colorbar": {
             "outlinewidth": 0,
             "ticks": ""
            },
            "colorscale": [
             [
              0,
              "#0d0887"
             ],
             [
              0.1111111111111111,
              "#46039f"
             ],
             [
              0.2222222222222222,
              "#7201a8"
             ],
             [
              0.3333333333333333,
              "#9c179e"
             ],
             [
              0.4444444444444444,
              "#bd3786"
             ],
             [
              0.5555555555555556,
              "#d8576b"
             ],
             [
              0.6666666666666666,
              "#ed7953"
             ],
             [
              0.7777777777777778,
              "#fb9f3a"
             ],
             [
              0.8888888888888888,
              "#fdca26"
             ],
             [
              1,
              "#f0f921"
             ]
            ],
            "type": "histogram2d"
           }
          ],
          "histogram2dcontour": [
           {
            "colorbar": {
             "outlinewidth": 0,
             "ticks": ""
            },
            "colorscale": [
             [
              0,
              "#0d0887"
             ],
             [
              0.1111111111111111,
              "#46039f"
             ],
             [
              0.2222222222222222,
              "#7201a8"
             ],
             [
              0.3333333333333333,
              "#9c179e"
             ],
             [
              0.4444444444444444,
              "#bd3786"
             ],
             [
              0.5555555555555556,
              "#d8576b"
             ],
             [
              0.6666666666666666,
              "#ed7953"
             ],
             [
              0.7777777777777778,
              "#fb9f3a"
             ],
             [
              0.8888888888888888,
              "#fdca26"
             ],
             [
              1,
              "#f0f921"
             ]
            ],
            "type": "histogram2dcontour"
           }
          ],
          "mesh3d": [
           {
            "colorbar": {
             "outlinewidth": 0,
             "ticks": ""
            },
            "type": "mesh3d"
           }
          ],
          "parcoords": [
           {
            "line": {
             "colorbar": {
              "outlinewidth": 0,
              "ticks": ""
             }
            },
            "type": "parcoords"
           }
          ],
          "pie": [
           {
            "automargin": true,
            "type": "pie"
           }
          ],
          "scatter": [
           {
            "fillpattern": {
             "fillmode": "overlay",
             "size": 10,
             "solidity": 0.2
            },
            "type": "scatter"
           }
          ],
          "scatter3d": [
           {
            "line": {
             "colorbar": {
              "outlinewidth": 0,
              "ticks": ""
             }
            },
            "marker": {
             "colorbar": {
              "outlinewidth": 0,
              "ticks": ""
             }
            },
            "type": "scatter3d"
           }
          ],
          "scattercarpet": [
           {
            "marker": {
             "colorbar": {
              "outlinewidth": 0,
              "ticks": ""
             }
            },
            "type": "scattercarpet"
           }
          ],
          "scattergeo": [
           {
            "marker": {
             "colorbar": {
              "outlinewidth": 0,
              "ticks": ""
             }
            },
            "type": "scattergeo"
           }
          ],
          "scattergl": [
           {
            "marker": {
             "colorbar": {
              "outlinewidth": 0,
              "ticks": ""
             }
            },
            "type": "scattergl"
           }
          ],
          "scattermapbox": [
           {
            "marker": {
             "colorbar": {
              "outlinewidth": 0,
              "ticks": ""
             }
            },
            "type": "scattermapbox"
           }
          ],
          "scatterpolar": [
           {
            "marker": {
             "colorbar": {
              "outlinewidth": 0,
              "ticks": ""
             }
            },
            "type": "scatterpolar"
           }
          ],
          "scatterpolargl": [
           {
            "marker": {
             "colorbar": {
              "outlinewidth": 0,
              "ticks": ""
             }
            },
            "type": "scatterpolargl"
           }
          ],
          "scatterternary": [
           {
            "marker": {
             "colorbar": {
              "outlinewidth": 0,
              "ticks": ""
             }
            },
            "type": "scatterternary"
           }
          ],
          "surface": [
           {
            "colorbar": {
             "outlinewidth": 0,
             "ticks": ""
            },
            "colorscale": [
             [
              0,
              "#0d0887"
             ],
             [
              0.1111111111111111,
              "#46039f"
             ],
             [
              0.2222222222222222,
              "#7201a8"
             ],
             [
              0.3333333333333333,
              "#9c179e"
             ],
             [
              0.4444444444444444,
              "#bd3786"
             ],
             [
              0.5555555555555556,
              "#d8576b"
             ],
             [
              0.6666666666666666,
              "#ed7953"
             ],
             [
              0.7777777777777778,
              "#fb9f3a"
             ],
             [
              0.8888888888888888,
              "#fdca26"
             ],
             [
              1,
              "#f0f921"
             ]
            ],
            "type": "surface"
           }
          ],
          "table": [
           {
            "cells": {
             "fill": {
              "color": "#EBF0F8"
             },
             "line": {
              "color": "white"
             }
            },
            "header": {
             "fill": {
              "color": "#C8D4E3"
             },
             "line": {
              "color": "white"
             }
            },
            "type": "table"
           }
          ]
         },
         "layout": {
          "annotationdefaults": {
           "arrowcolor": "#2a3f5f",
           "arrowhead": 0,
           "arrowwidth": 1
          },
          "autotypenumbers": "strict",
          "coloraxis": {
           "colorbar": {
            "outlinewidth": 0,
            "ticks": ""
           }
          },
          "colorscale": {
           "diverging": [
            [
             0,
             "#8e0152"
            ],
            [
             0.1,
             "#c51b7d"
            ],
            [
             0.2,
             "#de77ae"
            ],
            [
             0.3,
             "#f1b6da"
            ],
            [
             0.4,
             "#fde0ef"
            ],
            [
             0.5,
             "#f7f7f7"
            ],
            [
             0.6,
             "#e6f5d0"
            ],
            [
             0.7,
             "#b8e186"
            ],
            [
             0.8,
             "#7fbc41"
            ],
            [
             0.9,
             "#4d9221"
            ],
            [
             1,
             "#276419"
            ]
           ],
           "sequential": [
            [
             0,
             "#0d0887"
            ],
            [
             0.1111111111111111,
             "#46039f"
            ],
            [
             0.2222222222222222,
             "#7201a8"
            ],
            [
             0.3333333333333333,
             "#9c179e"
            ],
            [
             0.4444444444444444,
             "#bd3786"
            ],
            [
             0.5555555555555556,
             "#d8576b"
            ],
            [
             0.6666666666666666,
             "#ed7953"
            ],
            [
             0.7777777777777778,
             "#fb9f3a"
            ],
            [
             0.8888888888888888,
             "#fdca26"
            ],
            [
             1,
             "#f0f921"
            ]
           ],
           "sequentialminus": [
            [
             0,
             "#0d0887"
            ],
            [
             0.1111111111111111,
             "#46039f"
            ],
            [
             0.2222222222222222,
             "#7201a8"
            ],
            [
             0.3333333333333333,
             "#9c179e"
            ],
            [
             0.4444444444444444,
             "#bd3786"
            ],
            [
             0.5555555555555556,
             "#d8576b"
            ],
            [
             0.6666666666666666,
             "#ed7953"
            ],
            [
             0.7777777777777778,
             "#fb9f3a"
            ],
            [
             0.8888888888888888,
             "#fdca26"
            ],
            [
             1,
             "#f0f921"
            ]
           ]
          },
          "colorway": [
           "#636efa",
           "#EF553B",
           "#00cc96",
           "#ab63fa",
           "#FFA15A",
           "#19d3f3",
           "#FF6692",
           "#B6E880",
           "#FF97FF",
           "#FECB52"
          ],
          "font": {
           "color": "#2a3f5f"
          },
          "geo": {
           "bgcolor": "white",
           "lakecolor": "white",
           "landcolor": "#E5ECF6",
           "showlakes": true,
           "showland": true,
           "subunitcolor": "white"
          },
          "hoverlabel": {
           "align": "left"
          },
          "hovermode": "closest",
          "mapbox": {
           "style": "light"
          },
          "paper_bgcolor": "white",
          "plot_bgcolor": "#E5ECF6",
          "polar": {
           "angularaxis": {
            "gridcolor": "white",
            "linecolor": "white",
            "ticks": ""
           },
           "bgcolor": "#E5ECF6",
           "radialaxis": {
            "gridcolor": "white",
            "linecolor": "white",
            "ticks": ""
           }
          },
          "scene": {
           "xaxis": {
            "backgroundcolor": "#E5ECF6",
            "gridcolor": "white",
            "gridwidth": 2,
            "linecolor": "white",
            "showbackground": true,
            "ticks": "",
            "zerolinecolor": "white"
           },
           "yaxis": {
            "backgroundcolor": "#E5ECF6",
            "gridcolor": "white",
            "gridwidth": 2,
            "linecolor": "white",
            "showbackground": true,
            "ticks": "",
            "zerolinecolor": "white"
           },
           "zaxis": {
            "backgroundcolor": "#E5ECF6",
            "gridcolor": "white",
            "gridwidth": 2,
            "linecolor": "white",
            "showbackground": true,
            "ticks": "",
            "zerolinecolor": "white"
           }
          },
          "shapedefaults": {
           "line": {
            "color": "#2a3f5f"
           }
          },
          "ternary": {
           "aaxis": {
            "gridcolor": "white",
            "linecolor": "white",
            "ticks": ""
           },
           "baxis": {
            "gridcolor": "white",
            "linecolor": "white",
            "ticks": ""
           },
           "bgcolor": "#E5ECF6",
           "caxis": {
            "gridcolor": "white",
            "linecolor": "white",
            "ticks": ""
           }
          },
          "title": {
           "x": 0.05
          },
          "xaxis": {
           "automargin": true,
           "gridcolor": "white",
           "linecolor": "white",
           "ticks": "",
           "title": {
            "standoff": 15
           },
           "zerolinecolor": "white",
           "zerolinewidth": 2
          },
          "yaxis": {
           "automargin": true,
           "gridcolor": "white",
           "linecolor": "white",
           "ticks": "",
           "title": {
            "standoff": 15
           },
           "zerolinecolor": "white",
           "zerolinewidth": 2
          }
         }
        },
        "xaxis": {
         "rangeslider": {
          "visible": false
         }
        }
       }
      },
      "text/html": [
       "<div>                            <div id=\"bf3082d2-de02-411c-aff9-45d68d0e7e56\" class=\"plotly-graph-div\" style=\"height:525px; width:100%;\"></div>            <script type=\"text/javascript\">                require([\"plotly\"], function(Plotly) {                    window.PLOTLYENV=window.PLOTLYENV || {};                                    if (document.getElementById(\"bf3082d2-de02-411c-aff9-45d68d0e7e56\")) {                    Plotly.newPlot(                        \"bf3082d2-de02-411c-aff9-45d68d0e7e56\",                        [{\"close\":[8354.88,8356.01,8348.12,8342.9,8333.68,8325.57,8326.74,8328.99,8324.84,8320.21,8319.09,8313.6,8317.49,8321.2,8324.85,8329.62,8337.0,8332.01,8339.99,8341.76,8342.98,8329.94,8324.01,8320.98,8322.0,8323.46,8322.0,8331.89,8340.0,8342.11],\"high\":[8355.95,8360.41,8356.03,8349.08,8343.52,8334.29,8329.81,8330.0,8331.6,8324.43,8324.97,8319.79,8320.54,8321.2,8324.85,8329.78,8337.0,8337.8,8340.0,8345.0,8348.54,8343.01,8333.01,8329.76,8324.04,8330.27,8326.7,8332.76,8340.0,8345.39],\"low\":[8353.75,8354.63,8348.12,8340.49,8333.68,8324.31,8326.04,8327.12,8321.95,8318.84,8319.04,8311.83,8311.0,8317.74,8320.05,8323.0,8329.32,8330.76,8327.48,8340.0,8341.67,8329.94,8319.51,8313.95,8314.23,8321.89,8321.05,8322.69,8328.96,8336.81],\"open\":[8354.72,8354.74,8355.96,8349.08,8343.52,8333.46,8326.31,8327.13,8328.91,8324.43,8320.41,8319.71,8313.49,8319.29,8320.05,8324.94,8329.65,8337.8,8332.0,8340.0,8344.04,8341.69,8333.01,8323.79,8320.97,8322.0,8323.5,8326.7,8328.96,8339.86],\"x\":[1,2,3,4,5,6,7,8,9,10,11,12,13,14,15,16,17,18,19,20,21,22,23,24,25,26,27,28,29,30],\"type\":\"ohlc\"}],                        {\"template\":{\"data\":{\"histogram2dcontour\":[{\"type\":\"histogram2dcontour\",\"colorbar\":{\"outlinewidth\":0,\"ticks\":\"\"},\"colorscale\":[[0.0,\"#0d0887\"],[0.1111111111111111,\"#46039f\"],[0.2222222222222222,\"#7201a8\"],[0.3333333333333333,\"#9c179e\"],[0.4444444444444444,\"#bd3786\"],[0.5555555555555556,\"#d8576b\"],[0.6666666666666666,\"#ed7953\"],[0.7777777777777778,\"#fb9f3a\"],[0.8888888888888888,\"#fdca26\"],[1.0,\"#f0f921\"]]}],\"choropleth\":[{\"type\":\"choropleth\",\"colorbar\":{\"outlinewidth\":0,\"ticks\":\"\"}}],\"histogram2d\":[{\"type\":\"histogram2d\",\"colorbar\":{\"outlinewidth\":0,\"ticks\":\"\"},\"colorscale\":[[0.0,\"#0d0887\"],[0.1111111111111111,\"#46039f\"],[0.2222222222222222,\"#7201a8\"],[0.3333333333333333,\"#9c179e\"],[0.4444444444444444,\"#bd3786\"],[0.5555555555555556,\"#d8576b\"],[0.6666666666666666,\"#ed7953\"],[0.7777777777777778,\"#fb9f3a\"],[0.8888888888888888,\"#fdca26\"],[1.0,\"#f0f921\"]]}],\"heatmap\":[{\"type\":\"heatmap\",\"colorbar\":{\"outlinewidth\":0,\"ticks\":\"\"},\"colorscale\":[[0.0,\"#0d0887\"],[0.1111111111111111,\"#46039f\"],[0.2222222222222222,\"#7201a8\"],[0.3333333333333333,\"#9c179e\"],[0.4444444444444444,\"#bd3786\"],[0.5555555555555556,\"#d8576b\"],[0.6666666666666666,\"#ed7953\"],[0.7777777777777778,\"#fb9f3a\"],[0.8888888888888888,\"#fdca26\"],[1.0,\"#f0f921\"]]}],\"heatmapgl\":[{\"type\":\"heatmapgl\",\"colorbar\":{\"outlinewidth\":0,\"ticks\":\"\"},\"colorscale\":[[0.0,\"#0d0887\"],[0.1111111111111111,\"#46039f\"],[0.2222222222222222,\"#7201a8\"],[0.3333333333333333,\"#9c179e\"],[0.4444444444444444,\"#bd3786\"],[0.5555555555555556,\"#d8576b\"],[0.6666666666666666,\"#ed7953\"],[0.7777777777777778,\"#fb9f3a\"],[0.8888888888888888,\"#fdca26\"],[1.0,\"#f0f921\"]]}],\"contourcarpet\":[{\"type\":\"contourcarpet\",\"colorbar\":{\"outlinewidth\":0,\"ticks\":\"\"}}],\"contour\":[{\"type\":\"contour\",\"colorbar\":{\"outlinewidth\":0,\"ticks\":\"\"},\"colorscale\":[[0.0,\"#0d0887\"],[0.1111111111111111,\"#46039f\"],[0.2222222222222222,\"#7201a8\"],[0.3333333333333333,\"#9c179e\"],[0.4444444444444444,\"#bd3786\"],[0.5555555555555556,\"#d8576b\"],[0.6666666666666666,\"#ed7953\"],[0.7777777777777778,\"#fb9f3a\"],[0.8888888888888888,\"#fdca26\"],[1.0,\"#f0f921\"]]}],\"surface\":[{\"type\":\"surface\",\"colorbar\":{\"outlinewidth\":0,\"ticks\":\"\"},\"colorscale\":[[0.0,\"#0d0887\"],[0.1111111111111111,\"#46039f\"],[0.2222222222222222,\"#7201a8\"],[0.3333333333333333,\"#9c179e\"],[0.4444444444444444,\"#bd3786\"],[0.5555555555555556,\"#d8576b\"],[0.6666666666666666,\"#ed7953\"],[0.7777777777777778,\"#fb9f3a\"],[0.8888888888888888,\"#fdca26\"],[1.0,\"#f0f921\"]]}],\"mesh3d\":[{\"type\":\"mesh3d\",\"colorbar\":{\"outlinewidth\":0,\"ticks\":\"\"}}],\"scatter\":[{\"fillpattern\":{\"fillmode\":\"overlay\",\"size\":10,\"solidity\":0.2},\"type\":\"scatter\"}],\"parcoords\":[{\"type\":\"parcoords\",\"line\":{\"colorbar\":{\"outlinewidth\":0,\"ticks\":\"\"}}}],\"scatterpolargl\":[{\"type\":\"scatterpolargl\",\"marker\":{\"colorbar\":{\"outlinewidth\":0,\"ticks\":\"\"}}}],\"bar\":[{\"error_x\":{\"color\":\"#2a3f5f\"},\"error_y\":{\"color\":\"#2a3f5f\"},\"marker\":{\"line\":{\"color\":\"#E5ECF6\",\"width\":0.5},\"pattern\":{\"fillmode\":\"overlay\",\"size\":10,\"solidity\":0.2}},\"type\":\"bar\"}],\"scattergeo\":[{\"type\":\"scattergeo\",\"marker\":{\"colorbar\":{\"outlinewidth\":0,\"ticks\":\"\"}}}],\"scatterpolar\":[{\"type\":\"scatterpolar\",\"marker\":{\"colorbar\":{\"outlinewidth\":0,\"ticks\":\"\"}}}],\"histogram\":[{\"marker\":{\"pattern\":{\"fillmode\":\"overlay\",\"size\":10,\"solidity\":0.2}},\"type\":\"histogram\"}],\"scattergl\":[{\"type\":\"scattergl\",\"marker\":{\"colorbar\":{\"outlinewidth\":0,\"ticks\":\"\"}}}],\"scatter3d\":[{\"type\":\"scatter3d\",\"line\":{\"colorbar\":{\"outlinewidth\":0,\"ticks\":\"\"}},\"marker\":{\"colorbar\":{\"outlinewidth\":0,\"ticks\":\"\"}}}],\"scattermapbox\":[{\"type\":\"scattermapbox\",\"marker\":{\"colorbar\":{\"outlinewidth\":0,\"ticks\":\"\"}}}],\"scatterternary\":[{\"type\":\"scatterternary\",\"marker\":{\"colorbar\":{\"outlinewidth\":0,\"ticks\":\"\"}}}],\"scattercarpet\":[{\"type\":\"scattercarpet\",\"marker\":{\"colorbar\":{\"outlinewidth\":0,\"ticks\":\"\"}}}],\"carpet\":[{\"aaxis\":{\"endlinecolor\":\"#2a3f5f\",\"gridcolor\":\"white\",\"linecolor\":\"white\",\"minorgridcolor\":\"white\",\"startlinecolor\":\"#2a3f5f\"},\"baxis\":{\"endlinecolor\":\"#2a3f5f\",\"gridcolor\":\"white\",\"linecolor\":\"white\",\"minorgridcolor\":\"white\",\"startlinecolor\":\"#2a3f5f\"},\"type\":\"carpet\"}],\"table\":[{\"cells\":{\"fill\":{\"color\":\"#EBF0F8\"},\"line\":{\"color\":\"white\"}},\"header\":{\"fill\":{\"color\":\"#C8D4E3\"},\"line\":{\"color\":\"white\"}},\"type\":\"table\"}],\"barpolar\":[{\"marker\":{\"line\":{\"color\":\"#E5ECF6\",\"width\":0.5},\"pattern\":{\"fillmode\":\"overlay\",\"size\":10,\"solidity\":0.2}},\"type\":\"barpolar\"}],\"pie\":[{\"automargin\":true,\"type\":\"pie\"}]},\"layout\":{\"autotypenumbers\":\"strict\",\"colorway\":[\"#636efa\",\"#EF553B\",\"#00cc96\",\"#ab63fa\",\"#FFA15A\",\"#19d3f3\",\"#FF6692\",\"#B6E880\",\"#FF97FF\",\"#FECB52\"],\"font\":{\"color\":\"#2a3f5f\"},\"hovermode\":\"closest\",\"hoverlabel\":{\"align\":\"left\"},\"paper_bgcolor\":\"white\",\"plot_bgcolor\":\"#E5ECF6\",\"polar\":{\"bgcolor\":\"#E5ECF6\",\"angularaxis\":{\"gridcolor\":\"white\",\"linecolor\":\"white\",\"ticks\":\"\"},\"radialaxis\":{\"gridcolor\":\"white\",\"linecolor\":\"white\",\"ticks\":\"\"}},\"ternary\":{\"bgcolor\":\"#E5ECF6\",\"aaxis\":{\"gridcolor\":\"white\",\"linecolor\":\"white\",\"ticks\":\"\"},\"baxis\":{\"gridcolor\":\"white\",\"linecolor\":\"white\",\"ticks\":\"\"},\"caxis\":{\"gridcolor\":\"white\",\"linecolor\":\"white\",\"ticks\":\"\"}},\"coloraxis\":{\"colorbar\":{\"outlinewidth\":0,\"ticks\":\"\"}},\"colorscale\":{\"sequential\":[[0.0,\"#0d0887\"],[0.1111111111111111,\"#46039f\"],[0.2222222222222222,\"#7201a8\"],[0.3333333333333333,\"#9c179e\"],[0.4444444444444444,\"#bd3786\"],[0.5555555555555556,\"#d8576b\"],[0.6666666666666666,\"#ed7953\"],[0.7777777777777778,\"#fb9f3a\"],[0.8888888888888888,\"#fdca26\"],[1.0,\"#f0f921\"]],\"sequentialminus\":[[0.0,\"#0d0887\"],[0.1111111111111111,\"#46039f\"],[0.2222222222222222,\"#7201a8\"],[0.3333333333333333,\"#9c179e\"],[0.4444444444444444,\"#bd3786\"],[0.5555555555555556,\"#d8576b\"],[0.6666666666666666,\"#ed7953\"],[0.7777777777777778,\"#fb9f3a\"],[0.8888888888888888,\"#fdca26\"],[1.0,\"#f0f921\"]],\"diverging\":[[0,\"#8e0152\"],[0.1,\"#c51b7d\"],[0.2,\"#de77ae\"],[0.3,\"#f1b6da\"],[0.4,\"#fde0ef\"],[0.5,\"#f7f7f7\"],[0.6,\"#e6f5d0\"],[0.7,\"#b8e186\"],[0.8,\"#7fbc41\"],[0.9,\"#4d9221\"],[1,\"#276419\"]]},\"xaxis\":{\"gridcolor\":\"white\",\"linecolor\":\"white\",\"ticks\":\"\",\"title\":{\"standoff\":15},\"zerolinecolor\":\"white\",\"automargin\":true,\"zerolinewidth\":2},\"yaxis\":{\"gridcolor\":\"white\",\"linecolor\":\"white\",\"ticks\":\"\",\"title\":{\"standoff\":15},\"zerolinecolor\":\"white\",\"automargin\":true,\"zerolinewidth\":2},\"scene\":{\"xaxis\":{\"backgroundcolor\":\"#E5ECF6\",\"gridcolor\":\"white\",\"linecolor\":\"white\",\"showbackground\":true,\"ticks\":\"\",\"zerolinecolor\":\"white\",\"gridwidth\":2},\"yaxis\":{\"backgroundcolor\":\"#E5ECF6\",\"gridcolor\":\"white\",\"linecolor\":\"white\",\"showbackground\":true,\"ticks\":\"\",\"zerolinecolor\":\"white\",\"gridwidth\":2},\"zaxis\":{\"backgroundcolor\":\"#E5ECF6\",\"gridcolor\":\"white\",\"linecolor\":\"white\",\"showbackground\":true,\"ticks\":\"\",\"zerolinecolor\":\"white\",\"gridwidth\":2}},\"shapedefaults\":{\"line\":{\"color\":\"#2a3f5f\"}},\"annotationdefaults\":{\"arrowcolor\":\"#2a3f5f\",\"arrowhead\":0,\"arrowwidth\":1},\"geo\":{\"bgcolor\":\"white\",\"landcolor\":\"#E5ECF6\",\"subunitcolor\":\"white\",\"showland\":true,\"showlakes\":true,\"lakecolor\":\"white\"},\"title\":{\"x\":0.05},\"mapbox\":{\"style\":\"light\"}}},\"xaxis\":{\"rangeslider\":{\"visible\":false}}},                        {\"responsive\": true}                    ).then(function(){\n",
       "                            \n",
       "var gd = document.getElementById('bf3082d2-de02-411c-aff9-45d68d0e7e56');\n",
       "var x = new MutationObserver(function (mutations, observer) {{\n",
       "        var display = window.getComputedStyle(gd).display;\n",
       "        if (!display || display === 'none') {{\n",
       "            console.log([gd, 'removed!']);\n",
       "            Plotly.purge(gd);\n",
       "            observer.disconnect();\n",
       "        }}\n",
       "}});\n",
       "\n",
       "// Listen for the removal of the full notebook cells\n",
       "var notebookContainer = gd.closest('#notebook-container');\n",
       "if (notebookContainer) {{\n",
       "    x.observe(notebookContainer, {childList: true});\n",
       "}}\n",
       "\n",
       "// Listen for the clearing of the current output cell\n",
       "var outputEl = gd.closest('.output');\n",
       "if (outputEl) {{\n",
       "    x.observe(outputEl, {childList: true});\n",
       "}}\n",
       "\n",
       "                        })                };                });            </script>        </div>"
      ]
     },
     "metadata": {},
     "output_type": "display_data"
    },
    {
     "name": "stdout",
     "output_type": "stream",
     "text": [
      "15855\n",
      "0.9950104966331229 1.0000899217335066\n"
     ]
    },
    {
     "data": {
      "application/vnd.plotly.v1+json": {
       "config": {
        "plotlyServerURL": "https://plot.ly"
       },
       "data": [
        {
         "close": [
          8671.91,
          8673.25,
          8672.79,
          8665.04,
          8667,
          8667.39,
          8664.59,
          8662.5,
          8664.61,
          8666.84,
          8664.86,
          8666.01,
          8660.68,
          8650.9,
          8650.08,
          8648.11,
          8647.3,
          8640.87,
          8643.14,
          8653.41,
          8653.11,
          8652.28,
          8654.69,
          8655.8,
          8655.01,
          8652.96,
          8652.2,
          8652.87,
          8641.15,
          8642
         ],
         "high": [
          8674.99,
          8674.66,
          8674.91,
          8674.19,
          8669.09,
          8667.39,
          8667.33,
          8663.49,
          8666.51,
          8667.33,
          8667.29,
          8670.93,
          8666,
          8660.69,
          8652.06,
          8651.2,
          8649.42,
          8647.3,
          8646.01,
          8654.42,
          8657.85,
          8654.9,
          8654.9,
          8657.42,
          8657,
          8656,
          8654,
          8652.87,
          8653.46,
          8645.82
         ],
         "low": [
          8671,
          8672.54,
          8672.29,
          8664.13,
          8664,
          8661.17,
          8661.51,
          8662.5,
          8662.5,
          8664.26,
          8664.29,
          8663.97,
          8660,
          8650,
          8645.26,
          8646.57,
          8647.29,
          8640.28,
          8639.91,
          8640.13,
          8649.56,
          8650.45,
          8652.2,
          8653.57,
          8655,
          8652.81,
          8652.2,
          8635,
          8630.93,
          8639
         ],
         "open": [
          8674.21,
          8672.54,
          8674.19,
          8672.78,
          8665.29,
          8666.66,
          8667.33,
          8663.1,
          8662.99,
          8664.55,
          8666.55,
          8665.4,
          8666,
          8660.69,
          8650.9,
          8648.98,
          8648.01,
          8647.3,
          8640.5,
          8641.55,
          8652.88,
          8652.7,
          8652.2,
          8654.51,
          8655.89,
          8655.01,
          8653.08,
          8651.7,
          8652.88,
          8641.15
         ],
         "type": "ohlc",
         "x": [
          1,
          2,
          3,
          4,
          5,
          6,
          7,
          8,
          9,
          10,
          11,
          12,
          13,
          14,
          15,
          16,
          17,
          18,
          19,
          20,
          21,
          22,
          23,
          24,
          25,
          26,
          27,
          28,
          29,
          30
         ]
        }
       ],
       "layout": {
        "template": {
         "data": {
          "bar": [
           {
            "error_x": {
             "color": "#2a3f5f"
            },
            "error_y": {
             "color": "#2a3f5f"
            },
            "marker": {
             "line": {
              "color": "#E5ECF6",
              "width": 0.5
             },
             "pattern": {
              "fillmode": "overlay",
              "size": 10,
              "solidity": 0.2
             }
            },
            "type": "bar"
           }
          ],
          "barpolar": [
           {
            "marker": {
             "line": {
              "color": "#E5ECF6",
              "width": 0.5
             },
             "pattern": {
              "fillmode": "overlay",
              "size": 10,
              "solidity": 0.2
             }
            },
            "type": "barpolar"
           }
          ],
          "carpet": [
           {
            "aaxis": {
             "endlinecolor": "#2a3f5f",
             "gridcolor": "white",
             "linecolor": "white",
             "minorgridcolor": "white",
             "startlinecolor": "#2a3f5f"
            },
            "baxis": {
             "endlinecolor": "#2a3f5f",
             "gridcolor": "white",
             "linecolor": "white",
             "minorgridcolor": "white",
             "startlinecolor": "#2a3f5f"
            },
            "type": "carpet"
           }
          ],
          "choropleth": [
           {
            "colorbar": {
             "outlinewidth": 0,
             "ticks": ""
            },
            "type": "choropleth"
           }
          ],
          "contour": [
           {
            "colorbar": {
             "outlinewidth": 0,
             "ticks": ""
            },
            "colorscale": [
             [
              0,
              "#0d0887"
             ],
             [
              0.1111111111111111,
              "#46039f"
             ],
             [
              0.2222222222222222,
              "#7201a8"
             ],
             [
              0.3333333333333333,
              "#9c179e"
             ],
             [
              0.4444444444444444,
              "#bd3786"
             ],
             [
              0.5555555555555556,
              "#d8576b"
             ],
             [
              0.6666666666666666,
              "#ed7953"
             ],
             [
              0.7777777777777778,
              "#fb9f3a"
             ],
             [
              0.8888888888888888,
              "#fdca26"
             ],
             [
              1,
              "#f0f921"
             ]
            ],
            "type": "contour"
           }
          ],
          "contourcarpet": [
           {
            "colorbar": {
             "outlinewidth": 0,
             "ticks": ""
            },
            "type": "contourcarpet"
           }
          ],
          "heatmap": [
           {
            "colorbar": {
             "outlinewidth": 0,
             "ticks": ""
            },
            "colorscale": [
             [
              0,
              "#0d0887"
             ],
             [
              0.1111111111111111,
              "#46039f"
             ],
             [
              0.2222222222222222,
              "#7201a8"
             ],
             [
              0.3333333333333333,
              "#9c179e"
             ],
             [
              0.4444444444444444,
              "#bd3786"
             ],
             [
              0.5555555555555556,
              "#d8576b"
             ],
             [
              0.6666666666666666,
              "#ed7953"
             ],
             [
              0.7777777777777778,
              "#fb9f3a"
             ],
             [
              0.8888888888888888,
              "#fdca26"
             ],
             [
              1,
              "#f0f921"
             ]
            ],
            "type": "heatmap"
           }
          ],
          "heatmapgl": [
           {
            "colorbar": {
             "outlinewidth": 0,
             "ticks": ""
            },
            "colorscale": [
             [
              0,
              "#0d0887"
             ],
             [
              0.1111111111111111,
              "#46039f"
             ],
             [
              0.2222222222222222,
              "#7201a8"
             ],
             [
              0.3333333333333333,
              "#9c179e"
             ],
             [
              0.4444444444444444,
              "#bd3786"
             ],
             [
              0.5555555555555556,
              "#d8576b"
             ],
             [
              0.6666666666666666,
              "#ed7953"
             ],
             [
              0.7777777777777778,
              "#fb9f3a"
             ],
             [
              0.8888888888888888,
              "#fdca26"
             ],
             [
              1,
              "#f0f921"
             ]
            ],
            "type": "heatmapgl"
           }
          ],
          "histogram": [
           {
            "marker": {
             "pattern": {
              "fillmode": "overlay",
              "size": 10,
              "solidity": 0.2
             }
            },
            "type": "histogram"
           }
          ],
          "histogram2d": [
           {
            "colorbar": {
             "outlinewidth": 0,
             "ticks": ""
            },
            "colorscale": [
             [
              0,
              "#0d0887"
             ],
             [
              0.1111111111111111,
              "#46039f"
             ],
             [
              0.2222222222222222,
              "#7201a8"
             ],
             [
              0.3333333333333333,
              "#9c179e"
             ],
             [
              0.4444444444444444,
              "#bd3786"
             ],
             [
              0.5555555555555556,
              "#d8576b"
             ],
             [
              0.6666666666666666,
              "#ed7953"
             ],
             [
              0.7777777777777778,
              "#fb9f3a"
             ],
             [
              0.8888888888888888,
              "#fdca26"
             ],
             [
              1,
              "#f0f921"
             ]
            ],
            "type": "histogram2d"
           }
          ],
          "histogram2dcontour": [
           {
            "colorbar": {
             "outlinewidth": 0,
             "ticks": ""
            },
            "colorscale": [
             [
              0,
              "#0d0887"
             ],
             [
              0.1111111111111111,
              "#46039f"
             ],
             [
              0.2222222222222222,
              "#7201a8"
             ],
             [
              0.3333333333333333,
              "#9c179e"
             ],
             [
              0.4444444444444444,
              "#bd3786"
             ],
             [
              0.5555555555555556,
              "#d8576b"
             ],
             [
              0.6666666666666666,
              "#ed7953"
             ],
             [
              0.7777777777777778,
              "#fb9f3a"
             ],
             [
              0.8888888888888888,
              "#fdca26"
             ],
             [
              1,
              "#f0f921"
             ]
            ],
            "type": "histogram2dcontour"
           }
          ],
          "mesh3d": [
           {
            "colorbar": {
             "outlinewidth": 0,
             "ticks": ""
            },
            "type": "mesh3d"
           }
          ],
          "parcoords": [
           {
            "line": {
             "colorbar": {
              "outlinewidth": 0,
              "ticks": ""
             }
            },
            "type": "parcoords"
           }
          ],
          "pie": [
           {
            "automargin": true,
            "type": "pie"
           }
          ],
          "scatter": [
           {
            "fillpattern": {
             "fillmode": "overlay",
             "size": 10,
             "solidity": 0.2
            },
            "type": "scatter"
           }
          ],
          "scatter3d": [
           {
            "line": {
             "colorbar": {
              "outlinewidth": 0,
              "ticks": ""
             }
            },
            "marker": {
             "colorbar": {
              "outlinewidth": 0,
              "ticks": ""
             }
            },
            "type": "scatter3d"
           }
          ],
          "scattercarpet": [
           {
            "marker": {
             "colorbar": {
              "outlinewidth": 0,
              "ticks": ""
             }
            },
            "type": "scattercarpet"
           }
          ],
          "scattergeo": [
           {
            "marker": {
             "colorbar": {
              "outlinewidth": 0,
              "ticks": ""
             }
            },
            "type": "scattergeo"
           }
          ],
          "scattergl": [
           {
            "marker": {
             "colorbar": {
              "outlinewidth": 0,
              "ticks": ""
             }
            },
            "type": "scattergl"
           }
          ],
          "scattermapbox": [
           {
            "marker": {
             "colorbar": {
              "outlinewidth": 0,
              "ticks": ""
             }
            },
            "type": "scattermapbox"
           }
          ],
          "scatterpolar": [
           {
            "marker": {
             "colorbar": {
              "outlinewidth": 0,
              "ticks": ""
             }
            },
            "type": "scatterpolar"
           }
          ],
          "scatterpolargl": [
           {
            "marker": {
             "colorbar": {
              "outlinewidth": 0,
              "ticks": ""
             }
            },
            "type": "scatterpolargl"
           }
          ],
          "scatterternary": [
           {
            "marker": {
             "colorbar": {
              "outlinewidth": 0,
              "ticks": ""
             }
            },
            "type": "scatterternary"
           }
          ],
          "surface": [
           {
            "colorbar": {
             "outlinewidth": 0,
             "ticks": ""
            },
            "colorscale": [
             [
              0,
              "#0d0887"
             ],
             [
              0.1111111111111111,
              "#46039f"
             ],
             [
              0.2222222222222222,
              "#7201a8"
             ],
             [
              0.3333333333333333,
              "#9c179e"
             ],
             [
              0.4444444444444444,
              "#bd3786"
             ],
             [
              0.5555555555555556,
              "#d8576b"
             ],
             [
              0.6666666666666666,
              "#ed7953"
             ],
             [
              0.7777777777777778,
              "#fb9f3a"
             ],
             [
              0.8888888888888888,
              "#fdca26"
             ],
             [
              1,
              "#f0f921"
             ]
            ],
            "type": "surface"
           }
          ],
          "table": [
           {
            "cells": {
             "fill": {
              "color": "#EBF0F8"
             },
             "line": {
              "color": "white"
             }
            },
            "header": {
             "fill": {
              "color": "#C8D4E3"
             },
             "line": {
              "color": "white"
             }
            },
            "type": "table"
           }
          ]
         },
         "layout": {
          "annotationdefaults": {
           "arrowcolor": "#2a3f5f",
           "arrowhead": 0,
           "arrowwidth": 1
          },
          "autotypenumbers": "strict",
          "coloraxis": {
           "colorbar": {
            "outlinewidth": 0,
            "ticks": ""
           }
          },
          "colorscale": {
           "diverging": [
            [
             0,
             "#8e0152"
            ],
            [
             0.1,
             "#c51b7d"
            ],
            [
             0.2,
             "#de77ae"
            ],
            [
             0.3,
             "#f1b6da"
            ],
            [
             0.4,
             "#fde0ef"
            ],
            [
             0.5,
             "#f7f7f7"
            ],
            [
             0.6,
             "#e6f5d0"
            ],
            [
             0.7,
             "#b8e186"
            ],
            [
             0.8,
             "#7fbc41"
            ],
            [
             0.9,
             "#4d9221"
            ],
            [
             1,
             "#276419"
            ]
           ],
           "sequential": [
            [
             0,
             "#0d0887"
            ],
            [
             0.1111111111111111,
             "#46039f"
            ],
            [
             0.2222222222222222,
             "#7201a8"
            ],
            [
             0.3333333333333333,
             "#9c179e"
            ],
            [
             0.4444444444444444,
             "#bd3786"
            ],
            [
             0.5555555555555556,
             "#d8576b"
            ],
            [
             0.6666666666666666,
             "#ed7953"
            ],
            [
             0.7777777777777778,
             "#fb9f3a"
            ],
            [
             0.8888888888888888,
             "#fdca26"
            ],
            [
             1,
             "#f0f921"
            ]
           ],
           "sequentialminus": [
            [
             0,
             "#0d0887"
            ],
            [
             0.1111111111111111,
             "#46039f"
            ],
            [
             0.2222222222222222,
             "#7201a8"
            ],
            [
             0.3333333333333333,
             "#9c179e"
            ],
            [
             0.4444444444444444,
             "#bd3786"
            ],
            [
             0.5555555555555556,
             "#d8576b"
            ],
            [
             0.6666666666666666,
             "#ed7953"
            ],
            [
             0.7777777777777778,
             "#fb9f3a"
            ],
            [
             0.8888888888888888,
             "#fdca26"
            ],
            [
             1,
             "#f0f921"
            ]
           ]
          },
          "colorway": [
           "#636efa",
           "#EF553B",
           "#00cc96",
           "#ab63fa",
           "#FFA15A",
           "#19d3f3",
           "#FF6692",
           "#B6E880",
           "#FF97FF",
           "#FECB52"
          ],
          "font": {
           "color": "#2a3f5f"
          },
          "geo": {
           "bgcolor": "white",
           "lakecolor": "white",
           "landcolor": "#E5ECF6",
           "showlakes": true,
           "showland": true,
           "subunitcolor": "white"
          },
          "hoverlabel": {
           "align": "left"
          },
          "hovermode": "closest",
          "mapbox": {
           "style": "light"
          },
          "paper_bgcolor": "white",
          "plot_bgcolor": "#E5ECF6",
          "polar": {
           "angularaxis": {
            "gridcolor": "white",
            "linecolor": "white",
            "ticks": ""
           },
           "bgcolor": "#E5ECF6",
           "radialaxis": {
            "gridcolor": "white",
            "linecolor": "white",
            "ticks": ""
           }
          },
          "scene": {
           "xaxis": {
            "backgroundcolor": "#E5ECF6",
            "gridcolor": "white",
            "gridwidth": 2,
            "linecolor": "white",
            "showbackground": true,
            "ticks": "",
            "zerolinecolor": "white"
           },
           "yaxis": {
            "backgroundcolor": "#E5ECF6",
            "gridcolor": "white",
            "gridwidth": 2,
            "linecolor": "white",
            "showbackground": true,
            "ticks": "",
            "zerolinecolor": "white"
           },
           "zaxis": {
            "backgroundcolor": "#E5ECF6",
            "gridcolor": "white",
            "gridwidth": 2,
            "linecolor": "white",
            "showbackground": true,
            "ticks": "",
            "zerolinecolor": "white"
           }
          },
          "shapedefaults": {
           "line": {
            "color": "#2a3f5f"
           }
          },
          "ternary": {
           "aaxis": {
            "gridcolor": "white",
            "linecolor": "white",
            "ticks": ""
           },
           "baxis": {
            "gridcolor": "white",
            "linecolor": "white",
            "ticks": ""
           },
           "bgcolor": "#E5ECF6",
           "caxis": {
            "gridcolor": "white",
            "linecolor": "white",
            "ticks": ""
           }
          },
          "title": {
           "x": 0.05
          },
          "xaxis": {
           "automargin": true,
           "gridcolor": "white",
           "linecolor": "white",
           "ticks": "",
           "title": {
            "standoff": 15
           },
           "zerolinecolor": "white",
           "zerolinewidth": 2
          },
          "yaxis": {
           "automargin": true,
           "gridcolor": "white",
           "linecolor": "white",
           "ticks": "",
           "title": {
            "standoff": 15
           },
           "zerolinecolor": "white",
           "zerolinewidth": 2
          }
         }
        },
        "xaxis": {
         "rangeslider": {
          "visible": false
         }
        }
       }
      },
      "text/html": [
       "<div>                            <div id=\"4901085d-c1fc-4683-ac77-aeaf0d1dc508\" class=\"plotly-graph-div\" style=\"height:525px; width:100%;\"></div>            <script type=\"text/javascript\">                require([\"plotly\"], function(Plotly) {                    window.PLOTLYENV=window.PLOTLYENV || {};                                    if (document.getElementById(\"4901085d-c1fc-4683-ac77-aeaf0d1dc508\")) {                    Plotly.newPlot(                        \"4901085d-c1fc-4683-ac77-aeaf0d1dc508\",                        [{\"close\":[8671.91,8673.25,8672.79,8665.04,8667.0,8667.39,8664.59,8662.5,8664.61,8666.84,8664.86,8666.01,8660.68,8650.9,8650.08,8648.11,8647.3,8640.87,8643.14,8653.41,8653.11,8652.28,8654.69,8655.8,8655.01,8652.96,8652.2,8652.87,8641.15,8642.0],\"high\":[8674.99,8674.66,8674.91,8674.19,8669.09,8667.39,8667.33,8663.49,8666.51,8667.33,8667.29,8670.93,8666.0,8660.69,8652.06,8651.2,8649.42,8647.3,8646.01,8654.42,8657.85,8654.9,8654.9,8657.42,8657.0,8656.0,8654.0,8652.87,8653.46,8645.82],\"low\":[8671.0,8672.54,8672.29,8664.13,8664.0,8661.17,8661.51,8662.5,8662.5,8664.26,8664.29,8663.97,8660.0,8650.0,8645.26,8646.57,8647.29,8640.28,8639.91,8640.13,8649.56,8650.45,8652.2,8653.57,8655.0,8652.81,8652.2,8635.0,8630.93,8639.0],\"open\":[8674.21,8672.54,8674.19,8672.78,8665.29,8666.66,8667.33,8663.1,8662.99,8664.55,8666.55,8665.4,8666.0,8660.69,8650.9,8648.98,8648.01,8647.3,8640.5,8641.55,8652.88,8652.7,8652.2,8654.51,8655.89,8655.01,8653.08,8651.7,8652.88,8641.15],\"x\":[1,2,3,4,5,6,7,8,9,10,11,12,13,14,15,16,17,18,19,20,21,22,23,24,25,26,27,28,29,30],\"type\":\"ohlc\"}],                        {\"template\":{\"data\":{\"histogram2dcontour\":[{\"type\":\"histogram2dcontour\",\"colorbar\":{\"outlinewidth\":0,\"ticks\":\"\"},\"colorscale\":[[0.0,\"#0d0887\"],[0.1111111111111111,\"#46039f\"],[0.2222222222222222,\"#7201a8\"],[0.3333333333333333,\"#9c179e\"],[0.4444444444444444,\"#bd3786\"],[0.5555555555555556,\"#d8576b\"],[0.6666666666666666,\"#ed7953\"],[0.7777777777777778,\"#fb9f3a\"],[0.8888888888888888,\"#fdca26\"],[1.0,\"#f0f921\"]]}],\"choropleth\":[{\"type\":\"choropleth\",\"colorbar\":{\"outlinewidth\":0,\"ticks\":\"\"}}],\"histogram2d\":[{\"type\":\"histogram2d\",\"colorbar\":{\"outlinewidth\":0,\"ticks\":\"\"},\"colorscale\":[[0.0,\"#0d0887\"],[0.1111111111111111,\"#46039f\"],[0.2222222222222222,\"#7201a8\"],[0.3333333333333333,\"#9c179e\"],[0.4444444444444444,\"#bd3786\"],[0.5555555555555556,\"#d8576b\"],[0.6666666666666666,\"#ed7953\"],[0.7777777777777778,\"#fb9f3a\"],[0.8888888888888888,\"#fdca26\"],[1.0,\"#f0f921\"]]}],\"heatmap\":[{\"type\":\"heatmap\",\"colorbar\":{\"outlinewidth\":0,\"ticks\":\"\"},\"colorscale\":[[0.0,\"#0d0887\"],[0.1111111111111111,\"#46039f\"],[0.2222222222222222,\"#7201a8\"],[0.3333333333333333,\"#9c179e\"],[0.4444444444444444,\"#bd3786\"],[0.5555555555555556,\"#d8576b\"],[0.6666666666666666,\"#ed7953\"],[0.7777777777777778,\"#fb9f3a\"],[0.8888888888888888,\"#fdca26\"],[1.0,\"#f0f921\"]]}],\"heatmapgl\":[{\"type\":\"heatmapgl\",\"colorbar\":{\"outlinewidth\":0,\"ticks\":\"\"},\"colorscale\":[[0.0,\"#0d0887\"],[0.1111111111111111,\"#46039f\"],[0.2222222222222222,\"#7201a8\"],[0.3333333333333333,\"#9c179e\"],[0.4444444444444444,\"#bd3786\"],[0.5555555555555556,\"#d8576b\"],[0.6666666666666666,\"#ed7953\"],[0.7777777777777778,\"#fb9f3a\"],[0.8888888888888888,\"#fdca26\"],[1.0,\"#f0f921\"]]}],\"contourcarpet\":[{\"type\":\"contourcarpet\",\"colorbar\":{\"outlinewidth\":0,\"ticks\":\"\"}}],\"contour\":[{\"type\":\"contour\",\"colorbar\":{\"outlinewidth\":0,\"ticks\":\"\"},\"colorscale\":[[0.0,\"#0d0887\"],[0.1111111111111111,\"#46039f\"],[0.2222222222222222,\"#7201a8\"],[0.3333333333333333,\"#9c179e\"],[0.4444444444444444,\"#bd3786\"],[0.5555555555555556,\"#d8576b\"],[0.6666666666666666,\"#ed7953\"],[0.7777777777777778,\"#fb9f3a\"],[0.8888888888888888,\"#fdca26\"],[1.0,\"#f0f921\"]]}],\"surface\":[{\"type\":\"surface\",\"colorbar\":{\"outlinewidth\":0,\"ticks\":\"\"},\"colorscale\":[[0.0,\"#0d0887\"],[0.1111111111111111,\"#46039f\"],[0.2222222222222222,\"#7201a8\"],[0.3333333333333333,\"#9c179e\"],[0.4444444444444444,\"#bd3786\"],[0.5555555555555556,\"#d8576b\"],[0.6666666666666666,\"#ed7953\"],[0.7777777777777778,\"#fb9f3a\"],[0.8888888888888888,\"#fdca26\"],[1.0,\"#f0f921\"]]}],\"mesh3d\":[{\"type\":\"mesh3d\",\"colorbar\":{\"outlinewidth\":0,\"ticks\":\"\"}}],\"scatter\":[{\"fillpattern\":{\"fillmode\":\"overlay\",\"size\":10,\"solidity\":0.2},\"type\":\"scatter\"}],\"parcoords\":[{\"type\":\"parcoords\",\"line\":{\"colorbar\":{\"outlinewidth\":0,\"ticks\":\"\"}}}],\"scatterpolargl\":[{\"type\":\"scatterpolargl\",\"marker\":{\"colorbar\":{\"outlinewidth\":0,\"ticks\":\"\"}}}],\"bar\":[{\"error_x\":{\"color\":\"#2a3f5f\"},\"error_y\":{\"color\":\"#2a3f5f\"},\"marker\":{\"line\":{\"color\":\"#E5ECF6\",\"width\":0.5},\"pattern\":{\"fillmode\":\"overlay\",\"size\":10,\"solidity\":0.2}},\"type\":\"bar\"}],\"scattergeo\":[{\"type\":\"scattergeo\",\"marker\":{\"colorbar\":{\"outlinewidth\":0,\"ticks\":\"\"}}}],\"scatterpolar\":[{\"type\":\"scatterpolar\",\"marker\":{\"colorbar\":{\"outlinewidth\":0,\"ticks\":\"\"}}}],\"histogram\":[{\"marker\":{\"pattern\":{\"fillmode\":\"overlay\",\"size\":10,\"solidity\":0.2}},\"type\":\"histogram\"}],\"scattergl\":[{\"type\":\"scattergl\",\"marker\":{\"colorbar\":{\"outlinewidth\":0,\"ticks\":\"\"}}}],\"scatter3d\":[{\"type\":\"scatter3d\",\"line\":{\"colorbar\":{\"outlinewidth\":0,\"ticks\":\"\"}},\"marker\":{\"colorbar\":{\"outlinewidth\":0,\"ticks\":\"\"}}}],\"scattermapbox\":[{\"type\":\"scattermapbox\",\"marker\":{\"colorbar\":{\"outlinewidth\":0,\"ticks\":\"\"}}}],\"scatterternary\":[{\"type\":\"scatterternary\",\"marker\":{\"colorbar\":{\"outlinewidth\":0,\"ticks\":\"\"}}}],\"scattercarpet\":[{\"type\":\"scattercarpet\",\"marker\":{\"colorbar\":{\"outlinewidth\":0,\"ticks\":\"\"}}}],\"carpet\":[{\"aaxis\":{\"endlinecolor\":\"#2a3f5f\",\"gridcolor\":\"white\",\"linecolor\":\"white\",\"minorgridcolor\":\"white\",\"startlinecolor\":\"#2a3f5f\"},\"baxis\":{\"endlinecolor\":\"#2a3f5f\",\"gridcolor\":\"white\",\"linecolor\":\"white\",\"minorgridcolor\":\"white\",\"startlinecolor\":\"#2a3f5f\"},\"type\":\"carpet\"}],\"table\":[{\"cells\":{\"fill\":{\"color\":\"#EBF0F8\"},\"line\":{\"color\":\"white\"}},\"header\":{\"fill\":{\"color\":\"#C8D4E3\"},\"line\":{\"color\":\"white\"}},\"type\":\"table\"}],\"barpolar\":[{\"marker\":{\"line\":{\"color\":\"#E5ECF6\",\"width\":0.5},\"pattern\":{\"fillmode\":\"overlay\",\"size\":10,\"solidity\":0.2}},\"type\":\"barpolar\"}],\"pie\":[{\"automargin\":true,\"type\":\"pie\"}]},\"layout\":{\"autotypenumbers\":\"strict\",\"colorway\":[\"#636efa\",\"#EF553B\",\"#00cc96\",\"#ab63fa\",\"#FFA15A\",\"#19d3f3\",\"#FF6692\",\"#B6E880\",\"#FF97FF\",\"#FECB52\"],\"font\":{\"color\":\"#2a3f5f\"},\"hovermode\":\"closest\",\"hoverlabel\":{\"align\":\"left\"},\"paper_bgcolor\":\"white\",\"plot_bgcolor\":\"#E5ECF6\",\"polar\":{\"bgcolor\":\"#E5ECF6\",\"angularaxis\":{\"gridcolor\":\"white\",\"linecolor\":\"white\",\"ticks\":\"\"},\"radialaxis\":{\"gridcolor\":\"white\",\"linecolor\":\"white\",\"ticks\":\"\"}},\"ternary\":{\"bgcolor\":\"#E5ECF6\",\"aaxis\":{\"gridcolor\":\"white\",\"linecolor\":\"white\",\"ticks\":\"\"},\"baxis\":{\"gridcolor\":\"white\",\"linecolor\":\"white\",\"ticks\":\"\"},\"caxis\":{\"gridcolor\":\"white\",\"linecolor\":\"white\",\"ticks\":\"\"}},\"coloraxis\":{\"colorbar\":{\"outlinewidth\":0,\"ticks\":\"\"}},\"colorscale\":{\"sequential\":[[0.0,\"#0d0887\"],[0.1111111111111111,\"#46039f\"],[0.2222222222222222,\"#7201a8\"],[0.3333333333333333,\"#9c179e\"],[0.4444444444444444,\"#bd3786\"],[0.5555555555555556,\"#d8576b\"],[0.6666666666666666,\"#ed7953\"],[0.7777777777777778,\"#fb9f3a\"],[0.8888888888888888,\"#fdca26\"],[1.0,\"#f0f921\"]],\"sequentialminus\":[[0.0,\"#0d0887\"],[0.1111111111111111,\"#46039f\"],[0.2222222222222222,\"#7201a8\"],[0.3333333333333333,\"#9c179e\"],[0.4444444444444444,\"#bd3786\"],[0.5555555555555556,\"#d8576b\"],[0.6666666666666666,\"#ed7953\"],[0.7777777777777778,\"#fb9f3a\"],[0.8888888888888888,\"#fdca26\"],[1.0,\"#f0f921\"]],\"diverging\":[[0,\"#8e0152\"],[0.1,\"#c51b7d\"],[0.2,\"#de77ae\"],[0.3,\"#f1b6da\"],[0.4,\"#fde0ef\"],[0.5,\"#f7f7f7\"],[0.6,\"#e6f5d0\"],[0.7,\"#b8e186\"],[0.8,\"#7fbc41\"],[0.9,\"#4d9221\"],[1,\"#276419\"]]},\"xaxis\":{\"gridcolor\":\"white\",\"linecolor\":\"white\",\"ticks\":\"\",\"title\":{\"standoff\":15},\"zerolinecolor\":\"white\",\"automargin\":true,\"zerolinewidth\":2},\"yaxis\":{\"gridcolor\":\"white\",\"linecolor\":\"white\",\"ticks\":\"\",\"title\":{\"standoff\":15},\"zerolinecolor\":\"white\",\"automargin\":true,\"zerolinewidth\":2},\"scene\":{\"xaxis\":{\"backgroundcolor\":\"#E5ECF6\",\"gridcolor\":\"white\",\"linecolor\":\"white\",\"showbackground\":true,\"ticks\":\"\",\"zerolinecolor\":\"white\",\"gridwidth\":2},\"yaxis\":{\"backgroundcolor\":\"#E5ECF6\",\"gridcolor\":\"white\",\"linecolor\":\"white\",\"showbackground\":true,\"ticks\":\"\",\"zerolinecolor\":\"white\",\"gridwidth\":2},\"zaxis\":{\"backgroundcolor\":\"#E5ECF6\",\"gridcolor\":\"white\",\"linecolor\":\"white\",\"showbackground\":true,\"ticks\":\"\",\"zerolinecolor\":\"white\",\"gridwidth\":2}},\"shapedefaults\":{\"line\":{\"color\":\"#2a3f5f\"}},\"annotationdefaults\":{\"arrowcolor\":\"#2a3f5f\",\"arrowhead\":0,\"arrowwidth\":1},\"geo\":{\"bgcolor\":\"white\",\"landcolor\":\"#E5ECF6\",\"subunitcolor\":\"white\",\"showland\":true,\"showlakes\":true,\"lakecolor\":\"white\"},\"title\":{\"x\":0.05},\"mapbox\":{\"style\":\"light\"}}},\"xaxis\":{\"rangeslider\":{\"visible\":false}}},                        {\"responsive\": true}                    ).then(function(){\n",
       "                            \n",
       "var gd = document.getElementById('4901085d-c1fc-4683-ac77-aeaf0d1dc508');\n",
       "var x = new MutationObserver(function (mutations, observer) {{\n",
       "        var display = window.getComputedStyle(gd).display;\n",
       "        if (!display || display === 'none') {{\n",
       "            console.log([gd, 'removed!']);\n",
       "            Plotly.purge(gd);\n",
       "            observer.disconnect();\n",
       "        }}\n",
       "}});\n",
       "\n",
       "// Listen for the removal of the full notebook cells\n",
       "var notebookContainer = gd.closest('#notebook-container');\n",
       "if (notebookContainer) {{\n",
       "    x.observe(notebookContainer, {childList: true});\n",
       "}}\n",
       "\n",
       "// Listen for the clearing of the current output cell\n",
       "var outputEl = gd.closest('.output');\n",
       "if (outputEl) {{\n",
       "    x.observe(outputEl, {childList: true});\n",
       "}}\n",
       "\n",
       "                        })                };                });            </script>        </div>"
      ]
     },
     "metadata": {},
     "output_type": "display_data"
    },
    {
     "name": "stdout",
     "output_type": "stream",
     "text": [
      "31885\n",
      "0.8411988248643116 1.0015881071013497\n"
     ]
    },
    {
     "data": {
      "application/vnd.plotly.v1+json": {
       "config": {
        "plotlyServerURL": "https://plot.ly"
       },
       "data": [
        {
         "close": [
          9345.56,
          9214.06,
          9185.81,
          8910.74,
          8664.77,
          8630.19,
          8052,
          8273.6,
          8514.44,
          8229.55,
          8367.28,
          8515.78,
          8585,
          8516.89,
          8529.88,
          8506.18,
          8548.79,
          8548.7,
          8644.4,
          8636.59,
          8682.66,
          8659.76,
          8590.31,
          8602.95,
          8613.47,
          8649.49,
          8592.57,
          8578.61,
          8612.18,
          8627.94
         ],
         "high": [
          9453.9,
          9349.99,
          9289.2,
          9189.02,
          8988,
          8674.99,
          8640.66,
          8324.62,
          8657.75,
          8516.43,
          8492.56,
          8516.39,
          8600,
          8675.86,
          8569,
          8545,
          8548.79,
          8573.43,
          8650,
          8645.67,
          8688.36,
          8691.42,
          8665.28,
          8624.3,
          8650,
          8650,
          8656.3,
          8600,
          8629.99,
          8648.12
         ],
         "low": [
          9336.19,
          9121.88,
          9182.34,
          8781.7,
          8588.88,
          8531.83,
          7940,
          8052,
          8258.3,
          8088,
          8229.17,
          8314.37,
          8416.99,
          8487.28,
          8430,
          8460.01,
          8483,
          8503.41,
          8541.02,
          8580.51,
          8621.53,
          8623.01,
          8510,
          8558,
          8600.42,
          8610.38,
          8568.65,
          8550,
          8575.05,
          8602.96
         ],
         "open": [
          9438.91,
          9345.6,
          9214.33,
          9188.29,
          8915.09,
          8664.77,
          8635.63,
          8052,
          8269.65,
          8516.42,
          8229.17,
          8360.49,
          8514.24,
          8585,
          8516.44,
          8533.99,
          8507.61,
          8546.72,
          8547.45,
          8644.39,
          8636.6,
          8681.78,
          8664.53,
          8587.77,
          8608.67,
          8611.84,
          8649.48,
          8591.52,
          8575.05,
          8612.43
         ],
         "type": "ohlc",
         "x": [
          1,
          2,
          3,
          4,
          5,
          6,
          7,
          8,
          9,
          10,
          11,
          12,
          13,
          14,
          15,
          16,
          17,
          18,
          19,
          20,
          21,
          22,
          23,
          24,
          25,
          26,
          27,
          28,
          29,
          30
         ]
        }
       ],
       "layout": {
        "template": {
         "data": {
          "bar": [
           {
            "error_x": {
             "color": "#2a3f5f"
            },
            "error_y": {
             "color": "#2a3f5f"
            },
            "marker": {
             "line": {
              "color": "#E5ECF6",
              "width": 0.5
             },
             "pattern": {
              "fillmode": "overlay",
              "size": 10,
              "solidity": 0.2
             }
            },
            "type": "bar"
           }
          ],
          "barpolar": [
           {
            "marker": {
             "line": {
              "color": "#E5ECF6",
              "width": 0.5
             },
             "pattern": {
              "fillmode": "overlay",
              "size": 10,
              "solidity": 0.2
             }
            },
            "type": "barpolar"
           }
          ],
          "carpet": [
           {
            "aaxis": {
             "endlinecolor": "#2a3f5f",
             "gridcolor": "white",
             "linecolor": "white",
             "minorgridcolor": "white",
             "startlinecolor": "#2a3f5f"
            },
            "baxis": {
             "endlinecolor": "#2a3f5f",
             "gridcolor": "white",
             "linecolor": "white",
             "minorgridcolor": "white",
             "startlinecolor": "#2a3f5f"
            },
            "type": "carpet"
           }
          ],
          "choropleth": [
           {
            "colorbar": {
             "outlinewidth": 0,
             "ticks": ""
            },
            "type": "choropleth"
           }
          ],
          "contour": [
           {
            "colorbar": {
             "outlinewidth": 0,
             "ticks": ""
            },
            "colorscale": [
             [
              0,
              "#0d0887"
             ],
             [
              0.1111111111111111,
              "#46039f"
             ],
             [
              0.2222222222222222,
              "#7201a8"
             ],
             [
              0.3333333333333333,
              "#9c179e"
             ],
             [
              0.4444444444444444,
              "#bd3786"
             ],
             [
              0.5555555555555556,
              "#d8576b"
             ],
             [
              0.6666666666666666,
              "#ed7953"
             ],
             [
              0.7777777777777778,
              "#fb9f3a"
             ],
             [
              0.8888888888888888,
              "#fdca26"
             ],
             [
              1,
              "#f0f921"
             ]
            ],
            "type": "contour"
           }
          ],
          "contourcarpet": [
           {
            "colorbar": {
             "outlinewidth": 0,
             "ticks": ""
            },
            "type": "contourcarpet"
           }
          ],
          "heatmap": [
           {
            "colorbar": {
             "outlinewidth": 0,
             "ticks": ""
            },
            "colorscale": [
             [
              0,
              "#0d0887"
             ],
             [
              0.1111111111111111,
              "#46039f"
             ],
             [
              0.2222222222222222,
              "#7201a8"
             ],
             [
              0.3333333333333333,
              "#9c179e"
             ],
             [
              0.4444444444444444,
              "#bd3786"
             ],
             [
              0.5555555555555556,
              "#d8576b"
             ],
             [
              0.6666666666666666,
              "#ed7953"
             ],
             [
              0.7777777777777778,
              "#fb9f3a"
             ],
             [
              0.8888888888888888,
              "#fdca26"
             ],
             [
              1,
              "#f0f921"
             ]
            ],
            "type": "heatmap"
           }
          ],
          "heatmapgl": [
           {
            "colorbar": {
             "outlinewidth": 0,
             "ticks": ""
            },
            "colorscale": [
             [
              0,
              "#0d0887"
             ],
             [
              0.1111111111111111,
              "#46039f"
             ],
             [
              0.2222222222222222,
              "#7201a8"
             ],
             [
              0.3333333333333333,
              "#9c179e"
             ],
             [
              0.4444444444444444,
              "#bd3786"
             ],
             [
              0.5555555555555556,
              "#d8576b"
             ],
             [
              0.6666666666666666,
              "#ed7953"
             ],
             [
              0.7777777777777778,
              "#fb9f3a"
             ],
             [
              0.8888888888888888,
              "#fdca26"
             ],
             [
              1,
              "#f0f921"
             ]
            ],
            "type": "heatmapgl"
           }
          ],
          "histogram": [
           {
            "marker": {
             "pattern": {
              "fillmode": "overlay",
              "size": 10,
              "solidity": 0.2
             }
            },
            "type": "histogram"
           }
          ],
          "histogram2d": [
           {
            "colorbar": {
             "outlinewidth": 0,
             "ticks": ""
            },
            "colorscale": [
             [
              0,
              "#0d0887"
             ],
             [
              0.1111111111111111,
              "#46039f"
             ],
             [
              0.2222222222222222,
              "#7201a8"
             ],
             [
              0.3333333333333333,
              "#9c179e"
             ],
             [
              0.4444444444444444,
              "#bd3786"
             ],
             [
              0.5555555555555556,
              "#d8576b"
             ],
             [
              0.6666666666666666,
              "#ed7953"
             ],
             [
              0.7777777777777778,
              "#fb9f3a"
             ],
             [
              0.8888888888888888,
              "#fdca26"
             ],
             [
              1,
              "#f0f921"
             ]
            ],
            "type": "histogram2d"
           }
          ],
          "histogram2dcontour": [
           {
            "colorbar": {
             "outlinewidth": 0,
             "ticks": ""
            },
            "colorscale": [
             [
              0,
              "#0d0887"
             ],
             [
              0.1111111111111111,
              "#46039f"
             ],
             [
              0.2222222222222222,
              "#7201a8"
             ],
             [
              0.3333333333333333,
              "#9c179e"
             ],
             [
              0.4444444444444444,
              "#bd3786"
             ],
             [
              0.5555555555555556,
              "#d8576b"
             ],
             [
              0.6666666666666666,
              "#ed7953"
             ],
             [
              0.7777777777777778,
              "#fb9f3a"
             ],
             [
              0.8888888888888888,
              "#fdca26"
             ],
             [
              1,
              "#f0f921"
             ]
            ],
            "type": "histogram2dcontour"
           }
          ],
          "mesh3d": [
           {
            "colorbar": {
             "outlinewidth": 0,
             "ticks": ""
            },
            "type": "mesh3d"
           }
          ],
          "parcoords": [
           {
            "line": {
             "colorbar": {
              "outlinewidth": 0,
              "ticks": ""
             }
            },
            "type": "parcoords"
           }
          ],
          "pie": [
           {
            "automargin": true,
            "type": "pie"
           }
          ],
          "scatter": [
           {
            "fillpattern": {
             "fillmode": "overlay",
             "size": 10,
             "solidity": 0.2
            },
            "type": "scatter"
           }
          ],
          "scatter3d": [
           {
            "line": {
             "colorbar": {
              "outlinewidth": 0,
              "ticks": ""
             }
            },
            "marker": {
             "colorbar": {
              "outlinewidth": 0,
              "ticks": ""
             }
            },
            "type": "scatter3d"
           }
          ],
          "scattercarpet": [
           {
            "marker": {
             "colorbar": {
              "outlinewidth": 0,
              "ticks": ""
             }
            },
            "type": "scattercarpet"
           }
          ],
          "scattergeo": [
           {
            "marker": {
             "colorbar": {
              "outlinewidth": 0,
              "ticks": ""
             }
            },
            "type": "scattergeo"
           }
          ],
          "scattergl": [
           {
            "marker": {
             "colorbar": {
              "outlinewidth": 0,
              "ticks": ""
             }
            },
            "type": "scattergl"
           }
          ],
          "scattermapbox": [
           {
            "marker": {
             "colorbar": {
              "outlinewidth": 0,
              "ticks": ""
             }
            },
            "type": "scattermapbox"
           }
          ],
          "scatterpolar": [
           {
            "marker": {
             "colorbar": {
              "outlinewidth": 0,
              "ticks": ""
             }
            },
            "type": "scatterpolar"
           }
          ],
          "scatterpolargl": [
           {
            "marker": {
             "colorbar": {
              "outlinewidth": 0,
              "ticks": ""
             }
            },
            "type": "scatterpolargl"
           }
          ],
          "scatterternary": [
           {
            "marker": {
             "colorbar": {
              "outlinewidth": 0,
              "ticks": ""
             }
            },
            "type": "scatterternary"
           }
          ],
          "surface": [
           {
            "colorbar": {
             "outlinewidth": 0,
             "ticks": ""
            },
            "colorscale": [
             [
              0,
              "#0d0887"
             ],
             [
              0.1111111111111111,
              "#46039f"
             ],
             [
              0.2222222222222222,
              "#7201a8"
             ],
             [
              0.3333333333333333,
              "#9c179e"
             ],
             [
              0.4444444444444444,
              "#bd3786"
             ],
             [
              0.5555555555555556,
              "#d8576b"
             ],
             [
              0.6666666666666666,
              "#ed7953"
             ],
             [
              0.7777777777777778,
              "#fb9f3a"
             ],
             [
              0.8888888888888888,
              "#fdca26"
             ],
             [
              1,
              "#f0f921"
             ]
            ],
            "type": "surface"
           }
          ],
          "table": [
           {
            "cells": {
             "fill": {
              "color": "#EBF0F8"
             },
             "line": {
              "color": "white"
             }
            },
            "header": {
             "fill": {
              "color": "#C8D4E3"
             },
             "line": {
              "color": "white"
             }
            },
            "type": "table"
           }
          ]
         },
         "layout": {
          "annotationdefaults": {
           "arrowcolor": "#2a3f5f",
           "arrowhead": 0,
           "arrowwidth": 1
          },
          "autotypenumbers": "strict",
          "coloraxis": {
           "colorbar": {
            "outlinewidth": 0,
            "ticks": ""
           }
          },
          "colorscale": {
           "diverging": [
            [
             0,
             "#8e0152"
            ],
            [
             0.1,
             "#c51b7d"
            ],
            [
             0.2,
             "#de77ae"
            ],
            [
             0.3,
             "#f1b6da"
            ],
            [
             0.4,
             "#fde0ef"
            ],
            [
             0.5,
             "#f7f7f7"
            ],
            [
             0.6,
             "#e6f5d0"
            ],
            [
             0.7,
             "#b8e186"
            ],
            [
             0.8,
             "#7fbc41"
            ],
            [
             0.9,
             "#4d9221"
            ],
            [
             1,
             "#276419"
            ]
           ],
           "sequential": [
            [
             0,
             "#0d0887"
            ],
            [
             0.1111111111111111,
             "#46039f"
            ],
            [
             0.2222222222222222,
             "#7201a8"
            ],
            [
             0.3333333333333333,
             "#9c179e"
            ],
            [
             0.4444444444444444,
             "#bd3786"
            ],
            [
             0.5555555555555556,
             "#d8576b"
            ],
            [
             0.6666666666666666,
             "#ed7953"
            ],
            [
             0.7777777777777778,
             "#fb9f3a"
            ],
            [
             0.8888888888888888,
             "#fdca26"
            ],
            [
             1,
             "#f0f921"
            ]
           ],
           "sequentialminus": [
            [
             0,
             "#0d0887"
            ],
            [
             0.1111111111111111,
             "#46039f"
            ],
            [
             0.2222222222222222,
             "#7201a8"
            ],
            [
             0.3333333333333333,
             "#9c179e"
            ],
            [
             0.4444444444444444,
             "#bd3786"
            ],
            [
             0.5555555555555556,
             "#d8576b"
            ],
            [
             0.6666666666666666,
             "#ed7953"
            ],
            [
             0.7777777777777778,
             "#fb9f3a"
            ],
            [
             0.8888888888888888,
             "#fdca26"
            ],
            [
             1,
             "#f0f921"
            ]
           ]
          },
          "colorway": [
           "#636efa",
           "#EF553B",
           "#00cc96",
           "#ab63fa",
           "#FFA15A",
           "#19d3f3",
           "#FF6692",
           "#B6E880",
           "#FF97FF",
           "#FECB52"
          ],
          "font": {
           "color": "#2a3f5f"
          },
          "geo": {
           "bgcolor": "white",
           "lakecolor": "white",
           "landcolor": "#E5ECF6",
           "showlakes": true,
           "showland": true,
           "subunitcolor": "white"
          },
          "hoverlabel": {
           "align": "left"
          },
          "hovermode": "closest",
          "mapbox": {
           "style": "light"
          },
          "paper_bgcolor": "white",
          "plot_bgcolor": "#E5ECF6",
          "polar": {
           "angularaxis": {
            "gridcolor": "white",
            "linecolor": "white",
            "ticks": ""
           },
           "bgcolor": "#E5ECF6",
           "radialaxis": {
            "gridcolor": "white",
            "linecolor": "white",
            "ticks": ""
           }
          },
          "scene": {
           "xaxis": {
            "backgroundcolor": "#E5ECF6",
            "gridcolor": "white",
            "gridwidth": 2,
            "linecolor": "white",
            "showbackground": true,
            "ticks": "",
            "zerolinecolor": "white"
           },
           "yaxis": {
            "backgroundcolor": "#E5ECF6",
            "gridcolor": "white",
            "gridwidth": 2,
            "linecolor": "white",
            "showbackground": true,
            "ticks": "",
            "zerolinecolor": "white"
           },
           "zaxis": {
            "backgroundcolor": "#E5ECF6",
            "gridcolor": "white",
            "gridwidth": 2,
            "linecolor": "white",
            "showbackground": true,
            "ticks": "",
            "zerolinecolor": "white"
           }
          },
          "shapedefaults": {
           "line": {
            "color": "#2a3f5f"
           }
          },
          "ternary": {
           "aaxis": {
            "gridcolor": "white",
            "linecolor": "white",
            "ticks": ""
           },
           "baxis": {
            "gridcolor": "white",
            "linecolor": "white",
            "ticks": ""
           },
           "bgcolor": "#E5ECF6",
           "caxis": {
            "gridcolor": "white",
            "linecolor": "white",
            "ticks": ""
           }
          },
          "title": {
           "x": 0.05
          },
          "xaxis": {
           "automargin": true,
           "gridcolor": "white",
           "linecolor": "white",
           "ticks": "",
           "title": {
            "standoff": 15
           },
           "zerolinecolor": "white",
           "zerolinewidth": 2
          },
          "yaxis": {
           "automargin": true,
           "gridcolor": "white",
           "linecolor": "white",
           "ticks": "",
           "title": {
            "standoff": 15
           },
           "zerolinecolor": "white",
           "zerolinewidth": 2
          }
         }
        },
        "xaxis": {
         "rangeslider": {
          "visible": false
         }
        }
       }
      },
      "text/html": [
       "<div>                            <div id=\"b2df4c42-a23b-4900-b288-83b117776444\" class=\"plotly-graph-div\" style=\"height:525px; width:100%;\"></div>            <script type=\"text/javascript\">                require([\"plotly\"], function(Plotly) {                    window.PLOTLYENV=window.PLOTLYENV || {};                                    if (document.getElementById(\"b2df4c42-a23b-4900-b288-83b117776444\")) {                    Plotly.newPlot(                        \"b2df4c42-a23b-4900-b288-83b117776444\",                        [{\"close\":[9345.56,9214.06,9185.81,8910.74,8664.77,8630.19,8052.0,8273.6,8514.44,8229.55,8367.28,8515.78,8585.0,8516.89,8529.88,8506.18,8548.79,8548.7,8644.4,8636.59,8682.66,8659.76,8590.31,8602.95,8613.47,8649.49,8592.57,8578.61,8612.18,8627.94],\"high\":[9453.9,9349.99,9289.2,9189.02,8988.0,8674.99,8640.66,8324.62,8657.75,8516.43,8492.56,8516.39,8600.0,8675.86,8569.0,8545.0,8548.79,8573.43,8650.0,8645.67,8688.36,8691.42,8665.28,8624.3,8650.0,8650.0,8656.3,8600.0,8629.99,8648.12],\"low\":[9336.19,9121.88,9182.34,8781.7,8588.88,8531.83,7940.0,8052.0,8258.3,8088.0,8229.17,8314.37,8416.99,8487.28,8430.0,8460.01,8483.0,8503.41,8541.02,8580.51,8621.53,8623.01,8510.0,8558.0,8600.42,8610.38,8568.65,8550.0,8575.05,8602.96],\"open\":[9438.91,9345.6,9214.33,9188.29,8915.09,8664.77,8635.63,8052.0,8269.65,8516.42,8229.17,8360.49,8514.24,8585.0,8516.44,8533.99,8507.61,8546.72,8547.45,8644.39,8636.6,8681.78,8664.53,8587.77,8608.67,8611.84,8649.48,8591.52,8575.05,8612.43],\"x\":[1,2,3,4,5,6,7,8,9,10,11,12,13,14,15,16,17,18,19,20,21,22,23,24,25,26,27,28,29,30],\"type\":\"ohlc\"}],                        {\"template\":{\"data\":{\"histogram2dcontour\":[{\"type\":\"histogram2dcontour\",\"colorbar\":{\"outlinewidth\":0,\"ticks\":\"\"},\"colorscale\":[[0.0,\"#0d0887\"],[0.1111111111111111,\"#46039f\"],[0.2222222222222222,\"#7201a8\"],[0.3333333333333333,\"#9c179e\"],[0.4444444444444444,\"#bd3786\"],[0.5555555555555556,\"#d8576b\"],[0.6666666666666666,\"#ed7953\"],[0.7777777777777778,\"#fb9f3a\"],[0.8888888888888888,\"#fdca26\"],[1.0,\"#f0f921\"]]}],\"choropleth\":[{\"type\":\"choropleth\",\"colorbar\":{\"outlinewidth\":0,\"ticks\":\"\"}}],\"histogram2d\":[{\"type\":\"histogram2d\",\"colorbar\":{\"outlinewidth\":0,\"ticks\":\"\"},\"colorscale\":[[0.0,\"#0d0887\"],[0.1111111111111111,\"#46039f\"],[0.2222222222222222,\"#7201a8\"],[0.3333333333333333,\"#9c179e\"],[0.4444444444444444,\"#bd3786\"],[0.5555555555555556,\"#d8576b\"],[0.6666666666666666,\"#ed7953\"],[0.7777777777777778,\"#fb9f3a\"],[0.8888888888888888,\"#fdca26\"],[1.0,\"#f0f921\"]]}],\"heatmap\":[{\"type\":\"heatmap\",\"colorbar\":{\"outlinewidth\":0,\"ticks\":\"\"},\"colorscale\":[[0.0,\"#0d0887\"],[0.1111111111111111,\"#46039f\"],[0.2222222222222222,\"#7201a8\"],[0.3333333333333333,\"#9c179e\"],[0.4444444444444444,\"#bd3786\"],[0.5555555555555556,\"#d8576b\"],[0.6666666666666666,\"#ed7953\"],[0.7777777777777778,\"#fb9f3a\"],[0.8888888888888888,\"#fdca26\"],[1.0,\"#f0f921\"]]}],\"heatmapgl\":[{\"type\":\"heatmapgl\",\"colorbar\":{\"outlinewidth\":0,\"ticks\":\"\"},\"colorscale\":[[0.0,\"#0d0887\"],[0.1111111111111111,\"#46039f\"],[0.2222222222222222,\"#7201a8\"],[0.3333333333333333,\"#9c179e\"],[0.4444444444444444,\"#bd3786\"],[0.5555555555555556,\"#d8576b\"],[0.6666666666666666,\"#ed7953\"],[0.7777777777777778,\"#fb9f3a\"],[0.8888888888888888,\"#fdca26\"],[1.0,\"#f0f921\"]]}],\"contourcarpet\":[{\"type\":\"contourcarpet\",\"colorbar\":{\"outlinewidth\":0,\"ticks\":\"\"}}],\"contour\":[{\"type\":\"contour\",\"colorbar\":{\"outlinewidth\":0,\"ticks\":\"\"},\"colorscale\":[[0.0,\"#0d0887\"],[0.1111111111111111,\"#46039f\"],[0.2222222222222222,\"#7201a8\"],[0.3333333333333333,\"#9c179e\"],[0.4444444444444444,\"#bd3786\"],[0.5555555555555556,\"#d8576b\"],[0.6666666666666666,\"#ed7953\"],[0.7777777777777778,\"#fb9f3a\"],[0.8888888888888888,\"#fdca26\"],[1.0,\"#f0f921\"]]}],\"surface\":[{\"type\":\"surface\",\"colorbar\":{\"outlinewidth\":0,\"ticks\":\"\"},\"colorscale\":[[0.0,\"#0d0887\"],[0.1111111111111111,\"#46039f\"],[0.2222222222222222,\"#7201a8\"],[0.3333333333333333,\"#9c179e\"],[0.4444444444444444,\"#bd3786\"],[0.5555555555555556,\"#d8576b\"],[0.6666666666666666,\"#ed7953\"],[0.7777777777777778,\"#fb9f3a\"],[0.8888888888888888,\"#fdca26\"],[1.0,\"#f0f921\"]]}],\"mesh3d\":[{\"type\":\"mesh3d\",\"colorbar\":{\"outlinewidth\":0,\"ticks\":\"\"}}],\"scatter\":[{\"fillpattern\":{\"fillmode\":\"overlay\",\"size\":10,\"solidity\":0.2},\"type\":\"scatter\"}],\"parcoords\":[{\"type\":\"parcoords\",\"line\":{\"colorbar\":{\"outlinewidth\":0,\"ticks\":\"\"}}}],\"scatterpolargl\":[{\"type\":\"scatterpolargl\",\"marker\":{\"colorbar\":{\"outlinewidth\":0,\"ticks\":\"\"}}}],\"bar\":[{\"error_x\":{\"color\":\"#2a3f5f\"},\"error_y\":{\"color\":\"#2a3f5f\"},\"marker\":{\"line\":{\"color\":\"#E5ECF6\",\"width\":0.5},\"pattern\":{\"fillmode\":\"overlay\",\"size\":10,\"solidity\":0.2}},\"type\":\"bar\"}],\"scattergeo\":[{\"type\":\"scattergeo\",\"marker\":{\"colorbar\":{\"outlinewidth\":0,\"ticks\":\"\"}}}],\"scatterpolar\":[{\"type\":\"scatterpolar\",\"marker\":{\"colorbar\":{\"outlinewidth\":0,\"ticks\":\"\"}}}],\"histogram\":[{\"marker\":{\"pattern\":{\"fillmode\":\"overlay\",\"size\":10,\"solidity\":0.2}},\"type\":\"histogram\"}],\"scattergl\":[{\"type\":\"scattergl\",\"marker\":{\"colorbar\":{\"outlinewidth\":0,\"ticks\":\"\"}}}],\"scatter3d\":[{\"type\":\"scatter3d\",\"line\":{\"colorbar\":{\"outlinewidth\":0,\"ticks\":\"\"}},\"marker\":{\"colorbar\":{\"outlinewidth\":0,\"ticks\":\"\"}}}],\"scattermapbox\":[{\"type\":\"scattermapbox\",\"marker\":{\"colorbar\":{\"outlinewidth\":0,\"ticks\":\"\"}}}],\"scatterternary\":[{\"type\":\"scatterternary\",\"marker\":{\"colorbar\":{\"outlinewidth\":0,\"ticks\":\"\"}}}],\"scattercarpet\":[{\"type\":\"scattercarpet\",\"marker\":{\"colorbar\":{\"outlinewidth\":0,\"ticks\":\"\"}}}],\"carpet\":[{\"aaxis\":{\"endlinecolor\":\"#2a3f5f\",\"gridcolor\":\"white\",\"linecolor\":\"white\",\"minorgridcolor\":\"white\",\"startlinecolor\":\"#2a3f5f\"},\"baxis\":{\"endlinecolor\":\"#2a3f5f\",\"gridcolor\":\"white\",\"linecolor\":\"white\",\"minorgridcolor\":\"white\",\"startlinecolor\":\"#2a3f5f\"},\"type\":\"carpet\"}],\"table\":[{\"cells\":{\"fill\":{\"color\":\"#EBF0F8\"},\"line\":{\"color\":\"white\"}},\"header\":{\"fill\":{\"color\":\"#C8D4E3\"},\"line\":{\"color\":\"white\"}},\"type\":\"table\"}],\"barpolar\":[{\"marker\":{\"line\":{\"color\":\"#E5ECF6\",\"width\":0.5},\"pattern\":{\"fillmode\":\"overlay\",\"size\":10,\"solidity\":0.2}},\"type\":\"barpolar\"}],\"pie\":[{\"automargin\":true,\"type\":\"pie\"}]},\"layout\":{\"autotypenumbers\":\"strict\",\"colorway\":[\"#636efa\",\"#EF553B\",\"#00cc96\",\"#ab63fa\",\"#FFA15A\",\"#19d3f3\",\"#FF6692\",\"#B6E880\",\"#FF97FF\",\"#FECB52\"],\"font\":{\"color\":\"#2a3f5f\"},\"hovermode\":\"closest\",\"hoverlabel\":{\"align\":\"left\"},\"paper_bgcolor\":\"white\",\"plot_bgcolor\":\"#E5ECF6\",\"polar\":{\"bgcolor\":\"#E5ECF6\",\"angularaxis\":{\"gridcolor\":\"white\",\"linecolor\":\"white\",\"ticks\":\"\"},\"radialaxis\":{\"gridcolor\":\"white\",\"linecolor\":\"white\",\"ticks\":\"\"}},\"ternary\":{\"bgcolor\":\"#E5ECF6\",\"aaxis\":{\"gridcolor\":\"white\",\"linecolor\":\"white\",\"ticks\":\"\"},\"baxis\":{\"gridcolor\":\"white\",\"linecolor\":\"white\",\"ticks\":\"\"},\"caxis\":{\"gridcolor\":\"white\",\"linecolor\":\"white\",\"ticks\":\"\"}},\"coloraxis\":{\"colorbar\":{\"outlinewidth\":0,\"ticks\":\"\"}},\"colorscale\":{\"sequential\":[[0.0,\"#0d0887\"],[0.1111111111111111,\"#46039f\"],[0.2222222222222222,\"#7201a8\"],[0.3333333333333333,\"#9c179e\"],[0.4444444444444444,\"#bd3786\"],[0.5555555555555556,\"#d8576b\"],[0.6666666666666666,\"#ed7953\"],[0.7777777777777778,\"#fb9f3a\"],[0.8888888888888888,\"#fdca26\"],[1.0,\"#f0f921\"]],\"sequentialminus\":[[0.0,\"#0d0887\"],[0.1111111111111111,\"#46039f\"],[0.2222222222222222,\"#7201a8\"],[0.3333333333333333,\"#9c179e\"],[0.4444444444444444,\"#bd3786\"],[0.5555555555555556,\"#d8576b\"],[0.6666666666666666,\"#ed7953\"],[0.7777777777777778,\"#fb9f3a\"],[0.8888888888888888,\"#fdca26\"],[1.0,\"#f0f921\"]],\"diverging\":[[0,\"#8e0152\"],[0.1,\"#c51b7d\"],[0.2,\"#de77ae\"],[0.3,\"#f1b6da\"],[0.4,\"#fde0ef\"],[0.5,\"#f7f7f7\"],[0.6,\"#e6f5d0\"],[0.7,\"#b8e186\"],[0.8,\"#7fbc41\"],[0.9,\"#4d9221\"],[1,\"#276419\"]]},\"xaxis\":{\"gridcolor\":\"white\",\"linecolor\":\"white\",\"ticks\":\"\",\"title\":{\"standoff\":15},\"zerolinecolor\":\"white\",\"automargin\":true,\"zerolinewidth\":2},\"yaxis\":{\"gridcolor\":\"white\",\"linecolor\":\"white\",\"ticks\":\"\",\"title\":{\"standoff\":15},\"zerolinecolor\":\"white\",\"automargin\":true,\"zerolinewidth\":2},\"scene\":{\"xaxis\":{\"backgroundcolor\":\"#E5ECF6\",\"gridcolor\":\"white\",\"linecolor\":\"white\",\"showbackground\":true,\"ticks\":\"\",\"zerolinecolor\":\"white\",\"gridwidth\":2},\"yaxis\":{\"backgroundcolor\":\"#E5ECF6\",\"gridcolor\":\"white\",\"linecolor\":\"white\",\"showbackground\":true,\"ticks\":\"\",\"zerolinecolor\":\"white\",\"gridwidth\":2},\"zaxis\":{\"backgroundcolor\":\"#E5ECF6\",\"gridcolor\":\"white\",\"linecolor\":\"white\",\"showbackground\":true,\"ticks\":\"\",\"zerolinecolor\":\"white\",\"gridwidth\":2}},\"shapedefaults\":{\"line\":{\"color\":\"#2a3f5f\"}},\"annotationdefaults\":{\"arrowcolor\":\"#2a3f5f\",\"arrowhead\":0,\"arrowwidth\":1},\"geo\":{\"bgcolor\":\"white\",\"landcolor\":\"#E5ECF6\",\"subunitcolor\":\"white\",\"showland\":true,\"showlakes\":true,\"lakecolor\":\"white\"},\"title\":{\"x\":0.05},\"mapbox\":{\"style\":\"light\"}}},\"xaxis\":{\"rangeslider\":{\"visible\":false}}},                        {\"responsive\": true}                    ).then(function(){\n",
       "                            \n",
       "var gd = document.getElementById('b2df4c42-a23b-4900-b288-83b117776444');\n",
       "var x = new MutationObserver(function (mutations, observer) {{\n",
       "        var display = window.getComputedStyle(gd).display;\n",
       "        if (!display || display === 'none') {{\n",
       "            console.log([gd, 'removed!']);\n",
       "            Plotly.purge(gd);\n",
       "            observer.disconnect();\n",
       "        }}\n",
       "}});\n",
       "\n",
       "// Listen for the removal of the full notebook cells\n",
       "var notebookContainer = gd.closest('#notebook-container');\n",
       "if (notebookContainer) {{\n",
       "    x.observe(notebookContainer, {childList: true});\n",
       "}}\n",
       "\n",
       "// Listen for the clearing of the current output cell\n",
       "var outputEl = gd.closest('.output');\n",
       "if (outputEl) {{\n",
       "    x.observe(outputEl, {childList: true});\n",
       "}}\n",
       "\n",
       "                        })                };                });            </script>        </div>"
      ]
     },
     "metadata": {},
     "output_type": "display_data"
    },
    {
     "name": "stdout",
     "output_type": "stream",
     "text": [
      "47364\n",
      "0.9866348004862577 1.0003202688881159\n"
     ]
    },
    {
     "data": {
      "application/vnd.plotly.v1+json": {
       "config": {
        "plotlyServerURL": "https://plot.ly"
       },
       "data": [
        {
         "close": [
          11612.63,
          11613.53,
          11607.19,
          11597.56,
          11579.33,
          11563.32,
          11568.99,
          11564.66,
          11562.94,
          11543.16,
          11550.01,
          11532.99,
          11516.9,
          11533.69,
          11521.84,
          11491.73,
          11494.78,
          11518.29,
          11511.09,
          11499.06,
          11491.45,
          11482.51,
          11499.23,
          11476.01,
          11467.92,
          11495.99,
          11475.77,
          11488.01,
          11489.98,
          11500.79
         ],
         "high": [
          11615.25,
          11618.96,
          11613.53,
          11607,
          11597.57,
          11579.98,
          11581.84,
          11573.7,
          11571,
          11562.99,
          11562.85,
          11550.01,
          11532.99,
          11533.7,
          11535.39,
          11521.84,
          11511.26,
          11524,
          11519.58,
          11513.73,
          11516.52,
          11495.97,
          11501.42,
          11508.41,
          11480.64,
          11498.02,
          11497.84,
          11499,
          11490,
          11508
         ],
         "low": [
          11612.2,
          11612.63,
          11607.19,
          11589.11,
          11578,
          11560,
          11563.68,
          11560,
          11561.79,
          11535.05,
          11539.1,
          11529.98,
          11480.01,
          11508.25,
          11516,
          11491.57,
          11472.23,
          11493.71,
          11505.34,
          11499,
          11491.45,
          11478.07,
          11472.61,
          11475.1,
          11465,
          11465,
          11470.28,
          11475.75,
          11460,
          11479.8
         ],
         "open": [
          11615.24,
          11612.63,
          11613.52,
          11607,
          11597.57,
          11579.32,
          11563.68,
          11568.99,
          11564.67,
          11562.96,
          11543.17,
          11550.01,
          11532.99,
          11516.89,
          11533.68,
          11521.84,
          11491.73,
          11494.1,
          11519.46,
          11511.93,
          11499.25,
          11491.44,
          11482.5,
          11499.76,
          11476.06,
          11467.75,
          11497.44,
          11475.99,
          11488.01,
          11490
         ],
         "type": "ohlc",
         "x": [
          1,
          2,
          3,
          4,
          5,
          6,
          7,
          8,
          9,
          10,
          11,
          12,
          13,
          14,
          15,
          16,
          17,
          18,
          19,
          20,
          21,
          22,
          23,
          24,
          25,
          26,
          27,
          28,
          29,
          30
         ]
        }
       ],
       "layout": {
        "template": {
         "data": {
          "bar": [
           {
            "error_x": {
             "color": "#2a3f5f"
            },
            "error_y": {
             "color": "#2a3f5f"
            },
            "marker": {
             "line": {
              "color": "#E5ECF6",
              "width": 0.5
             },
             "pattern": {
              "fillmode": "overlay",
              "size": 10,
              "solidity": 0.2
             }
            },
            "type": "bar"
           }
          ],
          "barpolar": [
           {
            "marker": {
             "line": {
              "color": "#E5ECF6",
              "width": 0.5
             },
             "pattern": {
              "fillmode": "overlay",
              "size": 10,
              "solidity": 0.2
             }
            },
            "type": "barpolar"
           }
          ],
          "carpet": [
           {
            "aaxis": {
             "endlinecolor": "#2a3f5f",
             "gridcolor": "white",
             "linecolor": "white",
             "minorgridcolor": "white",
             "startlinecolor": "#2a3f5f"
            },
            "baxis": {
             "endlinecolor": "#2a3f5f",
             "gridcolor": "white",
             "linecolor": "white",
             "minorgridcolor": "white",
             "startlinecolor": "#2a3f5f"
            },
            "type": "carpet"
           }
          ],
          "choropleth": [
           {
            "colorbar": {
             "outlinewidth": 0,
             "ticks": ""
            },
            "type": "choropleth"
           }
          ],
          "contour": [
           {
            "colorbar": {
             "outlinewidth": 0,
             "ticks": ""
            },
            "colorscale": [
             [
              0,
              "#0d0887"
             ],
             [
              0.1111111111111111,
              "#46039f"
             ],
             [
              0.2222222222222222,
              "#7201a8"
             ],
             [
              0.3333333333333333,
              "#9c179e"
             ],
             [
              0.4444444444444444,
              "#bd3786"
             ],
             [
              0.5555555555555556,
              "#d8576b"
             ],
             [
              0.6666666666666666,
              "#ed7953"
             ],
             [
              0.7777777777777778,
              "#fb9f3a"
             ],
             [
              0.8888888888888888,
              "#fdca26"
             ],
             [
              1,
              "#f0f921"
             ]
            ],
            "type": "contour"
           }
          ],
          "contourcarpet": [
           {
            "colorbar": {
             "outlinewidth": 0,
             "ticks": ""
            },
            "type": "contourcarpet"
           }
          ],
          "heatmap": [
           {
            "colorbar": {
             "outlinewidth": 0,
             "ticks": ""
            },
            "colorscale": [
             [
              0,
              "#0d0887"
             ],
             [
              0.1111111111111111,
              "#46039f"
             ],
             [
              0.2222222222222222,
              "#7201a8"
             ],
             [
              0.3333333333333333,
              "#9c179e"
             ],
             [
              0.4444444444444444,
              "#bd3786"
             ],
             [
              0.5555555555555556,
              "#d8576b"
             ],
             [
              0.6666666666666666,
              "#ed7953"
             ],
             [
              0.7777777777777778,
              "#fb9f3a"
             ],
             [
              0.8888888888888888,
              "#fdca26"
             ],
             [
              1,
              "#f0f921"
             ]
            ],
            "type": "heatmap"
           }
          ],
          "heatmapgl": [
           {
            "colorbar": {
             "outlinewidth": 0,
             "ticks": ""
            },
            "colorscale": [
             [
              0,
              "#0d0887"
             ],
             [
              0.1111111111111111,
              "#46039f"
             ],
             [
              0.2222222222222222,
              "#7201a8"
             ],
             [
              0.3333333333333333,
              "#9c179e"
             ],
             [
              0.4444444444444444,
              "#bd3786"
             ],
             [
              0.5555555555555556,
              "#d8576b"
             ],
             [
              0.6666666666666666,
              "#ed7953"
             ],
             [
              0.7777777777777778,
              "#fb9f3a"
             ],
             [
              0.8888888888888888,
              "#fdca26"
             ],
             [
              1,
              "#f0f921"
             ]
            ],
            "type": "heatmapgl"
           }
          ],
          "histogram": [
           {
            "marker": {
             "pattern": {
              "fillmode": "overlay",
              "size": 10,
              "solidity": 0.2
             }
            },
            "type": "histogram"
           }
          ],
          "histogram2d": [
           {
            "colorbar": {
             "outlinewidth": 0,
             "ticks": ""
            },
            "colorscale": [
             [
              0,
              "#0d0887"
             ],
             [
              0.1111111111111111,
              "#46039f"
             ],
             [
              0.2222222222222222,
              "#7201a8"
             ],
             [
              0.3333333333333333,
              "#9c179e"
             ],
             [
              0.4444444444444444,
              "#bd3786"
             ],
             [
              0.5555555555555556,
              "#d8576b"
             ],
             [
              0.6666666666666666,
              "#ed7953"
             ],
             [
              0.7777777777777778,
              "#fb9f3a"
             ],
             [
              0.8888888888888888,
              "#fdca26"
             ],
             [
              1,
              "#f0f921"
             ]
            ],
            "type": "histogram2d"
           }
          ],
          "histogram2dcontour": [
           {
            "colorbar": {
             "outlinewidth": 0,
             "ticks": ""
            },
            "colorscale": [
             [
              0,
              "#0d0887"
             ],
             [
              0.1111111111111111,
              "#46039f"
             ],
             [
              0.2222222222222222,
              "#7201a8"
             ],
             [
              0.3333333333333333,
              "#9c179e"
             ],
             [
              0.4444444444444444,
              "#bd3786"
             ],
             [
              0.5555555555555556,
              "#d8576b"
             ],
             [
              0.6666666666666666,
              "#ed7953"
             ],
             [
              0.7777777777777778,
              "#fb9f3a"
             ],
             [
              0.8888888888888888,
              "#fdca26"
             ],
             [
              1,
              "#f0f921"
             ]
            ],
            "type": "histogram2dcontour"
           }
          ],
          "mesh3d": [
           {
            "colorbar": {
             "outlinewidth": 0,
             "ticks": ""
            },
            "type": "mesh3d"
           }
          ],
          "parcoords": [
           {
            "line": {
             "colorbar": {
              "outlinewidth": 0,
              "ticks": ""
             }
            },
            "type": "parcoords"
           }
          ],
          "pie": [
           {
            "automargin": true,
            "type": "pie"
           }
          ],
          "scatter": [
           {
            "fillpattern": {
             "fillmode": "overlay",
             "size": 10,
             "solidity": 0.2
            },
            "type": "scatter"
           }
          ],
          "scatter3d": [
           {
            "line": {
             "colorbar": {
              "outlinewidth": 0,
              "ticks": ""
             }
            },
            "marker": {
             "colorbar": {
              "outlinewidth": 0,
              "ticks": ""
             }
            },
            "type": "scatter3d"
           }
          ],
          "scattercarpet": [
           {
            "marker": {
             "colorbar": {
              "outlinewidth": 0,
              "ticks": ""
             }
            },
            "type": "scattercarpet"
           }
          ],
          "scattergeo": [
           {
            "marker": {
             "colorbar": {
              "outlinewidth": 0,
              "ticks": ""
             }
            },
            "type": "scattergeo"
           }
          ],
          "scattergl": [
           {
            "marker": {
             "colorbar": {
              "outlinewidth": 0,
              "ticks": ""
             }
            },
            "type": "scattergl"
           }
          ],
          "scattermapbox": [
           {
            "marker": {
             "colorbar": {
              "outlinewidth": 0,
              "ticks": ""
             }
            },
            "type": "scattermapbox"
           }
          ],
          "scatterpolar": [
           {
            "marker": {
             "colorbar": {
              "outlinewidth": 0,
              "ticks": ""
             }
            },
            "type": "scatterpolar"
           }
          ],
          "scatterpolargl": [
           {
            "marker": {
             "colorbar": {
              "outlinewidth": 0,
              "ticks": ""
             }
            },
            "type": "scatterpolargl"
           }
          ],
          "scatterternary": [
           {
            "marker": {
             "colorbar": {
              "outlinewidth": 0,
              "ticks": ""
             }
            },
            "type": "scatterternary"
           }
          ],
          "surface": [
           {
            "colorbar": {
             "outlinewidth": 0,
             "ticks": ""
            },
            "colorscale": [
             [
              0,
              "#0d0887"
             ],
             [
              0.1111111111111111,
              "#46039f"
             ],
             [
              0.2222222222222222,
              "#7201a8"
             ],
             [
              0.3333333333333333,
              "#9c179e"
             ],
             [
              0.4444444444444444,
              "#bd3786"
             ],
             [
              0.5555555555555556,
              "#d8576b"
             ],
             [
              0.6666666666666666,
              "#ed7953"
             ],
             [
              0.7777777777777778,
              "#fb9f3a"
             ],
             [
              0.8888888888888888,
              "#fdca26"
             ],
             [
              1,
              "#f0f921"
             ]
            ],
            "type": "surface"
           }
          ],
          "table": [
           {
            "cells": {
             "fill": {
              "color": "#EBF0F8"
             },
             "line": {
              "color": "white"
             }
            },
            "header": {
             "fill": {
              "color": "#C8D4E3"
             },
             "line": {
              "color": "white"
             }
            },
            "type": "table"
           }
          ]
         },
         "layout": {
          "annotationdefaults": {
           "arrowcolor": "#2a3f5f",
           "arrowhead": 0,
           "arrowwidth": 1
          },
          "autotypenumbers": "strict",
          "coloraxis": {
           "colorbar": {
            "outlinewidth": 0,
            "ticks": ""
           }
          },
          "colorscale": {
           "diverging": [
            [
             0,
             "#8e0152"
            ],
            [
             0.1,
             "#c51b7d"
            ],
            [
             0.2,
             "#de77ae"
            ],
            [
             0.3,
             "#f1b6da"
            ],
            [
             0.4,
             "#fde0ef"
            ],
            [
             0.5,
             "#f7f7f7"
            ],
            [
             0.6,
             "#e6f5d0"
            ],
            [
             0.7,
             "#b8e186"
            ],
            [
             0.8,
             "#7fbc41"
            ],
            [
             0.9,
             "#4d9221"
            ],
            [
             1,
             "#276419"
            ]
           ],
           "sequential": [
            [
             0,
             "#0d0887"
            ],
            [
             0.1111111111111111,
             "#46039f"
            ],
            [
             0.2222222222222222,
             "#7201a8"
            ],
            [
             0.3333333333333333,
             "#9c179e"
            ],
            [
             0.4444444444444444,
             "#bd3786"
            ],
            [
             0.5555555555555556,
             "#d8576b"
            ],
            [
             0.6666666666666666,
             "#ed7953"
            ],
            [
             0.7777777777777778,
             "#fb9f3a"
            ],
            [
             0.8888888888888888,
             "#fdca26"
            ],
            [
             1,
             "#f0f921"
            ]
           ],
           "sequentialminus": [
            [
             0,
             "#0d0887"
            ],
            [
             0.1111111111111111,
             "#46039f"
            ],
            [
             0.2222222222222222,
             "#7201a8"
            ],
            [
             0.3333333333333333,
             "#9c179e"
            ],
            [
             0.4444444444444444,
             "#bd3786"
            ],
            [
             0.5555555555555556,
             "#d8576b"
            ],
            [
             0.6666666666666666,
             "#ed7953"
            ],
            [
             0.7777777777777778,
             "#fb9f3a"
            ],
            [
             0.8888888888888888,
             "#fdca26"
            ],
            [
             1,
             "#f0f921"
            ]
           ]
          },
          "colorway": [
           "#636efa",
           "#EF553B",
           "#00cc96",
           "#ab63fa",
           "#FFA15A",
           "#19d3f3",
           "#FF6692",
           "#B6E880",
           "#FF97FF",
           "#FECB52"
          ],
          "font": {
           "color": "#2a3f5f"
          },
          "geo": {
           "bgcolor": "white",
           "lakecolor": "white",
           "landcolor": "#E5ECF6",
           "showlakes": true,
           "showland": true,
           "subunitcolor": "white"
          },
          "hoverlabel": {
           "align": "left"
          },
          "hovermode": "closest",
          "mapbox": {
           "style": "light"
          },
          "paper_bgcolor": "white",
          "plot_bgcolor": "#E5ECF6",
          "polar": {
           "angularaxis": {
            "gridcolor": "white",
            "linecolor": "white",
            "ticks": ""
           },
           "bgcolor": "#E5ECF6",
           "radialaxis": {
            "gridcolor": "white",
            "linecolor": "white",
            "ticks": ""
           }
          },
          "scene": {
           "xaxis": {
            "backgroundcolor": "#E5ECF6",
            "gridcolor": "white",
            "gridwidth": 2,
            "linecolor": "white",
            "showbackground": true,
            "ticks": "",
            "zerolinecolor": "white"
           },
           "yaxis": {
            "backgroundcolor": "#E5ECF6",
            "gridcolor": "white",
            "gridwidth": 2,
            "linecolor": "white",
            "showbackground": true,
            "ticks": "",
            "zerolinecolor": "white"
           },
           "zaxis": {
            "backgroundcolor": "#E5ECF6",
            "gridcolor": "white",
            "gridwidth": 2,
            "linecolor": "white",
            "showbackground": true,
            "ticks": "",
            "zerolinecolor": "white"
           }
          },
          "shapedefaults": {
           "line": {
            "color": "#2a3f5f"
           }
          },
          "ternary": {
           "aaxis": {
            "gridcolor": "white",
            "linecolor": "white",
            "ticks": ""
           },
           "baxis": {
            "gridcolor": "white",
            "linecolor": "white",
            "ticks": ""
           },
           "bgcolor": "#E5ECF6",
           "caxis": {
            "gridcolor": "white",
            "linecolor": "white",
            "ticks": ""
           }
          },
          "title": {
           "x": 0.05
          },
          "xaxis": {
           "automargin": true,
           "gridcolor": "white",
           "linecolor": "white",
           "ticks": "",
           "title": {
            "standoff": 15
           },
           "zerolinecolor": "white",
           "zerolinewidth": 2
          },
          "yaxis": {
           "automargin": true,
           "gridcolor": "white",
           "linecolor": "white",
           "ticks": "",
           "title": {
            "standoff": 15
           },
           "zerolinecolor": "white",
           "zerolinewidth": 2
          }
         }
        },
        "xaxis": {
         "rangeslider": {
          "visible": false
         }
        }
       }
      },
      "text/html": [
       "<div>                            <div id=\"53416afc-e313-4e28-b8aa-66f2826e3d36\" class=\"plotly-graph-div\" style=\"height:525px; width:100%;\"></div>            <script type=\"text/javascript\">                require([\"plotly\"], function(Plotly) {                    window.PLOTLYENV=window.PLOTLYENV || {};                                    if (document.getElementById(\"53416afc-e313-4e28-b8aa-66f2826e3d36\")) {                    Plotly.newPlot(                        \"53416afc-e313-4e28-b8aa-66f2826e3d36\",                        [{\"close\":[11612.63,11613.53,11607.19,11597.56,11579.33,11563.32,11568.99,11564.66,11562.94,11543.16,11550.01,11532.99,11516.9,11533.69,11521.84,11491.73,11494.78,11518.29,11511.09,11499.06,11491.45,11482.51,11499.23,11476.01,11467.92,11495.99,11475.77,11488.01,11489.98,11500.79],\"high\":[11615.25,11618.96,11613.53,11607.0,11597.57,11579.98,11581.84,11573.7,11571.0,11562.99,11562.85,11550.01,11532.99,11533.7,11535.39,11521.84,11511.26,11524.0,11519.58,11513.73,11516.52,11495.97,11501.42,11508.41,11480.64,11498.02,11497.84,11499.0,11490.0,11508.0],\"low\":[11612.2,11612.63,11607.19,11589.11,11578.0,11560.0,11563.68,11560.0,11561.79,11535.05,11539.1,11529.98,11480.01,11508.25,11516.0,11491.57,11472.23,11493.71,11505.34,11499.0,11491.45,11478.07,11472.61,11475.1,11465.0,11465.0,11470.28,11475.75,11460.0,11479.8],\"open\":[11615.24,11612.63,11613.52,11607.0,11597.57,11579.32,11563.68,11568.99,11564.67,11562.96,11543.17,11550.01,11532.99,11516.89,11533.68,11521.84,11491.73,11494.1,11519.46,11511.93,11499.25,11491.44,11482.5,11499.76,11476.06,11467.75,11497.44,11475.99,11488.01,11490.0],\"x\":[1,2,3,4,5,6,7,8,9,10,11,12,13,14,15,16,17,18,19,20,21,22,23,24,25,26,27,28,29,30],\"type\":\"ohlc\"}],                        {\"template\":{\"data\":{\"histogram2dcontour\":[{\"type\":\"histogram2dcontour\",\"colorbar\":{\"outlinewidth\":0,\"ticks\":\"\"},\"colorscale\":[[0.0,\"#0d0887\"],[0.1111111111111111,\"#46039f\"],[0.2222222222222222,\"#7201a8\"],[0.3333333333333333,\"#9c179e\"],[0.4444444444444444,\"#bd3786\"],[0.5555555555555556,\"#d8576b\"],[0.6666666666666666,\"#ed7953\"],[0.7777777777777778,\"#fb9f3a\"],[0.8888888888888888,\"#fdca26\"],[1.0,\"#f0f921\"]]}],\"choropleth\":[{\"type\":\"choropleth\",\"colorbar\":{\"outlinewidth\":0,\"ticks\":\"\"}}],\"histogram2d\":[{\"type\":\"histogram2d\",\"colorbar\":{\"outlinewidth\":0,\"ticks\":\"\"},\"colorscale\":[[0.0,\"#0d0887\"],[0.1111111111111111,\"#46039f\"],[0.2222222222222222,\"#7201a8\"],[0.3333333333333333,\"#9c179e\"],[0.4444444444444444,\"#bd3786\"],[0.5555555555555556,\"#d8576b\"],[0.6666666666666666,\"#ed7953\"],[0.7777777777777778,\"#fb9f3a\"],[0.8888888888888888,\"#fdca26\"],[1.0,\"#f0f921\"]]}],\"heatmap\":[{\"type\":\"heatmap\",\"colorbar\":{\"outlinewidth\":0,\"ticks\":\"\"},\"colorscale\":[[0.0,\"#0d0887\"],[0.1111111111111111,\"#46039f\"],[0.2222222222222222,\"#7201a8\"],[0.3333333333333333,\"#9c179e\"],[0.4444444444444444,\"#bd3786\"],[0.5555555555555556,\"#d8576b\"],[0.6666666666666666,\"#ed7953\"],[0.7777777777777778,\"#fb9f3a\"],[0.8888888888888888,\"#fdca26\"],[1.0,\"#f0f921\"]]}],\"heatmapgl\":[{\"type\":\"heatmapgl\",\"colorbar\":{\"outlinewidth\":0,\"ticks\":\"\"},\"colorscale\":[[0.0,\"#0d0887\"],[0.1111111111111111,\"#46039f\"],[0.2222222222222222,\"#7201a8\"],[0.3333333333333333,\"#9c179e\"],[0.4444444444444444,\"#bd3786\"],[0.5555555555555556,\"#d8576b\"],[0.6666666666666666,\"#ed7953\"],[0.7777777777777778,\"#fb9f3a\"],[0.8888888888888888,\"#fdca26\"],[1.0,\"#f0f921\"]]}],\"contourcarpet\":[{\"type\":\"contourcarpet\",\"colorbar\":{\"outlinewidth\":0,\"ticks\":\"\"}}],\"contour\":[{\"type\":\"contour\",\"colorbar\":{\"outlinewidth\":0,\"ticks\":\"\"},\"colorscale\":[[0.0,\"#0d0887\"],[0.1111111111111111,\"#46039f\"],[0.2222222222222222,\"#7201a8\"],[0.3333333333333333,\"#9c179e\"],[0.4444444444444444,\"#bd3786\"],[0.5555555555555556,\"#d8576b\"],[0.6666666666666666,\"#ed7953\"],[0.7777777777777778,\"#fb9f3a\"],[0.8888888888888888,\"#fdca26\"],[1.0,\"#f0f921\"]]}],\"surface\":[{\"type\":\"surface\",\"colorbar\":{\"outlinewidth\":0,\"ticks\":\"\"},\"colorscale\":[[0.0,\"#0d0887\"],[0.1111111111111111,\"#46039f\"],[0.2222222222222222,\"#7201a8\"],[0.3333333333333333,\"#9c179e\"],[0.4444444444444444,\"#bd3786\"],[0.5555555555555556,\"#d8576b\"],[0.6666666666666666,\"#ed7953\"],[0.7777777777777778,\"#fb9f3a\"],[0.8888888888888888,\"#fdca26\"],[1.0,\"#f0f921\"]]}],\"mesh3d\":[{\"type\":\"mesh3d\",\"colorbar\":{\"outlinewidth\":0,\"ticks\":\"\"}}],\"scatter\":[{\"fillpattern\":{\"fillmode\":\"overlay\",\"size\":10,\"solidity\":0.2},\"type\":\"scatter\"}],\"parcoords\":[{\"type\":\"parcoords\",\"line\":{\"colorbar\":{\"outlinewidth\":0,\"ticks\":\"\"}}}],\"scatterpolargl\":[{\"type\":\"scatterpolargl\",\"marker\":{\"colorbar\":{\"outlinewidth\":0,\"ticks\":\"\"}}}],\"bar\":[{\"error_x\":{\"color\":\"#2a3f5f\"},\"error_y\":{\"color\":\"#2a3f5f\"},\"marker\":{\"line\":{\"color\":\"#E5ECF6\",\"width\":0.5},\"pattern\":{\"fillmode\":\"overlay\",\"size\":10,\"solidity\":0.2}},\"type\":\"bar\"}],\"scattergeo\":[{\"type\":\"scattergeo\",\"marker\":{\"colorbar\":{\"outlinewidth\":0,\"ticks\":\"\"}}}],\"scatterpolar\":[{\"type\":\"scatterpolar\",\"marker\":{\"colorbar\":{\"outlinewidth\":0,\"ticks\":\"\"}}}],\"histogram\":[{\"marker\":{\"pattern\":{\"fillmode\":\"overlay\",\"size\":10,\"solidity\":0.2}},\"type\":\"histogram\"}],\"scattergl\":[{\"type\":\"scattergl\",\"marker\":{\"colorbar\":{\"outlinewidth\":0,\"ticks\":\"\"}}}],\"scatter3d\":[{\"type\":\"scatter3d\",\"line\":{\"colorbar\":{\"outlinewidth\":0,\"ticks\":\"\"}},\"marker\":{\"colorbar\":{\"outlinewidth\":0,\"ticks\":\"\"}}}],\"scattermapbox\":[{\"type\":\"scattermapbox\",\"marker\":{\"colorbar\":{\"outlinewidth\":0,\"ticks\":\"\"}}}],\"scatterternary\":[{\"type\":\"scatterternary\",\"marker\":{\"colorbar\":{\"outlinewidth\":0,\"ticks\":\"\"}}}],\"scattercarpet\":[{\"type\":\"scattercarpet\",\"marker\":{\"colorbar\":{\"outlinewidth\":0,\"ticks\":\"\"}}}],\"carpet\":[{\"aaxis\":{\"endlinecolor\":\"#2a3f5f\",\"gridcolor\":\"white\",\"linecolor\":\"white\",\"minorgridcolor\":\"white\",\"startlinecolor\":\"#2a3f5f\"},\"baxis\":{\"endlinecolor\":\"#2a3f5f\",\"gridcolor\":\"white\",\"linecolor\":\"white\",\"minorgridcolor\":\"white\",\"startlinecolor\":\"#2a3f5f\"},\"type\":\"carpet\"}],\"table\":[{\"cells\":{\"fill\":{\"color\":\"#EBF0F8\"},\"line\":{\"color\":\"white\"}},\"header\":{\"fill\":{\"color\":\"#C8D4E3\"},\"line\":{\"color\":\"white\"}},\"type\":\"table\"}],\"barpolar\":[{\"marker\":{\"line\":{\"color\":\"#E5ECF6\",\"width\":0.5},\"pattern\":{\"fillmode\":\"overlay\",\"size\":10,\"solidity\":0.2}},\"type\":\"barpolar\"}],\"pie\":[{\"automargin\":true,\"type\":\"pie\"}]},\"layout\":{\"autotypenumbers\":\"strict\",\"colorway\":[\"#636efa\",\"#EF553B\",\"#00cc96\",\"#ab63fa\",\"#FFA15A\",\"#19d3f3\",\"#FF6692\",\"#B6E880\",\"#FF97FF\",\"#FECB52\"],\"font\":{\"color\":\"#2a3f5f\"},\"hovermode\":\"closest\",\"hoverlabel\":{\"align\":\"left\"},\"paper_bgcolor\":\"white\",\"plot_bgcolor\":\"#E5ECF6\",\"polar\":{\"bgcolor\":\"#E5ECF6\",\"angularaxis\":{\"gridcolor\":\"white\",\"linecolor\":\"white\",\"ticks\":\"\"},\"radialaxis\":{\"gridcolor\":\"white\",\"linecolor\":\"white\",\"ticks\":\"\"}},\"ternary\":{\"bgcolor\":\"#E5ECF6\",\"aaxis\":{\"gridcolor\":\"white\",\"linecolor\":\"white\",\"ticks\":\"\"},\"baxis\":{\"gridcolor\":\"white\",\"linecolor\":\"white\",\"ticks\":\"\"},\"caxis\":{\"gridcolor\":\"white\",\"linecolor\":\"white\",\"ticks\":\"\"}},\"coloraxis\":{\"colorbar\":{\"outlinewidth\":0,\"ticks\":\"\"}},\"colorscale\":{\"sequential\":[[0.0,\"#0d0887\"],[0.1111111111111111,\"#46039f\"],[0.2222222222222222,\"#7201a8\"],[0.3333333333333333,\"#9c179e\"],[0.4444444444444444,\"#bd3786\"],[0.5555555555555556,\"#d8576b\"],[0.6666666666666666,\"#ed7953\"],[0.7777777777777778,\"#fb9f3a\"],[0.8888888888888888,\"#fdca26\"],[1.0,\"#f0f921\"]],\"sequentialminus\":[[0.0,\"#0d0887\"],[0.1111111111111111,\"#46039f\"],[0.2222222222222222,\"#7201a8\"],[0.3333333333333333,\"#9c179e\"],[0.4444444444444444,\"#bd3786\"],[0.5555555555555556,\"#d8576b\"],[0.6666666666666666,\"#ed7953\"],[0.7777777777777778,\"#fb9f3a\"],[0.8888888888888888,\"#fdca26\"],[1.0,\"#f0f921\"]],\"diverging\":[[0,\"#8e0152\"],[0.1,\"#c51b7d\"],[0.2,\"#de77ae\"],[0.3,\"#f1b6da\"],[0.4,\"#fde0ef\"],[0.5,\"#f7f7f7\"],[0.6,\"#e6f5d0\"],[0.7,\"#b8e186\"],[0.8,\"#7fbc41\"],[0.9,\"#4d9221\"],[1,\"#276419\"]]},\"xaxis\":{\"gridcolor\":\"white\",\"linecolor\":\"white\",\"ticks\":\"\",\"title\":{\"standoff\":15},\"zerolinecolor\":\"white\",\"automargin\":true,\"zerolinewidth\":2},\"yaxis\":{\"gridcolor\":\"white\",\"linecolor\":\"white\",\"ticks\":\"\",\"title\":{\"standoff\":15},\"zerolinecolor\":\"white\",\"automargin\":true,\"zerolinewidth\":2},\"scene\":{\"xaxis\":{\"backgroundcolor\":\"#E5ECF6\",\"gridcolor\":\"white\",\"linecolor\":\"white\",\"showbackground\":true,\"ticks\":\"\",\"zerolinecolor\":\"white\",\"gridwidth\":2},\"yaxis\":{\"backgroundcolor\":\"#E5ECF6\",\"gridcolor\":\"white\",\"linecolor\":\"white\",\"showbackground\":true,\"ticks\":\"\",\"zerolinecolor\":\"white\",\"gridwidth\":2},\"zaxis\":{\"backgroundcolor\":\"#E5ECF6\",\"gridcolor\":\"white\",\"linecolor\":\"white\",\"showbackground\":true,\"ticks\":\"\",\"zerolinecolor\":\"white\",\"gridwidth\":2}},\"shapedefaults\":{\"line\":{\"color\":\"#2a3f5f\"}},\"annotationdefaults\":{\"arrowcolor\":\"#2a3f5f\",\"arrowhead\":0,\"arrowwidth\":1},\"geo\":{\"bgcolor\":\"white\",\"landcolor\":\"#E5ECF6\",\"subunitcolor\":\"white\",\"showland\":true,\"showlakes\":true,\"lakecolor\":\"white\"},\"title\":{\"x\":0.05},\"mapbox\":{\"style\":\"light\"}}},\"xaxis\":{\"rangeslider\":{\"visible\":false}}},                        {\"responsive\": true}                    ).then(function(){\n",
       "                            \n",
       "var gd = document.getElementById('53416afc-e313-4e28-b8aa-66f2826e3d36');\n",
       "var x = new MutationObserver(function (mutations, observer) {{\n",
       "        var display = window.getComputedStyle(gd).display;\n",
       "        if (!display || display === 'none') {{\n",
       "            console.log([gd, 'removed!']);\n",
       "            Plotly.purge(gd);\n",
       "            observer.disconnect();\n",
       "        }}\n",
       "}});\n",
       "\n",
       "// Listen for the removal of the full notebook cells\n",
       "var notebookContainer = gd.closest('#notebook-container');\n",
       "if (notebookContainer) {{\n",
       "    x.observe(notebookContainer, {childList: true});\n",
       "}}\n",
       "\n",
       "// Listen for the clearing of the current output cell\n",
       "var outputEl = gd.closest('.output');\n",
       "if (outputEl) {{\n",
       "    x.observe(outputEl, {childList: true});\n",
       "}}\n",
       "\n",
       "                        })                };                });            </script>        </div>"
      ]
     },
     "metadata": {},
     "output_type": "display_data"
    },
    {
     "name": "stdout",
     "output_type": "stream",
     "text": [
      "63348\n",
      "0.9945125654827929 1.0006831850746798\n"
     ]
    },
    {
     "data": {
      "application/vnd.plotly.v1+json": {
       "config": {
        "plotlyServerURL": "https://plot.ly"
       },
       "data": [
        {
         "close": [
          19130.15,
          19136,
          19134.01,
          19141.82,
          19121.8,
          19108.79,
          19096.69,
          19086.15,
          19079.93,
          19084.03,
          19075.32,
          19082,
          19071.68,
          19069.49,
          19064.43,
          19043.65,
          19050.86,
          19050.52,
          19055.01,
          19063.42,
          19056.31,
          19064.42,
          19080,
          19115.26,
          19102.33,
          19111.91,
          19096.15,
          19100,
          19096.53,
          19077.44
         ],
         "high": [
          19136,
          19140,
          19139,
          19144,
          19144.05,
          19127.58,
          19110.97,
          19099.64,
          19095.06,
          19087,
          19084.03,
          19082,
          19082,
          19079.5,
          19072.17,
          19066.27,
          19060.02,
          19059.92,
          19063,
          19069.99,
          19064.05,
          19064.42,
          19080,
          19120,
          19120,
          19111.92,
          19111.92,
          19100,
          19102,
          19096.54
         ],
         "low": [
          19129.2,
          19130,
          19133.55,
          19132.61,
          19121.8,
          19101.09,
          19095,
          19063,
          19070.56,
          19073.41,
          19071.98,
          19074.97,
          19065.46,
          19064.3,
          19064,
          19038.3,
          19026,
          19050,
          19049.01,
          19051.89,
          19051.09,
          19054.14,
          19062.32,
          19079.99,
          19098.97,
          19097.17,
          19096.14,
          19092.06,
          19094,
          19074.4
         ],
         "open": [
          19130.98,
          19131.11,
          19135.36,
          19134.01,
          19142,
          19121.8,
          19108.79,
          19096.68,
          19086.15,
          19079.93,
          19084.03,
          19075.32,
          19082,
          19071.67,
          19068.19,
          19064.42,
          19043.65,
          19050.85,
          19051.06,
          19055.01,
          19061.74,
          19056.3,
          19064.42,
          19080,
          19115.25,
          19102.32,
          19111.92,
          19096.15,
          19099.99,
          19096.54
         ],
         "type": "ohlc",
         "x": [
          1,
          2,
          3,
          4,
          5,
          6,
          7,
          8,
          9,
          10,
          11,
          12,
          13,
          14,
          15,
          16,
          17,
          18,
          19,
          20,
          21,
          22,
          23,
          24,
          25,
          26,
          27,
          28,
          29,
          30
         ]
        }
       ],
       "layout": {
        "template": {
         "data": {
          "bar": [
           {
            "error_x": {
             "color": "#2a3f5f"
            },
            "error_y": {
             "color": "#2a3f5f"
            },
            "marker": {
             "line": {
              "color": "#E5ECF6",
              "width": 0.5
             },
             "pattern": {
              "fillmode": "overlay",
              "size": 10,
              "solidity": 0.2
             }
            },
            "type": "bar"
           }
          ],
          "barpolar": [
           {
            "marker": {
             "line": {
              "color": "#E5ECF6",
              "width": 0.5
             },
             "pattern": {
              "fillmode": "overlay",
              "size": 10,
              "solidity": 0.2
             }
            },
            "type": "barpolar"
           }
          ],
          "carpet": [
           {
            "aaxis": {
             "endlinecolor": "#2a3f5f",
             "gridcolor": "white",
             "linecolor": "white",
             "minorgridcolor": "white",
             "startlinecolor": "#2a3f5f"
            },
            "baxis": {
             "endlinecolor": "#2a3f5f",
             "gridcolor": "white",
             "linecolor": "white",
             "minorgridcolor": "white",
             "startlinecolor": "#2a3f5f"
            },
            "type": "carpet"
           }
          ],
          "choropleth": [
           {
            "colorbar": {
             "outlinewidth": 0,
             "ticks": ""
            },
            "type": "choropleth"
           }
          ],
          "contour": [
           {
            "colorbar": {
             "outlinewidth": 0,
             "ticks": ""
            },
            "colorscale": [
             [
              0,
              "#0d0887"
             ],
             [
              0.1111111111111111,
              "#46039f"
             ],
             [
              0.2222222222222222,
              "#7201a8"
             ],
             [
              0.3333333333333333,
              "#9c179e"
             ],
             [
              0.4444444444444444,
              "#bd3786"
             ],
             [
              0.5555555555555556,
              "#d8576b"
             ],
             [
              0.6666666666666666,
              "#ed7953"
             ],
             [
              0.7777777777777778,
              "#fb9f3a"
             ],
             [
              0.8888888888888888,
              "#fdca26"
             ],
             [
              1,
              "#f0f921"
             ]
            ],
            "type": "contour"
           }
          ],
          "contourcarpet": [
           {
            "colorbar": {
             "outlinewidth": 0,
             "ticks": ""
            },
            "type": "contourcarpet"
           }
          ],
          "heatmap": [
           {
            "colorbar": {
             "outlinewidth": 0,
             "ticks": ""
            },
            "colorscale": [
             [
              0,
              "#0d0887"
             ],
             [
              0.1111111111111111,
              "#46039f"
             ],
             [
              0.2222222222222222,
              "#7201a8"
             ],
             [
              0.3333333333333333,
              "#9c179e"
             ],
             [
              0.4444444444444444,
              "#bd3786"
             ],
             [
              0.5555555555555556,
              "#d8576b"
             ],
             [
              0.6666666666666666,
              "#ed7953"
             ],
             [
              0.7777777777777778,
              "#fb9f3a"
             ],
             [
              0.8888888888888888,
              "#fdca26"
             ],
             [
              1,
              "#f0f921"
             ]
            ],
            "type": "heatmap"
           }
          ],
          "heatmapgl": [
           {
            "colorbar": {
             "outlinewidth": 0,
             "ticks": ""
            },
            "colorscale": [
             [
              0,
              "#0d0887"
             ],
             [
              0.1111111111111111,
              "#46039f"
             ],
             [
              0.2222222222222222,
              "#7201a8"
             ],
             [
              0.3333333333333333,
              "#9c179e"
             ],
             [
              0.4444444444444444,
              "#bd3786"
             ],
             [
              0.5555555555555556,
              "#d8576b"
             ],
             [
              0.6666666666666666,
              "#ed7953"
             ],
             [
              0.7777777777777778,
              "#fb9f3a"
             ],
             [
              0.8888888888888888,
              "#fdca26"
             ],
             [
              1,
              "#f0f921"
             ]
            ],
            "type": "heatmapgl"
           }
          ],
          "histogram": [
           {
            "marker": {
             "pattern": {
              "fillmode": "overlay",
              "size": 10,
              "solidity": 0.2
             }
            },
            "type": "histogram"
           }
          ],
          "histogram2d": [
           {
            "colorbar": {
             "outlinewidth": 0,
             "ticks": ""
            },
            "colorscale": [
             [
              0,
              "#0d0887"
             ],
             [
              0.1111111111111111,
              "#46039f"
             ],
             [
              0.2222222222222222,
              "#7201a8"
             ],
             [
              0.3333333333333333,
              "#9c179e"
             ],
             [
              0.4444444444444444,
              "#bd3786"
             ],
             [
              0.5555555555555556,
              "#d8576b"
             ],
             [
              0.6666666666666666,
              "#ed7953"
             ],
             [
              0.7777777777777778,
              "#fb9f3a"
             ],
             [
              0.8888888888888888,
              "#fdca26"
             ],
             [
              1,
              "#f0f921"
             ]
            ],
            "type": "histogram2d"
           }
          ],
          "histogram2dcontour": [
           {
            "colorbar": {
             "outlinewidth": 0,
             "ticks": ""
            },
            "colorscale": [
             [
              0,
              "#0d0887"
             ],
             [
              0.1111111111111111,
              "#46039f"
             ],
             [
              0.2222222222222222,
              "#7201a8"
             ],
             [
              0.3333333333333333,
              "#9c179e"
             ],
             [
              0.4444444444444444,
              "#bd3786"
             ],
             [
              0.5555555555555556,
              "#d8576b"
             ],
             [
              0.6666666666666666,
              "#ed7953"
             ],
             [
              0.7777777777777778,
              "#fb9f3a"
             ],
             [
              0.8888888888888888,
              "#fdca26"
             ],
             [
              1,
              "#f0f921"
             ]
            ],
            "type": "histogram2dcontour"
           }
          ],
          "mesh3d": [
           {
            "colorbar": {
             "outlinewidth": 0,
             "ticks": ""
            },
            "type": "mesh3d"
           }
          ],
          "parcoords": [
           {
            "line": {
             "colorbar": {
              "outlinewidth": 0,
              "ticks": ""
             }
            },
            "type": "parcoords"
           }
          ],
          "pie": [
           {
            "automargin": true,
            "type": "pie"
           }
          ],
          "scatter": [
           {
            "fillpattern": {
             "fillmode": "overlay",
             "size": 10,
             "solidity": 0.2
            },
            "type": "scatter"
           }
          ],
          "scatter3d": [
           {
            "line": {
             "colorbar": {
              "outlinewidth": 0,
              "ticks": ""
             }
            },
            "marker": {
             "colorbar": {
              "outlinewidth": 0,
              "ticks": ""
             }
            },
            "type": "scatter3d"
           }
          ],
          "scattercarpet": [
           {
            "marker": {
             "colorbar": {
              "outlinewidth": 0,
              "ticks": ""
             }
            },
            "type": "scattercarpet"
           }
          ],
          "scattergeo": [
           {
            "marker": {
             "colorbar": {
              "outlinewidth": 0,
              "ticks": ""
             }
            },
            "type": "scattergeo"
           }
          ],
          "scattergl": [
           {
            "marker": {
             "colorbar": {
              "outlinewidth": 0,
              "ticks": ""
             }
            },
            "type": "scattergl"
           }
          ],
          "scattermapbox": [
           {
            "marker": {
             "colorbar": {
              "outlinewidth": 0,
              "ticks": ""
             }
            },
            "type": "scattermapbox"
           }
          ],
          "scatterpolar": [
           {
            "marker": {
             "colorbar": {
              "outlinewidth": 0,
              "ticks": ""
             }
            },
            "type": "scatterpolar"
           }
          ],
          "scatterpolargl": [
           {
            "marker": {
             "colorbar": {
              "outlinewidth": 0,
              "ticks": ""
             }
            },
            "type": "scatterpolargl"
           }
          ],
          "scatterternary": [
           {
            "marker": {
             "colorbar": {
              "outlinewidth": 0,
              "ticks": ""
             }
            },
            "type": "scatterternary"
           }
          ],
          "surface": [
           {
            "colorbar": {
             "outlinewidth": 0,
             "ticks": ""
            },
            "colorscale": [
             [
              0,
              "#0d0887"
             ],
             [
              0.1111111111111111,
              "#46039f"
             ],
             [
              0.2222222222222222,
              "#7201a8"
             ],
             [
              0.3333333333333333,
              "#9c179e"
             ],
             [
              0.4444444444444444,
              "#bd3786"
             ],
             [
              0.5555555555555556,
              "#d8576b"
             ],
             [
              0.6666666666666666,
              "#ed7953"
             ],
             [
              0.7777777777777778,
              "#fb9f3a"
             ],
             [
              0.8888888888888888,
              "#fdca26"
             ],
             [
              1,
              "#f0f921"
             ]
            ],
            "type": "surface"
           }
          ],
          "table": [
           {
            "cells": {
             "fill": {
              "color": "#EBF0F8"
             },
             "line": {
              "color": "white"
             }
            },
            "header": {
             "fill": {
              "color": "#C8D4E3"
             },
             "line": {
              "color": "white"
             }
            },
            "type": "table"
           }
          ]
         },
         "layout": {
          "annotationdefaults": {
           "arrowcolor": "#2a3f5f",
           "arrowhead": 0,
           "arrowwidth": 1
          },
          "autotypenumbers": "strict",
          "coloraxis": {
           "colorbar": {
            "outlinewidth": 0,
            "ticks": ""
           }
          },
          "colorscale": {
           "diverging": [
            [
             0,
             "#8e0152"
            ],
            [
             0.1,
             "#c51b7d"
            ],
            [
             0.2,
             "#de77ae"
            ],
            [
             0.3,
             "#f1b6da"
            ],
            [
             0.4,
             "#fde0ef"
            ],
            [
             0.5,
             "#f7f7f7"
            ],
            [
             0.6,
             "#e6f5d0"
            ],
            [
             0.7,
             "#b8e186"
            ],
            [
             0.8,
             "#7fbc41"
            ],
            [
             0.9,
             "#4d9221"
            ],
            [
             1,
             "#276419"
            ]
           ],
           "sequential": [
            [
             0,
             "#0d0887"
            ],
            [
             0.1111111111111111,
             "#46039f"
            ],
            [
             0.2222222222222222,
             "#7201a8"
            ],
            [
             0.3333333333333333,
             "#9c179e"
            ],
            [
             0.4444444444444444,
             "#bd3786"
            ],
            [
             0.5555555555555556,
             "#d8576b"
            ],
            [
             0.6666666666666666,
             "#ed7953"
            ],
            [
             0.7777777777777778,
             "#fb9f3a"
            ],
            [
             0.8888888888888888,
             "#fdca26"
            ],
            [
             1,
             "#f0f921"
            ]
           ],
           "sequentialminus": [
            [
             0,
             "#0d0887"
            ],
            [
             0.1111111111111111,
             "#46039f"
            ],
            [
             0.2222222222222222,
             "#7201a8"
            ],
            [
             0.3333333333333333,
             "#9c179e"
            ],
            [
             0.4444444444444444,
             "#bd3786"
            ],
            [
             0.5555555555555556,
             "#d8576b"
            ],
            [
             0.6666666666666666,
             "#ed7953"
            ],
            [
             0.7777777777777778,
             "#fb9f3a"
            ],
            [
             0.8888888888888888,
             "#fdca26"
            ],
            [
             1,
             "#f0f921"
            ]
           ]
          },
          "colorway": [
           "#636efa",
           "#EF553B",
           "#00cc96",
           "#ab63fa",
           "#FFA15A",
           "#19d3f3",
           "#FF6692",
           "#B6E880",
           "#FF97FF",
           "#FECB52"
          ],
          "font": {
           "color": "#2a3f5f"
          },
          "geo": {
           "bgcolor": "white",
           "lakecolor": "white",
           "landcolor": "#E5ECF6",
           "showlakes": true,
           "showland": true,
           "subunitcolor": "white"
          },
          "hoverlabel": {
           "align": "left"
          },
          "hovermode": "closest",
          "mapbox": {
           "style": "light"
          },
          "paper_bgcolor": "white",
          "plot_bgcolor": "#E5ECF6",
          "polar": {
           "angularaxis": {
            "gridcolor": "white",
            "linecolor": "white",
            "ticks": ""
           },
           "bgcolor": "#E5ECF6",
           "radialaxis": {
            "gridcolor": "white",
            "linecolor": "white",
            "ticks": ""
           }
          },
          "scene": {
           "xaxis": {
            "backgroundcolor": "#E5ECF6",
            "gridcolor": "white",
            "gridwidth": 2,
            "linecolor": "white",
            "showbackground": true,
            "ticks": "",
            "zerolinecolor": "white"
           },
           "yaxis": {
            "backgroundcolor": "#E5ECF6",
            "gridcolor": "white",
            "gridwidth": 2,
            "linecolor": "white",
            "showbackground": true,
            "ticks": "",
            "zerolinecolor": "white"
           },
           "zaxis": {
            "backgroundcolor": "#E5ECF6",
            "gridcolor": "white",
            "gridwidth": 2,
            "linecolor": "white",
            "showbackground": true,
            "ticks": "",
            "zerolinecolor": "white"
           }
          },
          "shapedefaults": {
           "line": {
            "color": "#2a3f5f"
           }
          },
          "ternary": {
           "aaxis": {
            "gridcolor": "white",
            "linecolor": "white",
            "ticks": ""
           },
           "baxis": {
            "gridcolor": "white",
            "linecolor": "white",
            "ticks": ""
           },
           "bgcolor": "#E5ECF6",
           "caxis": {
            "gridcolor": "white",
            "linecolor": "white",
            "ticks": ""
           }
          },
          "title": {
           "x": 0.05
          },
          "xaxis": {
           "automargin": true,
           "gridcolor": "white",
           "linecolor": "white",
           "ticks": "",
           "title": {
            "standoff": 15
           },
           "zerolinecolor": "white",
           "zerolinewidth": 2
          },
          "yaxis": {
           "automargin": true,
           "gridcolor": "white",
           "linecolor": "white",
           "ticks": "",
           "title": {
            "standoff": 15
           },
           "zerolinecolor": "white",
           "zerolinewidth": 2
          }
         }
        },
        "xaxis": {
         "rangeslider": {
          "visible": false
         }
        }
       }
      },
      "text/html": [
       "<div>                            <div id=\"0ec305b8-1d8b-4605-9b06-92a95fa0fd16\" class=\"plotly-graph-div\" style=\"height:525px; width:100%;\"></div>            <script type=\"text/javascript\">                require([\"plotly\"], function(Plotly) {                    window.PLOTLYENV=window.PLOTLYENV || {};                                    if (document.getElementById(\"0ec305b8-1d8b-4605-9b06-92a95fa0fd16\")) {                    Plotly.newPlot(                        \"0ec305b8-1d8b-4605-9b06-92a95fa0fd16\",                        [{\"close\":[19130.15,19136.0,19134.01,19141.82,19121.8,19108.79,19096.69,19086.15,19079.93,19084.03,19075.32,19082.0,19071.68,19069.49,19064.43,19043.65,19050.86,19050.52,19055.01,19063.42,19056.31,19064.42,19080.0,19115.26,19102.33,19111.91,19096.15,19100.0,19096.53,19077.44],\"high\":[19136.0,19140.0,19139.0,19144.0,19144.05,19127.58,19110.97,19099.64,19095.06,19087.0,19084.03,19082.0,19082.0,19079.5,19072.17,19066.27,19060.02,19059.92,19063.0,19069.99,19064.05,19064.42,19080.0,19120.0,19120.0,19111.92,19111.92,19100.0,19102.0,19096.54],\"low\":[19129.2,19130.0,19133.55,19132.61,19121.8,19101.09,19095.0,19063.0,19070.56,19073.41,19071.98,19074.97,19065.46,19064.3,19064.0,19038.3,19026.0,19050.0,19049.01,19051.89,19051.09,19054.14,19062.32,19079.99,19098.97,19097.17,19096.14,19092.06,19094.0,19074.4],\"open\":[19130.98,19131.11,19135.36,19134.01,19142.0,19121.8,19108.79,19096.68,19086.15,19079.93,19084.03,19075.32,19082.0,19071.67,19068.19,19064.42,19043.65,19050.85,19051.06,19055.01,19061.74,19056.3,19064.42,19080.0,19115.25,19102.32,19111.92,19096.15,19099.99,19096.54],\"x\":[1,2,3,4,5,6,7,8,9,10,11,12,13,14,15,16,17,18,19,20,21,22,23,24,25,26,27,28,29,30],\"type\":\"ohlc\"}],                        {\"template\":{\"data\":{\"histogram2dcontour\":[{\"type\":\"histogram2dcontour\",\"colorbar\":{\"outlinewidth\":0,\"ticks\":\"\"},\"colorscale\":[[0.0,\"#0d0887\"],[0.1111111111111111,\"#46039f\"],[0.2222222222222222,\"#7201a8\"],[0.3333333333333333,\"#9c179e\"],[0.4444444444444444,\"#bd3786\"],[0.5555555555555556,\"#d8576b\"],[0.6666666666666666,\"#ed7953\"],[0.7777777777777778,\"#fb9f3a\"],[0.8888888888888888,\"#fdca26\"],[1.0,\"#f0f921\"]]}],\"choropleth\":[{\"type\":\"choropleth\",\"colorbar\":{\"outlinewidth\":0,\"ticks\":\"\"}}],\"histogram2d\":[{\"type\":\"histogram2d\",\"colorbar\":{\"outlinewidth\":0,\"ticks\":\"\"},\"colorscale\":[[0.0,\"#0d0887\"],[0.1111111111111111,\"#46039f\"],[0.2222222222222222,\"#7201a8\"],[0.3333333333333333,\"#9c179e\"],[0.4444444444444444,\"#bd3786\"],[0.5555555555555556,\"#d8576b\"],[0.6666666666666666,\"#ed7953\"],[0.7777777777777778,\"#fb9f3a\"],[0.8888888888888888,\"#fdca26\"],[1.0,\"#f0f921\"]]}],\"heatmap\":[{\"type\":\"heatmap\",\"colorbar\":{\"outlinewidth\":0,\"ticks\":\"\"},\"colorscale\":[[0.0,\"#0d0887\"],[0.1111111111111111,\"#46039f\"],[0.2222222222222222,\"#7201a8\"],[0.3333333333333333,\"#9c179e\"],[0.4444444444444444,\"#bd3786\"],[0.5555555555555556,\"#d8576b\"],[0.6666666666666666,\"#ed7953\"],[0.7777777777777778,\"#fb9f3a\"],[0.8888888888888888,\"#fdca26\"],[1.0,\"#f0f921\"]]}],\"heatmapgl\":[{\"type\":\"heatmapgl\",\"colorbar\":{\"outlinewidth\":0,\"ticks\":\"\"},\"colorscale\":[[0.0,\"#0d0887\"],[0.1111111111111111,\"#46039f\"],[0.2222222222222222,\"#7201a8\"],[0.3333333333333333,\"#9c179e\"],[0.4444444444444444,\"#bd3786\"],[0.5555555555555556,\"#d8576b\"],[0.6666666666666666,\"#ed7953\"],[0.7777777777777778,\"#fb9f3a\"],[0.8888888888888888,\"#fdca26\"],[1.0,\"#f0f921\"]]}],\"contourcarpet\":[{\"type\":\"contourcarpet\",\"colorbar\":{\"outlinewidth\":0,\"ticks\":\"\"}}],\"contour\":[{\"type\":\"contour\",\"colorbar\":{\"outlinewidth\":0,\"ticks\":\"\"},\"colorscale\":[[0.0,\"#0d0887\"],[0.1111111111111111,\"#46039f\"],[0.2222222222222222,\"#7201a8\"],[0.3333333333333333,\"#9c179e\"],[0.4444444444444444,\"#bd3786\"],[0.5555555555555556,\"#d8576b\"],[0.6666666666666666,\"#ed7953\"],[0.7777777777777778,\"#fb9f3a\"],[0.8888888888888888,\"#fdca26\"],[1.0,\"#f0f921\"]]}],\"surface\":[{\"type\":\"surface\",\"colorbar\":{\"outlinewidth\":0,\"ticks\":\"\"},\"colorscale\":[[0.0,\"#0d0887\"],[0.1111111111111111,\"#46039f\"],[0.2222222222222222,\"#7201a8\"],[0.3333333333333333,\"#9c179e\"],[0.4444444444444444,\"#bd3786\"],[0.5555555555555556,\"#d8576b\"],[0.6666666666666666,\"#ed7953\"],[0.7777777777777778,\"#fb9f3a\"],[0.8888888888888888,\"#fdca26\"],[1.0,\"#f0f921\"]]}],\"mesh3d\":[{\"type\":\"mesh3d\",\"colorbar\":{\"outlinewidth\":0,\"ticks\":\"\"}}],\"scatter\":[{\"fillpattern\":{\"fillmode\":\"overlay\",\"size\":10,\"solidity\":0.2},\"type\":\"scatter\"}],\"parcoords\":[{\"type\":\"parcoords\",\"line\":{\"colorbar\":{\"outlinewidth\":0,\"ticks\":\"\"}}}],\"scatterpolargl\":[{\"type\":\"scatterpolargl\",\"marker\":{\"colorbar\":{\"outlinewidth\":0,\"ticks\":\"\"}}}],\"bar\":[{\"error_x\":{\"color\":\"#2a3f5f\"},\"error_y\":{\"color\":\"#2a3f5f\"},\"marker\":{\"line\":{\"color\":\"#E5ECF6\",\"width\":0.5},\"pattern\":{\"fillmode\":\"overlay\",\"size\":10,\"solidity\":0.2}},\"type\":\"bar\"}],\"scattergeo\":[{\"type\":\"scattergeo\",\"marker\":{\"colorbar\":{\"outlinewidth\":0,\"ticks\":\"\"}}}],\"scatterpolar\":[{\"type\":\"scatterpolar\",\"marker\":{\"colorbar\":{\"outlinewidth\":0,\"ticks\":\"\"}}}],\"histogram\":[{\"marker\":{\"pattern\":{\"fillmode\":\"overlay\",\"size\":10,\"solidity\":0.2}},\"type\":\"histogram\"}],\"scattergl\":[{\"type\":\"scattergl\",\"marker\":{\"colorbar\":{\"outlinewidth\":0,\"ticks\":\"\"}}}],\"scatter3d\":[{\"type\":\"scatter3d\",\"line\":{\"colorbar\":{\"outlinewidth\":0,\"ticks\":\"\"}},\"marker\":{\"colorbar\":{\"outlinewidth\":0,\"ticks\":\"\"}}}],\"scattermapbox\":[{\"type\":\"scattermapbox\",\"marker\":{\"colorbar\":{\"outlinewidth\":0,\"ticks\":\"\"}}}],\"scatterternary\":[{\"type\":\"scatterternary\",\"marker\":{\"colorbar\":{\"outlinewidth\":0,\"ticks\":\"\"}}}],\"scattercarpet\":[{\"type\":\"scattercarpet\",\"marker\":{\"colorbar\":{\"outlinewidth\":0,\"ticks\":\"\"}}}],\"carpet\":[{\"aaxis\":{\"endlinecolor\":\"#2a3f5f\",\"gridcolor\":\"white\",\"linecolor\":\"white\",\"minorgridcolor\":\"white\",\"startlinecolor\":\"#2a3f5f\"},\"baxis\":{\"endlinecolor\":\"#2a3f5f\",\"gridcolor\":\"white\",\"linecolor\":\"white\",\"minorgridcolor\":\"white\",\"startlinecolor\":\"#2a3f5f\"},\"type\":\"carpet\"}],\"table\":[{\"cells\":{\"fill\":{\"color\":\"#EBF0F8\"},\"line\":{\"color\":\"white\"}},\"header\":{\"fill\":{\"color\":\"#C8D4E3\"},\"line\":{\"color\":\"white\"}},\"type\":\"table\"}],\"barpolar\":[{\"marker\":{\"line\":{\"color\":\"#E5ECF6\",\"width\":0.5},\"pattern\":{\"fillmode\":\"overlay\",\"size\":10,\"solidity\":0.2}},\"type\":\"barpolar\"}],\"pie\":[{\"automargin\":true,\"type\":\"pie\"}]},\"layout\":{\"autotypenumbers\":\"strict\",\"colorway\":[\"#636efa\",\"#EF553B\",\"#00cc96\",\"#ab63fa\",\"#FFA15A\",\"#19d3f3\",\"#FF6692\",\"#B6E880\",\"#FF97FF\",\"#FECB52\"],\"font\":{\"color\":\"#2a3f5f\"},\"hovermode\":\"closest\",\"hoverlabel\":{\"align\":\"left\"},\"paper_bgcolor\":\"white\",\"plot_bgcolor\":\"#E5ECF6\",\"polar\":{\"bgcolor\":\"#E5ECF6\",\"angularaxis\":{\"gridcolor\":\"white\",\"linecolor\":\"white\",\"ticks\":\"\"},\"radialaxis\":{\"gridcolor\":\"white\",\"linecolor\":\"white\",\"ticks\":\"\"}},\"ternary\":{\"bgcolor\":\"#E5ECF6\",\"aaxis\":{\"gridcolor\":\"white\",\"linecolor\":\"white\",\"ticks\":\"\"},\"baxis\":{\"gridcolor\":\"white\",\"linecolor\":\"white\",\"ticks\":\"\"},\"caxis\":{\"gridcolor\":\"white\",\"linecolor\":\"white\",\"ticks\":\"\"}},\"coloraxis\":{\"colorbar\":{\"outlinewidth\":0,\"ticks\":\"\"}},\"colorscale\":{\"sequential\":[[0.0,\"#0d0887\"],[0.1111111111111111,\"#46039f\"],[0.2222222222222222,\"#7201a8\"],[0.3333333333333333,\"#9c179e\"],[0.4444444444444444,\"#bd3786\"],[0.5555555555555556,\"#d8576b\"],[0.6666666666666666,\"#ed7953\"],[0.7777777777777778,\"#fb9f3a\"],[0.8888888888888888,\"#fdca26\"],[1.0,\"#f0f921\"]],\"sequentialminus\":[[0.0,\"#0d0887\"],[0.1111111111111111,\"#46039f\"],[0.2222222222222222,\"#7201a8\"],[0.3333333333333333,\"#9c179e\"],[0.4444444444444444,\"#bd3786\"],[0.5555555555555556,\"#d8576b\"],[0.6666666666666666,\"#ed7953\"],[0.7777777777777778,\"#fb9f3a\"],[0.8888888888888888,\"#fdca26\"],[1.0,\"#f0f921\"]],\"diverging\":[[0,\"#8e0152\"],[0.1,\"#c51b7d\"],[0.2,\"#de77ae\"],[0.3,\"#f1b6da\"],[0.4,\"#fde0ef\"],[0.5,\"#f7f7f7\"],[0.6,\"#e6f5d0\"],[0.7,\"#b8e186\"],[0.8,\"#7fbc41\"],[0.9,\"#4d9221\"],[1,\"#276419\"]]},\"xaxis\":{\"gridcolor\":\"white\",\"linecolor\":\"white\",\"ticks\":\"\",\"title\":{\"standoff\":15},\"zerolinecolor\":\"white\",\"automargin\":true,\"zerolinewidth\":2},\"yaxis\":{\"gridcolor\":\"white\",\"linecolor\":\"white\",\"ticks\":\"\",\"title\":{\"standoff\":15},\"zerolinecolor\":\"white\",\"automargin\":true,\"zerolinewidth\":2},\"scene\":{\"xaxis\":{\"backgroundcolor\":\"#E5ECF6\",\"gridcolor\":\"white\",\"linecolor\":\"white\",\"showbackground\":true,\"ticks\":\"\",\"zerolinecolor\":\"white\",\"gridwidth\":2},\"yaxis\":{\"backgroundcolor\":\"#E5ECF6\",\"gridcolor\":\"white\",\"linecolor\":\"white\",\"showbackground\":true,\"ticks\":\"\",\"zerolinecolor\":\"white\",\"gridwidth\":2},\"zaxis\":{\"backgroundcolor\":\"#E5ECF6\",\"gridcolor\":\"white\",\"linecolor\":\"white\",\"showbackground\":true,\"ticks\":\"\",\"zerolinecolor\":\"white\",\"gridwidth\":2}},\"shapedefaults\":{\"line\":{\"color\":\"#2a3f5f\"}},\"annotationdefaults\":{\"arrowcolor\":\"#2a3f5f\",\"arrowhead\":0,\"arrowwidth\":1},\"geo\":{\"bgcolor\":\"white\",\"landcolor\":\"#E5ECF6\",\"subunitcolor\":\"white\",\"showland\":true,\"showlakes\":true,\"lakecolor\":\"white\"},\"title\":{\"x\":0.05},\"mapbox\":{\"style\":\"light\"}}},\"xaxis\":{\"rangeslider\":{\"visible\":false}}},                        {\"responsive\": true}                    ).then(function(){\n",
       "                            \n",
       "var gd = document.getElementById('0ec305b8-1d8b-4605-9b06-92a95fa0fd16');\n",
       "var x = new MutationObserver(function (mutations, observer) {{\n",
       "        var display = window.getComputedStyle(gd).display;\n",
       "        if (!display || display === 'none') {{\n",
       "            console.log([gd, 'removed!']);\n",
       "            Plotly.purge(gd);\n",
       "            observer.disconnect();\n",
       "        }}\n",
       "}});\n",
       "\n",
       "// Listen for the removal of the full notebook cells\n",
       "var notebookContainer = gd.closest('#notebook-container');\n",
       "if (notebookContainer) {{\n",
       "    x.observe(notebookContainer, {childList: true});\n",
       "}}\n",
       "\n",
       "// Listen for the clearing of the current output cell\n",
       "var outputEl = gd.closest('.output');\n",
       "if (outputEl) {{\n",
       "    x.observe(outputEl, {childList: true});\n",
       "}}\n",
       "\n",
       "                        })                };                });            </script>        </div>"
      ]
     },
     "metadata": {},
     "output_type": "display_data"
    },
    {
     "name": "stdout",
     "output_type": "stream",
     "text": [
      "79352\n",
      "0.9889831623764881 1.0046706642102827\n"
     ]
    },
    {
     "data": {
      "application/vnd.plotly.v1+json": {
       "config": {
        "plotlyServerURL": "https://plot.ly"
       },
       "data": [
        {
         "close": [
          58295,
          58357.33,
          58466.77,
          58437.61,
          58491.22,
          58418.09,
          58463.95,
          58444.06,
          58373.79,
          58373.01,
          58392.81,
          58355.17,
          58351.74,
          58363.4,
          58319.42,
          58136.37,
          58084.54,
          58107.02,
          57897.95,
          57975,
          58021.28,
          58065.5,
          57998.82,
          58060,
          58049.42,
          58115.36,
          58149.81,
          58131.39,
          58085.09,
          58100.77
         ],
         "high": [
          58295,
          58395.1,
          58495,
          58553,
          58520,
          58499.68,
          58495,
          58469.31,
          58449.37,
          58381.21,
          58397.36,
          58392.31,
          58367.31,
          58378.87,
          58365.66,
          58326.49,
          58190.75,
          58135.03,
          58180.47,
          57980,
          58036.63,
          58090.29,
          58063.99,
          58061.55,
          58070.7,
          58160.2,
          58161,
          58162.8,
          58150,
          58110
         ],
         "low": [
          58265.16,
          58281.21,
          58340.01,
          58434.27,
          58435.41,
          58418.09,
          58417.18,
          58414.89,
          58366.64,
          58341.96,
          58356.97,
          58350,
          58350.15,
          58340,
          58314.86,
          58000,
          58000,
          58040.79,
          57638.72,
          57853.33,
          57953.45,
          58000.01,
          57919.02,
          57998.81,
          58016.52,
          58048.42,
          58072.4,
          58101,
          58070.2,
          58073.79
         ],
         "open": [
          58280.79,
          58295,
          58357.33,
          58466.77,
          58437.6,
          58491.22,
          58418.1,
          58463.94,
          58444.07,
          58373.8,
          58373.01,
          58392.31,
          58355.18,
          58351.73,
          58363.4,
          58319.42,
          58137.35,
          58084.54,
          58107.01,
          57894.77,
          57975,
          58018.66,
          58063.99,
          57998.82,
          58060.13,
          58048.42,
          58115.36,
          58149.81,
          58131.99,
          58087.09
         ],
         "type": "ohlc",
         "x": [
          1,
          2,
          3,
          4,
          5,
          6,
          7,
          8,
          9,
          10,
          11,
          12,
          13,
          14,
          15,
          16,
          17,
          18,
          19,
          20,
          21,
          22,
          23,
          24,
          25,
          26,
          27,
          28,
          29,
          30
         ]
        }
       ],
       "layout": {
        "template": {
         "data": {
          "bar": [
           {
            "error_x": {
             "color": "#2a3f5f"
            },
            "error_y": {
             "color": "#2a3f5f"
            },
            "marker": {
             "line": {
              "color": "#E5ECF6",
              "width": 0.5
             },
             "pattern": {
              "fillmode": "overlay",
              "size": 10,
              "solidity": 0.2
             }
            },
            "type": "bar"
           }
          ],
          "barpolar": [
           {
            "marker": {
             "line": {
              "color": "#E5ECF6",
              "width": 0.5
             },
             "pattern": {
              "fillmode": "overlay",
              "size": 10,
              "solidity": 0.2
             }
            },
            "type": "barpolar"
           }
          ],
          "carpet": [
           {
            "aaxis": {
             "endlinecolor": "#2a3f5f",
             "gridcolor": "white",
             "linecolor": "white",
             "minorgridcolor": "white",
             "startlinecolor": "#2a3f5f"
            },
            "baxis": {
             "endlinecolor": "#2a3f5f",
             "gridcolor": "white",
             "linecolor": "white",
             "minorgridcolor": "white",
             "startlinecolor": "#2a3f5f"
            },
            "type": "carpet"
           }
          ],
          "choropleth": [
           {
            "colorbar": {
             "outlinewidth": 0,
             "ticks": ""
            },
            "type": "choropleth"
           }
          ],
          "contour": [
           {
            "colorbar": {
             "outlinewidth": 0,
             "ticks": ""
            },
            "colorscale": [
             [
              0,
              "#0d0887"
             ],
             [
              0.1111111111111111,
              "#46039f"
             ],
             [
              0.2222222222222222,
              "#7201a8"
             ],
             [
              0.3333333333333333,
              "#9c179e"
             ],
             [
              0.4444444444444444,
              "#bd3786"
             ],
             [
              0.5555555555555556,
              "#d8576b"
             ],
             [
              0.6666666666666666,
              "#ed7953"
             ],
             [
              0.7777777777777778,
              "#fb9f3a"
             ],
             [
              0.8888888888888888,
              "#fdca26"
             ],
             [
              1,
              "#f0f921"
             ]
            ],
            "type": "contour"
           }
          ],
          "contourcarpet": [
           {
            "colorbar": {
             "outlinewidth": 0,
             "ticks": ""
            },
            "type": "contourcarpet"
           }
          ],
          "heatmap": [
           {
            "colorbar": {
             "outlinewidth": 0,
             "ticks": ""
            },
            "colorscale": [
             [
              0,
              "#0d0887"
             ],
             [
              0.1111111111111111,
              "#46039f"
             ],
             [
              0.2222222222222222,
              "#7201a8"
             ],
             [
              0.3333333333333333,
              "#9c179e"
             ],
             [
              0.4444444444444444,
              "#bd3786"
             ],
             [
              0.5555555555555556,
              "#d8576b"
             ],
             [
              0.6666666666666666,
              "#ed7953"
             ],
             [
              0.7777777777777778,
              "#fb9f3a"
             ],
             [
              0.8888888888888888,
              "#fdca26"
             ],
             [
              1,
              "#f0f921"
             ]
            ],
            "type": "heatmap"
           }
          ],
          "heatmapgl": [
           {
            "colorbar": {
             "outlinewidth": 0,
             "ticks": ""
            },
            "colorscale": [
             [
              0,
              "#0d0887"
             ],
             [
              0.1111111111111111,
              "#46039f"
             ],
             [
              0.2222222222222222,
              "#7201a8"
             ],
             [
              0.3333333333333333,
              "#9c179e"
             ],
             [
              0.4444444444444444,
              "#bd3786"
             ],
             [
              0.5555555555555556,
              "#d8576b"
             ],
             [
              0.6666666666666666,
              "#ed7953"
             ],
             [
              0.7777777777777778,
              "#fb9f3a"
             ],
             [
              0.8888888888888888,
              "#fdca26"
             ],
             [
              1,
              "#f0f921"
             ]
            ],
            "type": "heatmapgl"
           }
          ],
          "histogram": [
           {
            "marker": {
             "pattern": {
              "fillmode": "overlay",
              "size": 10,
              "solidity": 0.2
             }
            },
            "type": "histogram"
           }
          ],
          "histogram2d": [
           {
            "colorbar": {
             "outlinewidth": 0,
             "ticks": ""
            },
            "colorscale": [
             [
              0,
              "#0d0887"
             ],
             [
              0.1111111111111111,
              "#46039f"
             ],
             [
              0.2222222222222222,
              "#7201a8"
             ],
             [
              0.3333333333333333,
              "#9c179e"
             ],
             [
              0.4444444444444444,
              "#bd3786"
             ],
             [
              0.5555555555555556,
              "#d8576b"
             ],
             [
              0.6666666666666666,
              "#ed7953"
             ],
             [
              0.7777777777777778,
              "#fb9f3a"
             ],
             [
              0.8888888888888888,
              "#fdca26"
             ],
             [
              1,
              "#f0f921"
             ]
            ],
            "type": "histogram2d"
           }
          ],
          "histogram2dcontour": [
           {
            "colorbar": {
             "outlinewidth": 0,
             "ticks": ""
            },
            "colorscale": [
             [
              0,
              "#0d0887"
             ],
             [
              0.1111111111111111,
              "#46039f"
             ],
             [
              0.2222222222222222,
              "#7201a8"
             ],
             [
              0.3333333333333333,
              "#9c179e"
             ],
             [
              0.4444444444444444,
              "#bd3786"
             ],
             [
              0.5555555555555556,
              "#d8576b"
             ],
             [
              0.6666666666666666,
              "#ed7953"
             ],
             [
              0.7777777777777778,
              "#fb9f3a"
             ],
             [
              0.8888888888888888,
              "#fdca26"
             ],
             [
              1,
              "#f0f921"
             ]
            ],
            "type": "histogram2dcontour"
           }
          ],
          "mesh3d": [
           {
            "colorbar": {
             "outlinewidth": 0,
             "ticks": ""
            },
            "type": "mesh3d"
           }
          ],
          "parcoords": [
           {
            "line": {
             "colorbar": {
              "outlinewidth": 0,
              "ticks": ""
             }
            },
            "type": "parcoords"
           }
          ],
          "pie": [
           {
            "automargin": true,
            "type": "pie"
           }
          ],
          "scatter": [
           {
            "fillpattern": {
             "fillmode": "overlay",
             "size": 10,
             "solidity": 0.2
            },
            "type": "scatter"
           }
          ],
          "scatter3d": [
           {
            "line": {
             "colorbar": {
              "outlinewidth": 0,
              "ticks": ""
             }
            },
            "marker": {
             "colorbar": {
              "outlinewidth": 0,
              "ticks": ""
             }
            },
            "type": "scatter3d"
           }
          ],
          "scattercarpet": [
           {
            "marker": {
             "colorbar": {
              "outlinewidth": 0,
              "ticks": ""
             }
            },
            "type": "scattercarpet"
           }
          ],
          "scattergeo": [
           {
            "marker": {
             "colorbar": {
              "outlinewidth": 0,
              "ticks": ""
             }
            },
            "type": "scattergeo"
           }
          ],
          "scattergl": [
           {
            "marker": {
             "colorbar": {
              "outlinewidth": 0,
              "ticks": ""
             }
            },
            "type": "scattergl"
           }
          ],
          "scattermapbox": [
           {
            "marker": {
             "colorbar": {
              "outlinewidth": 0,
              "ticks": ""
             }
            },
            "type": "scattermapbox"
           }
          ],
          "scatterpolar": [
           {
            "marker": {
             "colorbar": {
              "outlinewidth": 0,
              "ticks": ""
             }
            },
            "type": "scatterpolar"
           }
          ],
          "scatterpolargl": [
           {
            "marker": {
             "colorbar": {
              "outlinewidth": 0,
              "ticks": ""
             }
            },
            "type": "scatterpolargl"
           }
          ],
          "scatterternary": [
           {
            "marker": {
             "colorbar": {
              "outlinewidth": 0,
              "ticks": ""
             }
            },
            "type": "scatterternary"
           }
          ],
          "surface": [
           {
            "colorbar": {
             "outlinewidth": 0,
             "ticks": ""
            },
            "colorscale": [
             [
              0,
              "#0d0887"
             ],
             [
              0.1111111111111111,
              "#46039f"
             ],
             [
              0.2222222222222222,
              "#7201a8"
             ],
             [
              0.3333333333333333,
              "#9c179e"
             ],
             [
              0.4444444444444444,
              "#bd3786"
             ],
             [
              0.5555555555555556,
              "#d8576b"
             ],
             [
              0.6666666666666666,
              "#ed7953"
             ],
             [
              0.7777777777777778,
              "#fb9f3a"
             ],
             [
              0.8888888888888888,
              "#fdca26"
             ],
             [
              1,
              "#f0f921"
             ]
            ],
            "type": "surface"
           }
          ],
          "table": [
           {
            "cells": {
             "fill": {
              "color": "#EBF0F8"
             },
             "line": {
              "color": "white"
             }
            },
            "header": {
             "fill": {
              "color": "#C8D4E3"
             },
             "line": {
              "color": "white"
             }
            },
            "type": "table"
           }
          ]
         },
         "layout": {
          "annotationdefaults": {
           "arrowcolor": "#2a3f5f",
           "arrowhead": 0,
           "arrowwidth": 1
          },
          "autotypenumbers": "strict",
          "coloraxis": {
           "colorbar": {
            "outlinewidth": 0,
            "ticks": ""
           }
          },
          "colorscale": {
           "diverging": [
            [
             0,
             "#8e0152"
            ],
            [
             0.1,
             "#c51b7d"
            ],
            [
             0.2,
             "#de77ae"
            ],
            [
             0.3,
             "#f1b6da"
            ],
            [
             0.4,
             "#fde0ef"
            ],
            [
             0.5,
             "#f7f7f7"
            ],
            [
             0.6,
             "#e6f5d0"
            ],
            [
             0.7,
             "#b8e186"
            ],
            [
             0.8,
             "#7fbc41"
            ],
            [
             0.9,
             "#4d9221"
            ],
            [
             1,
             "#276419"
            ]
           ],
           "sequential": [
            [
             0,
             "#0d0887"
            ],
            [
             0.1111111111111111,
             "#46039f"
            ],
            [
             0.2222222222222222,
             "#7201a8"
            ],
            [
             0.3333333333333333,
             "#9c179e"
            ],
            [
             0.4444444444444444,
             "#bd3786"
            ],
            [
             0.5555555555555556,
             "#d8576b"
            ],
            [
             0.6666666666666666,
             "#ed7953"
            ],
            [
             0.7777777777777778,
             "#fb9f3a"
            ],
            [
             0.8888888888888888,
             "#fdca26"
            ],
            [
             1,
             "#f0f921"
            ]
           ],
           "sequentialminus": [
            [
             0,
             "#0d0887"
            ],
            [
             0.1111111111111111,
             "#46039f"
            ],
            [
             0.2222222222222222,
             "#7201a8"
            ],
            [
             0.3333333333333333,
             "#9c179e"
            ],
            [
             0.4444444444444444,
             "#bd3786"
            ],
            [
             0.5555555555555556,
             "#d8576b"
            ],
            [
             0.6666666666666666,
             "#ed7953"
            ],
            [
             0.7777777777777778,
             "#fb9f3a"
            ],
            [
             0.8888888888888888,
             "#fdca26"
            ],
            [
             1,
             "#f0f921"
            ]
           ]
          },
          "colorway": [
           "#636efa",
           "#EF553B",
           "#00cc96",
           "#ab63fa",
           "#FFA15A",
           "#19d3f3",
           "#FF6692",
           "#B6E880",
           "#FF97FF",
           "#FECB52"
          ],
          "font": {
           "color": "#2a3f5f"
          },
          "geo": {
           "bgcolor": "white",
           "lakecolor": "white",
           "landcolor": "#E5ECF6",
           "showlakes": true,
           "showland": true,
           "subunitcolor": "white"
          },
          "hoverlabel": {
           "align": "left"
          },
          "hovermode": "closest",
          "mapbox": {
           "style": "light"
          },
          "paper_bgcolor": "white",
          "plot_bgcolor": "#E5ECF6",
          "polar": {
           "angularaxis": {
            "gridcolor": "white",
            "linecolor": "white",
            "ticks": ""
           },
           "bgcolor": "#E5ECF6",
           "radialaxis": {
            "gridcolor": "white",
            "linecolor": "white",
            "ticks": ""
           }
          },
          "scene": {
           "xaxis": {
            "backgroundcolor": "#E5ECF6",
            "gridcolor": "white",
            "gridwidth": 2,
            "linecolor": "white",
            "showbackground": true,
            "ticks": "",
            "zerolinecolor": "white"
           },
           "yaxis": {
            "backgroundcolor": "#E5ECF6",
            "gridcolor": "white",
            "gridwidth": 2,
            "linecolor": "white",
            "showbackground": true,
            "ticks": "",
            "zerolinecolor": "white"
           },
           "zaxis": {
            "backgroundcolor": "#E5ECF6",
            "gridcolor": "white",
            "gridwidth": 2,
            "linecolor": "white",
            "showbackground": true,
            "ticks": "",
            "zerolinecolor": "white"
           }
          },
          "shapedefaults": {
           "line": {
            "color": "#2a3f5f"
           }
          },
          "ternary": {
           "aaxis": {
            "gridcolor": "white",
            "linecolor": "white",
            "ticks": ""
           },
           "baxis": {
            "gridcolor": "white",
            "linecolor": "white",
            "ticks": ""
           },
           "bgcolor": "#E5ECF6",
           "caxis": {
            "gridcolor": "white",
            "linecolor": "white",
            "ticks": ""
           }
          },
          "title": {
           "x": 0.05
          },
          "xaxis": {
           "automargin": true,
           "gridcolor": "white",
           "linecolor": "white",
           "ticks": "",
           "title": {
            "standoff": 15
           },
           "zerolinecolor": "white",
           "zerolinewidth": 2
          },
          "yaxis": {
           "automargin": true,
           "gridcolor": "white",
           "linecolor": "white",
           "ticks": "",
           "title": {
            "standoff": 15
           },
           "zerolinecolor": "white",
           "zerolinewidth": 2
          }
         }
        },
        "xaxis": {
         "rangeslider": {
          "visible": false
         }
        }
       }
      },
      "text/html": [
       "<div>                            <div id=\"ba0bb30b-f796-4b23-b6ff-4e3b6f6b28c9\" class=\"plotly-graph-div\" style=\"height:525px; width:100%;\"></div>            <script type=\"text/javascript\">                require([\"plotly\"], function(Plotly) {                    window.PLOTLYENV=window.PLOTLYENV || {};                                    if (document.getElementById(\"ba0bb30b-f796-4b23-b6ff-4e3b6f6b28c9\")) {                    Plotly.newPlot(                        \"ba0bb30b-f796-4b23-b6ff-4e3b6f6b28c9\",                        [{\"close\":[58295.0,58357.33,58466.77,58437.61,58491.22,58418.09,58463.95,58444.06,58373.79,58373.01,58392.81,58355.17,58351.74,58363.4,58319.42,58136.37,58084.54,58107.02,57897.95,57975.0,58021.28,58065.5,57998.82,58060.0,58049.42,58115.36,58149.81,58131.39,58085.09,58100.77],\"high\":[58295.0,58395.1,58495.0,58553.0,58520.0,58499.68,58495.0,58469.31,58449.37,58381.21,58397.36,58392.31,58367.31,58378.87,58365.66,58326.49,58190.75,58135.03,58180.47,57980.0,58036.63,58090.29,58063.99,58061.55,58070.7,58160.2,58161.0,58162.8,58150.0,58110.0],\"low\":[58265.16,58281.21,58340.01,58434.27,58435.41,58418.09,58417.18,58414.89,58366.64,58341.96,58356.97,58350.0,58350.15,58340.0,58314.86,58000.0,58000.0,58040.79,57638.72,57853.33,57953.45,58000.01,57919.02,57998.81,58016.52,58048.42,58072.4,58101.0,58070.2,58073.79],\"open\":[58280.79,58295.0,58357.33,58466.77,58437.6,58491.22,58418.1,58463.94,58444.07,58373.8,58373.01,58392.31,58355.18,58351.73,58363.4,58319.42,58137.35,58084.54,58107.01,57894.77,57975.0,58018.66,58063.99,57998.82,58060.13,58048.42,58115.36,58149.81,58131.99,58087.09],\"x\":[1,2,3,4,5,6,7,8,9,10,11,12,13,14,15,16,17,18,19,20,21,22,23,24,25,26,27,28,29,30],\"type\":\"ohlc\"}],                        {\"template\":{\"data\":{\"histogram2dcontour\":[{\"type\":\"histogram2dcontour\",\"colorbar\":{\"outlinewidth\":0,\"ticks\":\"\"},\"colorscale\":[[0.0,\"#0d0887\"],[0.1111111111111111,\"#46039f\"],[0.2222222222222222,\"#7201a8\"],[0.3333333333333333,\"#9c179e\"],[0.4444444444444444,\"#bd3786\"],[0.5555555555555556,\"#d8576b\"],[0.6666666666666666,\"#ed7953\"],[0.7777777777777778,\"#fb9f3a\"],[0.8888888888888888,\"#fdca26\"],[1.0,\"#f0f921\"]]}],\"choropleth\":[{\"type\":\"choropleth\",\"colorbar\":{\"outlinewidth\":0,\"ticks\":\"\"}}],\"histogram2d\":[{\"type\":\"histogram2d\",\"colorbar\":{\"outlinewidth\":0,\"ticks\":\"\"},\"colorscale\":[[0.0,\"#0d0887\"],[0.1111111111111111,\"#46039f\"],[0.2222222222222222,\"#7201a8\"],[0.3333333333333333,\"#9c179e\"],[0.4444444444444444,\"#bd3786\"],[0.5555555555555556,\"#d8576b\"],[0.6666666666666666,\"#ed7953\"],[0.7777777777777778,\"#fb9f3a\"],[0.8888888888888888,\"#fdca26\"],[1.0,\"#f0f921\"]]}],\"heatmap\":[{\"type\":\"heatmap\",\"colorbar\":{\"outlinewidth\":0,\"ticks\":\"\"},\"colorscale\":[[0.0,\"#0d0887\"],[0.1111111111111111,\"#46039f\"],[0.2222222222222222,\"#7201a8\"],[0.3333333333333333,\"#9c179e\"],[0.4444444444444444,\"#bd3786\"],[0.5555555555555556,\"#d8576b\"],[0.6666666666666666,\"#ed7953\"],[0.7777777777777778,\"#fb9f3a\"],[0.8888888888888888,\"#fdca26\"],[1.0,\"#f0f921\"]]}],\"heatmapgl\":[{\"type\":\"heatmapgl\",\"colorbar\":{\"outlinewidth\":0,\"ticks\":\"\"},\"colorscale\":[[0.0,\"#0d0887\"],[0.1111111111111111,\"#46039f\"],[0.2222222222222222,\"#7201a8\"],[0.3333333333333333,\"#9c179e\"],[0.4444444444444444,\"#bd3786\"],[0.5555555555555556,\"#d8576b\"],[0.6666666666666666,\"#ed7953\"],[0.7777777777777778,\"#fb9f3a\"],[0.8888888888888888,\"#fdca26\"],[1.0,\"#f0f921\"]]}],\"contourcarpet\":[{\"type\":\"contourcarpet\",\"colorbar\":{\"outlinewidth\":0,\"ticks\":\"\"}}],\"contour\":[{\"type\":\"contour\",\"colorbar\":{\"outlinewidth\":0,\"ticks\":\"\"},\"colorscale\":[[0.0,\"#0d0887\"],[0.1111111111111111,\"#46039f\"],[0.2222222222222222,\"#7201a8\"],[0.3333333333333333,\"#9c179e\"],[0.4444444444444444,\"#bd3786\"],[0.5555555555555556,\"#d8576b\"],[0.6666666666666666,\"#ed7953\"],[0.7777777777777778,\"#fb9f3a\"],[0.8888888888888888,\"#fdca26\"],[1.0,\"#f0f921\"]]}],\"surface\":[{\"type\":\"surface\",\"colorbar\":{\"outlinewidth\":0,\"ticks\":\"\"},\"colorscale\":[[0.0,\"#0d0887\"],[0.1111111111111111,\"#46039f\"],[0.2222222222222222,\"#7201a8\"],[0.3333333333333333,\"#9c179e\"],[0.4444444444444444,\"#bd3786\"],[0.5555555555555556,\"#d8576b\"],[0.6666666666666666,\"#ed7953\"],[0.7777777777777778,\"#fb9f3a\"],[0.8888888888888888,\"#fdca26\"],[1.0,\"#f0f921\"]]}],\"mesh3d\":[{\"type\":\"mesh3d\",\"colorbar\":{\"outlinewidth\":0,\"ticks\":\"\"}}],\"scatter\":[{\"fillpattern\":{\"fillmode\":\"overlay\",\"size\":10,\"solidity\":0.2},\"type\":\"scatter\"}],\"parcoords\":[{\"type\":\"parcoords\",\"line\":{\"colorbar\":{\"outlinewidth\":0,\"ticks\":\"\"}}}],\"scatterpolargl\":[{\"type\":\"scatterpolargl\",\"marker\":{\"colorbar\":{\"outlinewidth\":0,\"ticks\":\"\"}}}],\"bar\":[{\"error_x\":{\"color\":\"#2a3f5f\"},\"error_y\":{\"color\":\"#2a3f5f\"},\"marker\":{\"line\":{\"color\":\"#E5ECF6\",\"width\":0.5},\"pattern\":{\"fillmode\":\"overlay\",\"size\":10,\"solidity\":0.2}},\"type\":\"bar\"}],\"scattergeo\":[{\"type\":\"scattergeo\",\"marker\":{\"colorbar\":{\"outlinewidth\":0,\"ticks\":\"\"}}}],\"scatterpolar\":[{\"type\":\"scatterpolar\",\"marker\":{\"colorbar\":{\"outlinewidth\":0,\"ticks\":\"\"}}}],\"histogram\":[{\"marker\":{\"pattern\":{\"fillmode\":\"overlay\",\"size\":10,\"solidity\":0.2}},\"type\":\"histogram\"}],\"scattergl\":[{\"type\":\"scattergl\",\"marker\":{\"colorbar\":{\"outlinewidth\":0,\"ticks\":\"\"}}}],\"scatter3d\":[{\"type\":\"scatter3d\",\"line\":{\"colorbar\":{\"outlinewidth\":0,\"ticks\":\"\"}},\"marker\":{\"colorbar\":{\"outlinewidth\":0,\"ticks\":\"\"}}}],\"scattermapbox\":[{\"type\":\"scattermapbox\",\"marker\":{\"colorbar\":{\"outlinewidth\":0,\"ticks\":\"\"}}}],\"scatterternary\":[{\"type\":\"scatterternary\",\"marker\":{\"colorbar\":{\"outlinewidth\":0,\"ticks\":\"\"}}}],\"scattercarpet\":[{\"type\":\"scattercarpet\",\"marker\":{\"colorbar\":{\"outlinewidth\":0,\"ticks\":\"\"}}}],\"carpet\":[{\"aaxis\":{\"endlinecolor\":\"#2a3f5f\",\"gridcolor\":\"white\",\"linecolor\":\"white\",\"minorgridcolor\":\"white\",\"startlinecolor\":\"#2a3f5f\"},\"baxis\":{\"endlinecolor\":\"#2a3f5f\",\"gridcolor\":\"white\",\"linecolor\":\"white\",\"minorgridcolor\":\"white\",\"startlinecolor\":\"#2a3f5f\"},\"type\":\"carpet\"}],\"table\":[{\"cells\":{\"fill\":{\"color\":\"#EBF0F8\"},\"line\":{\"color\":\"white\"}},\"header\":{\"fill\":{\"color\":\"#C8D4E3\"},\"line\":{\"color\":\"white\"}},\"type\":\"table\"}],\"barpolar\":[{\"marker\":{\"line\":{\"color\":\"#E5ECF6\",\"width\":0.5},\"pattern\":{\"fillmode\":\"overlay\",\"size\":10,\"solidity\":0.2}},\"type\":\"barpolar\"}],\"pie\":[{\"automargin\":true,\"type\":\"pie\"}]},\"layout\":{\"autotypenumbers\":\"strict\",\"colorway\":[\"#636efa\",\"#EF553B\",\"#00cc96\",\"#ab63fa\",\"#FFA15A\",\"#19d3f3\",\"#FF6692\",\"#B6E880\",\"#FF97FF\",\"#FECB52\"],\"font\":{\"color\":\"#2a3f5f\"},\"hovermode\":\"closest\",\"hoverlabel\":{\"align\":\"left\"},\"paper_bgcolor\":\"white\",\"plot_bgcolor\":\"#E5ECF6\",\"polar\":{\"bgcolor\":\"#E5ECF6\",\"angularaxis\":{\"gridcolor\":\"white\",\"linecolor\":\"white\",\"ticks\":\"\"},\"radialaxis\":{\"gridcolor\":\"white\",\"linecolor\":\"white\",\"ticks\":\"\"}},\"ternary\":{\"bgcolor\":\"#E5ECF6\",\"aaxis\":{\"gridcolor\":\"white\",\"linecolor\":\"white\",\"ticks\":\"\"},\"baxis\":{\"gridcolor\":\"white\",\"linecolor\":\"white\",\"ticks\":\"\"},\"caxis\":{\"gridcolor\":\"white\",\"linecolor\":\"white\",\"ticks\":\"\"}},\"coloraxis\":{\"colorbar\":{\"outlinewidth\":0,\"ticks\":\"\"}},\"colorscale\":{\"sequential\":[[0.0,\"#0d0887\"],[0.1111111111111111,\"#46039f\"],[0.2222222222222222,\"#7201a8\"],[0.3333333333333333,\"#9c179e\"],[0.4444444444444444,\"#bd3786\"],[0.5555555555555556,\"#d8576b\"],[0.6666666666666666,\"#ed7953\"],[0.7777777777777778,\"#fb9f3a\"],[0.8888888888888888,\"#fdca26\"],[1.0,\"#f0f921\"]],\"sequentialminus\":[[0.0,\"#0d0887\"],[0.1111111111111111,\"#46039f\"],[0.2222222222222222,\"#7201a8\"],[0.3333333333333333,\"#9c179e\"],[0.4444444444444444,\"#bd3786\"],[0.5555555555555556,\"#d8576b\"],[0.6666666666666666,\"#ed7953\"],[0.7777777777777778,\"#fb9f3a\"],[0.8888888888888888,\"#fdca26\"],[1.0,\"#f0f921\"]],\"diverging\":[[0,\"#8e0152\"],[0.1,\"#c51b7d\"],[0.2,\"#de77ae\"],[0.3,\"#f1b6da\"],[0.4,\"#fde0ef\"],[0.5,\"#f7f7f7\"],[0.6,\"#e6f5d0\"],[0.7,\"#b8e186\"],[0.8,\"#7fbc41\"],[0.9,\"#4d9221\"],[1,\"#276419\"]]},\"xaxis\":{\"gridcolor\":\"white\",\"linecolor\":\"white\",\"ticks\":\"\",\"title\":{\"standoff\":15},\"zerolinecolor\":\"white\",\"automargin\":true,\"zerolinewidth\":2},\"yaxis\":{\"gridcolor\":\"white\",\"linecolor\":\"white\",\"ticks\":\"\",\"title\":{\"standoff\":15},\"zerolinecolor\":\"white\",\"automargin\":true,\"zerolinewidth\":2},\"scene\":{\"xaxis\":{\"backgroundcolor\":\"#E5ECF6\",\"gridcolor\":\"white\",\"linecolor\":\"white\",\"showbackground\":true,\"ticks\":\"\",\"zerolinecolor\":\"white\",\"gridwidth\":2},\"yaxis\":{\"backgroundcolor\":\"#E5ECF6\",\"gridcolor\":\"white\",\"linecolor\":\"white\",\"showbackground\":true,\"ticks\":\"\",\"zerolinecolor\":\"white\",\"gridwidth\":2},\"zaxis\":{\"backgroundcolor\":\"#E5ECF6\",\"gridcolor\":\"white\",\"linecolor\":\"white\",\"showbackground\":true,\"ticks\":\"\",\"zerolinecolor\":\"white\",\"gridwidth\":2}},\"shapedefaults\":{\"line\":{\"color\":\"#2a3f5f\"}},\"annotationdefaults\":{\"arrowcolor\":\"#2a3f5f\",\"arrowhead\":0,\"arrowwidth\":1},\"geo\":{\"bgcolor\":\"white\",\"landcolor\":\"#E5ECF6\",\"subunitcolor\":\"white\",\"showland\":true,\"showlakes\":true,\"lakecolor\":\"white\"},\"title\":{\"x\":0.05},\"mapbox\":{\"style\":\"light\"}}},\"xaxis\":{\"rangeslider\":{\"visible\":false}}},                        {\"responsive\": true}                    ).then(function(){\n",
       "                            \n",
       "var gd = document.getElementById('ba0bb30b-f796-4b23-b6ff-4e3b6f6b28c9');\n",
       "var x = new MutationObserver(function (mutations, observer) {{\n",
       "        var display = window.getComputedStyle(gd).display;\n",
       "        if (!display || display === 'none') {{\n",
       "            console.log([gd, 'removed!']);\n",
       "            Plotly.purge(gd);\n",
       "            observer.disconnect();\n",
       "        }}\n",
       "}});\n",
       "\n",
       "// Listen for the removal of the full notebook cells\n",
       "var notebookContainer = gd.closest('#notebook-container');\n",
       "if (notebookContainer) {{\n",
       "    x.observe(notebookContainer, {childList: true});\n",
       "}}\n",
       "\n",
       "// Listen for the clearing of the current output cell\n",
       "var outputEl = gd.closest('.output');\n",
       "if (outputEl) {{\n",
       "    x.observe(outputEl, {childList: true});\n",
       "}}\n",
       "\n",
       "                        })                };                });            </script>        </div>"
      ]
     },
     "metadata": {},
     "output_type": "display_data"
    },
    {
     "name": "stdout",
     "output_type": "stream",
     "text": [
      "94941\n",
      "0.9998294484248569 1.0072315759375372\n"
     ]
    },
    {
     "data": {
      "application/vnd.plotly.v1+json": {
       "config": {
        "plotlyServerURL": "https://plot.ly"
       },
       "data": [
        {
         "close": [
          31787.24,
          31861.17,
          31876.95,
          31887.41,
          31939.38,
          31938.76,
          31870.17,
          31864.6,
          31838.01,
          31825.94,
          31851.95,
          31830.86,
          31823.74,
          31822.31,
          31838.38,
          31867,
          31831.73,
          31820.01,
          31818.42,
          31826.2,
          31840.35,
          31807,
          31800.17,
          31794.13,
          31790.73,
          31812.29,
          31790.01,
          31799.4,
          31857.48,
          31838.01
         ],
         "high": [
          31789,
          31922.96,
          31894.4,
          31900,
          31950,
          31949.93,
          31938.76,
          31879.86,
          31865.99,
          31851.48,
          31864.15,
          31851.41,
          31837,
          31856.19,
          31850,
          31880.7,
          31870.83,
          31831.74,
          31839.81,
          31839.79,
          31846.42,
          31840.35,
          31807.59,
          31807.97,
          31798.29,
          31818.07,
          31813.12,
          31816,
          31860.25,
          31863
         ],
         "low": [
          31715.2,
          31768.11,
          31857.01,
          31873.36,
          31882.72,
          31916.62,
          31864.98,
          31857.24,
          31838,
          31820.25,
          31825.92,
          31829,
          31822.1,
          31820.46,
          31822.3,
          31831.26,
          31831.43,
          31820,
          31816.18,
          31811.72,
          31822.09,
          31807,
          31778.62,
          31791.39,
          31779.74,
          31790.74,
          31790,
          31782.61,
          31799.39,
          31831.1
         ],
         "open": [
          31720.61,
          31787.24,
          31861.17,
          31876.94,
          31887.41,
          31939.73,
          31938.76,
          31870.16,
          31864.6,
          31838,
          31825.92,
          31851.41,
          31830.86,
          31823.74,
          31822.31,
          31838.34,
          31867,
          31831.74,
          31820,
          31818.43,
          31826.21,
          31840.35,
          31806.94,
          31800.17,
          31795.51,
          31790.74,
          31812.28,
          31790.1,
          31799.4,
          31857.5
         ],
         "type": "ohlc",
         "x": [
          1,
          2,
          3,
          4,
          5,
          6,
          7,
          8,
          9,
          10,
          11,
          12,
          13,
          14,
          15,
          16,
          17,
          18,
          19,
          20,
          21,
          22,
          23,
          24,
          25,
          26,
          27,
          28,
          29,
          30
         ]
        }
       ],
       "layout": {
        "template": {
         "data": {
          "bar": [
           {
            "error_x": {
             "color": "#2a3f5f"
            },
            "error_y": {
             "color": "#2a3f5f"
            },
            "marker": {
             "line": {
              "color": "#E5ECF6",
              "width": 0.5
             },
             "pattern": {
              "fillmode": "overlay",
              "size": 10,
              "solidity": 0.2
             }
            },
            "type": "bar"
           }
          ],
          "barpolar": [
           {
            "marker": {
             "line": {
              "color": "#E5ECF6",
              "width": 0.5
             },
             "pattern": {
              "fillmode": "overlay",
              "size": 10,
              "solidity": 0.2
             }
            },
            "type": "barpolar"
           }
          ],
          "carpet": [
           {
            "aaxis": {
             "endlinecolor": "#2a3f5f",
             "gridcolor": "white",
             "linecolor": "white",
             "minorgridcolor": "white",
             "startlinecolor": "#2a3f5f"
            },
            "baxis": {
             "endlinecolor": "#2a3f5f",
             "gridcolor": "white",
             "linecolor": "white",
             "minorgridcolor": "white",
             "startlinecolor": "#2a3f5f"
            },
            "type": "carpet"
           }
          ],
          "choropleth": [
           {
            "colorbar": {
             "outlinewidth": 0,
             "ticks": ""
            },
            "type": "choropleth"
           }
          ],
          "contour": [
           {
            "colorbar": {
             "outlinewidth": 0,
             "ticks": ""
            },
            "colorscale": [
             [
              0,
              "#0d0887"
             ],
             [
              0.1111111111111111,
              "#46039f"
             ],
             [
              0.2222222222222222,
              "#7201a8"
             ],
             [
              0.3333333333333333,
              "#9c179e"
             ],
             [
              0.4444444444444444,
              "#bd3786"
             ],
             [
              0.5555555555555556,
              "#d8576b"
             ],
             [
              0.6666666666666666,
              "#ed7953"
             ],
             [
              0.7777777777777778,
              "#fb9f3a"
             ],
             [
              0.8888888888888888,
              "#fdca26"
             ],
             [
              1,
              "#f0f921"
             ]
            ],
            "type": "contour"
           }
          ],
          "contourcarpet": [
           {
            "colorbar": {
             "outlinewidth": 0,
             "ticks": ""
            },
            "type": "contourcarpet"
           }
          ],
          "heatmap": [
           {
            "colorbar": {
             "outlinewidth": 0,
             "ticks": ""
            },
            "colorscale": [
             [
              0,
              "#0d0887"
             ],
             [
              0.1111111111111111,
              "#46039f"
             ],
             [
              0.2222222222222222,
              "#7201a8"
             ],
             [
              0.3333333333333333,
              "#9c179e"
             ],
             [
              0.4444444444444444,
              "#bd3786"
             ],
             [
              0.5555555555555556,
              "#d8576b"
             ],
             [
              0.6666666666666666,
              "#ed7953"
             ],
             [
              0.7777777777777778,
              "#fb9f3a"
             ],
             [
              0.8888888888888888,
              "#fdca26"
             ],
             [
              1,
              "#f0f921"
             ]
            ],
            "type": "heatmap"
           }
          ],
          "heatmapgl": [
           {
            "colorbar": {
             "outlinewidth": 0,
             "ticks": ""
            },
            "colorscale": [
             [
              0,
              "#0d0887"
             ],
             [
              0.1111111111111111,
              "#46039f"
             ],
             [
              0.2222222222222222,
              "#7201a8"
             ],
             [
              0.3333333333333333,
              "#9c179e"
             ],
             [
              0.4444444444444444,
              "#bd3786"
             ],
             [
              0.5555555555555556,
              "#d8576b"
             ],
             [
              0.6666666666666666,
              "#ed7953"
             ],
             [
              0.7777777777777778,
              "#fb9f3a"
             ],
             [
              0.8888888888888888,
              "#fdca26"
             ],
             [
              1,
              "#f0f921"
             ]
            ],
            "type": "heatmapgl"
           }
          ],
          "histogram": [
           {
            "marker": {
             "pattern": {
              "fillmode": "overlay",
              "size": 10,
              "solidity": 0.2
             }
            },
            "type": "histogram"
           }
          ],
          "histogram2d": [
           {
            "colorbar": {
             "outlinewidth": 0,
             "ticks": ""
            },
            "colorscale": [
             [
              0,
              "#0d0887"
             ],
             [
              0.1111111111111111,
              "#46039f"
             ],
             [
              0.2222222222222222,
              "#7201a8"
             ],
             [
              0.3333333333333333,
              "#9c179e"
             ],
             [
              0.4444444444444444,
              "#bd3786"
             ],
             [
              0.5555555555555556,
              "#d8576b"
             ],
             [
              0.6666666666666666,
              "#ed7953"
             ],
             [
              0.7777777777777778,
              "#fb9f3a"
             ],
             [
              0.8888888888888888,
              "#fdca26"
             ],
             [
              1,
              "#f0f921"
             ]
            ],
            "type": "histogram2d"
           }
          ],
          "histogram2dcontour": [
           {
            "colorbar": {
             "outlinewidth": 0,
             "ticks": ""
            },
            "colorscale": [
             [
              0,
              "#0d0887"
             ],
             [
              0.1111111111111111,
              "#46039f"
             ],
             [
              0.2222222222222222,
              "#7201a8"
             ],
             [
              0.3333333333333333,
              "#9c179e"
             ],
             [
              0.4444444444444444,
              "#bd3786"
             ],
             [
              0.5555555555555556,
              "#d8576b"
             ],
             [
              0.6666666666666666,
              "#ed7953"
             ],
             [
              0.7777777777777778,
              "#fb9f3a"
             ],
             [
              0.8888888888888888,
              "#fdca26"
             ],
             [
              1,
              "#f0f921"
             ]
            ],
            "type": "histogram2dcontour"
           }
          ],
          "mesh3d": [
           {
            "colorbar": {
             "outlinewidth": 0,
             "ticks": ""
            },
            "type": "mesh3d"
           }
          ],
          "parcoords": [
           {
            "line": {
             "colorbar": {
              "outlinewidth": 0,
              "ticks": ""
             }
            },
            "type": "parcoords"
           }
          ],
          "pie": [
           {
            "automargin": true,
            "type": "pie"
           }
          ],
          "scatter": [
           {
            "fillpattern": {
             "fillmode": "overlay",
             "size": 10,
             "solidity": 0.2
            },
            "type": "scatter"
           }
          ],
          "scatter3d": [
           {
            "line": {
             "colorbar": {
              "outlinewidth": 0,
              "ticks": ""
             }
            },
            "marker": {
             "colorbar": {
              "outlinewidth": 0,
              "ticks": ""
             }
            },
            "type": "scatter3d"
           }
          ],
          "scattercarpet": [
           {
            "marker": {
             "colorbar": {
              "outlinewidth": 0,
              "ticks": ""
             }
            },
            "type": "scattercarpet"
           }
          ],
          "scattergeo": [
           {
            "marker": {
             "colorbar": {
              "outlinewidth": 0,
              "ticks": ""
             }
            },
            "type": "scattergeo"
           }
          ],
          "scattergl": [
           {
            "marker": {
             "colorbar": {
              "outlinewidth": 0,
              "ticks": ""
             }
            },
            "type": "scattergl"
           }
          ],
          "scattermapbox": [
           {
            "marker": {
             "colorbar": {
              "outlinewidth": 0,
              "ticks": ""
             }
            },
            "type": "scattermapbox"
           }
          ],
          "scatterpolar": [
           {
            "marker": {
             "colorbar": {
              "outlinewidth": 0,
              "ticks": ""
             }
            },
            "type": "scatterpolar"
           }
          ],
          "scatterpolargl": [
           {
            "marker": {
             "colorbar": {
              "outlinewidth": 0,
              "ticks": ""
             }
            },
            "type": "scatterpolargl"
           }
          ],
          "scatterternary": [
           {
            "marker": {
             "colorbar": {
              "outlinewidth": 0,
              "ticks": ""
             }
            },
            "type": "scatterternary"
           }
          ],
          "surface": [
           {
            "colorbar": {
             "outlinewidth": 0,
             "ticks": ""
            },
            "colorscale": [
             [
              0,
              "#0d0887"
             ],
             [
              0.1111111111111111,
              "#46039f"
             ],
             [
              0.2222222222222222,
              "#7201a8"
             ],
             [
              0.3333333333333333,
              "#9c179e"
             ],
             [
              0.4444444444444444,
              "#bd3786"
             ],
             [
              0.5555555555555556,
              "#d8576b"
             ],
             [
              0.6666666666666666,
              "#ed7953"
             ],
             [
              0.7777777777777778,
              "#fb9f3a"
             ],
             [
              0.8888888888888888,
              "#fdca26"
             ],
             [
              1,
              "#f0f921"
             ]
            ],
            "type": "surface"
           }
          ],
          "table": [
           {
            "cells": {
             "fill": {
              "color": "#EBF0F8"
             },
             "line": {
              "color": "white"
             }
            },
            "header": {
             "fill": {
              "color": "#C8D4E3"
             },
             "line": {
              "color": "white"
             }
            },
            "type": "table"
           }
          ]
         },
         "layout": {
          "annotationdefaults": {
           "arrowcolor": "#2a3f5f",
           "arrowhead": 0,
           "arrowwidth": 1
          },
          "autotypenumbers": "strict",
          "coloraxis": {
           "colorbar": {
            "outlinewidth": 0,
            "ticks": ""
           }
          },
          "colorscale": {
           "diverging": [
            [
             0,
             "#8e0152"
            ],
            [
             0.1,
             "#c51b7d"
            ],
            [
             0.2,
             "#de77ae"
            ],
            [
             0.3,
             "#f1b6da"
            ],
            [
             0.4,
             "#fde0ef"
            ],
            [
             0.5,
             "#f7f7f7"
            ],
            [
             0.6,
             "#e6f5d0"
            ],
            [
             0.7,
             "#b8e186"
            ],
            [
             0.8,
             "#7fbc41"
            ],
            [
             0.9,
             "#4d9221"
            ],
            [
             1,
             "#276419"
            ]
           ],
           "sequential": [
            [
             0,
             "#0d0887"
            ],
            [
             0.1111111111111111,
             "#46039f"
            ],
            [
             0.2222222222222222,
             "#7201a8"
            ],
            [
             0.3333333333333333,
             "#9c179e"
            ],
            [
             0.4444444444444444,
             "#bd3786"
            ],
            [
             0.5555555555555556,
             "#d8576b"
            ],
            [
             0.6666666666666666,
             "#ed7953"
            ],
            [
             0.7777777777777778,
             "#fb9f3a"
            ],
            [
             0.8888888888888888,
             "#fdca26"
            ],
            [
             1,
             "#f0f921"
            ]
           ],
           "sequentialminus": [
            [
             0,
             "#0d0887"
            ],
            [
             0.1111111111111111,
             "#46039f"
            ],
            [
             0.2222222222222222,
             "#7201a8"
            ],
            [
             0.3333333333333333,
             "#9c179e"
            ],
            [
             0.4444444444444444,
             "#bd3786"
            ],
            [
             0.5555555555555556,
             "#d8576b"
            ],
            [
             0.6666666666666666,
             "#ed7953"
            ],
            [
             0.7777777777777778,
             "#fb9f3a"
            ],
            [
             0.8888888888888888,
             "#fdca26"
            ],
            [
             1,
             "#f0f921"
            ]
           ]
          },
          "colorway": [
           "#636efa",
           "#EF553B",
           "#00cc96",
           "#ab63fa",
           "#FFA15A",
           "#19d3f3",
           "#FF6692",
           "#B6E880",
           "#FF97FF",
           "#FECB52"
          ],
          "font": {
           "color": "#2a3f5f"
          },
          "geo": {
           "bgcolor": "white",
           "lakecolor": "white",
           "landcolor": "#E5ECF6",
           "showlakes": true,
           "showland": true,
           "subunitcolor": "white"
          },
          "hoverlabel": {
           "align": "left"
          },
          "hovermode": "closest",
          "mapbox": {
           "style": "light"
          },
          "paper_bgcolor": "white",
          "plot_bgcolor": "#E5ECF6",
          "polar": {
           "angularaxis": {
            "gridcolor": "white",
            "linecolor": "white",
            "ticks": ""
           },
           "bgcolor": "#E5ECF6",
           "radialaxis": {
            "gridcolor": "white",
            "linecolor": "white",
            "ticks": ""
           }
          },
          "scene": {
           "xaxis": {
            "backgroundcolor": "#E5ECF6",
            "gridcolor": "white",
            "gridwidth": 2,
            "linecolor": "white",
            "showbackground": true,
            "ticks": "",
            "zerolinecolor": "white"
           },
           "yaxis": {
            "backgroundcolor": "#E5ECF6",
            "gridcolor": "white",
            "gridwidth": 2,
            "linecolor": "white",
            "showbackground": true,
            "ticks": "",
            "zerolinecolor": "white"
           },
           "zaxis": {
            "backgroundcolor": "#E5ECF6",
            "gridcolor": "white",
            "gridwidth": 2,
            "linecolor": "white",
            "showbackground": true,
            "ticks": "",
            "zerolinecolor": "white"
           }
          },
          "shapedefaults": {
           "line": {
            "color": "#2a3f5f"
           }
          },
          "ternary": {
           "aaxis": {
            "gridcolor": "white",
            "linecolor": "white",
            "ticks": ""
           },
           "baxis": {
            "gridcolor": "white",
            "linecolor": "white",
            "ticks": ""
           },
           "bgcolor": "#E5ECF6",
           "caxis": {
            "gridcolor": "white",
            "linecolor": "white",
            "ticks": ""
           }
          },
          "title": {
           "x": 0.05
          },
          "xaxis": {
           "automargin": true,
           "gridcolor": "white",
           "linecolor": "white",
           "ticks": "",
           "title": {
            "standoff": 15
           },
           "zerolinecolor": "white",
           "zerolinewidth": 2
          },
          "yaxis": {
           "automargin": true,
           "gridcolor": "white",
           "linecolor": "white",
           "ticks": "",
           "title": {
            "standoff": 15
           },
           "zerolinecolor": "white",
           "zerolinewidth": 2
          }
         }
        },
        "xaxis": {
         "rangeslider": {
          "visible": false
         }
        }
       }
      },
      "text/html": [
       "<div>                            <div id=\"ddc0f7cc-8878-4230-8478-7e41750769dd\" class=\"plotly-graph-div\" style=\"height:525px; width:100%;\"></div>            <script type=\"text/javascript\">                require([\"plotly\"], function(Plotly) {                    window.PLOTLYENV=window.PLOTLYENV || {};                                    if (document.getElementById(\"ddc0f7cc-8878-4230-8478-7e41750769dd\")) {                    Plotly.newPlot(                        \"ddc0f7cc-8878-4230-8478-7e41750769dd\",                        [{\"close\":[31787.24,31861.17,31876.95,31887.41,31939.38,31938.76,31870.17,31864.6,31838.01,31825.94,31851.95,31830.86,31823.74,31822.31,31838.38,31867.0,31831.73,31820.01,31818.42,31826.2,31840.35,31807.0,31800.17,31794.13,31790.73,31812.29,31790.01,31799.4,31857.48,31838.01],\"high\":[31789.0,31922.96,31894.4,31900.0,31950.0,31949.93,31938.76,31879.86,31865.99,31851.48,31864.15,31851.41,31837.0,31856.19,31850.0,31880.7,31870.83,31831.74,31839.81,31839.79,31846.42,31840.35,31807.59,31807.97,31798.29,31818.07,31813.12,31816.0,31860.25,31863.0],\"low\":[31715.2,31768.11,31857.01,31873.36,31882.72,31916.62,31864.98,31857.24,31838.0,31820.25,31825.92,31829.0,31822.1,31820.46,31822.3,31831.26,31831.43,31820.0,31816.18,31811.72,31822.09,31807.0,31778.62,31791.39,31779.74,31790.74,31790.0,31782.61,31799.39,31831.1],\"open\":[31720.61,31787.24,31861.17,31876.94,31887.41,31939.73,31938.76,31870.16,31864.6,31838.0,31825.92,31851.41,31830.86,31823.74,31822.31,31838.34,31867.0,31831.74,31820.0,31818.43,31826.21,31840.35,31806.94,31800.17,31795.51,31790.74,31812.28,31790.1,31799.4,31857.5],\"x\":[1,2,3,4,5,6,7,8,9,10,11,12,13,14,15,16,17,18,19,20,21,22,23,24,25,26,27,28,29,30],\"type\":\"ohlc\"}],                        {\"template\":{\"data\":{\"histogram2dcontour\":[{\"type\":\"histogram2dcontour\",\"colorbar\":{\"outlinewidth\":0,\"ticks\":\"\"},\"colorscale\":[[0.0,\"#0d0887\"],[0.1111111111111111,\"#46039f\"],[0.2222222222222222,\"#7201a8\"],[0.3333333333333333,\"#9c179e\"],[0.4444444444444444,\"#bd3786\"],[0.5555555555555556,\"#d8576b\"],[0.6666666666666666,\"#ed7953\"],[0.7777777777777778,\"#fb9f3a\"],[0.8888888888888888,\"#fdca26\"],[1.0,\"#f0f921\"]]}],\"choropleth\":[{\"type\":\"choropleth\",\"colorbar\":{\"outlinewidth\":0,\"ticks\":\"\"}}],\"histogram2d\":[{\"type\":\"histogram2d\",\"colorbar\":{\"outlinewidth\":0,\"ticks\":\"\"},\"colorscale\":[[0.0,\"#0d0887\"],[0.1111111111111111,\"#46039f\"],[0.2222222222222222,\"#7201a8\"],[0.3333333333333333,\"#9c179e\"],[0.4444444444444444,\"#bd3786\"],[0.5555555555555556,\"#d8576b\"],[0.6666666666666666,\"#ed7953\"],[0.7777777777777778,\"#fb9f3a\"],[0.8888888888888888,\"#fdca26\"],[1.0,\"#f0f921\"]]}],\"heatmap\":[{\"type\":\"heatmap\",\"colorbar\":{\"outlinewidth\":0,\"ticks\":\"\"},\"colorscale\":[[0.0,\"#0d0887\"],[0.1111111111111111,\"#46039f\"],[0.2222222222222222,\"#7201a8\"],[0.3333333333333333,\"#9c179e\"],[0.4444444444444444,\"#bd3786\"],[0.5555555555555556,\"#d8576b\"],[0.6666666666666666,\"#ed7953\"],[0.7777777777777778,\"#fb9f3a\"],[0.8888888888888888,\"#fdca26\"],[1.0,\"#f0f921\"]]}],\"heatmapgl\":[{\"type\":\"heatmapgl\",\"colorbar\":{\"outlinewidth\":0,\"ticks\":\"\"},\"colorscale\":[[0.0,\"#0d0887\"],[0.1111111111111111,\"#46039f\"],[0.2222222222222222,\"#7201a8\"],[0.3333333333333333,\"#9c179e\"],[0.4444444444444444,\"#bd3786\"],[0.5555555555555556,\"#d8576b\"],[0.6666666666666666,\"#ed7953\"],[0.7777777777777778,\"#fb9f3a\"],[0.8888888888888888,\"#fdca26\"],[1.0,\"#f0f921\"]]}],\"contourcarpet\":[{\"type\":\"contourcarpet\",\"colorbar\":{\"outlinewidth\":0,\"ticks\":\"\"}}],\"contour\":[{\"type\":\"contour\",\"colorbar\":{\"outlinewidth\":0,\"ticks\":\"\"},\"colorscale\":[[0.0,\"#0d0887\"],[0.1111111111111111,\"#46039f\"],[0.2222222222222222,\"#7201a8\"],[0.3333333333333333,\"#9c179e\"],[0.4444444444444444,\"#bd3786\"],[0.5555555555555556,\"#d8576b\"],[0.6666666666666666,\"#ed7953\"],[0.7777777777777778,\"#fb9f3a\"],[0.8888888888888888,\"#fdca26\"],[1.0,\"#f0f921\"]]}],\"surface\":[{\"type\":\"surface\",\"colorbar\":{\"outlinewidth\":0,\"ticks\":\"\"},\"colorscale\":[[0.0,\"#0d0887\"],[0.1111111111111111,\"#46039f\"],[0.2222222222222222,\"#7201a8\"],[0.3333333333333333,\"#9c179e\"],[0.4444444444444444,\"#bd3786\"],[0.5555555555555556,\"#d8576b\"],[0.6666666666666666,\"#ed7953\"],[0.7777777777777778,\"#fb9f3a\"],[0.8888888888888888,\"#fdca26\"],[1.0,\"#f0f921\"]]}],\"mesh3d\":[{\"type\":\"mesh3d\",\"colorbar\":{\"outlinewidth\":0,\"ticks\":\"\"}}],\"scatter\":[{\"fillpattern\":{\"fillmode\":\"overlay\",\"size\":10,\"solidity\":0.2},\"type\":\"scatter\"}],\"parcoords\":[{\"type\":\"parcoords\",\"line\":{\"colorbar\":{\"outlinewidth\":0,\"ticks\":\"\"}}}],\"scatterpolargl\":[{\"type\":\"scatterpolargl\",\"marker\":{\"colorbar\":{\"outlinewidth\":0,\"ticks\":\"\"}}}],\"bar\":[{\"error_x\":{\"color\":\"#2a3f5f\"},\"error_y\":{\"color\":\"#2a3f5f\"},\"marker\":{\"line\":{\"color\":\"#E5ECF6\",\"width\":0.5},\"pattern\":{\"fillmode\":\"overlay\",\"size\":10,\"solidity\":0.2}},\"type\":\"bar\"}],\"scattergeo\":[{\"type\":\"scattergeo\",\"marker\":{\"colorbar\":{\"outlinewidth\":0,\"ticks\":\"\"}}}],\"scatterpolar\":[{\"type\":\"scatterpolar\",\"marker\":{\"colorbar\":{\"outlinewidth\":0,\"ticks\":\"\"}}}],\"histogram\":[{\"marker\":{\"pattern\":{\"fillmode\":\"overlay\",\"size\":10,\"solidity\":0.2}},\"type\":\"histogram\"}],\"scattergl\":[{\"type\":\"scattergl\",\"marker\":{\"colorbar\":{\"outlinewidth\":0,\"ticks\":\"\"}}}],\"scatter3d\":[{\"type\":\"scatter3d\",\"line\":{\"colorbar\":{\"outlinewidth\":0,\"ticks\":\"\"}},\"marker\":{\"colorbar\":{\"outlinewidth\":0,\"ticks\":\"\"}}}],\"scattermapbox\":[{\"type\":\"scattermapbox\",\"marker\":{\"colorbar\":{\"outlinewidth\":0,\"ticks\":\"\"}}}],\"scatterternary\":[{\"type\":\"scatterternary\",\"marker\":{\"colorbar\":{\"outlinewidth\":0,\"ticks\":\"\"}}}],\"scattercarpet\":[{\"type\":\"scattercarpet\",\"marker\":{\"colorbar\":{\"outlinewidth\":0,\"ticks\":\"\"}}}],\"carpet\":[{\"aaxis\":{\"endlinecolor\":\"#2a3f5f\",\"gridcolor\":\"white\",\"linecolor\":\"white\",\"minorgridcolor\":\"white\",\"startlinecolor\":\"#2a3f5f\"},\"baxis\":{\"endlinecolor\":\"#2a3f5f\",\"gridcolor\":\"white\",\"linecolor\":\"white\",\"minorgridcolor\":\"white\",\"startlinecolor\":\"#2a3f5f\"},\"type\":\"carpet\"}],\"table\":[{\"cells\":{\"fill\":{\"color\":\"#EBF0F8\"},\"line\":{\"color\":\"white\"}},\"header\":{\"fill\":{\"color\":\"#C8D4E3\"},\"line\":{\"color\":\"white\"}},\"type\":\"table\"}],\"barpolar\":[{\"marker\":{\"line\":{\"color\":\"#E5ECF6\",\"width\":0.5},\"pattern\":{\"fillmode\":\"overlay\",\"size\":10,\"solidity\":0.2}},\"type\":\"barpolar\"}],\"pie\":[{\"automargin\":true,\"type\":\"pie\"}]},\"layout\":{\"autotypenumbers\":\"strict\",\"colorway\":[\"#636efa\",\"#EF553B\",\"#00cc96\",\"#ab63fa\",\"#FFA15A\",\"#19d3f3\",\"#FF6692\",\"#B6E880\",\"#FF97FF\",\"#FECB52\"],\"font\":{\"color\":\"#2a3f5f\"},\"hovermode\":\"closest\",\"hoverlabel\":{\"align\":\"left\"},\"paper_bgcolor\":\"white\",\"plot_bgcolor\":\"#E5ECF6\",\"polar\":{\"bgcolor\":\"#E5ECF6\",\"angularaxis\":{\"gridcolor\":\"white\",\"linecolor\":\"white\",\"ticks\":\"\"},\"radialaxis\":{\"gridcolor\":\"white\",\"linecolor\":\"white\",\"ticks\":\"\"}},\"ternary\":{\"bgcolor\":\"#E5ECF6\",\"aaxis\":{\"gridcolor\":\"white\",\"linecolor\":\"white\",\"ticks\":\"\"},\"baxis\":{\"gridcolor\":\"white\",\"linecolor\":\"white\",\"ticks\":\"\"},\"caxis\":{\"gridcolor\":\"white\",\"linecolor\":\"white\",\"ticks\":\"\"}},\"coloraxis\":{\"colorbar\":{\"outlinewidth\":0,\"ticks\":\"\"}},\"colorscale\":{\"sequential\":[[0.0,\"#0d0887\"],[0.1111111111111111,\"#46039f\"],[0.2222222222222222,\"#7201a8\"],[0.3333333333333333,\"#9c179e\"],[0.4444444444444444,\"#bd3786\"],[0.5555555555555556,\"#d8576b\"],[0.6666666666666666,\"#ed7953\"],[0.7777777777777778,\"#fb9f3a\"],[0.8888888888888888,\"#fdca26\"],[1.0,\"#f0f921\"]],\"sequentialminus\":[[0.0,\"#0d0887\"],[0.1111111111111111,\"#46039f\"],[0.2222222222222222,\"#7201a8\"],[0.3333333333333333,\"#9c179e\"],[0.4444444444444444,\"#bd3786\"],[0.5555555555555556,\"#d8576b\"],[0.6666666666666666,\"#ed7953\"],[0.7777777777777778,\"#fb9f3a\"],[0.8888888888888888,\"#fdca26\"],[1.0,\"#f0f921\"]],\"diverging\":[[0,\"#8e0152\"],[0.1,\"#c51b7d\"],[0.2,\"#de77ae\"],[0.3,\"#f1b6da\"],[0.4,\"#fde0ef\"],[0.5,\"#f7f7f7\"],[0.6,\"#e6f5d0\"],[0.7,\"#b8e186\"],[0.8,\"#7fbc41\"],[0.9,\"#4d9221\"],[1,\"#276419\"]]},\"xaxis\":{\"gridcolor\":\"white\",\"linecolor\":\"white\",\"ticks\":\"\",\"title\":{\"standoff\":15},\"zerolinecolor\":\"white\",\"automargin\":true,\"zerolinewidth\":2},\"yaxis\":{\"gridcolor\":\"white\",\"linecolor\":\"white\",\"ticks\":\"\",\"title\":{\"standoff\":15},\"zerolinecolor\":\"white\",\"automargin\":true,\"zerolinewidth\":2},\"scene\":{\"xaxis\":{\"backgroundcolor\":\"#E5ECF6\",\"gridcolor\":\"white\",\"linecolor\":\"white\",\"showbackground\":true,\"ticks\":\"\",\"zerolinecolor\":\"white\",\"gridwidth\":2},\"yaxis\":{\"backgroundcolor\":\"#E5ECF6\",\"gridcolor\":\"white\",\"linecolor\":\"white\",\"showbackground\":true,\"ticks\":\"\",\"zerolinecolor\":\"white\",\"gridwidth\":2},\"zaxis\":{\"backgroundcolor\":\"#E5ECF6\",\"gridcolor\":\"white\",\"linecolor\":\"white\",\"showbackground\":true,\"ticks\":\"\",\"zerolinecolor\":\"white\",\"gridwidth\":2}},\"shapedefaults\":{\"line\":{\"color\":\"#2a3f5f\"}},\"annotationdefaults\":{\"arrowcolor\":\"#2a3f5f\",\"arrowhead\":0,\"arrowwidth\":1},\"geo\":{\"bgcolor\":\"white\",\"landcolor\":\"#E5ECF6\",\"subunitcolor\":\"white\",\"showland\":true,\"showlakes\":true,\"lakecolor\":\"white\"},\"title\":{\"x\":0.05},\"mapbox\":{\"style\":\"light\"}}},\"xaxis\":{\"rangeslider\":{\"visible\":false}}},                        {\"responsive\": true}                    ).then(function(){\n",
       "                            \n",
       "var gd = document.getElementById('ddc0f7cc-8878-4230-8478-7e41750769dd');\n",
       "var x = new MutationObserver(function (mutations, observer) {{\n",
       "        var display = window.getComputedStyle(gd).display;\n",
       "        if (!display || display === 'none') {{\n",
       "            console.log([gd, 'removed!']);\n",
       "            Plotly.purge(gd);\n",
       "            observer.disconnect();\n",
       "        }}\n",
       "}});\n",
       "\n",
       "// Listen for the removal of the full notebook cells\n",
       "var notebookContainer = gd.closest('#notebook-container');\n",
       "if (notebookContainer) {{\n",
       "    x.observe(notebookContainer, {childList: true});\n",
       "}}\n",
       "\n",
       "// Listen for the clearing of the current output cell\n",
       "var outputEl = gd.closest('.output');\n",
       "if (outputEl) {{\n",
       "    x.observe(outputEl, {childList: true});\n",
       "}}\n",
       "\n",
       "                        })                };                });            </script>        </div>"
      ]
     },
     "metadata": {},
     "output_type": "display_data"
    },
    {
     "name": "stdout",
     "output_type": "stream",
     "text": [
      "110969\n",
      "0.9960351969945918 1.000343840091275\n"
     ]
    },
    {
     "data": {
      "application/vnd.plotly.v1+json": {
       "config": {
        "plotlyServerURL": "https://plot.ly"
       },
       "data": [
        {
         "close": [
          66736.46,
          66739.99,
          66708,
          66690.54,
          66713.97,
          66711.93,
          66695.81,
          66670.9,
          66680.28,
          66682.22,
          66592.61,
          66588.68,
          66552.75,
          66549.42,
          66519.13,
          66505.17,
          66465.01,
          66495.48,
          66488.25,
          66482.13,
          66471.73,
          66510,
          66530,
          66550,
          66549.95,
          66547.58,
          66549.53,
          66539.02,
          66481.98,
          66481.65
         ],
         "high": [
          66738,
          66740,
          66740,
          66720,
          66720,
          66722.83,
          66715.48,
          66695.82,
          66690,
          66689.42,
          66683.18,
          66639.53,
          66588.68,
          66573.87,
          66550.14,
          66523.04,
          66505.18,
          66497,
          66501.78,
          66498.13,
          66485.41,
          66510,
          66530,
          66550,
          66557,
          66570,
          66549.98,
          66569.96,
          66539.02,
          66508.8
         ],
         "low": [
          66717.05,
          66724.72,
          66708,
          66687.01,
          66673.45,
          66692.25,
          66686,
          66661.6,
          66657.4,
          66673.38,
          66588.34,
          66586.81,
          66536.08,
          66511.16,
          66516.44,
          66460,
          66452.54,
          66464.62,
          66482.44,
          66480.41,
          66457.03,
          66470.42,
          66509.99,
          66527,
          66545.34,
          66539.99,
          66536.47,
          66539.02,
          66460.77,
          66474.19
         ],
         "open": [
          66717.06,
          66729.78,
          66739.99,
          66708,
          66690.55,
          66713.97,
          66711.94,
          66695.81,
          66670.91,
          66680.29,
          66682.22,
          66592.61,
          66588.68,
          66552.75,
          66549.42,
          66519.13,
          66505.18,
          66465,
          66495.48,
          66488.25,
          66482.13,
          66471.74,
          66509.99,
          66530,
          66550,
          66549.94,
          66547.57,
          66549.54,
          66539.01,
          66481.98
         ],
         "type": "ohlc",
         "x": [
          1,
          2,
          3,
          4,
          5,
          6,
          7,
          8,
          9,
          10,
          11,
          12,
          13,
          14,
          15,
          16,
          17,
          18,
          19,
          20,
          21,
          22,
          23,
          24,
          25,
          26,
          27,
          28,
          29,
          30
         ]
        }
       ],
       "layout": {
        "template": {
         "data": {
          "bar": [
           {
            "error_x": {
             "color": "#2a3f5f"
            },
            "error_y": {
             "color": "#2a3f5f"
            },
            "marker": {
             "line": {
              "color": "#E5ECF6",
              "width": 0.5
             },
             "pattern": {
              "fillmode": "overlay",
              "size": 10,
              "solidity": 0.2
             }
            },
            "type": "bar"
           }
          ],
          "barpolar": [
           {
            "marker": {
             "line": {
              "color": "#E5ECF6",
              "width": 0.5
             },
             "pattern": {
              "fillmode": "overlay",
              "size": 10,
              "solidity": 0.2
             }
            },
            "type": "barpolar"
           }
          ],
          "carpet": [
           {
            "aaxis": {
             "endlinecolor": "#2a3f5f",
             "gridcolor": "white",
             "linecolor": "white",
             "minorgridcolor": "white",
             "startlinecolor": "#2a3f5f"
            },
            "baxis": {
             "endlinecolor": "#2a3f5f",
             "gridcolor": "white",
             "linecolor": "white",
             "minorgridcolor": "white",
             "startlinecolor": "#2a3f5f"
            },
            "type": "carpet"
           }
          ],
          "choropleth": [
           {
            "colorbar": {
             "outlinewidth": 0,
             "ticks": ""
            },
            "type": "choropleth"
           }
          ],
          "contour": [
           {
            "colorbar": {
             "outlinewidth": 0,
             "ticks": ""
            },
            "colorscale": [
             [
              0,
              "#0d0887"
             ],
             [
              0.1111111111111111,
              "#46039f"
             ],
             [
              0.2222222222222222,
              "#7201a8"
             ],
             [
              0.3333333333333333,
              "#9c179e"
             ],
             [
              0.4444444444444444,
              "#bd3786"
             ],
             [
              0.5555555555555556,
              "#d8576b"
             ],
             [
              0.6666666666666666,
              "#ed7953"
             ],
             [
              0.7777777777777778,
              "#fb9f3a"
             ],
             [
              0.8888888888888888,
              "#fdca26"
             ],
             [
              1,
              "#f0f921"
             ]
            ],
            "type": "contour"
           }
          ],
          "contourcarpet": [
           {
            "colorbar": {
             "outlinewidth": 0,
             "ticks": ""
            },
            "type": "contourcarpet"
           }
          ],
          "heatmap": [
           {
            "colorbar": {
             "outlinewidth": 0,
             "ticks": ""
            },
            "colorscale": [
             [
              0,
              "#0d0887"
             ],
             [
              0.1111111111111111,
              "#46039f"
             ],
             [
              0.2222222222222222,
              "#7201a8"
             ],
             [
              0.3333333333333333,
              "#9c179e"
             ],
             [
              0.4444444444444444,
              "#bd3786"
             ],
             [
              0.5555555555555556,
              "#d8576b"
             ],
             [
              0.6666666666666666,
              "#ed7953"
             ],
             [
              0.7777777777777778,
              "#fb9f3a"
             ],
             [
              0.8888888888888888,
              "#fdca26"
             ],
             [
              1,
              "#f0f921"
             ]
            ],
            "type": "heatmap"
           }
          ],
          "heatmapgl": [
           {
            "colorbar": {
             "outlinewidth": 0,
             "ticks": ""
            },
            "colorscale": [
             [
              0,
              "#0d0887"
             ],
             [
              0.1111111111111111,
              "#46039f"
             ],
             [
              0.2222222222222222,
              "#7201a8"
             ],
             [
              0.3333333333333333,
              "#9c179e"
             ],
             [
              0.4444444444444444,
              "#bd3786"
             ],
             [
              0.5555555555555556,
              "#d8576b"
             ],
             [
              0.6666666666666666,
              "#ed7953"
             ],
             [
              0.7777777777777778,
              "#fb9f3a"
             ],
             [
              0.8888888888888888,
              "#fdca26"
             ],
             [
              1,
              "#f0f921"
             ]
            ],
            "type": "heatmapgl"
           }
          ],
          "histogram": [
           {
            "marker": {
             "pattern": {
              "fillmode": "overlay",
              "size": 10,
              "solidity": 0.2
             }
            },
            "type": "histogram"
           }
          ],
          "histogram2d": [
           {
            "colorbar": {
             "outlinewidth": 0,
             "ticks": ""
            },
            "colorscale": [
             [
              0,
              "#0d0887"
             ],
             [
              0.1111111111111111,
              "#46039f"
             ],
             [
              0.2222222222222222,
              "#7201a8"
             ],
             [
              0.3333333333333333,
              "#9c179e"
             ],
             [
              0.4444444444444444,
              "#bd3786"
             ],
             [
              0.5555555555555556,
              "#d8576b"
             ],
             [
              0.6666666666666666,
              "#ed7953"
             ],
             [
              0.7777777777777778,
              "#fb9f3a"
             ],
             [
              0.8888888888888888,
              "#fdca26"
             ],
             [
              1,
              "#f0f921"
             ]
            ],
            "type": "histogram2d"
           }
          ],
          "histogram2dcontour": [
           {
            "colorbar": {
             "outlinewidth": 0,
             "ticks": ""
            },
            "colorscale": [
             [
              0,
              "#0d0887"
             ],
             [
              0.1111111111111111,
              "#46039f"
             ],
             [
              0.2222222222222222,
              "#7201a8"
             ],
             [
              0.3333333333333333,
              "#9c179e"
             ],
             [
              0.4444444444444444,
              "#bd3786"
             ],
             [
              0.5555555555555556,
              "#d8576b"
             ],
             [
              0.6666666666666666,
              "#ed7953"
             ],
             [
              0.7777777777777778,
              "#fb9f3a"
             ],
             [
              0.8888888888888888,
              "#fdca26"
             ],
             [
              1,
              "#f0f921"
             ]
            ],
            "type": "histogram2dcontour"
           }
          ],
          "mesh3d": [
           {
            "colorbar": {
             "outlinewidth": 0,
             "ticks": ""
            },
            "type": "mesh3d"
           }
          ],
          "parcoords": [
           {
            "line": {
             "colorbar": {
              "outlinewidth": 0,
              "ticks": ""
             }
            },
            "type": "parcoords"
           }
          ],
          "pie": [
           {
            "automargin": true,
            "type": "pie"
           }
          ],
          "scatter": [
           {
            "fillpattern": {
             "fillmode": "overlay",
             "size": 10,
             "solidity": 0.2
            },
            "type": "scatter"
           }
          ],
          "scatter3d": [
           {
            "line": {
             "colorbar": {
              "outlinewidth": 0,
              "ticks": ""
             }
            },
            "marker": {
             "colorbar": {
              "outlinewidth": 0,
              "ticks": ""
             }
            },
            "type": "scatter3d"
           }
          ],
          "scattercarpet": [
           {
            "marker": {
             "colorbar": {
              "outlinewidth": 0,
              "ticks": ""
             }
            },
            "type": "scattercarpet"
           }
          ],
          "scattergeo": [
           {
            "marker": {
             "colorbar": {
              "outlinewidth": 0,
              "ticks": ""
             }
            },
            "type": "scattergeo"
           }
          ],
          "scattergl": [
           {
            "marker": {
             "colorbar": {
              "outlinewidth": 0,
              "ticks": ""
             }
            },
            "type": "scattergl"
           }
          ],
          "scattermapbox": [
           {
            "marker": {
             "colorbar": {
              "outlinewidth": 0,
              "ticks": ""
             }
            },
            "type": "scattermapbox"
           }
          ],
          "scatterpolar": [
           {
            "marker": {
             "colorbar": {
              "outlinewidth": 0,
              "ticks": ""
             }
            },
            "type": "scatterpolar"
           }
          ],
          "scatterpolargl": [
           {
            "marker": {
             "colorbar": {
              "outlinewidth": 0,
              "ticks": ""
             }
            },
            "type": "scatterpolargl"
           }
          ],
          "scatterternary": [
           {
            "marker": {
             "colorbar": {
              "outlinewidth": 0,
              "ticks": ""
             }
            },
            "type": "scatterternary"
           }
          ],
          "surface": [
           {
            "colorbar": {
             "outlinewidth": 0,
             "ticks": ""
            },
            "colorscale": [
             [
              0,
              "#0d0887"
             ],
             [
              0.1111111111111111,
              "#46039f"
             ],
             [
              0.2222222222222222,
              "#7201a8"
             ],
             [
              0.3333333333333333,
              "#9c179e"
             ],
             [
              0.4444444444444444,
              "#bd3786"
             ],
             [
              0.5555555555555556,
              "#d8576b"
             ],
             [
              0.6666666666666666,
              "#ed7953"
             ],
             [
              0.7777777777777778,
              "#fb9f3a"
             ],
             [
              0.8888888888888888,
              "#fdca26"
             ],
             [
              1,
              "#f0f921"
             ]
            ],
            "type": "surface"
           }
          ],
          "table": [
           {
            "cells": {
             "fill": {
              "color": "#EBF0F8"
             },
             "line": {
              "color": "white"
             }
            },
            "header": {
             "fill": {
              "color": "#C8D4E3"
             },
             "line": {
              "color": "white"
             }
            },
            "type": "table"
           }
          ]
         },
         "layout": {
          "annotationdefaults": {
           "arrowcolor": "#2a3f5f",
           "arrowhead": 0,
           "arrowwidth": 1
          },
          "autotypenumbers": "strict",
          "coloraxis": {
           "colorbar": {
            "outlinewidth": 0,
            "ticks": ""
           }
          },
          "colorscale": {
           "diverging": [
            [
             0,
             "#8e0152"
            ],
            [
             0.1,
             "#c51b7d"
            ],
            [
             0.2,
             "#de77ae"
            ],
            [
             0.3,
             "#f1b6da"
            ],
            [
             0.4,
             "#fde0ef"
            ],
            [
             0.5,
             "#f7f7f7"
            ],
            [
             0.6,
             "#e6f5d0"
            ],
            [
             0.7,
             "#b8e186"
            ],
            [
             0.8,
             "#7fbc41"
            ],
            [
             0.9,
             "#4d9221"
            ],
            [
             1,
             "#276419"
            ]
           ],
           "sequential": [
            [
             0,
             "#0d0887"
            ],
            [
             0.1111111111111111,
             "#46039f"
            ],
            [
             0.2222222222222222,
             "#7201a8"
            ],
            [
             0.3333333333333333,
             "#9c179e"
            ],
            [
             0.4444444444444444,
             "#bd3786"
            ],
            [
             0.5555555555555556,
             "#d8576b"
            ],
            [
             0.6666666666666666,
             "#ed7953"
            ],
            [
             0.7777777777777778,
             "#fb9f3a"
            ],
            [
             0.8888888888888888,
             "#fdca26"
            ],
            [
             1,
             "#f0f921"
            ]
           ],
           "sequentialminus": [
            [
             0,
             "#0d0887"
            ],
            [
             0.1111111111111111,
             "#46039f"
            ],
            [
             0.2222222222222222,
             "#7201a8"
            ],
            [
             0.3333333333333333,
             "#9c179e"
            ],
            [
             0.4444444444444444,
             "#bd3786"
            ],
            [
             0.5555555555555556,
             "#d8576b"
            ],
            [
             0.6666666666666666,
             "#ed7953"
            ],
            [
             0.7777777777777778,
             "#fb9f3a"
            ],
            [
             0.8888888888888888,
             "#fdca26"
            ],
            [
             1,
             "#f0f921"
            ]
           ]
          },
          "colorway": [
           "#636efa",
           "#EF553B",
           "#00cc96",
           "#ab63fa",
           "#FFA15A",
           "#19d3f3",
           "#FF6692",
           "#B6E880",
           "#FF97FF",
           "#FECB52"
          ],
          "font": {
           "color": "#2a3f5f"
          },
          "geo": {
           "bgcolor": "white",
           "lakecolor": "white",
           "landcolor": "#E5ECF6",
           "showlakes": true,
           "showland": true,
           "subunitcolor": "white"
          },
          "hoverlabel": {
           "align": "left"
          },
          "hovermode": "closest",
          "mapbox": {
           "style": "light"
          },
          "paper_bgcolor": "white",
          "plot_bgcolor": "#E5ECF6",
          "polar": {
           "angularaxis": {
            "gridcolor": "white",
            "linecolor": "white",
            "ticks": ""
           },
           "bgcolor": "#E5ECF6",
           "radialaxis": {
            "gridcolor": "white",
            "linecolor": "white",
            "ticks": ""
           }
          },
          "scene": {
           "xaxis": {
            "backgroundcolor": "#E5ECF6",
            "gridcolor": "white",
            "gridwidth": 2,
            "linecolor": "white",
            "showbackground": true,
            "ticks": "",
            "zerolinecolor": "white"
           },
           "yaxis": {
            "backgroundcolor": "#E5ECF6",
            "gridcolor": "white",
            "gridwidth": 2,
            "linecolor": "white",
            "showbackground": true,
            "ticks": "",
            "zerolinecolor": "white"
           },
           "zaxis": {
            "backgroundcolor": "#E5ECF6",
            "gridcolor": "white",
            "gridwidth": 2,
            "linecolor": "white",
            "showbackground": true,
            "ticks": "",
            "zerolinecolor": "white"
           }
          },
          "shapedefaults": {
           "line": {
            "color": "#2a3f5f"
           }
          },
          "ternary": {
           "aaxis": {
            "gridcolor": "white",
            "linecolor": "white",
            "ticks": ""
           },
           "baxis": {
            "gridcolor": "white",
            "linecolor": "white",
            "ticks": ""
           },
           "bgcolor": "#E5ECF6",
           "caxis": {
            "gridcolor": "white",
            "linecolor": "white",
            "ticks": ""
           }
          },
          "title": {
           "x": 0.05
          },
          "xaxis": {
           "automargin": true,
           "gridcolor": "white",
           "linecolor": "white",
           "ticks": "",
           "title": {
            "standoff": 15
           },
           "zerolinecolor": "white",
           "zerolinewidth": 2
          },
          "yaxis": {
           "automargin": true,
           "gridcolor": "white",
           "linecolor": "white",
           "ticks": "",
           "title": {
            "standoff": 15
           },
           "zerolinecolor": "white",
           "zerolinewidth": 2
          }
         }
        },
        "xaxis": {
         "rangeslider": {
          "visible": false
         }
        }
       }
      },
      "text/html": [
       "<div>                            <div id=\"4e3f7963-8a35-411e-b6e2-19f649532e00\" class=\"plotly-graph-div\" style=\"height:525px; width:100%;\"></div>            <script type=\"text/javascript\">                require([\"plotly\"], function(Plotly) {                    window.PLOTLYENV=window.PLOTLYENV || {};                                    if (document.getElementById(\"4e3f7963-8a35-411e-b6e2-19f649532e00\")) {                    Plotly.newPlot(                        \"4e3f7963-8a35-411e-b6e2-19f649532e00\",                        [{\"close\":[66736.46,66739.99,66708.0,66690.54,66713.97,66711.93,66695.81,66670.9,66680.28,66682.22,66592.61,66588.68,66552.75,66549.42,66519.13,66505.17,66465.01,66495.48,66488.25,66482.13,66471.73,66510.0,66530.0,66550.0,66549.95,66547.58,66549.53,66539.02,66481.98,66481.65],\"high\":[66738.0,66740.0,66740.0,66720.0,66720.0,66722.83,66715.48,66695.82,66690.0,66689.42,66683.18,66639.53,66588.68,66573.87,66550.14,66523.04,66505.18,66497.0,66501.78,66498.13,66485.41,66510.0,66530.0,66550.0,66557.0,66570.0,66549.98,66569.96,66539.02,66508.8],\"low\":[66717.05,66724.72,66708.0,66687.01,66673.45,66692.25,66686.0,66661.6,66657.4,66673.38,66588.34,66586.81,66536.08,66511.16,66516.44,66460.0,66452.54,66464.62,66482.44,66480.41,66457.03,66470.42,66509.99,66527.0,66545.34,66539.99,66536.47,66539.02,66460.77,66474.19],\"open\":[66717.06,66729.78,66739.99,66708.0,66690.55,66713.97,66711.94,66695.81,66670.91,66680.29,66682.22,66592.61,66588.68,66552.75,66549.42,66519.13,66505.18,66465.0,66495.48,66488.25,66482.13,66471.74,66509.99,66530.0,66550.0,66549.94,66547.57,66549.54,66539.01,66481.98],\"x\":[1,2,3,4,5,6,7,8,9,10,11,12,13,14,15,16,17,18,19,20,21,22,23,24,25,26,27,28,29,30],\"type\":\"ohlc\"}],                        {\"template\":{\"data\":{\"histogram2dcontour\":[{\"type\":\"histogram2dcontour\",\"colorbar\":{\"outlinewidth\":0,\"ticks\":\"\"},\"colorscale\":[[0.0,\"#0d0887\"],[0.1111111111111111,\"#46039f\"],[0.2222222222222222,\"#7201a8\"],[0.3333333333333333,\"#9c179e\"],[0.4444444444444444,\"#bd3786\"],[0.5555555555555556,\"#d8576b\"],[0.6666666666666666,\"#ed7953\"],[0.7777777777777778,\"#fb9f3a\"],[0.8888888888888888,\"#fdca26\"],[1.0,\"#f0f921\"]]}],\"choropleth\":[{\"type\":\"choropleth\",\"colorbar\":{\"outlinewidth\":0,\"ticks\":\"\"}}],\"histogram2d\":[{\"type\":\"histogram2d\",\"colorbar\":{\"outlinewidth\":0,\"ticks\":\"\"},\"colorscale\":[[0.0,\"#0d0887\"],[0.1111111111111111,\"#46039f\"],[0.2222222222222222,\"#7201a8\"],[0.3333333333333333,\"#9c179e\"],[0.4444444444444444,\"#bd3786\"],[0.5555555555555556,\"#d8576b\"],[0.6666666666666666,\"#ed7953\"],[0.7777777777777778,\"#fb9f3a\"],[0.8888888888888888,\"#fdca26\"],[1.0,\"#f0f921\"]]}],\"heatmap\":[{\"type\":\"heatmap\",\"colorbar\":{\"outlinewidth\":0,\"ticks\":\"\"},\"colorscale\":[[0.0,\"#0d0887\"],[0.1111111111111111,\"#46039f\"],[0.2222222222222222,\"#7201a8\"],[0.3333333333333333,\"#9c179e\"],[0.4444444444444444,\"#bd3786\"],[0.5555555555555556,\"#d8576b\"],[0.6666666666666666,\"#ed7953\"],[0.7777777777777778,\"#fb9f3a\"],[0.8888888888888888,\"#fdca26\"],[1.0,\"#f0f921\"]]}],\"heatmapgl\":[{\"type\":\"heatmapgl\",\"colorbar\":{\"outlinewidth\":0,\"ticks\":\"\"},\"colorscale\":[[0.0,\"#0d0887\"],[0.1111111111111111,\"#46039f\"],[0.2222222222222222,\"#7201a8\"],[0.3333333333333333,\"#9c179e\"],[0.4444444444444444,\"#bd3786\"],[0.5555555555555556,\"#d8576b\"],[0.6666666666666666,\"#ed7953\"],[0.7777777777777778,\"#fb9f3a\"],[0.8888888888888888,\"#fdca26\"],[1.0,\"#f0f921\"]]}],\"contourcarpet\":[{\"type\":\"contourcarpet\",\"colorbar\":{\"outlinewidth\":0,\"ticks\":\"\"}}],\"contour\":[{\"type\":\"contour\",\"colorbar\":{\"outlinewidth\":0,\"ticks\":\"\"},\"colorscale\":[[0.0,\"#0d0887\"],[0.1111111111111111,\"#46039f\"],[0.2222222222222222,\"#7201a8\"],[0.3333333333333333,\"#9c179e\"],[0.4444444444444444,\"#bd3786\"],[0.5555555555555556,\"#d8576b\"],[0.6666666666666666,\"#ed7953\"],[0.7777777777777778,\"#fb9f3a\"],[0.8888888888888888,\"#fdca26\"],[1.0,\"#f0f921\"]]}],\"surface\":[{\"type\":\"surface\",\"colorbar\":{\"outlinewidth\":0,\"ticks\":\"\"},\"colorscale\":[[0.0,\"#0d0887\"],[0.1111111111111111,\"#46039f\"],[0.2222222222222222,\"#7201a8\"],[0.3333333333333333,\"#9c179e\"],[0.4444444444444444,\"#bd3786\"],[0.5555555555555556,\"#d8576b\"],[0.6666666666666666,\"#ed7953\"],[0.7777777777777778,\"#fb9f3a\"],[0.8888888888888888,\"#fdca26\"],[1.0,\"#f0f921\"]]}],\"mesh3d\":[{\"type\":\"mesh3d\",\"colorbar\":{\"outlinewidth\":0,\"ticks\":\"\"}}],\"scatter\":[{\"fillpattern\":{\"fillmode\":\"overlay\",\"size\":10,\"solidity\":0.2},\"type\":\"scatter\"}],\"parcoords\":[{\"type\":\"parcoords\",\"line\":{\"colorbar\":{\"outlinewidth\":0,\"ticks\":\"\"}}}],\"scatterpolargl\":[{\"type\":\"scatterpolargl\",\"marker\":{\"colorbar\":{\"outlinewidth\":0,\"ticks\":\"\"}}}],\"bar\":[{\"error_x\":{\"color\":\"#2a3f5f\"},\"error_y\":{\"color\":\"#2a3f5f\"},\"marker\":{\"line\":{\"color\":\"#E5ECF6\",\"width\":0.5},\"pattern\":{\"fillmode\":\"overlay\",\"size\":10,\"solidity\":0.2}},\"type\":\"bar\"}],\"scattergeo\":[{\"type\":\"scattergeo\",\"marker\":{\"colorbar\":{\"outlinewidth\":0,\"ticks\":\"\"}}}],\"scatterpolar\":[{\"type\":\"scatterpolar\",\"marker\":{\"colorbar\":{\"outlinewidth\":0,\"ticks\":\"\"}}}],\"histogram\":[{\"marker\":{\"pattern\":{\"fillmode\":\"overlay\",\"size\":10,\"solidity\":0.2}},\"type\":\"histogram\"}],\"scattergl\":[{\"type\":\"scattergl\",\"marker\":{\"colorbar\":{\"outlinewidth\":0,\"ticks\":\"\"}}}],\"scatter3d\":[{\"type\":\"scatter3d\",\"line\":{\"colorbar\":{\"outlinewidth\":0,\"ticks\":\"\"}},\"marker\":{\"colorbar\":{\"outlinewidth\":0,\"ticks\":\"\"}}}],\"scattermapbox\":[{\"type\":\"scattermapbox\",\"marker\":{\"colorbar\":{\"outlinewidth\":0,\"ticks\":\"\"}}}],\"scatterternary\":[{\"type\":\"scatterternary\",\"marker\":{\"colorbar\":{\"outlinewidth\":0,\"ticks\":\"\"}}}],\"scattercarpet\":[{\"type\":\"scattercarpet\",\"marker\":{\"colorbar\":{\"outlinewidth\":0,\"ticks\":\"\"}}}],\"carpet\":[{\"aaxis\":{\"endlinecolor\":\"#2a3f5f\",\"gridcolor\":\"white\",\"linecolor\":\"white\",\"minorgridcolor\":\"white\",\"startlinecolor\":\"#2a3f5f\"},\"baxis\":{\"endlinecolor\":\"#2a3f5f\",\"gridcolor\":\"white\",\"linecolor\":\"white\",\"minorgridcolor\":\"white\",\"startlinecolor\":\"#2a3f5f\"},\"type\":\"carpet\"}],\"table\":[{\"cells\":{\"fill\":{\"color\":\"#EBF0F8\"},\"line\":{\"color\":\"white\"}},\"header\":{\"fill\":{\"color\":\"#C8D4E3\"},\"line\":{\"color\":\"white\"}},\"type\":\"table\"}],\"barpolar\":[{\"marker\":{\"line\":{\"color\":\"#E5ECF6\",\"width\":0.5},\"pattern\":{\"fillmode\":\"overlay\",\"size\":10,\"solidity\":0.2}},\"type\":\"barpolar\"}],\"pie\":[{\"automargin\":true,\"type\":\"pie\"}]},\"layout\":{\"autotypenumbers\":\"strict\",\"colorway\":[\"#636efa\",\"#EF553B\",\"#00cc96\",\"#ab63fa\",\"#FFA15A\",\"#19d3f3\",\"#FF6692\",\"#B6E880\",\"#FF97FF\",\"#FECB52\"],\"font\":{\"color\":\"#2a3f5f\"},\"hovermode\":\"closest\",\"hoverlabel\":{\"align\":\"left\"},\"paper_bgcolor\":\"white\",\"plot_bgcolor\":\"#E5ECF6\",\"polar\":{\"bgcolor\":\"#E5ECF6\",\"angularaxis\":{\"gridcolor\":\"white\",\"linecolor\":\"white\",\"ticks\":\"\"},\"radialaxis\":{\"gridcolor\":\"white\",\"linecolor\":\"white\",\"ticks\":\"\"}},\"ternary\":{\"bgcolor\":\"#E5ECF6\",\"aaxis\":{\"gridcolor\":\"white\",\"linecolor\":\"white\",\"ticks\":\"\"},\"baxis\":{\"gridcolor\":\"white\",\"linecolor\":\"white\",\"ticks\":\"\"},\"caxis\":{\"gridcolor\":\"white\",\"linecolor\":\"white\",\"ticks\":\"\"}},\"coloraxis\":{\"colorbar\":{\"outlinewidth\":0,\"ticks\":\"\"}},\"colorscale\":{\"sequential\":[[0.0,\"#0d0887\"],[0.1111111111111111,\"#46039f\"],[0.2222222222222222,\"#7201a8\"],[0.3333333333333333,\"#9c179e\"],[0.4444444444444444,\"#bd3786\"],[0.5555555555555556,\"#d8576b\"],[0.6666666666666666,\"#ed7953\"],[0.7777777777777778,\"#fb9f3a\"],[0.8888888888888888,\"#fdca26\"],[1.0,\"#f0f921\"]],\"sequentialminus\":[[0.0,\"#0d0887\"],[0.1111111111111111,\"#46039f\"],[0.2222222222222222,\"#7201a8\"],[0.3333333333333333,\"#9c179e\"],[0.4444444444444444,\"#bd3786\"],[0.5555555555555556,\"#d8576b\"],[0.6666666666666666,\"#ed7953\"],[0.7777777777777778,\"#fb9f3a\"],[0.8888888888888888,\"#fdca26\"],[1.0,\"#f0f921\"]],\"diverging\":[[0,\"#8e0152\"],[0.1,\"#c51b7d\"],[0.2,\"#de77ae\"],[0.3,\"#f1b6da\"],[0.4,\"#fde0ef\"],[0.5,\"#f7f7f7\"],[0.6,\"#e6f5d0\"],[0.7,\"#b8e186\"],[0.8,\"#7fbc41\"],[0.9,\"#4d9221\"],[1,\"#276419\"]]},\"xaxis\":{\"gridcolor\":\"white\",\"linecolor\":\"white\",\"ticks\":\"\",\"title\":{\"standoff\":15},\"zerolinecolor\":\"white\",\"automargin\":true,\"zerolinewidth\":2},\"yaxis\":{\"gridcolor\":\"white\",\"linecolor\":\"white\",\"ticks\":\"\",\"title\":{\"standoff\":15},\"zerolinecolor\":\"white\",\"automargin\":true,\"zerolinewidth\":2},\"scene\":{\"xaxis\":{\"backgroundcolor\":\"#E5ECF6\",\"gridcolor\":\"white\",\"linecolor\":\"white\",\"showbackground\":true,\"ticks\":\"\",\"zerolinecolor\":\"white\",\"gridwidth\":2},\"yaxis\":{\"backgroundcolor\":\"#E5ECF6\",\"gridcolor\":\"white\",\"linecolor\":\"white\",\"showbackground\":true,\"ticks\":\"\",\"zerolinecolor\":\"white\",\"gridwidth\":2},\"zaxis\":{\"backgroundcolor\":\"#E5ECF6\",\"gridcolor\":\"white\",\"linecolor\":\"white\",\"showbackground\":true,\"ticks\":\"\",\"zerolinecolor\":\"white\",\"gridwidth\":2}},\"shapedefaults\":{\"line\":{\"color\":\"#2a3f5f\"}},\"annotationdefaults\":{\"arrowcolor\":\"#2a3f5f\",\"arrowhead\":0,\"arrowwidth\":1},\"geo\":{\"bgcolor\":\"white\",\"landcolor\":\"#E5ECF6\",\"subunitcolor\":\"white\",\"showland\":true,\"showlakes\":true,\"lakecolor\":\"white\"},\"title\":{\"x\":0.05},\"mapbox\":{\"style\":\"light\"}}},\"xaxis\":{\"rangeslider\":{\"visible\":false}}},                        {\"responsive\": true}                    ).then(function(){\n",
       "                            \n",
       "var gd = document.getElementById('4e3f7963-8a35-411e-b6e2-19f649532e00');\n",
       "var x = new MutationObserver(function (mutations, observer) {{\n",
       "        var display = window.getComputedStyle(gd).display;\n",
       "        if (!display || display === 'none') {{\n",
       "            console.log([gd, 'removed!']);\n",
       "            Plotly.purge(gd);\n",
       "            observer.disconnect();\n",
       "        }}\n",
       "}});\n",
       "\n",
       "// Listen for the removal of the full notebook cells\n",
       "var notebookContainer = gd.closest('#notebook-container');\n",
       "if (notebookContainer) {{\n",
       "    x.observe(notebookContainer, {childList: true});\n",
       "}}\n",
       "\n",
       "// Listen for the clearing of the current output cell\n",
       "var outputEl = gd.closest('.output');\n",
       "if (outputEl) {{\n",
       "    x.observe(outputEl, {childList: true});\n",
       "}}\n",
       "\n",
       "                        })                };                });            </script>        </div>"
      ]
     },
     "metadata": {},
     "output_type": "display_data"
    },
    {
     "name": "stdout",
     "output_type": "stream",
     "text": [
      "126531\n",
      "0.9990618801251507 1.002285229340913\n"
     ]
    },
    {
     "data": {
      "application/vnd.plotly.v1+json": {
       "config": {
        "plotlyServerURL": "https://plot.ly"
       },
       "data": [
        {
         "close": [
          39113.3,
          39096.4,
          39108.9,
          39115.9,
          39144.3,
          39145.8,
          39149,
          39160.1,
          39194.5,
          39178.9,
          39183,
          39178.1,
          39179.4,
          39182,
          39199.5,
          39174.4,
          39163.3,
          39131,
          39104.2,
          39121.3,
          39138.1,
          39131.3,
          39122.7,
          39131.6,
          39097.3,
          39123.9,
          39113,
          39111.8,
          39150.1,
          39141.4
         ],
         "high": [
          39130,
          39120.7,
          39110.8,
          39116.9,
          39145,
          39145.8,
          39150,
          39163.9,
          39210.2,
          39195.3,
          39186.9,
          39189.9,
          39187.1,
          39182,
          39199.8,
          39199.5,
          39182.2,
          39163.4,
          39131.6,
          39121.3,
          39144.8,
          39138.1,
          39134.8,
          39141.6,
          39134.6,
          39124,
          39133,
          39121.2,
          39152.3,
          39164.5
         ],
         "low": [
          39113.1,
          39096.4,
          39084.1,
          39108.9,
          39107.4,
          39136.1,
          39137.2,
          39141.3,
          39156,
          39171.4,
          39178.9,
          39174.6,
          39173.3,
          39173.6,
          39170.1,
          39172,
          39163.3,
          39131,
          39089,
          39093,
          39119.9,
          39120.2,
          39120.9,
          39122.7,
          39096.5,
          39097.2,
          39110.7,
          39107.3,
          39105.7,
          39137.3
         ],
         "open": [
          39120.8,
          39113.3,
          39096.4,
          39108.9,
          39115.9,
          39144.4,
          39145.8,
          39148.9,
          39160.1,
          39194.6,
          39179,
          39183,
          39178.1,
          39179.5,
          39181.9,
          39199.5,
          39174.3,
          39163.3,
          39131,
          39104.3,
          39121.3,
          39138,
          39131.2,
          39122.8,
          39129.6,
          39097.2,
          39124,
          39113,
          39112.5,
          39150
         ],
         "type": "ohlc",
         "x": [
          1,
          2,
          3,
          4,
          5,
          6,
          7,
          8,
          9,
          10,
          11,
          12,
          13,
          14,
          15,
          16,
          17,
          18,
          19,
          20,
          21,
          22,
          23,
          24,
          25,
          26,
          27,
          28,
          29,
          30
         ]
        }
       ],
       "layout": {
        "template": {
         "data": {
          "bar": [
           {
            "error_x": {
             "color": "#2a3f5f"
            },
            "error_y": {
             "color": "#2a3f5f"
            },
            "marker": {
             "line": {
              "color": "#E5ECF6",
              "width": 0.5
             },
             "pattern": {
              "fillmode": "overlay",
              "size": 10,
              "solidity": 0.2
             }
            },
            "type": "bar"
           }
          ],
          "barpolar": [
           {
            "marker": {
             "line": {
              "color": "#E5ECF6",
              "width": 0.5
             },
             "pattern": {
              "fillmode": "overlay",
              "size": 10,
              "solidity": 0.2
             }
            },
            "type": "barpolar"
           }
          ],
          "carpet": [
           {
            "aaxis": {
             "endlinecolor": "#2a3f5f",
             "gridcolor": "white",
             "linecolor": "white",
             "minorgridcolor": "white",
             "startlinecolor": "#2a3f5f"
            },
            "baxis": {
             "endlinecolor": "#2a3f5f",
             "gridcolor": "white",
             "linecolor": "white",
             "minorgridcolor": "white",
             "startlinecolor": "#2a3f5f"
            },
            "type": "carpet"
           }
          ],
          "choropleth": [
           {
            "colorbar": {
             "outlinewidth": 0,
             "ticks": ""
            },
            "type": "choropleth"
           }
          ],
          "contour": [
           {
            "colorbar": {
             "outlinewidth": 0,
             "ticks": ""
            },
            "colorscale": [
             [
              0,
              "#0d0887"
             ],
             [
              0.1111111111111111,
              "#46039f"
             ],
             [
              0.2222222222222222,
              "#7201a8"
             ],
             [
              0.3333333333333333,
              "#9c179e"
             ],
             [
              0.4444444444444444,
              "#bd3786"
             ],
             [
              0.5555555555555556,
              "#d8576b"
             ],
             [
              0.6666666666666666,
              "#ed7953"
             ],
             [
              0.7777777777777778,
              "#fb9f3a"
             ],
             [
              0.8888888888888888,
              "#fdca26"
             ],
             [
              1,
              "#f0f921"
             ]
            ],
            "type": "contour"
           }
          ],
          "contourcarpet": [
           {
            "colorbar": {
             "outlinewidth": 0,
             "ticks": ""
            },
            "type": "contourcarpet"
           }
          ],
          "heatmap": [
           {
            "colorbar": {
             "outlinewidth": 0,
             "ticks": ""
            },
            "colorscale": [
             [
              0,
              "#0d0887"
             ],
             [
              0.1111111111111111,
              "#46039f"
             ],
             [
              0.2222222222222222,
              "#7201a8"
             ],
             [
              0.3333333333333333,
              "#9c179e"
             ],
             [
              0.4444444444444444,
              "#bd3786"
             ],
             [
              0.5555555555555556,
              "#d8576b"
             ],
             [
              0.6666666666666666,
              "#ed7953"
             ],
             [
              0.7777777777777778,
              "#fb9f3a"
             ],
             [
              0.8888888888888888,
              "#fdca26"
             ],
             [
              1,
              "#f0f921"
             ]
            ],
            "type": "heatmap"
           }
          ],
          "heatmapgl": [
           {
            "colorbar": {
             "outlinewidth": 0,
             "ticks": ""
            },
            "colorscale": [
             [
              0,
              "#0d0887"
             ],
             [
              0.1111111111111111,
              "#46039f"
             ],
             [
              0.2222222222222222,
              "#7201a8"
             ],
             [
              0.3333333333333333,
              "#9c179e"
             ],
             [
              0.4444444444444444,
              "#bd3786"
             ],
             [
              0.5555555555555556,
              "#d8576b"
             ],
             [
              0.6666666666666666,
              "#ed7953"
             ],
             [
              0.7777777777777778,
              "#fb9f3a"
             ],
             [
              0.8888888888888888,
              "#fdca26"
             ],
             [
              1,
              "#f0f921"
             ]
            ],
            "type": "heatmapgl"
           }
          ],
          "histogram": [
           {
            "marker": {
             "pattern": {
              "fillmode": "overlay",
              "size": 10,
              "solidity": 0.2
             }
            },
            "type": "histogram"
           }
          ],
          "histogram2d": [
           {
            "colorbar": {
             "outlinewidth": 0,
             "ticks": ""
            },
            "colorscale": [
             [
              0,
              "#0d0887"
             ],
             [
              0.1111111111111111,
              "#46039f"
             ],
             [
              0.2222222222222222,
              "#7201a8"
             ],
             [
              0.3333333333333333,
              "#9c179e"
             ],
             [
              0.4444444444444444,
              "#bd3786"
             ],
             [
              0.5555555555555556,
              "#d8576b"
             ],
             [
              0.6666666666666666,
              "#ed7953"
             ],
             [
              0.7777777777777778,
              "#fb9f3a"
             ],
             [
              0.8888888888888888,
              "#fdca26"
             ],
             [
              1,
              "#f0f921"
             ]
            ],
            "type": "histogram2d"
           }
          ],
          "histogram2dcontour": [
           {
            "colorbar": {
             "outlinewidth": 0,
             "ticks": ""
            },
            "colorscale": [
             [
              0,
              "#0d0887"
             ],
             [
              0.1111111111111111,
              "#46039f"
             ],
             [
              0.2222222222222222,
              "#7201a8"
             ],
             [
              0.3333333333333333,
              "#9c179e"
             ],
             [
              0.4444444444444444,
              "#bd3786"
             ],
             [
              0.5555555555555556,
              "#d8576b"
             ],
             [
              0.6666666666666666,
              "#ed7953"
             ],
             [
              0.7777777777777778,
              "#fb9f3a"
             ],
             [
              0.8888888888888888,
              "#fdca26"
             ],
             [
              1,
              "#f0f921"
             ]
            ],
            "type": "histogram2dcontour"
           }
          ],
          "mesh3d": [
           {
            "colorbar": {
             "outlinewidth": 0,
             "ticks": ""
            },
            "type": "mesh3d"
           }
          ],
          "parcoords": [
           {
            "line": {
             "colorbar": {
              "outlinewidth": 0,
              "ticks": ""
             }
            },
            "type": "parcoords"
           }
          ],
          "pie": [
           {
            "automargin": true,
            "type": "pie"
           }
          ],
          "scatter": [
           {
            "fillpattern": {
             "fillmode": "overlay",
             "size": 10,
             "solidity": 0.2
            },
            "type": "scatter"
           }
          ],
          "scatter3d": [
           {
            "line": {
             "colorbar": {
              "outlinewidth": 0,
              "ticks": ""
             }
            },
            "marker": {
             "colorbar": {
              "outlinewidth": 0,
              "ticks": ""
             }
            },
            "type": "scatter3d"
           }
          ],
          "scattercarpet": [
           {
            "marker": {
             "colorbar": {
              "outlinewidth": 0,
              "ticks": ""
             }
            },
            "type": "scattercarpet"
           }
          ],
          "scattergeo": [
           {
            "marker": {
             "colorbar": {
              "outlinewidth": 0,
              "ticks": ""
             }
            },
            "type": "scattergeo"
           }
          ],
          "scattergl": [
           {
            "marker": {
             "colorbar": {
              "outlinewidth": 0,
              "ticks": ""
             }
            },
            "type": "scattergl"
           }
          ],
          "scattermapbox": [
           {
            "marker": {
             "colorbar": {
              "outlinewidth": 0,
              "ticks": ""
             }
            },
            "type": "scattermapbox"
           }
          ],
          "scatterpolar": [
           {
            "marker": {
             "colorbar": {
              "outlinewidth": 0,
              "ticks": ""
             }
            },
            "type": "scatterpolar"
           }
          ],
          "scatterpolargl": [
           {
            "marker": {
             "colorbar": {
              "outlinewidth": 0,
              "ticks": ""
             }
            },
            "type": "scatterpolargl"
           }
          ],
          "scatterternary": [
           {
            "marker": {
             "colorbar": {
              "outlinewidth": 0,
              "ticks": ""
             }
            },
            "type": "scatterternary"
           }
          ],
          "surface": [
           {
            "colorbar": {
             "outlinewidth": 0,
             "ticks": ""
            },
            "colorscale": [
             [
              0,
              "#0d0887"
             ],
             [
              0.1111111111111111,
              "#46039f"
             ],
             [
              0.2222222222222222,
              "#7201a8"
             ],
             [
              0.3333333333333333,
              "#9c179e"
             ],
             [
              0.4444444444444444,
              "#bd3786"
             ],
             [
              0.5555555555555556,
              "#d8576b"
             ],
             [
              0.6666666666666666,
              "#ed7953"
             ],
             [
              0.7777777777777778,
              "#fb9f3a"
             ],
             [
              0.8888888888888888,
              "#fdca26"
             ],
             [
              1,
              "#f0f921"
             ]
            ],
            "type": "surface"
           }
          ],
          "table": [
           {
            "cells": {
             "fill": {
              "color": "#EBF0F8"
             },
             "line": {
              "color": "white"
             }
            },
            "header": {
             "fill": {
              "color": "#C8D4E3"
             },
             "line": {
              "color": "white"
             }
            },
            "type": "table"
           }
          ]
         },
         "layout": {
          "annotationdefaults": {
           "arrowcolor": "#2a3f5f",
           "arrowhead": 0,
           "arrowwidth": 1
          },
          "autotypenumbers": "strict",
          "coloraxis": {
           "colorbar": {
            "outlinewidth": 0,
            "ticks": ""
           }
          },
          "colorscale": {
           "diverging": [
            [
             0,
             "#8e0152"
            ],
            [
             0.1,
             "#c51b7d"
            ],
            [
             0.2,
             "#de77ae"
            ],
            [
             0.3,
             "#f1b6da"
            ],
            [
             0.4,
             "#fde0ef"
            ],
            [
             0.5,
             "#f7f7f7"
            ],
            [
             0.6,
             "#e6f5d0"
            ],
            [
             0.7,
             "#b8e186"
            ],
            [
             0.8,
             "#7fbc41"
            ],
            [
             0.9,
             "#4d9221"
            ],
            [
             1,
             "#276419"
            ]
           ],
           "sequential": [
            [
             0,
             "#0d0887"
            ],
            [
             0.1111111111111111,
             "#46039f"
            ],
            [
             0.2222222222222222,
             "#7201a8"
            ],
            [
             0.3333333333333333,
             "#9c179e"
            ],
            [
             0.4444444444444444,
             "#bd3786"
            ],
            [
             0.5555555555555556,
             "#d8576b"
            ],
            [
             0.6666666666666666,
             "#ed7953"
            ],
            [
             0.7777777777777778,
             "#fb9f3a"
            ],
            [
             0.8888888888888888,
             "#fdca26"
            ],
            [
             1,
             "#f0f921"
            ]
           ],
           "sequentialminus": [
            [
             0,
             "#0d0887"
            ],
            [
             0.1111111111111111,
             "#46039f"
            ],
            [
             0.2222222222222222,
             "#7201a8"
            ],
            [
             0.3333333333333333,
             "#9c179e"
            ],
            [
             0.4444444444444444,
             "#bd3786"
            ],
            [
             0.5555555555555556,
             "#d8576b"
            ],
            [
             0.6666666666666666,
             "#ed7953"
            ],
            [
             0.7777777777777778,
             "#fb9f3a"
            ],
            [
             0.8888888888888888,
             "#fdca26"
            ],
            [
             1,
             "#f0f921"
            ]
           ]
          },
          "colorway": [
           "#636efa",
           "#EF553B",
           "#00cc96",
           "#ab63fa",
           "#FFA15A",
           "#19d3f3",
           "#FF6692",
           "#B6E880",
           "#FF97FF",
           "#FECB52"
          ],
          "font": {
           "color": "#2a3f5f"
          },
          "geo": {
           "bgcolor": "white",
           "lakecolor": "white",
           "landcolor": "#E5ECF6",
           "showlakes": true,
           "showland": true,
           "subunitcolor": "white"
          },
          "hoverlabel": {
           "align": "left"
          },
          "hovermode": "closest",
          "mapbox": {
           "style": "light"
          },
          "paper_bgcolor": "white",
          "plot_bgcolor": "#E5ECF6",
          "polar": {
           "angularaxis": {
            "gridcolor": "white",
            "linecolor": "white",
            "ticks": ""
           },
           "bgcolor": "#E5ECF6",
           "radialaxis": {
            "gridcolor": "white",
            "linecolor": "white",
            "ticks": ""
           }
          },
          "scene": {
           "xaxis": {
            "backgroundcolor": "#E5ECF6",
            "gridcolor": "white",
            "gridwidth": 2,
            "linecolor": "white",
            "showbackground": true,
            "ticks": "",
            "zerolinecolor": "white"
           },
           "yaxis": {
            "backgroundcolor": "#E5ECF6",
            "gridcolor": "white",
            "gridwidth": 2,
            "linecolor": "white",
            "showbackground": true,
            "ticks": "",
            "zerolinecolor": "white"
           },
           "zaxis": {
            "backgroundcolor": "#E5ECF6",
            "gridcolor": "white",
            "gridwidth": 2,
            "linecolor": "white",
            "showbackground": true,
            "ticks": "",
            "zerolinecolor": "white"
           }
          },
          "shapedefaults": {
           "line": {
            "color": "#2a3f5f"
           }
          },
          "ternary": {
           "aaxis": {
            "gridcolor": "white",
            "linecolor": "white",
            "ticks": ""
           },
           "baxis": {
            "gridcolor": "white",
            "linecolor": "white",
            "ticks": ""
           },
           "bgcolor": "#E5ECF6",
           "caxis": {
            "gridcolor": "white",
            "linecolor": "white",
            "ticks": ""
           }
          },
          "title": {
           "x": 0.05
          },
          "xaxis": {
           "automargin": true,
           "gridcolor": "white",
           "linecolor": "white",
           "ticks": "",
           "title": {
            "standoff": 15
           },
           "zerolinecolor": "white",
           "zerolinewidth": 2
          },
          "yaxis": {
           "automargin": true,
           "gridcolor": "white",
           "linecolor": "white",
           "ticks": "",
           "title": {
            "standoff": 15
           },
           "zerolinecolor": "white",
           "zerolinewidth": 2
          }
         }
        },
        "xaxis": {
         "rangeslider": {
          "visible": false
         }
        }
       }
      },
      "text/html": [
       "<div>                            <div id=\"c256b60b-1685-46c9-ad0c-bb046fc37abb\" class=\"plotly-graph-div\" style=\"height:525px; width:100%;\"></div>            <script type=\"text/javascript\">                require([\"plotly\"], function(Plotly) {                    window.PLOTLYENV=window.PLOTLYENV || {};                                    if (document.getElementById(\"c256b60b-1685-46c9-ad0c-bb046fc37abb\")) {                    Plotly.newPlot(                        \"c256b60b-1685-46c9-ad0c-bb046fc37abb\",                        [{\"close\":[39113.3,39096.4,39108.9,39115.9,39144.3,39145.8,39149.0,39160.1,39194.5,39178.9,39183.0,39178.1,39179.4,39182.0,39199.5,39174.4,39163.3,39131.0,39104.2,39121.3,39138.1,39131.3,39122.7,39131.6,39097.3,39123.9,39113.0,39111.8,39150.1,39141.4],\"high\":[39130.0,39120.7,39110.8,39116.9,39145.0,39145.8,39150.0,39163.9,39210.2,39195.3,39186.9,39189.9,39187.1,39182.0,39199.8,39199.5,39182.2,39163.4,39131.6,39121.3,39144.8,39138.1,39134.8,39141.6,39134.6,39124.0,39133.0,39121.2,39152.3,39164.5],\"low\":[39113.1,39096.4,39084.1,39108.9,39107.4,39136.1,39137.2,39141.3,39156.0,39171.4,39178.9,39174.6,39173.3,39173.6,39170.1,39172.0,39163.3,39131.0,39089.0,39093.0,39119.9,39120.2,39120.9,39122.7,39096.5,39097.2,39110.7,39107.3,39105.7,39137.3],\"open\":[39120.8,39113.3,39096.4,39108.9,39115.9,39144.4,39145.8,39148.9,39160.1,39194.6,39179.0,39183.0,39178.1,39179.5,39181.9,39199.5,39174.3,39163.3,39131.0,39104.3,39121.3,39138.0,39131.2,39122.8,39129.6,39097.2,39124.0,39113.0,39112.5,39150.0],\"x\":[1,2,3,4,5,6,7,8,9,10,11,12,13,14,15,16,17,18,19,20,21,22,23,24,25,26,27,28,29,30],\"type\":\"ohlc\"}],                        {\"template\":{\"data\":{\"histogram2dcontour\":[{\"type\":\"histogram2dcontour\",\"colorbar\":{\"outlinewidth\":0,\"ticks\":\"\"},\"colorscale\":[[0.0,\"#0d0887\"],[0.1111111111111111,\"#46039f\"],[0.2222222222222222,\"#7201a8\"],[0.3333333333333333,\"#9c179e\"],[0.4444444444444444,\"#bd3786\"],[0.5555555555555556,\"#d8576b\"],[0.6666666666666666,\"#ed7953\"],[0.7777777777777778,\"#fb9f3a\"],[0.8888888888888888,\"#fdca26\"],[1.0,\"#f0f921\"]]}],\"choropleth\":[{\"type\":\"choropleth\",\"colorbar\":{\"outlinewidth\":0,\"ticks\":\"\"}}],\"histogram2d\":[{\"type\":\"histogram2d\",\"colorbar\":{\"outlinewidth\":0,\"ticks\":\"\"},\"colorscale\":[[0.0,\"#0d0887\"],[0.1111111111111111,\"#46039f\"],[0.2222222222222222,\"#7201a8\"],[0.3333333333333333,\"#9c179e\"],[0.4444444444444444,\"#bd3786\"],[0.5555555555555556,\"#d8576b\"],[0.6666666666666666,\"#ed7953\"],[0.7777777777777778,\"#fb9f3a\"],[0.8888888888888888,\"#fdca26\"],[1.0,\"#f0f921\"]]}],\"heatmap\":[{\"type\":\"heatmap\",\"colorbar\":{\"outlinewidth\":0,\"ticks\":\"\"},\"colorscale\":[[0.0,\"#0d0887\"],[0.1111111111111111,\"#46039f\"],[0.2222222222222222,\"#7201a8\"],[0.3333333333333333,\"#9c179e\"],[0.4444444444444444,\"#bd3786\"],[0.5555555555555556,\"#d8576b\"],[0.6666666666666666,\"#ed7953\"],[0.7777777777777778,\"#fb9f3a\"],[0.8888888888888888,\"#fdca26\"],[1.0,\"#f0f921\"]]}],\"heatmapgl\":[{\"type\":\"heatmapgl\",\"colorbar\":{\"outlinewidth\":0,\"ticks\":\"\"},\"colorscale\":[[0.0,\"#0d0887\"],[0.1111111111111111,\"#46039f\"],[0.2222222222222222,\"#7201a8\"],[0.3333333333333333,\"#9c179e\"],[0.4444444444444444,\"#bd3786\"],[0.5555555555555556,\"#d8576b\"],[0.6666666666666666,\"#ed7953\"],[0.7777777777777778,\"#fb9f3a\"],[0.8888888888888888,\"#fdca26\"],[1.0,\"#f0f921\"]]}],\"contourcarpet\":[{\"type\":\"contourcarpet\",\"colorbar\":{\"outlinewidth\":0,\"ticks\":\"\"}}],\"contour\":[{\"type\":\"contour\",\"colorbar\":{\"outlinewidth\":0,\"ticks\":\"\"},\"colorscale\":[[0.0,\"#0d0887\"],[0.1111111111111111,\"#46039f\"],[0.2222222222222222,\"#7201a8\"],[0.3333333333333333,\"#9c179e\"],[0.4444444444444444,\"#bd3786\"],[0.5555555555555556,\"#d8576b\"],[0.6666666666666666,\"#ed7953\"],[0.7777777777777778,\"#fb9f3a\"],[0.8888888888888888,\"#fdca26\"],[1.0,\"#f0f921\"]]}],\"surface\":[{\"type\":\"surface\",\"colorbar\":{\"outlinewidth\":0,\"ticks\":\"\"},\"colorscale\":[[0.0,\"#0d0887\"],[0.1111111111111111,\"#46039f\"],[0.2222222222222222,\"#7201a8\"],[0.3333333333333333,\"#9c179e\"],[0.4444444444444444,\"#bd3786\"],[0.5555555555555556,\"#d8576b\"],[0.6666666666666666,\"#ed7953\"],[0.7777777777777778,\"#fb9f3a\"],[0.8888888888888888,\"#fdca26\"],[1.0,\"#f0f921\"]]}],\"mesh3d\":[{\"type\":\"mesh3d\",\"colorbar\":{\"outlinewidth\":0,\"ticks\":\"\"}}],\"scatter\":[{\"fillpattern\":{\"fillmode\":\"overlay\",\"size\":10,\"solidity\":0.2},\"type\":\"scatter\"}],\"parcoords\":[{\"type\":\"parcoords\",\"line\":{\"colorbar\":{\"outlinewidth\":0,\"ticks\":\"\"}}}],\"scatterpolargl\":[{\"type\":\"scatterpolargl\",\"marker\":{\"colorbar\":{\"outlinewidth\":0,\"ticks\":\"\"}}}],\"bar\":[{\"error_x\":{\"color\":\"#2a3f5f\"},\"error_y\":{\"color\":\"#2a3f5f\"},\"marker\":{\"line\":{\"color\":\"#E5ECF6\",\"width\":0.5},\"pattern\":{\"fillmode\":\"overlay\",\"size\":10,\"solidity\":0.2}},\"type\":\"bar\"}],\"scattergeo\":[{\"type\":\"scattergeo\",\"marker\":{\"colorbar\":{\"outlinewidth\":0,\"ticks\":\"\"}}}],\"scatterpolar\":[{\"type\":\"scatterpolar\",\"marker\":{\"colorbar\":{\"outlinewidth\":0,\"ticks\":\"\"}}}],\"histogram\":[{\"marker\":{\"pattern\":{\"fillmode\":\"overlay\",\"size\":10,\"solidity\":0.2}},\"type\":\"histogram\"}],\"scattergl\":[{\"type\":\"scattergl\",\"marker\":{\"colorbar\":{\"outlinewidth\":0,\"ticks\":\"\"}}}],\"scatter3d\":[{\"type\":\"scatter3d\",\"line\":{\"colorbar\":{\"outlinewidth\":0,\"ticks\":\"\"}},\"marker\":{\"colorbar\":{\"outlinewidth\":0,\"ticks\":\"\"}}}],\"scattermapbox\":[{\"type\":\"scattermapbox\",\"marker\":{\"colorbar\":{\"outlinewidth\":0,\"ticks\":\"\"}}}],\"scatterternary\":[{\"type\":\"scatterternary\",\"marker\":{\"colorbar\":{\"outlinewidth\":0,\"ticks\":\"\"}}}],\"scattercarpet\":[{\"type\":\"scattercarpet\",\"marker\":{\"colorbar\":{\"outlinewidth\":0,\"ticks\":\"\"}}}],\"carpet\":[{\"aaxis\":{\"endlinecolor\":\"#2a3f5f\",\"gridcolor\":\"white\",\"linecolor\":\"white\",\"minorgridcolor\":\"white\",\"startlinecolor\":\"#2a3f5f\"},\"baxis\":{\"endlinecolor\":\"#2a3f5f\",\"gridcolor\":\"white\",\"linecolor\":\"white\",\"minorgridcolor\":\"white\",\"startlinecolor\":\"#2a3f5f\"},\"type\":\"carpet\"}],\"table\":[{\"cells\":{\"fill\":{\"color\":\"#EBF0F8\"},\"line\":{\"color\":\"white\"}},\"header\":{\"fill\":{\"color\":\"#C8D4E3\"},\"line\":{\"color\":\"white\"}},\"type\":\"table\"}],\"barpolar\":[{\"marker\":{\"line\":{\"color\":\"#E5ECF6\",\"width\":0.5},\"pattern\":{\"fillmode\":\"overlay\",\"size\":10,\"solidity\":0.2}},\"type\":\"barpolar\"}],\"pie\":[{\"automargin\":true,\"type\":\"pie\"}]},\"layout\":{\"autotypenumbers\":\"strict\",\"colorway\":[\"#636efa\",\"#EF553B\",\"#00cc96\",\"#ab63fa\",\"#FFA15A\",\"#19d3f3\",\"#FF6692\",\"#B6E880\",\"#FF97FF\",\"#FECB52\"],\"font\":{\"color\":\"#2a3f5f\"},\"hovermode\":\"closest\",\"hoverlabel\":{\"align\":\"left\"},\"paper_bgcolor\":\"white\",\"plot_bgcolor\":\"#E5ECF6\",\"polar\":{\"bgcolor\":\"#E5ECF6\",\"angularaxis\":{\"gridcolor\":\"white\",\"linecolor\":\"white\",\"ticks\":\"\"},\"radialaxis\":{\"gridcolor\":\"white\",\"linecolor\":\"white\",\"ticks\":\"\"}},\"ternary\":{\"bgcolor\":\"#E5ECF6\",\"aaxis\":{\"gridcolor\":\"white\",\"linecolor\":\"white\",\"ticks\":\"\"},\"baxis\":{\"gridcolor\":\"white\",\"linecolor\":\"white\",\"ticks\":\"\"},\"caxis\":{\"gridcolor\":\"white\",\"linecolor\":\"white\",\"ticks\":\"\"}},\"coloraxis\":{\"colorbar\":{\"outlinewidth\":0,\"ticks\":\"\"}},\"colorscale\":{\"sequential\":[[0.0,\"#0d0887\"],[0.1111111111111111,\"#46039f\"],[0.2222222222222222,\"#7201a8\"],[0.3333333333333333,\"#9c179e\"],[0.4444444444444444,\"#bd3786\"],[0.5555555555555556,\"#d8576b\"],[0.6666666666666666,\"#ed7953\"],[0.7777777777777778,\"#fb9f3a\"],[0.8888888888888888,\"#fdca26\"],[1.0,\"#f0f921\"]],\"sequentialminus\":[[0.0,\"#0d0887\"],[0.1111111111111111,\"#46039f\"],[0.2222222222222222,\"#7201a8\"],[0.3333333333333333,\"#9c179e\"],[0.4444444444444444,\"#bd3786\"],[0.5555555555555556,\"#d8576b\"],[0.6666666666666666,\"#ed7953\"],[0.7777777777777778,\"#fb9f3a\"],[0.8888888888888888,\"#fdca26\"],[1.0,\"#f0f921\"]],\"diverging\":[[0,\"#8e0152\"],[0.1,\"#c51b7d\"],[0.2,\"#de77ae\"],[0.3,\"#f1b6da\"],[0.4,\"#fde0ef\"],[0.5,\"#f7f7f7\"],[0.6,\"#e6f5d0\"],[0.7,\"#b8e186\"],[0.8,\"#7fbc41\"],[0.9,\"#4d9221\"],[1,\"#276419\"]]},\"xaxis\":{\"gridcolor\":\"white\",\"linecolor\":\"white\",\"ticks\":\"\",\"title\":{\"standoff\":15},\"zerolinecolor\":\"white\",\"automargin\":true,\"zerolinewidth\":2},\"yaxis\":{\"gridcolor\":\"white\",\"linecolor\":\"white\",\"ticks\":\"\",\"title\":{\"standoff\":15},\"zerolinecolor\":\"white\",\"automargin\":true,\"zerolinewidth\":2},\"scene\":{\"xaxis\":{\"backgroundcolor\":\"#E5ECF6\",\"gridcolor\":\"white\",\"linecolor\":\"white\",\"showbackground\":true,\"ticks\":\"\",\"zerolinecolor\":\"white\",\"gridwidth\":2},\"yaxis\":{\"backgroundcolor\":\"#E5ECF6\",\"gridcolor\":\"white\",\"linecolor\":\"white\",\"showbackground\":true,\"ticks\":\"\",\"zerolinecolor\":\"white\",\"gridwidth\":2},\"zaxis\":{\"backgroundcolor\":\"#E5ECF6\",\"gridcolor\":\"white\",\"linecolor\":\"white\",\"showbackground\":true,\"ticks\":\"\",\"zerolinecolor\":\"white\",\"gridwidth\":2}},\"shapedefaults\":{\"line\":{\"color\":\"#2a3f5f\"}},\"annotationdefaults\":{\"arrowcolor\":\"#2a3f5f\",\"arrowhead\":0,\"arrowwidth\":1},\"geo\":{\"bgcolor\":\"white\",\"landcolor\":\"#E5ECF6\",\"subunitcolor\":\"white\",\"showland\":true,\"showlakes\":true,\"lakecolor\":\"white\"},\"title\":{\"x\":0.05},\"mapbox\":{\"style\":\"light\"}}},\"xaxis\":{\"rangeslider\":{\"visible\":false}}},                        {\"responsive\": true}                    ).then(function(){\n",
       "                            \n",
       "var gd = document.getElementById('c256b60b-1685-46c9-ad0c-bb046fc37abb');\n",
       "var x = new MutationObserver(function (mutations, observer) {{\n",
       "        var display = window.getComputedStyle(gd).display;\n",
       "        if (!display || display === 'none') {{\n",
       "            console.log([gd, 'removed!']);\n",
       "            Plotly.purge(gd);\n",
       "            observer.disconnect();\n",
       "        }}\n",
       "}});\n",
       "\n",
       "// Listen for the removal of the full notebook cells\n",
       "var notebookContainer = gd.closest('#notebook-container');\n",
       "if (notebookContainer) {{\n",
       "    x.observe(notebookContainer, {childList: true});\n",
       "}}\n",
       "\n",
       "// Listen for the clearing of the current output cell\n",
       "var outputEl = gd.closest('.output');\n",
       "if (outputEl) {{\n",
       "    x.observe(outputEl, {childList: true});\n",
       "}}\n",
       "\n",
       "                        })                };                });            </script>        </div>"
      ]
     },
     "metadata": {},
     "output_type": "display_data"
    },
    {
     "name": "stdout",
     "output_type": "stream",
     "text": [
      "142312\n",
      "0.9931632015868351 1.0065796723479283\n"
     ]
    },
    {
     "data": {
      "application/vnd.plotly.v1+json": {
       "config": {
        "plotlyServerURL": "https://plot.ly"
       },
       "data": [
        {
         "close": [
          21857.4,
          21871.5,
          21800.7,
          21815.9,
          21859,
          21831.1,
          21822.1,
          21810.1,
          21801.5,
          21758.8,
          21761.4,
          21797.8,
          21780.6,
          21725.2,
          21692,
          21674.2,
          21734.2,
          21716.3,
          21669.7,
          21647.2,
          21671,
          21684,
          21714.8,
          21707.8,
          21712.8,
          21742.6,
          21789.8,
          21755.1,
          21798.9,
          21760.4
         ],
         "high": [
          21880,
          21922.5,
          21883.7,
          21819.4,
          21872.2,
          21868.8,
          21837.1,
          21838.3,
          21830.9,
          21805.2,
          21771.5,
          21827.1,
          21801.7,
          21780.6,
          21743.3,
          21711.5,
          21735.4,
          21733.3,
          21716.3,
          21669.8,
          21679.9,
          21717.8,
          21730,
          21728,
          21726.8,
          21744.6,
          21803,
          21789.8,
          21810.2,
          21810.2
         ],
         "low": [
          21779.2,
          21825.9,
          21800.5,
          21778.5,
          21813.7,
          21810.4,
          21800.7,
          21788.4,
          21800,
          21755.5,
          21714,
          21743.8,
          21770.6,
          21725.1,
          21680.7,
          21665,
          21673.8,
          21704.1,
          21645.2,
          21638.6,
          21630.3,
          21651,
          21666.7,
          21697.3,
          21690.1,
          21712.7,
          21741.5,
          21723.4,
          21755,
          21752.2
         ],
         "open": [
          21779.2,
          21857.4,
          21871.4,
          21800.8,
          21815.9,
          21859,
          21831.2,
          21822.1,
          21810.1,
          21801.5,
          21758.1,
          21761.3,
          21797.8,
          21780.5,
          21725.2,
          21692,
          21674.2,
          21733.3,
          21716.2,
          21669.7,
          21647.2,
          21671.1,
          21684.1,
          21714.8,
          21707.9,
          21712.7,
          21742.6,
          21789.8,
          21755,
          21799
         ],
         "type": "ohlc",
         "x": [
          1,
          2,
          3,
          4,
          5,
          6,
          7,
          8,
          9,
          10,
          11,
          12,
          13,
          14,
          15,
          16,
          17,
          18,
          19,
          20,
          21,
          22,
          23,
          24,
          25,
          26,
          27,
          28,
          29,
          30
         ]
        }
       ],
       "layout": {
        "template": {
         "data": {
          "bar": [
           {
            "error_x": {
             "color": "#2a3f5f"
            },
            "error_y": {
             "color": "#2a3f5f"
            },
            "marker": {
             "line": {
              "color": "#E5ECF6",
              "width": 0.5
             },
             "pattern": {
              "fillmode": "overlay",
              "size": 10,
              "solidity": 0.2
             }
            },
            "type": "bar"
           }
          ],
          "barpolar": [
           {
            "marker": {
             "line": {
              "color": "#E5ECF6",
              "width": 0.5
             },
             "pattern": {
              "fillmode": "overlay",
              "size": 10,
              "solidity": 0.2
             }
            },
            "type": "barpolar"
           }
          ],
          "carpet": [
           {
            "aaxis": {
             "endlinecolor": "#2a3f5f",
             "gridcolor": "white",
             "linecolor": "white",
             "minorgridcolor": "white",
             "startlinecolor": "#2a3f5f"
            },
            "baxis": {
             "endlinecolor": "#2a3f5f",
             "gridcolor": "white",
             "linecolor": "white",
             "minorgridcolor": "white",
             "startlinecolor": "#2a3f5f"
            },
            "type": "carpet"
           }
          ],
          "choropleth": [
           {
            "colorbar": {
             "outlinewidth": 0,
             "ticks": ""
            },
            "type": "choropleth"
           }
          ],
          "contour": [
           {
            "colorbar": {
             "outlinewidth": 0,
             "ticks": ""
            },
            "colorscale": [
             [
              0,
              "#0d0887"
             ],
             [
              0.1111111111111111,
              "#46039f"
             ],
             [
              0.2222222222222222,
              "#7201a8"
             ],
             [
              0.3333333333333333,
              "#9c179e"
             ],
             [
              0.4444444444444444,
              "#bd3786"
             ],
             [
              0.5555555555555556,
              "#d8576b"
             ],
             [
              0.6666666666666666,
              "#ed7953"
             ],
             [
              0.7777777777777778,
              "#fb9f3a"
             ],
             [
              0.8888888888888888,
              "#fdca26"
             ],
             [
              1,
              "#f0f921"
             ]
            ],
            "type": "contour"
           }
          ],
          "contourcarpet": [
           {
            "colorbar": {
             "outlinewidth": 0,
             "ticks": ""
            },
            "type": "contourcarpet"
           }
          ],
          "heatmap": [
           {
            "colorbar": {
             "outlinewidth": 0,
             "ticks": ""
            },
            "colorscale": [
             [
              0,
              "#0d0887"
             ],
             [
              0.1111111111111111,
              "#46039f"
             ],
             [
              0.2222222222222222,
              "#7201a8"
             ],
             [
              0.3333333333333333,
              "#9c179e"
             ],
             [
              0.4444444444444444,
              "#bd3786"
             ],
             [
              0.5555555555555556,
              "#d8576b"
             ],
             [
              0.6666666666666666,
              "#ed7953"
             ],
             [
              0.7777777777777778,
              "#fb9f3a"
             ],
             [
              0.8888888888888888,
              "#fdca26"
             ],
             [
              1,
              "#f0f921"
             ]
            ],
            "type": "heatmap"
           }
          ],
          "heatmapgl": [
           {
            "colorbar": {
             "outlinewidth": 0,
             "ticks": ""
            },
            "colorscale": [
             [
              0,
              "#0d0887"
             ],
             [
              0.1111111111111111,
              "#46039f"
             ],
             [
              0.2222222222222222,
              "#7201a8"
             ],
             [
              0.3333333333333333,
              "#9c179e"
             ],
             [
              0.4444444444444444,
              "#bd3786"
             ],
             [
              0.5555555555555556,
              "#d8576b"
             ],
             [
              0.6666666666666666,
              "#ed7953"
             ],
             [
              0.7777777777777778,
              "#fb9f3a"
             ],
             [
              0.8888888888888888,
              "#fdca26"
             ],
             [
              1,
              "#f0f921"
             ]
            ],
            "type": "heatmapgl"
           }
          ],
          "histogram": [
           {
            "marker": {
             "pattern": {
              "fillmode": "overlay",
              "size": 10,
              "solidity": 0.2
             }
            },
            "type": "histogram"
           }
          ],
          "histogram2d": [
           {
            "colorbar": {
             "outlinewidth": 0,
             "ticks": ""
            },
            "colorscale": [
             [
              0,
              "#0d0887"
             ],
             [
              0.1111111111111111,
              "#46039f"
             ],
             [
              0.2222222222222222,
              "#7201a8"
             ],
             [
              0.3333333333333333,
              "#9c179e"
             ],
             [
              0.4444444444444444,
              "#bd3786"
             ],
             [
              0.5555555555555556,
              "#d8576b"
             ],
             [
              0.6666666666666666,
              "#ed7953"
             ],
             [
              0.7777777777777778,
              "#fb9f3a"
             ],
             [
              0.8888888888888888,
              "#fdca26"
             ],
             [
              1,
              "#f0f921"
             ]
            ],
            "type": "histogram2d"
           }
          ],
          "histogram2dcontour": [
           {
            "colorbar": {
             "outlinewidth": 0,
             "ticks": ""
            },
            "colorscale": [
             [
              0,
              "#0d0887"
             ],
             [
              0.1111111111111111,
              "#46039f"
             ],
             [
              0.2222222222222222,
              "#7201a8"
             ],
             [
              0.3333333333333333,
              "#9c179e"
             ],
             [
              0.4444444444444444,
              "#bd3786"
             ],
             [
              0.5555555555555556,
              "#d8576b"
             ],
             [
              0.6666666666666666,
              "#ed7953"
             ],
             [
              0.7777777777777778,
              "#fb9f3a"
             ],
             [
              0.8888888888888888,
              "#fdca26"
             ],
             [
              1,
              "#f0f921"
             ]
            ],
            "type": "histogram2dcontour"
           }
          ],
          "mesh3d": [
           {
            "colorbar": {
             "outlinewidth": 0,
             "ticks": ""
            },
            "type": "mesh3d"
           }
          ],
          "parcoords": [
           {
            "line": {
             "colorbar": {
              "outlinewidth": 0,
              "ticks": ""
             }
            },
            "type": "parcoords"
           }
          ],
          "pie": [
           {
            "automargin": true,
            "type": "pie"
           }
          ],
          "scatter": [
           {
            "fillpattern": {
             "fillmode": "overlay",
             "size": 10,
             "solidity": 0.2
            },
            "type": "scatter"
           }
          ],
          "scatter3d": [
           {
            "line": {
             "colorbar": {
              "outlinewidth": 0,
              "ticks": ""
             }
            },
            "marker": {
             "colorbar": {
              "outlinewidth": 0,
              "ticks": ""
             }
            },
            "type": "scatter3d"
           }
          ],
          "scattercarpet": [
           {
            "marker": {
             "colorbar": {
              "outlinewidth": 0,
              "ticks": ""
             }
            },
            "type": "scattercarpet"
           }
          ],
          "scattergeo": [
           {
            "marker": {
             "colorbar": {
              "outlinewidth": 0,
              "ticks": ""
             }
            },
            "type": "scattergeo"
           }
          ],
          "scattergl": [
           {
            "marker": {
             "colorbar": {
              "outlinewidth": 0,
              "ticks": ""
             }
            },
            "type": "scattergl"
           }
          ],
          "scattermapbox": [
           {
            "marker": {
             "colorbar": {
              "outlinewidth": 0,
              "ticks": ""
             }
            },
            "type": "scattermapbox"
           }
          ],
          "scatterpolar": [
           {
            "marker": {
             "colorbar": {
              "outlinewidth": 0,
              "ticks": ""
             }
            },
            "type": "scatterpolar"
           }
          ],
          "scatterpolargl": [
           {
            "marker": {
             "colorbar": {
              "outlinewidth": 0,
              "ticks": ""
             }
            },
            "type": "scatterpolargl"
           }
          ],
          "scatterternary": [
           {
            "marker": {
             "colorbar": {
              "outlinewidth": 0,
              "ticks": ""
             }
            },
            "type": "scatterternary"
           }
          ],
          "surface": [
           {
            "colorbar": {
             "outlinewidth": 0,
             "ticks": ""
            },
            "colorscale": [
             [
              0,
              "#0d0887"
             ],
             [
              0.1111111111111111,
              "#46039f"
             ],
             [
              0.2222222222222222,
              "#7201a8"
             ],
             [
              0.3333333333333333,
              "#9c179e"
             ],
             [
              0.4444444444444444,
              "#bd3786"
             ],
             [
              0.5555555555555556,
              "#d8576b"
             ],
             [
              0.6666666666666666,
              "#ed7953"
             ],
             [
              0.7777777777777778,
              "#fb9f3a"
             ],
             [
              0.8888888888888888,
              "#fdca26"
             ],
             [
              1,
              "#f0f921"
             ]
            ],
            "type": "surface"
           }
          ],
          "table": [
           {
            "cells": {
             "fill": {
              "color": "#EBF0F8"
             },
             "line": {
              "color": "white"
             }
            },
            "header": {
             "fill": {
              "color": "#C8D4E3"
             },
             "line": {
              "color": "white"
             }
            },
            "type": "table"
           }
          ]
         },
         "layout": {
          "annotationdefaults": {
           "arrowcolor": "#2a3f5f",
           "arrowhead": 0,
           "arrowwidth": 1
          },
          "autotypenumbers": "strict",
          "coloraxis": {
           "colorbar": {
            "outlinewidth": 0,
            "ticks": ""
           }
          },
          "colorscale": {
           "diverging": [
            [
             0,
             "#8e0152"
            ],
            [
             0.1,
             "#c51b7d"
            ],
            [
             0.2,
             "#de77ae"
            ],
            [
             0.3,
             "#f1b6da"
            ],
            [
             0.4,
             "#fde0ef"
            ],
            [
             0.5,
             "#f7f7f7"
            ],
            [
             0.6,
             "#e6f5d0"
            ],
            [
             0.7,
             "#b8e186"
            ],
            [
             0.8,
             "#7fbc41"
            ],
            [
             0.9,
             "#4d9221"
            ],
            [
             1,
             "#276419"
            ]
           ],
           "sequential": [
            [
             0,
             "#0d0887"
            ],
            [
             0.1111111111111111,
             "#46039f"
            ],
            [
             0.2222222222222222,
             "#7201a8"
            ],
            [
             0.3333333333333333,
             "#9c179e"
            ],
            [
             0.4444444444444444,
             "#bd3786"
            ],
            [
             0.5555555555555556,
             "#d8576b"
            ],
            [
             0.6666666666666666,
             "#ed7953"
            ],
            [
             0.7777777777777778,
             "#fb9f3a"
            ],
            [
             0.8888888888888888,
             "#fdca26"
            ],
            [
             1,
             "#f0f921"
            ]
           ],
           "sequentialminus": [
            [
             0,
             "#0d0887"
            ],
            [
             0.1111111111111111,
             "#46039f"
            ],
            [
             0.2222222222222222,
             "#7201a8"
            ],
            [
             0.3333333333333333,
             "#9c179e"
            ],
            [
             0.4444444444444444,
             "#bd3786"
            ],
            [
             0.5555555555555556,
             "#d8576b"
            ],
            [
             0.6666666666666666,
             "#ed7953"
            ],
            [
             0.7777777777777778,
             "#fb9f3a"
            ],
            [
             0.8888888888888888,
             "#fdca26"
            ],
            [
             1,
             "#f0f921"
            ]
           ]
          },
          "colorway": [
           "#636efa",
           "#EF553B",
           "#00cc96",
           "#ab63fa",
           "#FFA15A",
           "#19d3f3",
           "#FF6692",
           "#B6E880",
           "#FF97FF",
           "#FECB52"
          ],
          "font": {
           "color": "#2a3f5f"
          },
          "geo": {
           "bgcolor": "white",
           "lakecolor": "white",
           "landcolor": "#E5ECF6",
           "showlakes": true,
           "showland": true,
           "subunitcolor": "white"
          },
          "hoverlabel": {
           "align": "left"
          },
          "hovermode": "closest",
          "mapbox": {
           "style": "light"
          },
          "paper_bgcolor": "white",
          "plot_bgcolor": "#E5ECF6",
          "polar": {
           "angularaxis": {
            "gridcolor": "white",
            "linecolor": "white",
            "ticks": ""
           },
           "bgcolor": "#E5ECF6",
           "radialaxis": {
            "gridcolor": "white",
            "linecolor": "white",
            "ticks": ""
           }
          },
          "scene": {
           "xaxis": {
            "backgroundcolor": "#E5ECF6",
            "gridcolor": "white",
            "gridwidth": 2,
            "linecolor": "white",
            "showbackground": true,
            "ticks": "",
            "zerolinecolor": "white"
           },
           "yaxis": {
            "backgroundcolor": "#E5ECF6",
            "gridcolor": "white",
            "gridwidth": 2,
            "linecolor": "white",
            "showbackground": true,
            "ticks": "",
            "zerolinecolor": "white"
           },
           "zaxis": {
            "backgroundcolor": "#E5ECF6",
            "gridcolor": "white",
            "gridwidth": 2,
            "linecolor": "white",
            "showbackground": true,
            "ticks": "",
            "zerolinecolor": "white"
           }
          },
          "shapedefaults": {
           "line": {
            "color": "#2a3f5f"
           }
          },
          "ternary": {
           "aaxis": {
            "gridcolor": "white",
            "linecolor": "white",
            "ticks": ""
           },
           "baxis": {
            "gridcolor": "white",
            "linecolor": "white",
            "ticks": ""
           },
           "bgcolor": "#E5ECF6",
           "caxis": {
            "gridcolor": "white",
            "linecolor": "white",
            "ticks": ""
           }
          },
          "title": {
           "x": 0.05
          },
          "xaxis": {
           "automargin": true,
           "gridcolor": "white",
           "linecolor": "white",
           "ticks": "",
           "title": {
            "standoff": 15
           },
           "zerolinecolor": "white",
           "zerolinewidth": 2
          },
          "yaxis": {
           "automargin": true,
           "gridcolor": "white",
           "linecolor": "white",
           "ticks": "",
           "title": {
            "standoff": 15
           },
           "zerolinecolor": "white",
           "zerolinewidth": 2
          }
         }
        },
        "xaxis": {
         "rangeslider": {
          "visible": false
         }
        }
       }
      },
      "text/html": [
       "<div>                            <div id=\"3c4a1489-770b-4667-b3ef-b0fc24c6e9ee\" class=\"plotly-graph-div\" style=\"height:525px; width:100%;\"></div>            <script type=\"text/javascript\">                require([\"plotly\"], function(Plotly) {                    window.PLOTLYENV=window.PLOTLYENV || {};                                    if (document.getElementById(\"3c4a1489-770b-4667-b3ef-b0fc24c6e9ee\")) {                    Plotly.newPlot(                        \"3c4a1489-770b-4667-b3ef-b0fc24c6e9ee\",                        [{\"close\":[21857.4,21871.5,21800.7,21815.9,21859.0,21831.1,21822.1,21810.1,21801.5,21758.8,21761.4,21797.8,21780.6,21725.2,21692.0,21674.2,21734.2,21716.3,21669.7,21647.2,21671.0,21684.0,21714.8,21707.8,21712.8,21742.6,21789.8,21755.1,21798.9,21760.4],\"high\":[21880.0,21922.5,21883.7,21819.4,21872.2,21868.8,21837.1,21838.3,21830.9,21805.2,21771.5,21827.1,21801.7,21780.6,21743.3,21711.5,21735.4,21733.3,21716.3,21669.8,21679.9,21717.8,21730.0,21728.0,21726.8,21744.6,21803.0,21789.8,21810.2,21810.2],\"low\":[21779.2,21825.9,21800.5,21778.5,21813.7,21810.4,21800.7,21788.4,21800.0,21755.5,21714.0,21743.8,21770.6,21725.1,21680.7,21665.0,21673.8,21704.1,21645.2,21638.6,21630.3,21651.0,21666.7,21697.3,21690.1,21712.7,21741.5,21723.4,21755.0,21752.2],\"open\":[21779.2,21857.4,21871.4,21800.8,21815.9,21859.0,21831.2,21822.1,21810.1,21801.5,21758.1,21761.3,21797.8,21780.5,21725.2,21692.0,21674.2,21733.3,21716.2,21669.7,21647.2,21671.1,21684.1,21714.8,21707.9,21712.7,21742.6,21789.8,21755.0,21799.0],\"x\":[1,2,3,4,5,6,7,8,9,10,11,12,13,14,15,16,17,18,19,20,21,22,23,24,25,26,27,28,29,30],\"type\":\"ohlc\"}],                        {\"template\":{\"data\":{\"histogram2dcontour\":[{\"type\":\"histogram2dcontour\",\"colorbar\":{\"outlinewidth\":0,\"ticks\":\"\"},\"colorscale\":[[0.0,\"#0d0887\"],[0.1111111111111111,\"#46039f\"],[0.2222222222222222,\"#7201a8\"],[0.3333333333333333,\"#9c179e\"],[0.4444444444444444,\"#bd3786\"],[0.5555555555555556,\"#d8576b\"],[0.6666666666666666,\"#ed7953\"],[0.7777777777777778,\"#fb9f3a\"],[0.8888888888888888,\"#fdca26\"],[1.0,\"#f0f921\"]]}],\"choropleth\":[{\"type\":\"choropleth\",\"colorbar\":{\"outlinewidth\":0,\"ticks\":\"\"}}],\"histogram2d\":[{\"type\":\"histogram2d\",\"colorbar\":{\"outlinewidth\":0,\"ticks\":\"\"},\"colorscale\":[[0.0,\"#0d0887\"],[0.1111111111111111,\"#46039f\"],[0.2222222222222222,\"#7201a8\"],[0.3333333333333333,\"#9c179e\"],[0.4444444444444444,\"#bd3786\"],[0.5555555555555556,\"#d8576b\"],[0.6666666666666666,\"#ed7953\"],[0.7777777777777778,\"#fb9f3a\"],[0.8888888888888888,\"#fdca26\"],[1.0,\"#f0f921\"]]}],\"heatmap\":[{\"type\":\"heatmap\",\"colorbar\":{\"outlinewidth\":0,\"ticks\":\"\"},\"colorscale\":[[0.0,\"#0d0887\"],[0.1111111111111111,\"#46039f\"],[0.2222222222222222,\"#7201a8\"],[0.3333333333333333,\"#9c179e\"],[0.4444444444444444,\"#bd3786\"],[0.5555555555555556,\"#d8576b\"],[0.6666666666666666,\"#ed7953\"],[0.7777777777777778,\"#fb9f3a\"],[0.8888888888888888,\"#fdca26\"],[1.0,\"#f0f921\"]]}],\"heatmapgl\":[{\"type\":\"heatmapgl\",\"colorbar\":{\"outlinewidth\":0,\"ticks\":\"\"},\"colorscale\":[[0.0,\"#0d0887\"],[0.1111111111111111,\"#46039f\"],[0.2222222222222222,\"#7201a8\"],[0.3333333333333333,\"#9c179e\"],[0.4444444444444444,\"#bd3786\"],[0.5555555555555556,\"#d8576b\"],[0.6666666666666666,\"#ed7953\"],[0.7777777777777778,\"#fb9f3a\"],[0.8888888888888888,\"#fdca26\"],[1.0,\"#f0f921\"]]}],\"contourcarpet\":[{\"type\":\"contourcarpet\",\"colorbar\":{\"outlinewidth\":0,\"ticks\":\"\"}}],\"contour\":[{\"type\":\"contour\",\"colorbar\":{\"outlinewidth\":0,\"ticks\":\"\"},\"colorscale\":[[0.0,\"#0d0887\"],[0.1111111111111111,\"#46039f\"],[0.2222222222222222,\"#7201a8\"],[0.3333333333333333,\"#9c179e\"],[0.4444444444444444,\"#bd3786\"],[0.5555555555555556,\"#d8576b\"],[0.6666666666666666,\"#ed7953\"],[0.7777777777777778,\"#fb9f3a\"],[0.8888888888888888,\"#fdca26\"],[1.0,\"#f0f921\"]]}],\"surface\":[{\"type\":\"surface\",\"colorbar\":{\"outlinewidth\":0,\"ticks\":\"\"},\"colorscale\":[[0.0,\"#0d0887\"],[0.1111111111111111,\"#46039f\"],[0.2222222222222222,\"#7201a8\"],[0.3333333333333333,\"#9c179e\"],[0.4444444444444444,\"#bd3786\"],[0.5555555555555556,\"#d8576b\"],[0.6666666666666666,\"#ed7953\"],[0.7777777777777778,\"#fb9f3a\"],[0.8888888888888888,\"#fdca26\"],[1.0,\"#f0f921\"]]}],\"mesh3d\":[{\"type\":\"mesh3d\",\"colorbar\":{\"outlinewidth\":0,\"ticks\":\"\"}}],\"scatter\":[{\"fillpattern\":{\"fillmode\":\"overlay\",\"size\":10,\"solidity\":0.2},\"type\":\"scatter\"}],\"parcoords\":[{\"type\":\"parcoords\",\"line\":{\"colorbar\":{\"outlinewidth\":0,\"ticks\":\"\"}}}],\"scatterpolargl\":[{\"type\":\"scatterpolargl\",\"marker\":{\"colorbar\":{\"outlinewidth\":0,\"ticks\":\"\"}}}],\"bar\":[{\"error_x\":{\"color\":\"#2a3f5f\"},\"error_y\":{\"color\":\"#2a3f5f\"},\"marker\":{\"line\":{\"color\":\"#E5ECF6\",\"width\":0.5},\"pattern\":{\"fillmode\":\"overlay\",\"size\":10,\"solidity\":0.2}},\"type\":\"bar\"}],\"scattergeo\":[{\"type\":\"scattergeo\",\"marker\":{\"colorbar\":{\"outlinewidth\":0,\"ticks\":\"\"}}}],\"scatterpolar\":[{\"type\":\"scatterpolar\",\"marker\":{\"colorbar\":{\"outlinewidth\":0,\"ticks\":\"\"}}}],\"histogram\":[{\"marker\":{\"pattern\":{\"fillmode\":\"overlay\",\"size\":10,\"solidity\":0.2}},\"type\":\"histogram\"}],\"scattergl\":[{\"type\":\"scattergl\",\"marker\":{\"colorbar\":{\"outlinewidth\":0,\"ticks\":\"\"}}}],\"scatter3d\":[{\"type\":\"scatter3d\",\"line\":{\"colorbar\":{\"outlinewidth\":0,\"ticks\":\"\"}},\"marker\":{\"colorbar\":{\"outlinewidth\":0,\"ticks\":\"\"}}}],\"scattermapbox\":[{\"type\":\"scattermapbox\",\"marker\":{\"colorbar\":{\"outlinewidth\":0,\"ticks\":\"\"}}}],\"scatterternary\":[{\"type\":\"scatterternary\",\"marker\":{\"colorbar\":{\"outlinewidth\":0,\"ticks\":\"\"}}}],\"scattercarpet\":[{\"type\":\"scattercarpet\",\"marker\":{\"colorbar\":{\"outlinewidth\":0,\"ticks\":\"\"}}}],\"carpet\":[{\"aaxis\":{\"endlinecolor\":\"#2a3f5f\",\"gridcolor\":\"white\",\"linecolor\":\"white\",\"minorgridcolor\":\"white\",\"startlinecolor\":\"#2a3f5f\"},\"baxis\":{\"endlinecolor\":\"#2a3f5f\",\"gridcolor\":\"white\",\"linecolor\":\"white\",\"minorgridcolor\":\"white\",\"startlinecolor\":\"#2a3f5f\"},\"type\":\"carpet\"}],\"table\":[{\"cells\":{\"fill\":{\"color\":\"#EBF0F8\"},\"line\":{\"color\":\"white\"}},\"header\":{\"fill\":{\"color\":\"#C8D4E3\"},\"line\":{\"color\":\"white\"}},\"type\":\"table\"}],\"barpolar\":[{\"marker\":{\"line\":{\"color\":\"#E5ECF6\",\"width\":0.5},\"pattern\":{\"fillmode\":\"overlay\",\"size\":10,\"solidity\":0.2}},\"type\":\"barpolar\"}],\"pie\":[{\"automargin\":true,\"type\":\"pie\"}]},\"layout\":{\"autotypenumbers\":\"strict\",\"colorway\":[\"#636efa\",\"#EF553B\",\"#00cc96\",\"#ab63fa\",\"#FFA15A\",\"#19d3f3\",\"#FF6692\",\"#B6E880\",\"#FF97FF\",\"#FECB52\"],\"font\":{\"color\":\"#2a3f5f\"},\"hovermode\":\"closest\",\"hoverlabel\":{\"align\":\"left\"},\"paper_bgcolor\":\"white\",\"plot_bgcolor\":\"#E5ECF6\",\"polar\":{\"bgcolor\":\"#E5ECF6\",\"angularaxis\":{\"gridcolor\":\"white\",\"linecolor\":\"white\",\"ticks\":\"\"},\"radialaxis\":{\"gridcolor\":\"white\",\"linecolor\":\"white\",\"ticks\":\"\"}},\"ternary\":{\"bgcolor\":\"#E5ECF6\",\"aaxis\":{\"gridcolor\":\"white\",\"linecolor\":\"white\",\"ticks\":\"\"},\"baxis\":{\"gridcolor\":\"white\",\"linecolor\":\"white\",\"ticks\":\"\"},\"caxis\":{\"gridcolor\":\"white\",\"linecolor\":\"white\",\"ticks\":\"\"}},\"coloraxis\":{\"colorbar\":{\"outlinewidth\":0,\"ticks\":\"\"}},\"colorscale\":{\"sequential\":[[0.0,\"#0d0887\"],[0.1111111111111111,\"#46039f\"],[0.2222222222222222,\"#7201a8\"],[0.3333333333333333,\"#9c179e\"],[0.4444444444444444,\"#bd3786\"],[0.5555555555555556,\"#d8576b\"],[0.6666666666666666,\"#ed7953\"],[0.7777777777777778,\"#fb9f3a\"],[0.8888888888888888,\"#fdca26\"],[1.0,\"#f0f921\"]],\"sequentialminus\":[[0.0,\"#0d0887\"],[0.1111111111111111,\"#46039f\"],[0.2222222222222222,\"#7201a8\"],[0.3333333333333333,\"#9c179e\"],[0.4444444444444444,\"#bd3786\"],[0.5555555555555556,\"#d8576b\"],[0.6666666666666666,\"#ed7953\"],[0.7777777777777778,\"#fb9f3a\"],[0.8888888888888888,\"#fdca26\"],[1.0,\"#f0f921\"]],\"diverging\":[[0,\"#8e0152\"],[0.1,\"#c51b7d\"],[0.2,\"#de77ae\"],[0.3,\"#f1b6da\"],[0.4,\"#fde0ef\"],[0.5,\"#f7f7f7\"],[0.6,\"#e6f5d0\"],[0.7,\"#b8e186\"],[0.8,\"#7fbc41\"],[0.9,\"#4d9221\"],[1,\"#276419\"]]},\"xaxis\":{\"gridcolor\":\"white\",\"linecolor\":\"white\",\"ticks\":\"\",\"title\":{\"standoff\":15},\"zerolinecolor\":\"white\",\"automargin\":true,\"zerolinewidth\":2},\"yaxis\":{\"gridcolor\":\"white\",\"linecolor\":\"white\",\"ticks\":\"\",\"title\":{\"standoff\":15},\"zerolinecolor\":\"white\",\"automargin\":true,\"zerolinewidth\":2},\"scene\":{\"xaxis\":{\"backgroundcolor\":\"#E5ECF6\",\"gridcolor\":\"white\",\"linecolor\":\"white\",\"showbackground\":true,\"ticks\":\"\",\"zerolinecolor\":\"white\",\"gridwidth\":2},\"yaxis\":{\"backgroundcolor\":\"#E5ECF6\",\"gridcolor\":\"white\",\"linecolor\":\"white\",\"showbackground\":true,\"ticks\":\"\",\"zerolinecolor\":\"white\",\"gridwidth\":2},\"zaxis\":{\"backgroundcolor\":\"#E5ECF6\",\"gridcolor\":\"white\",\"linecolor\":\"white\",\"showbackground\":true,\"ticks\":\"\",\"zerolinecolor\":\"white\",\"gridwidth\":2}},\"shapedefaults\":{\"line\":{\"color\":\"#2a3f5f\"}},\"annotationdefaults\":{\"arrowcolor\":\"#2a3f5f\",\"arrowhead\":0,\"arrowwidth\":1},\"geo\":{\"bgcolor\":\"white\",\"landcolor\":\"#E5ECF6\",\"subunitcolor\":\"white\",\"showland\":true,\"showlakes\":true,\"lakecolor\":\"white\"},\"title\":{\"x\":0.05},\"mapbox\":{\"style\":\"light\"}}},\"xaxis\":{\"rangeslider\":{\"visible\":false}}},                        {\"responsive\": true}                    ).then(function(){\n",
       "                            \n",
       "var gd = document.getElementById('3c4a1489-770b-4667-b3ef-b0fc24c6e9ee');\n",
       "var x = new MutationObserver(function (mutations, observer) {{\n",
       "        var display = window.getComputedStyle(gd).display;\n",
       "        if (!display || display === 'none') {{\n",
       "            console.log([gd, 'removed!']);\n",
       "            Plotly.purge(gd);\n",
       "            observer.disconnect();\n",
       "        }}\n",
       "}});\n",
       "\n",
       "// Listen for the removal of the full notebook cells\n",
       "var notebookContainer = gd.closest('#notebook-container');\n",
       "if (notebookContainer) {{\n",
       "    x.observe(notebookContainer, {childList: true});\n",
       "}}\n",
       "\n",
       "// Listen for the clearing of the current output cell\n",
       "var outputEl = gd.closest('.output');\n",
       "if (outputEl) {{\n",
       "    x.observe(outputEl, {childList: true});\n",
       "}}\n",
       "\n",
       "                        })                };                });            </script>        </div>"
      ]
     },
     "metadata": {},
     "output_type": "display_data"
    }
   ],
   "source": [
    "label_i = 0\n",
    "ta = dsc.loc[label_i]\n",
    "idcs = list(dfc[dfc.label==label_i].index )\n",
    "target_1_label = np.concatenate([np.array([(target_list_real[i].max()/target_list_real[i][0,3]),(target_list_real[i].min()/target_list_real[i][0,3])]) for i in idcs]).reshape((len(idcs),2)).mean(axis=0)\n",
    "to_plot = pd.DataFrame(np.array([ta[[j+\"_\"+str(i)+\"_mean\" for i in range(1,31)]].to_list() for j in [\"Open\",\"High\",\"Low\",\"Close\"]]).transpose(),columns=[\"Open\",\"High\",\"Low\",\"Close\"])\n",
    "to_plot = to_plot\n",
    "to_plot[\"time\"]=range(1,31)\n",
    "fig1 = go.Figure(data=go.Ohlc(x=to_plot['time'],\n",
    "                             open=to_plot['Open'],\n",
    "                             high=to_plot['High'],\n",
    "                             low=to_plot['Low'],\n",
    "                             close=to_plot['Close']))\n",
    "  \n",
    "# show the figure\n",
    "fig1.update(layout_xaxis_rangeslider_visible=False)\n",
    "fig1.show()\n",
    "print(target_1_label)\n",
    "for i in range(10):\n",
    "    print(idcs[i*len(idcs)//10])\n",
    "    real_vals = target_list_real[idcs[i*len(idcs)//10]]\n",
    "    print(real_vals.min()/real_vals[0,0],real_vals.max()/real_vals[0,0])\n",
    "    to_plot_real = pd.DataFrame(real_vals,columns=[\"Open\",\"High\",\"Low\",\"Close\"])\n",
    "    to_plot_real[\"time\"]=range(1,31)\n",
    "    fig = go.Figure(data=go.Ohlc(x=to_plot_real['time'],\n",
    "                                 open=to_plot_real['Open'],\n",
    "                                 high=to_plot_real['High'],\n",
    "                                 low=to_plot_real['Low'],\n",
    "                                 close=to_plot_real['Close']))\n",
    "\n",
    "    # show the figure\n",
    "    fig.update(layout_xaxis_rangeslider_visible=False)\n",
    "    fig.show()\n",
    "\n",
    "    "
   ]
  },
  {
   "cell_type": "code",
   "execution_count": 24,
   "id": "0fb3fc4b",
   "metadata": {},
   "outputs": [],
   "source": [
    "cluster_pos_dict={}\n",
    "for i in range(20):\n",
    "    idcs = list(dfc[dfc.label==i].index )\n",
    "    cluster_pos_dict[\"cluster_\"+str(i)]= np.concatenate([np.array([(target_list_real[i].max()/target_list_real[i][0,3]),(target_list_real[i].min()/target_list_real[i][0,3])]) for i in idcs]).reshape((len(idcs),2)).mean(axis=0)"
   ]
  },
  {
   "cell_type": "code",
   "execution_count": 62,
   "id": "e0c1bad8",
   "metadata": {},
   "outputs": [
    {
     "data": {
      "text/plain": [
       "9"
      ]
     },
     "execution_count": 62,
     "metadata": {},
     "output_type": "execute_result"
    }
   ],
   "source": [
    "i"
   ]
  },
  {
   "cell_type": "code",
   "execution_count": 98,
   "id": "268881d2",
   "metadata": {},
   "outputs": [
    {
     "data": {
      "text/html": [
       "<div>\n",
       "<style scoped>\n",
       "    .dataframe tbody tr th:only-of-type {\n",
       "        vertical-align: middle;\n",
       "    }\n",
       "\n",
       "    .dataframe tbody tr th {\n",
       "        vertical-align: top;\n",
       "    }\n",
       "\n",
       "    .dataframe thead th {\n",
       "        text-align: right;\n",
       "    }\n",
       "</style>\n",
       "<table border=\"1\" class=\"dataframe\">\n",
       "  <thead>\n",
       "    <tr style=\"text-align: right;\">\n",
       "      <th></th>\n",
       "      <th>High</th>\n",
       "      <th>Low</th>\n",
       "    </tr>\n",
       "  </thead>\n",
       "  <tbody>\n",
       "    <tr>\n",
       "      <th>count</th>\n",
       "      <td>7607.000000</td>\n",
       "      <td>7607.000000</td>\n",
       "    </tr>\n",
       "    <tr>\n",
       "      <th>mean</th>\n",
       "      <td>1.001750</td>\n",
       "      <td>0.991656</td>\n",
       "    </tr>\n",
       "    <tr>\n",
       "      <th>std</th>\n",
       "      <td>0.001885</td>\n",
       "      <td>0.008860</td>\n",
       "    </tr>\n",
       "    <tr>\n",
       "      <th>min</th>\n",
       "      <td>1.000000</td>\n",
       "      <td>0.829987</td>\n",
       "    </tr>\n",
       "    <tr>\n",
       "      <th>25%</th>\n",
       "      <td>1.000643</td>\n",
       "      <td>0.989994</td>\n",
       "    </tr>\n",
       "    <tr>\n",
       "      <th>50%</th>\n",
       "      <td>1.001274</td>\n",
       "      <td>0.993915</td>\n",
       "    </tr>\n",
       "    <tr>\n",
       "      <th>75%</th>\n",
       "      <td>1.002268</td>\n",
       "      <td>0.996250</td>\n",
       "    </tr>\n",
       "    <tr>\n",
       "      <th>max</th>\n",
       "      <td>1.039735</td>\n",
       "      <td>0.999733</td>\n",
       "    </tr>\n",
       "  </tbody>\n",
       "</table>\n",
       "</div>"
      ],
      "text/plain": [
       "              High          Low\n",
       "count  7607.000000  7607.000000\n",
       "mean      1.001750     0.991656\n",
       "std       0.001885     0.008860\n",
       "min       1.000000     0.829987\n",
       "25%       1.000643     0.989994\n",
       "50%       1.001274     0.993915\n",
       "75%       1.002268     0.996250\n",
       "max       1.039735     0.999733"
      ]
     },
     "execution_count": 98,
     "metadata": {},
     "output_type": "execute_result"
    }
   ],
   "source": [
    "pd.DataFrame(np.concatenate([np.array([(target_list_real[i].max()/target_list_real[i][0,3]),(target_list_real[i].min()/target_list_real[i][0,3])]) for i in idcs]).reshape((len(idcs),2)),columns=[\"High\",\"Low\"]).describe()"
   ]
  },
  {
   "cell_type": "code",
   "execution_count": 28,
   "id": "e903e86a",
   "metadata": {},
   "outputs": [],
   "source": [
    "cluster_dict = pd.DataFrame(cluster_pos_dict).transpose()"
   ]
  },
  {
   "cell_type": "code",
   "execution_count": 31,
   "id": "9723b38e",
   "metadata": {},
   "outputs": [
    {
     "data": {
      "text/html": [
       "<div>\n",
       "<style scoped>\n",
       "    .dataframe tbody tr th:only-of-type {\n",
       "        vertical-align: middle;\n",
       "    }\n",
       "\n",
       "    .dataframe tbody tr th {\n",
       "        vertical-align: top;\n",
       "    }\n",
       "\n",
       "    .dataframe thead th {\n",
       "        text-align: right;\n",
       "    }\n",
       "</style>\n",
       "<table border=\"1\" class=\"dataframe\">\n",
       "  <thead>\n",
       "    <tr style=\"text-align: right;\">\n",
       "      <th></th>\n",
       "      <th>High</th>\n",
       "      <th>Low</th>\n",
       "    </tr>\n",
       "  </thead>\n",
       "  <tbody>\n",
       "    <tr>\n",
       "      <th>cluster_0</th>\n",
       "      <td>1.003994</td>\n",
       "      <td>0.997763</td>\n",
       "    </tr>\n",
       "    <tr>\n",
       "      <th>cluster_1</th>\n",
       "      <td>1.004661</td>\n",
       "      <td>0.998300</td>\n",
       "    </tr>\n",
       "    <tr>\n",
       "      <th>cluster_2</th>\n",
       "      <td>1.001611</td>\n",
       "      <td>0.993993</td>\n",
       "    </tr>\n",
       "    <tr>\n",
       "      <th>cluster_3</th>\n",
       "      <td>1.001439</td>\n",
       "      <td>0.992767</td>\n",
       "    </tr>\n",
       "    <tr>\n",
       "      <th>cluster_4</th>\n",
       "      <td>1.007192</td>\n",
       "      <td>0.998425</td>\n",
       "    </tr>\n",
       "    <tr>\n",
       "      <th>cluster_5</th>\n",
       "      <td>1.002065</td>\n",
       "      <td>0.996056</td>\n",
       "    </tr>\n",
       "    <tr>\n",
       "      <th>cluster_6</th>\n",
       "      <td>1.003503</td>\n",
       "      <td>0.997469</td>\n",
       "    </tr>\n",
       "    <tr>\n",
       "      <th>cluster_7</th>\n",
       "      <td>1.001530</td>\n",
       "      <td>0.994353</td>\n",
       "    </tr>\n",
       "    <tr>\n",
       "      <th>cluster_8</th>\n",
       "      <td>1.006848</td>\n",
       "      <td>0.998548</td>\n",
       "    </tr>\n",
       "    <tr>\n",
       "      <th>cluster_9</th>\n",
       "      <td>1.007723</td>\n",
       "      <td>0.998224</td>\n",
       "    </tr>\n",
       "    <tr>\n",
       "      <th>cluster_10</th>\n",
       "      <td>1.005256</td>\n",
       "      <td>0.998543</td>\n",
       "    </tr>\n",
       "    <tr>\n",
       "      <th>cluster_11</th>\n",
       "      <td>1.001762</td>\n",
       "      <td>0.994928</td>\n",
       "    </tr>\n",
       "    <tr>\n",
       "      <th>cluster_12</th>\n",
       "      <td>1.004718</td>\n",
       "      <td>0.998347</td>\n",
       "    </tr>\n",
       "    <tr>\n",
       "      <th>cluster_13</th>\n",
       "      <td>1.007809</td>\n",
       "      <td>0.998370</td>\n",
       "    </tr>\n",
       "    <tr>\n",
       "      <th>cluster_14</th>\n",
       "      <td>1.001750</td>\n",
       "      <td>0.991656</td>\n",
       "    </tr>\n",
       "    <tr>\n",
       "      <th>cluster_15</th>\n",
       "      <td>1.001770</td>\n",
       "      <td>0.992496</td>\n",
       "    </tr>\n",
       "    <tr>\n",
       "      <th>cluster_16</th>\n",
       "      <td>1.001429</td>\n",
       "      <td>0.994648</td>\n",
       "    </tr>\n",
       "    <tr>\n",
       "      <th>cluster_17</th>\n",
       "      <td>1.005951</td>\n",
       "      <td>0.998249</td>\n",
       "    </tr>\n",
       "    <tr>\n",
       "      <th>cluster_18</th>\n",
       "      <td>1.002173</td>\n",
       "      <td>0.995269</td>\n",
       "    </tr>\n",
       "    <tr>\n",
       "      <th>cluster_19</th>\n",
       "      <td>1.003083</td>\n",
       "      <td>0.996820</td>\n",
       "    </tr>\n",
       "  </tbody>\n",
       "</table>\n",
       "</div>"
      ],
      "text/plain": [
       "                High       Low\n",
       "cluster_0   1.003994  0.997763\n",
       "cluster_1   1.004661  0.998300\n",
       "cluster_2   1.001611  0.993993\n",
       "cluster_3   1.001439  0.992767\n",
       "cluster_4   1.007192  0.998425\n",
       "cluster_5   1.002065  0.996056\n",
       "cluster_6   1.003503  0.997469\n",
       "cluster_7   1.001530  0.994353\n",
       "cluster_8   1.006848  0.998548\n",
       "cluster_9   1.007723  0.998224\n",
       "cluster_10  1.005256  0.998543\n",
       "cluster_11  1.001762  0.994928\n",
       "cluster_12  1.004718  0.998347\n",
       "cluster_13  1.007809  0.998370\n",
       "cluster_14  1.001750  0.991656\n",
       "cluster_15  1.001770  0.992496\n",
       "cluster_16  1.001429  0.994648\n",
       "cluster_17  1.005951  0.998249\n",
       "cluster_18  1.002173  0.995269\n",
       "cluster_19  1.003083  0.996820"
      ]
     },
     "execution_count": 31,
     "metadata": {},
     "output_type": "execute_result"
    }
   ],
   "source": [
    "cluster_dict"
   ]
  },
  {
   "cell_type": "code",
   "execution_count": 30,
   "id": "767d0cfa",
   "metadata": {},
   "outputs": [],
   "source": [
    "cluster_dict.columns=[\"High\",\"Low\"]"
   ]
  },
  {
   "cell_type": "code",
   "execution_count": 32,
   "id": "4a683034",
   "metadata": {},
   "outputs": [],
   "source": [
    "cluster_dict.to_parquet(\"cluster_dict.parquet\")"
   ]
  },
  {
   "cell_type": "code",
   "execution_count": null,
   "id": "73bce198",
   "metadata": {},
   "outputs": [],
   "source": [
    "cluster_pos_dict={\n",
    "    \"cluster_0\":{\n",
    "        \"bounds\":[1.00139585,0.9963694]\n",
    "        \"description\":\"logarithmically converging to low\"\n",
    "    },\n",
    "    \"cluster_1\":{\n",
    "        \"bounds\":[1.00099859,0.99629907]\n",
    "        \"description\":\"Genertally starts on top zigzags to zero, kind of volatile might want to increase stop/loss\"\n",
    "    },\n",
    "    \"cluster_2\":{\n",
    "        \"bounds\":[1.00508215,0.99877247]\n",
    "        \"description\":\"starts from mid to bottom exponents to top\"\n",
    "    },\n",
    "}"
   ]
  },
  {
   "cell_type": "code",
   "execution_count": 270,
   "id": "d18d6abf",
   "metadata": {},
   "outputs": [
    {
     "data": {
      "text/plain": [
       "(1.0044865403788634, 1.0040383644623927)"
      ]
     },
     "execution_count": 270,
     "metadata": {},
     "output_type": "execute_result"
    }
   ],
   "source": []
  },
  {
   "cell_type": "code",
   "execution_count": 22,
   "id": "dd474211",
   "metadata": {},
   "outputs": [],
   "source": [
    "import plotly.graph_objects as go\n",
    "  \n",
    "# import python pandas package\n",
    "import pandas as pd\n",
    "  \n",
    "# read the stock price dataset\n",
    "  \n",
    "# use go.OHLC function and pass the date, open,\n",
    "# high, low and close price of the function\n"
   ]
  },
  {
   "cell_type": "code",
   "execution_count": 215,
   "id": "27c1f42e",
   "metadata": {},
   "outputs": [
    {
     "data": {
      "application/vnd.plotly.v1+json": {
       "config": {
        "plotlyServerURL": "https://plot.ly"
       },
       "data": [
        {
         "close": [
          8310,
          8308.02,
          8312.32,
          8309.09,
          8309.47,
          8306.86,
          8304.64,
          8279.02,
          8283.14,
          8282.78,
          8281.05,
          8286.7,
          8292.07,
          8292.68,
          8287.82
         ],
         "high": [
          8314.38,
          8310.91,
          8315.68,
          8312.48,
          8311.62,
          8309.76,
          8308.92,
          8308,
          8290.53,
          8285.56,
          8284.75,
          8287.36,
          8292.07,
          8294.93,
          8291.02
         ],
         "low": [
          8308.51,
          8306.86,
          8306.86,
          8309.09,
          8308.28,
          8306.86,
          8303.1,
          8276.37,
          8275.81,
          8279.73,
          8280.38,
          8279.32,
          8286.79,
          8289.08,
          8285.23
         ],
         "open": [
          8312.87,
          8306.86,
          8310.24,
          8312.22,
          8311.62,
          8309.39,
          8308.92,
          8304.64,
          8276.35,
          8281.51,
          8282.53,
          8281.21,
          8287.57,
          8290.96,
          8289.08
         ],
         "type": "ohlc",
         "x": [
          1,
          2,
          3,
          4,
          5,
          6,
          7,
          8,
          9,
          10,
          11,
          12,
          13,
          14,
          15
         ]
        }
       ],
       "layout": {
        "template": {
         "data": {
          "bar": [
           {
            "error_x": {
             "color": "#2a3f5f"
            },
            "error_y": {
             "color": "#2a3f5f"
            },
            "marker": {
             "line": {
              "color": "#E5ECF6",
              "width": 0.5
             },
             "pattern": {
              "fillmode": "overlay",
              "size": 10,
              "solidity": 0.2
             }
            },
            "type": "bar"
           }
          ],
          "barpolar": [
           {
            "marker": {
             "line": {
              "color": "#E5ECF6",
              "width": 0.5
             },
             "pattern": {
              "fillmode": "overlay",
              "size": 10,
              "solidity": 0.2
             }
            },
            "type": "barpolar"
           }
          ],
          "carpet": [
           {
            "aaxis": {
             "endlinecolor": "#2a3f5f",
             "gridcolor": "white",
             "linecolor": "white",
             "minorgridcolor": "white",
             "startlinecolor": "#2a3f5f"
            },
            "baxis": {
             "endlinecolor": "#2a3f5f",
             "gridcolor": "white",
             "linecolor": "white",
             "minorgridcolor": "white",
             "startlinecolor": "#2a3f5f"
            },
            "type": "carpet"
           }
          ],
          "choropleth": [
           {
            "colorbar": {
             "outlinewidth": 0,
             "ticks": ""
            },
            "type": "choropleth"
           }
          ],
          "contour": [
           {
            "colorbar": {
             "outlinewidth": 0,
             "ticks": ""
            },
            "colorscale": [
             [
              0,
              "#0d0887"
             ],
             [
              0.1111111111111111,
              "#46039f"
             ],
             [
              0.2222222222222222,
              "#7201a8"
             ],
             [
              0.3333333333333333,
              "#9c179e"
             ],
             [
              0.4444444444444444,
              "#bd3786"
             ],
             [
              0.5555555555555556,
              "#d8576b"
             ],
             [
              0.6666666666666666,
              "#ed7953"
             ],
             [
              0.7777777777777778,
              "#fb9f3a"
             ],
             [
              0.8888888888888888,
              "#fdca26"
             ],
             [
              1,
              "#f0f921"
             ]
            ],
            "type": "contour"
           }
          ],
          "contourcarpet": [
           {
            "colorbar": {
             "outlinewidth": 0,
             "ticks": ""
            },
            "type": "contourcarpet"
           }
          ],
          "heatmap": [
           {
            "colorbar": {
             "outlinewidth": 0,
             "ticks": ""
            },
            "colorscale": [
             [
              0,
              "#0d0887"
             ],
             [
              0.1111111111111111,
              "#46039f"
             ],
             [
              0.2222222222222222,
              "#7201a8"
             ],
             [
              0.3333333333333333,
              "#9c179e"
             ],
             [
              0.4444444444444444,
              "#bd3786"
             ],
             [
              0.5555555555555556,
              "#d8576b"
             ],
             [
              0.6666666666666666,
              "#ed7953"
             ],
             [
              0.7777777777777778,
              "#fb9f3a"
             ],
             [
              0.8888888888888888,
              "#fdca26"
             ],
             [
              1,
              "#f0f921"
             ]
            ],
            "type": "heatmap"
           }
          ],
          "heatmapgl": [
           {
            "colorbar": {
             "outlinewidth": 0,
             "ticks": ""
            },
            "colorscale": [
             [
              0,
              "#0d0887"
             ],
             [
              0.1111111111111111,
              "#46039f"
             ],
             [
              0.2222222222222222,
              "#7201a8"
             ],
             [
              0.3333333333333333,
              "#9c179e"
             ],
             [
              0.4444444444444444,
              "#bd3786"
             ],
             [
              0.5555555555555556,
              "#d8576b"
             ],
             [
              0.6666666666666666,
              "#ed7953"
             ],
             [
              0.7777777777777778,
              "#fb9f3a"
             ],
             [
              0.8888888888888888,
              "#fdca26"
             ],
             [
              1,
              "#f0f921"
             ]
            ],
            "type": "heatmapgl"
           }
          ],
          "histogram": [
           {
            "marker": {
             "pattern": {
              "fillmode": "overlay",
              "size": 10,
              "solidity": 0.2
             }
            },
            "type": "histogram"
           }
          ],
          "histogram2d": [
           {
            "colorbar": {
             "outlinewidth": 0,
             "ticks": ""
            },
            "colorscale": [
             [
              0,
              "#0d0887"
             ],
             [
              0.1111111111111111,
              "#46039f"
             ],
             [
              0.2222222222222222,
              "#7201a8"
             ],
             [
              0.3333333333333333,
              "#9c179e"
             ],
             [
              0.4444444444444444,
              "#bd3786"
             ],
             [
              0.5555555555555556,
              "#d8576b"
             ],
             [
              0.6666666666666666,
              "#ed7953"
             ],
             [
              0.7777777777777778,
              "#fb9f3a"
             ],
             [
              0.8888888888888888,
              "#fdca26"
             ],
             [
              1,
              "#f0f921"
             ]
            ],
            "type": "histogram2d"
           }
          ],
          "histogram2dcontour": [
           {
            "colorbar": {
             "outlinewidth": 0,
             "ticks": ""
            },
            "colorscale": [
             [
              0,
              "#0d0887"
             ],
             [
              0.1111111111111111,
              "#46039f"
             ],
             [
              0.2222222222222222,
              "#7201a8"
             ],
             [
              0.3333333333333333,
              "#9c179e"
             ],
             [
              0.4444444444444444,
              "#bd3786"
             ],
             [
              0.5555555555555556,
              "#d8576b"
             ],
             [
              0.6666666666666666,
              "#ed7953"
             ],
             [
              0.7777777777777778,
              "#fb9f3a"
             ],
             [
              0.8888888888888888,
              "#fdca26"
             ],
             [
              1,
              "#f0f921"
             ]
            ],
            "type": "histogram2dcontour"
           }
          ],
          "mesh3d": [
           {
            "colorbar": {
             "outlinewidth": 0,
             "ticks": ""
            },
            "type": "mesh3d"
           }
          ],
          "parcoords": [
           {
            "line": {
             "colorbar": {
              "outlinewidth": 0,
              "ticks": ""
             }
            },
            "type": "parcoords"
           }
          ],
          "pie": [
           {
            "automargin": true,
            "type": "pie"
           }
          ],
          "scatter": [
           {
            "fillpattern": {
             "fillmode": "overlay",
             "size": 10,
             "solidity": 0.2
            },
            "type": "scatter"
           }
          ],
          "scatter3d": [
           {
            "line": {
             "colorbar": {
              "outlinewidth": 0,
              "ticks": ""
             }
            },
            "marker": {
             "colorbar": {
              "outlinewidth": 0,
              "ticks": ""
             }
            },
            "type": "scatter3d"
           }
          ],
          "scattercarpet": [
           {
            "marker": {
             "colorbar": {
              "outlinewidth": 0,
              "ticks": ""
             }
            },
            "type": "scattercarpet"
           }
          ],
          "scattergeo": [
           {
            "marker": {
             "colorbar": {
              "outlinewidth": 0,
              "ticks": ""
             }
            },
            "type": "scattergeo"
           }
          ],
          "scattergl": [
           {
            "marker": {
             "colorbar": {
              "outlinewidth": 0,
              "ticks": ""
             }
            },
            "type": "scattergl"
           }
          ],
          "scattermapbox": [
           {
            "marker": {
             "colorbar": {
              "outlinewidth": 0,
              "ticks": ""
             }
            },
            "type": "scattermapbox"
           }
          ],
          "scatterpolar": [
           {
            "marker": {
             "colorbar": {
              "outlinewidth": 0,
              "ticks": ""
             }
            },
            "type": "scatterpolar"
           }
          ],
          "scatterpolargl": [
           {
            "marker": {
             "colorbar": {
              "outlinewidth": 0,
              "ticks": ""
             }
            },
            "type": "scatterpolargl"
           }
          ],
          "scatterternary": [
           {
            "marker": {
             "colorbar": {
              "outlinewidth": 0,
              "ticks": ""
             }
            },
            "type": "scatterternary"
           }
          ],
          "surface": [
           {
            "colorbar": {
             "outlinewidth": 0,
             "ticks": ""
            },
            "colorscale": [
             [
              0,
              "#0d0887"
             ],
             [
              0.1111111111111111,
              "#46039f"
             ],
             [
              0.2222222222222222,
              "#7201a8"
             ],
             [
              0.3333333333333333,
              "#9c179e"
             ],
             [
              0.4444444444444444,
              "#bd3786"
             ],
             [
              0.5555555555555556,
              "#d8576b"
             ],
             [
              0.6666666666666666,
              "#ed7953"
             ],
             [
              0.7777777777777778,
              "#fb9f3a"
             ],
             [
              0.8888888888888888,
              "#fdca26"
             ],
             [
              1,
              "#f0f921"
             ]
            ],
            "type": "surface"
           }
          ],
          "table": [
           {
            "cells": {
             "fill": {
              "color": "#EBF0F8"
             },
             "line": {
              "color": "white"
             }
            },
            "header": {
             "fill": {
              "color": "#C8D4E3"
             },
             "line": {
              "color": "white"
             }
            },
            "type": "table"
           }
          ]
         },
         "layout": {
          "annotationdefaults": {
           "arrowcolor": "#2a3f5f",
           "arrowhead": 0,
           "arrowwidth": 1
          },
          "autotypenumbers": "strict",
          "coloraxis": {
           "colorbar": {
            "outlinewidth": 0,
            "ticks": ""
           }
          },
          "colorscale": {
           "diverging": [
            [
             0,
             "#8e0152"
            ],
            [
             0.1,
             "#c51b7d"
            ],
            [
             0.2,
             "#de77ae"
            ],
            [
             0.3,
             "#f1b6da"
            ],
            [
             0.4,
             "#fde0ef"
            ],
            [
             0.5,
             "#f7f7f7"
            ],
            [
             0.6,
             "#e6f5d0"
            ],
            [
             0.7,
             "#b8e186"
            ],
            [
             0.8,
             "#7fbc41"
            ],
            [
             0.9,
             "#4d9221"
            ],
            [
             1,
             "#276419"
            ]
           ],
           "sequential": [
            [
             0,
             "#0d0887"
            ],
            [
             0.1111111111111111,
             "#46039f"
            ],
            [
             0.2222222222222222,
             "#7201a8"
            ],
            [
             0.3333333333333333,
             "#9c179e"
            ],
            [
             0.4444444444444444,
             "#bd3786"
            ],
            [
             0.5555555555555556,
             "#d8576b"
            ],
            [
             0.6666666666666666,
             "#ed7953"
            ],
            [
             0.7777777777777778,
             "#fb9f3a"
            ],
            [
             0.8888888888888888,
             "#fdca26"
            ],
            [
             1,
             "#f0f921"
            ]
           ],
           "sequentialminus": [
            [
             0,
             "#0d0887"
            ],
            [
             0.1111111111111111,
             "#46039f"
            ],
            [
             0.2222222222222222,
             "#7201a8"
            ],
            [
             0.3333333333333333,
             "#9c179e"
            ],
            [
             0.4444444444444444,
             "#bd3786"
            ],
            [
             0.5555555555555556,
             "#d8576b"
            ],
            [
             0.6666666666666666,
             "#ed7953"
            ],
            [
             0.7777777777777778,
             "#fb9f3a"
            ],
            [
             0.8888888888888888,
             "#fdca26"
            ],
            [
             1,
             "#f0f921"
            ]
           ]
          },
          "colorway": [
           "#636efa",
           "#EF553B",
           "#00cc96",
           "#ab63fa",
           "#FFA15A",
           "#19d3f3",
           "#FF6692",
           "#B6E880",
           "#FF97FF",
           "#FECB52"
          ],
          "font": {
           "color": "#2a3f5f"
          },
          "geo": {
           "bgcolor": "white",
           "lakecolor": "white",
           "landcolor": "#E5ECF6",
           "showlakes": true,
           "showland": true,
           "subunitcolor": "white"
          },
          "hoverlabel": {
           "align": "left"
          },
          "hovermode": "closest",
          "mapbox": {
           "style": "light"
          },
          "paper_bgcolor": "white",
          "plot_bgcolor": "#E5ECF6",
          "polar": {
           "angularaxis": {
            "gridcolor": "white",
            "linecolor": "white",
            "ticks": ""
           },
           "bgcolor": "#E5ECF6",
           "radialaxis": {
            "gridcolor": "white",
            "linecolor": "white",
            "ticks": ""
           }
          },
          "scene": {
           "xaxis": {
            "backgroundcolor": "#E5ECF6",
            "gridcolor": "white",
            "gridwidth": 2,
            "linecolor": "white",
            "showbackground": true,
            "ticks": "",
            "zerolinecolor": "white"
           },
           "yaxis": {
            "backgroundcolor": "#E5ECF6",
            "gridcolor": "white",
            "gridwidth": 2,
            "linecolor": "white",
            "showbackground": true,
            "ticks": "",
            "zerolinecolor": "white"
           },
           "zaxis": {
            "backgroundcolor": "#E5ECF6",
            "gridcolor": "white",
            "gridwidth": 2,
            "linecolor": "white",
            "showbackground": true,
            "ticks": "",
            "zerolinecolor": "white"
           }
          },
          "shapedefaults": {
           "line": {
            "color": "#2a3f5f"
           }
          },
          "ternary": {
           "aaxis": {
            "gridcolor": "white",
            "linecolor": "white",
            "ticks": ""
           },
           "baxis": {
            "gridcolor": "white",
            "linecolor": "white",
            "ticks": ""
           },
           "bgcolor": "#E5ECF6",
           "caxis": {
            "gridcolor": "white",
            "linecolor": "white",
            "ticks": ""
           }
          },
          "title": {
           "x": 0.05
          },
          "xaxis": {
           "automargin": true,
           "gridcolor": "white",
           "linecolor": "white",
           "ticks": "",
           "title": {
            "standoff": 15
           },
           "zerolinecolor": "white",
           "zerolinewidth": 2
          },
          "yaxis": {
           "automargin": true,
           "gridcolor": "white",
           "linecolor": "white",
           "ticks": "",
           "title": {
            "standoff": 15
           },
           "zerolinecolor": "white",
           "zerolinewidth": 2
          }
         }
        }
       }
      },
      "text/html": [
       "<div>                            <div id=\"ccea1247-77db-4889-9be1-20982d44c853\" class=\"plotly-graph-div\" style=\"height:525px; width:100%;\"></div>            <script type=\"text/javascript\">                require([\"plotly\"], function(Plotly) {                    window.PLOTLYENV=window.PLOTLYENV || {};                                    if (document.getElementById(\"ccea1247-77db-4889-9be1-20982d44c853\")) {                    Plotly.newPlot(                        \"ccea1247-77db-4889-9be1-20982d44c853\",                        [{\"close\":[8310.0,8308.02,8312.32,8309.09,8309.47,8306.86,8304.64,8279.02,8283.14,8282.78,8281.05,8286.7,8292.07,8292.68,8287.82],\"high\":[8314.38,8310.91,8315.68,8312.48,8311.62,8309.76,8308.92,8308.0,8290.53,8285.56,8284.75,8287.36,8292.07,8294.93,8291.02],\"low\":[8308.51,8306.86,8306.86,8309.09,8308.28,8306.86,8303.1,8276.37,8275.81,8279.73,8280.38,8279.32,8286.79,8289.08,8285.23],\"open\":[8312.87,8306.86,8310.24,8312.22,8311.62,8309.39,8308.92,8304.64,8276.35,8281.51,8282.53,8281.21,8287.57,8290.96,8289.08],\"x\":[1,2,3,4,5,6,7,8,9,10,11,12,13,14,15],\"type\":\"ohlc\"}],                        {\"template\":{\"data\":{\"histogram2dcontour\":[{\"type\":\"histogram2dcontour\",\"colorbar\":{\"outlinewidth\":0,\"ticks\":\"\"},\"colorscale\":[[0.0,\"#0d0887\"],[0.1111111111111111,\"#46039f\"],[0.2222222222222222,\"#7201a8\"],[0.3333333333333333,\"#9c179e\"],[0.4444444444444444,\"#bd3786\"],[0.5555555555555556,\"#d8576b\"],[0.6666666666666666,\"#ed7953\"],[0.7777777777777778,\"#fb9f3a\"],[0.8888888888888888,\"#fdca26\"],[1.0,\"#f0f921\"]]}],\"choropleth\":[{\"type\":\"choropleth\",\"colorbar\":{\"outlinewidth\":0,\"ticks\":\"\"}}],\"histogram2d\":[{\"type\":\"histogram2d\",\"colorbar\":{\"outlinewidth\":0,\"ticks\":\"\"},\"colorscale\":[[0.0,\"#0d0887\"],[0.1111111111111111,\"#46039f\"],[0.2222222222222222,\"#7201a8\"],[0.3333333333333333,\"#9c179e\"],[0.4444444444444444,\"#bd3786\"],[0.5555555555555556,\"#d8576b\"],[0.6666666666666666,\"#ed7953\"],[0.7777777777777778,\"#fb9f3a\"],[0.8888888888888888,\"#fdca26\"],[1.0,\"#f0f921\"]]}],\"heatmap\":[{\"type\":\"heatmap\",\"colorbar\":{\"outlinewidth\":0,\"ticks\":\"\"},\"colorscale\":[[0.0,\"#0d0887\"],[0.1111111111111111,\"#46039f\"],[0.2222222222222222,\"#7201a8\"],[0.3333333333333333,\"#9c179e\"],[0.4444444444444444,\"#bd3786\"],[0.5555555555555556,\"#d8576b\"],[0.6666666666666666,\"#ed7953\"],[0.7777777777777778,\"#fb9f3a\"],[0.8888888888888888,\"#fdca26\"],[1.0,\"#f0f921\"]]}],\"heatmapgl\":[{\"type\":\"heatmapgl\",\"colorbar\":{\"outlinewidth\":0,\"ticks\":\"\"},\"colorscale\":[[0.0,\"#0d0887\"],[0.1111111111111111,\"#46039f\"],[0.2222222222222222,\"#7201a8\"],[0.3333333333333333,\"#9c179e\"],[0.4444444444444444,\"#bd3786\"],[0.5555555555555556,\"#d8576b\"],[0.6666666666666666,\"#ed7953\"],[0.7777777777777778,\"#fb9f3a\"],[0.8888888888888888,\"#fdca26\"],[1.0,\"#f0f921\"]]}],\"contourcarpet\":[{\"type\":\"contourcarpet\",\"colorbar\":{\"outlinewidth\":0,\"ticks\":\"\"}}],\"contour\":[{\"type\":\"contour\",\"colorbar\":{\"outlinewidth\":0,\"ticks\":\"\"},\"colorscale\":[[0.0,\"#0d0887\"],[0.1111111111111111,\"#46039f\"],[0.2222222222222222,\"#7201a8\"],[0.3333333333333333,\"#9c179e\"],[0.4444444444444444,\"#bd3786\"],[0.5555555555555556,\"#d8576b\"],[0.6666666666666666,\"#ed7953\"],[0.7777777777777778,\"#fb9f3a\"],[0.8888888888888888,\"#fdca26\"],[1.0,\"#f0f921\"]]}],\"surface\":[{\"type\":\"surface\",\"colorbar\":{\"outlinewidth\":0,\"ticks\":\"\"},\"colorscale\":[[0.0,\"#0d0887\"],[0.1111111111111111,\"#46039f\"],[0.2222222222222222,\"#7201a8\"],[0.3333333333333333,\"#9c179e\"],[0.4444444444444444,\"#bd3786\"],[0.5555555555555556,\"#d8576b\"],[0.6666666666666666,\"#ed7953\"],[0.7777777777777778,\"#fb9f3a\"],[0.8888888888888888,\"#fdca26\"],[1.0,\"#f0f921\"]]}],\"mesh3d\":[{\"type\":\"mesh3d\",\"colorbar\":{\"outlinewidth\":0,\"ticks\":\"\"}}],\"scatter\":[{\"fillpattern\":{\"fillmode\":\"overlay\",\"size\":10,\"solidity\":0.2},\"type\":\"scatter\"}],\"parcoords\":[{\"type\":\"parcoords\",\"line\":{\"colorbar\":{\"outlinewidth\":0,\"ticks\":\"\"}}}],\"scatterpolargl\":[{\"type\":\"scatterpolargl\",\"marker\":{\"colorbar\":{\"outlinewidth\":0,\"ticks\":\"\"}}}],\"bar\":[{\"error_x\":{\"color\":\"#2a3f5f\"},\"error_y\":{\"color\":\"#2a3f5f\"},\"marker\":{\"line\":{\"color\":\"#E5ECF6\",\"width\":0.5},\"pattern\":{\"fillmode\":\"overlay\",\"size\":10,\"solidity\":0.2}},\"type\":\"bar\"}],\"scattergeo\":[{\"type\":\"scattergeo\",\"marker\":{\"colorbar\":{\"outlinewidth\":0,\"ticks\":\"\"}}}],\"scatterpolar\":[{\"type\":\"scatterpolar\",\"marker\":{\"colorbar\":{\"outlinewidth\":0,\"ticks\":\"\"}}}],\"histogram\":[{\"marker\":{\"pattern\":{\"fillmode\":\"overlay\",\"size\":10,\"solidity\":0.2}},\"type\":\"histogram\"}],\"scattergl\":[{\"type\":\"scattergl\",\"marker\":{\"colorbar\":{\"outlinewidth\":0,\"ticks\":\"\"}}}],\"scatter3d\":[{\"type\":\"scatter3d\",\"line\":{\"colorbar\":{\"outlinewidth\":0,\"ticks\":\"\"}},\"marker\":{\"colorbar\":{\"outlinewidth\":0,\"ticks\":\"\"}}}],\"scattermapbox\":[{\"type\":\"scattermapbox\",\"marker\":{\"colorbar\":{\"outlinewidth\":0,\"ticks\":\"\"}}}],\"scatterternary\":[{\"type\":\"scatterternary\",\"marker\":{\"colorbar\":{\"outlinewidth\":0,\"ticks\":\"\"}}}],\"scattercarpet\":[{\"type\":\"scattercarpet\",\"marker\":{\"colorbar\":{\"outlinewidth\":0,\"ticks\":\"\"}}}],\"carpet\":[{\"aaxis\":{\"endlinecolor\":\"#2a3f5f\",\"gridcolor\":\"white\",\"linecolor\":\"white\",\"minorgridcolor\":\"white\",\"startlinecolor\":\"#2a3f5f\"},\"baxis\":{\"endlinecolor\":\"#2a3f5f\",\"gridcolor\":\"white\",\"linecolor\":\"white\",\"minorgridcolor\":\"white\",\"startlinecolor\":\"#2a3f5f\"},\"type\":\"carpet\"}],\"table\":[{\"cells\":{\"fill\":{\"color\":\"#EBF0F8\"},\"line\":{\"color\":\"white\"}},\"header\":{\"fill\":{\"color\":\"#C8D4E3\"},\"line\":{\"color\":\"white\"}},\"type\":\"table\"}],\"barpolar\":[{\"marker\":{\"line\":{\"color\":\"#E5ECF6\",\"width\":0.5},\"pattern\":{\"fillmode\":\"overlay\",\"size\":10,\"solidity\":0.2}},\"type\":\"barpolar\"}],\"pie\":[{\"automargin\":true,\"type\":\"pie\"}]},\"layout\":{\"autotypenumbers\":\"strict\",\"colorway\":[\"#636efa\",\"#EF553B\",\"#00cc96\",\"#ab63fa\",\"#FFA15A\",\"#19d3f3\",\"#FF6692\",\"#B6E880\",\"#FF97FF\",\"#FECB52\"],\"font\":{\"color\":\"#2a3f5f\"},\"hovermode\":\"closest\",\"hoverlabel\":{\"align\":\"left\"},\"paper_bgcolor\":\"white\",\"plot_bgcolor\":\"#E5ECF6\",\"polar\":{\"bgcolor\":\"#E5ECF6\",\"angularaxis\":{\"gridcolor\":\"white\",\"linecolor\":\"white\",\"ticks\":\"\"},\"radialaxis\":{\"gridcolor\":\"white\",\"linecolor\":\"white\",\"ticks\":\"\"}},\"ternary\":{\"bgcolor\":\"#E5ECF6\",\"aaxis\":{\"gridcolor\":\"white\",\"linecolor\":\"white\",\"ticks\":\"\"},\"baxis\":{\"gridcolor\":\"white\",\"linecolor\":\"white\",\"ticks\":\"\"},\"caxis\":{\"gridcolor\":\"white\",\"linecolor\":\"white\",\"ticks\":\"\"}},\"coloraxis\":{\"colorbar\":{\"outlinewidth\":0,\"ticks\":\"\"}},\"colorscale\":{\"sequential\":[[0.0,\"#0d0887\"],[0.1111111111111111,\"#46039f\"],[0.2222222222222222,\"#7201a8\"],[0.3333333333333333,\"#9c179e\"],[0.4444444444444444,\"#bd3786\"],[0.5555555555555556,\"#d8576b\"],[0.6666666666666666,\"#ed7953\"],[0.7777777777777778,\"#fb9f3a\"],[0.8888888888888888,\"#fdca26\"],[1.0,\"#f0f921\"]],\"sequentialminus\":[[0.0,\"#0d0887\"],[0.1111111111111111,\"#46039f\"],[0.2222222222222222,\"#7201a8\"],[0.3333333333333333,\"#9c179e\"],[0.4444444444444444,\"#bd3786\"],[0.5555555555555556,\"#d8576b\"],[0.6666666666666666,\"#ed7953\"],[0.7777777777777778,\"#fb9f3a\"],[0.8888888888888888,\"#fdca26\"],[1.0,\"#f0f921\"]],\"diverging\":[[0,\"#8e0152\"],[0.1,\"#c51b7d\"],[0.2,\"#de77ae\"],[0.3,\"#f1b6da\"],[0.4,\"#fde0ef\"],[0.5,\"#f7f7f7\"],[0.6,\"#e6f5d0\"],[0.7,\"#b8e186\"],[0.8,\"#7fbc41\"],[0.9,\"#4d9221\"],[1,\"#276419\"]]},\"xaxis\":{\"gridcolor\":\"white\",\"linecolor\":\"white\",\"ticks\":\"\",\"title\":{\"standoff\":15},\"zerolinecolor\":\"white\",\"automargin\":true,\"zerolinewidth\":2},\"yaxis\":{\"gridcolor\":\"white\",\"linecolor\":\"white\",\"ticks\":\"\",\"title\":{\"standoff\":15},\"zerolinecolor\":\"white\",\"automargin\":true,\"zerolinewidth\":2},\"scene\":{\"xaxis\":{\"backgroundcolor\":\"#E5ECF6\",\"gridcolor\":\"white\",\"linecolor\":\"white\",\"showbackground\":true,\"ticks\":\"\",\"zerolinecolor\":\"white\",\"gridwidth\":2},\"yaxis\":{\"backgroundcolor\":\"#E5ECF6\",\"gridcolor\":\"white\",\"linecolor\":\"white\",\"showbackground\":true,\"ticks\":\"\",\"zerolinecolor\":\"white\",\"gridwidth\":2},\"zaxis\":{\"backgroundcolor\":\"#E5ECF6\",\"gridcolor\":\"white\",\"linecolor\":\"white\",\"showbackground\":true,\"ticks\":\"\",\"zerolinecolor\":\"white\",\"gridwidth\":2}},\"shapedefaults\":{\"line\":{\"color\":\"#2a3f5f\"}},\"annotationdefaults\":{\"arrowcolor\":\"#2a3f5f\",\"arrowhead\":0,\"arrowwidth\":1},\"geo\":{\"bgcolor\":\"white\",\"landcolor\":\"#E5ECF6\",\"subunitcolor\":\"white\",\"showland\":true,\"showlakes\":true,\"lakecolor\":\"white\"},\"title\":{\"x\":0.05},\"mapbox\":{\"style\":\"light\"}}}},                        {\"responsive\": true}                    ).then(function(){\n",
       "                            \n",
       "var gd = document.getElementById('ccea1247-77db-4889-9be1-20982d44c853');\n",
       "var x = new MutationObserver(function (mutations, observer) {{\n",
       "        var display = window.getComputedStyle(gd).display;\n",
       "        if (!display || display === 'none') {{\n",
       "            console.log([gd, 'removed!']);\n",
       "            Plotly.purge(gd);\n",
       "            observer.disconnect();\n",
       "        }}\n",
       "}});\n",
       "\n",
       "// Listen for the removal of the full notebook cells\n",
       "var notebookContainer = gd.closest('#notebook-container');\n",
       "if (notebookContainer) {{\n",
       "    x.observe(notebookContainer, {childList: true});\n",
       "}}\n",
       "\n",
       "// Listen for the clearing of the current output cell\n",
       "var outputEl = gd.closest('.output');\n",
       "if (outputEl) {{\n",
       "    x.observe(outputEl, {childList: true});\n",
       "}}\n",
       "\n",
       "                        })                };                });            </script>        </div>"
      ]
     },
     "metadata": {},
     "output_type": "display_data"
    }
   ],
   "source": []
  },
  {
   "cell_type": "code",
   "execution_count": null,
   "id": "a1fbc9ee",
   "metadata": {},
   "outputs": [],
   "source": [
    "from matplotlib.finance import candlestick2_ohlc\n",
    "import matplotlib.pyplot as plt\n",
    "import matplotlib.ticker as ticker\n",
    "import datetime as datetime\n",
    "import numpy as np\n",
    "\n",
    "quotes = np.array(...)\n",
    "\n",
    "fig, ax = plt.subplots()\n",
    "candlestick2_ohlc(ax,quotes['open'],quotes['high'],quotes['low'],quotes['close'],width=0.6)\n",
    "\n",
    "xdate = [datetime.datetime.fromtimestamp(i) for i in quotes['time']]\n",
    "\n",
    "ax.xaxis.set_major_locator(ticker.MaxNLocator(6))\n",
    "\n",
    "def mydate(x,pos):\n",
    "    try:\n",
    "        return xdate[int(x)]\n",
    "    except IndexError:\n",
    "        return ''\n",
    "\n",
    "ax.xaxis.set_major_formatter(ticker.FuncFormatter(mydate))\n",
    "\n",
    "fig.autofmt_xdate()\n",
    "fig.tight_layout()\n",
    "\n",
    "plt.show()"
   ]
  }
 ],
 "metadata": {
  "kernelspec": {
   "display_name": "Python 3 (ipykernel)",
   "language": "python",
   "name": "python3"
  },
  "language_info": {
   "codemirror_mode": {
    "name": "ipython",
    "version": 3
   },
   "file_extension": ".py",
   "mimetype": "text/x-python",
   "name": "python",
   "nbconvert_exporter": "python",
   "pygments_lexer": "ipython3",
   "version": "3.8.10"
  }
 },
 "nbformat": 4,
 "nbformat_minor": 5
}
